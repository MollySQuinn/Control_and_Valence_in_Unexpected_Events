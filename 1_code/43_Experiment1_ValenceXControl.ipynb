{
 "cells": [
  {
   "cell_type": "code",
   "execution_count": 1,
   "id": "278a6e13",
   "metadata": {},
   "outputs": [
    {
     "name": "stdout",
     "output_type": "stream",
     "text": [
      "Choose whether to display code or not.\n",
      "3.6.8\n",
      "                  Example\n",
      "----------------  ----------------------------------------------------------------------------------------------\n",
      "1. Goal Sentence  Sally wants to buy a bottle of wine for her Friday evening dinner.\n",
      "2. Goal Step      Sally decides to go to the corner-shop near her house.\n",
      "3. Condition      The shop is (shut/open) and Sally has (an argument/a good chat) with a neighbour walking home.\n",
      "The waves are stronger than Rebecca expected, she is not the strongest swimmer, so decides to head back inland. Just as she turns around to do so, she notices the lifeguard shouting at her... SHARK\n"
     ]
    }
   ],
   "source": [
    "# %run 40_Intro_Expt1.ipynb #uncomment if need to work in this file separately"
   ]
  },
  {
   "cell_type": "code",
   "execution_count": 2,
   "id": "51bdded1",
   "metadata": {},
   "outputs": [],
   "source": [
    "# set up high-res figure downloads\n",
    "config = {\n",
    "  'toImageButtonOptions': {\n",
    "    'format': 'svg', # one of png, svg, jpeg, webp\n",
    "    'height': None, 'width': None, # download at individually specified sizes\n",
    "    'scale': 1 # Multiply title/legend/axis/canvas sizes by this factor\n",
    "  }\n",
    "}"
   ]
  },
  {
   "cell_type": "markdown",
   "id": "f74b2cb3",
   "metadata": {},
   "source": [
    "## Controllability Rating Split by Valence Rating"
   ]
  },
  {
   "cell_type": "code",
   "execution_count": 3,
   "id": "7be155b5",
   "metadata": {
    "scrolled": true
   },
   "outputs": [
    {
     "data": {
      "text/plain": [
       "<matplotlib.axes._subplots.AxesSubplot at 0x7fae636a1fd0>"
      ]
     },
     "execution_count": 3,
     "metadata": {},
     "output_type": "execute_result"
    },
    {
     "data": {
      "image/png": "[encoded data removed]",
      "text/plain": [
       "<Figure size 432x288 with 1 Axes>"
      ]
     },
     "metadata": {
      "needs_background": "light"
     },
     "output_type": "display_data"
    }
   ],
   "source": [
    "master_data['control_code'].value_counts().plot.bar()"
   ]
  },
  {
   "cell_type": "code",
   "execution_count": 4,
   "id": "e2e89716",
   "metadata": {},
   "outputs": [
    {
     "data": {
      "text/plain": [
       "<matplotlib.axes._subplots.AxesSubplot at 0x7fae64245a58>"
      ]
     },
     "execution_count": 4,
     "metadata": {},
     "output_type": "execute_result"
    },
    {
     "data": {
      "image/png": "[encoded data removed]",
      "text/plain": [
       "<Figure size 432x288 with 1 Axes>"
      ]
     },
     "metadata": {
      "needs_background": "light"
     },
     "output_type": "display_data"
    }
   ],
   "source": [
    "master_data['val_code'].value_counts().plot.bar()"
   ]
  },
  {
   "cell_type": "code",
   "execution_count": 5,
   "id": "a5387105",
   "metadata": {
    "scrolled": true
   },
   "outputs": [
    {
     "data": {
      "text/plain": [
       "<matplotlib.axes._subplots.AxesSubplot at 0x7fae696687f0>"
      ]
     },
     "execution_count": 5,
     "metadata": {},
     "output_type": "execute_result"
    },
    {
     "data": {
      "image/png": "[encoded data removed]",
      "text/plain": [
       "<Figure size 432x288 with 1 Axes>"
      ]
     },
     "metadata": {
      "needs_background": "light"
     },
     "output_type": "display_data"
    }
   ],
   "source": [
    "master_data.groupby(['val_code'])['control_code'].value_counts().unstack().plot.bar()"
   ]
  },
  {
   "cell_type": "code",
   "execution_count": 6,
   "id": "b90f2350",
   "metadata": {},
   "outputs": [
    {
     "data": {
      "text/html": [
       "<div>\n",
       "<style scoped>\n",
       "    .dataframe tbody tr th:only-of-type {\n",
       "        vertical-align: middle;\n",
       "    }\n",
       "\n",
       "    .dataframe tbody tr th {\n",
       "        vertical-align: top;\n",
       "    }\n",
       "\n",
       "    .dataframe thead th {\n",
       "        text-align: right;\n",
       "    }\n",
       "</style>\n",
       "<table border=\"1\" class=\"dataframe\">\n",
       "  <thead>\n",
       "    <tr style=\"text-align: right;\">\n",
       "      <th>control_code</th>\n",
       "      <th>controllable</th>\n",
       "      <th>neither_control</th>\n",
       "      <th>uncontrollable</th>\n",
       "    </tr>\n",
       "    <tr>\n",
       "      <th>val_code</th>\n",
       "      <th></th>\n",
       "      <th></th>\n",
       "      <th></th>\n",
       "    </tr>\n",
       "  </thead>\n",
       "  <tbody>\n",
       "    <tr>\n",
       "      <th>neg</th>\n",
       "      <td>0.103881</td>\n",
       "      <td>0.120434</td>\n",
       "      <td>0.343037</td>\n",
       "    </tr>\n",
       "    <tr>\n",
       "      <th>pos</th>\n",
       "      <td>0.111301</td>\n",
       "      <td>0.062785</td>\n",
       "      <td>0.176941</td>\n",
       "    </tr>\n",
       "    <tr>\n",
       "      <th>neither</th>\n",
       "      <td>0.039384</td>\n",
       "      <td>0.011986</td>\n",
       "      <td>0.030251</td>\n",
       "    </tr>\n",
       "  </tbody>\n",
       "</table>\n",
       "</div>"
      ],
      "text/plain": [
       "control_code  controllable  neither_control  uncontrollable\n",
       "val_code                                                   \n",
       "neg               0.103881         0.120434        0.343037\n",
       "pos               0.111301         0.062785        0.176941\n",
       "neither           0.039384         0.011986        0.030251"
      ]
     },
     "execution_count": 6,
     "metadata": {},
     "output_type": "execute_result"
    }
   ],
   "source": [
    "control_by_valence_ratings = master_data.groupby(['val_code'])['control_code'].value_counts().unstack()\n",
    "control_by_valence_ratings = control_by_valence_ratings/control_by_valence_ratings.sum().sum()\n",
    "control_by_valence_ratings = control_by_valence_ratings.reindex([\"neg\", \"pos\", \"neither\"])\n",
    "control_by_valence_ratings"
   ]
  },
  {
   "cell_type": "code",
   "execution_count": 15,
   "id": "83a89c00",
   "metadata": {},
   "outputs": [
    {
     "data": {
      "application/vnd.plotly.v1+json": {
       "config": {
        "plotlyServerURL": "https://plot.ly",
        "responsive": true,
        "toImageButtonOptions": {
         "format": "svg",
         "height": null,
         "scale": 1,
         "width": null
        }
       },
       "data": [
        {
         "marker": {
          "color": "#FFA15A"
         },
         "name": "Uncontrollable Outcome",
         "text": [
          0.3430365296803653,
          0.1769406392694064,
          0.030251141552511414
         ],
         "textposition": "outside",
         "texttemplate": "%{text:.2%}",
         "type": "bar",
         "x": [
          "Negative",
          "Positive",
          "Neither"
         ],
         "y": [
          0.3430365296803653,
          0.1769406392694064,
          0.030251141552511414
         ]
        },
        {
         "marker": {
          "color": "#636EFA"
         },
         "name": "Controllable Outcome",
         "text": [
          0.10388127853881278,
          0.1113013698630137,
          0.039383561643835614
         ],
         "textposition": "outside",
         "texttemplate": "%{text:.2%}",
         "type": "bar",
         "x": [
          "Negative",
          "Positive",
          "Neither"
         ],
         "y": [
          0.10388127853881278,
          0.1113013698630137,
          0.039383561643835614
         ]
        },
        {
         "marker": {
          "color": "grey"
         },
         "name": "Neither",
         "text": [
          0.1204337899543379,
          0.06278538812785388,
          0.011986301369863013
         ],
         "textposition": "outside",
         "texttemplate": "%{text:.2%}",
         "type": "bar",
         "x": [
          "Negative",
          "Positive",
          "Neither"
         ],
         "y": [
          0.1204337899543379,
          0.06278538812785388,
          0.011986301369863013
         ]
        }
       ],
       "layout": {
        "font": {
         "family": "Times New Roman",
         "size": 12
        },
        "height": 350,
        "legend": {
         "bordercolor": "grey",
         "borderwidth": 1,
         "x": 0.99,
         "xanchor": "right",
         "y": 1,
         "yanchor": "top"
        },
        "margin": {
         "b": 40,
         "l": 50,
         "r": 0,
         "t": 15
        },
        "template": {},
        "width": 500,
        "xaxis": {
         "title": {
          "text": "Outcome Valence"
         }
        },
        "yaxis": {
         "range": [
          0,
          0.4
         ],
         "tickformat": ",.0%",
         "title": {
          "text": "Percent of Outcomes"
         }
        }
       }
      },
      "text/html": [
       "<div>                            <div id=\"d8309810-355a-4944-a0b8-a8fa58612b19\" class=\"plotly-graph-div\" style=\"height:350px; width:500px;\"></div>            <script type=\"text/javascript\">                require([\"plotly\"], function(Plotly) {                    window.PLOTLYENV=window.PLOTLYENV || {};                                    if (document.getElementById(\"d8309810-355a-4944-a0b8-a8fa58612b19\")) {                    Plotly.newPlot(                        \"d8309810-355a-4944-a0b8-a8fa58612b19\",                        [{\"marker\": {\"color\": \"#FFA15A\"}, \"name\": \"Uncontrollable Outcome\", \"text\": [0.3430365296803653, 0.1769406392694064, 0.030251141552511414], \"textposition\": \"outside\", \"texttemplate\": \"%{text:.2%}\", \"type\": \"bar\", \"x\": [\"Negative\", \"Positive\", \"Neither\"], \"y\": [0.3430365296803653, 0.1769406392694064, 0.030251141552511414]}, {\"marker\": {\"color\": \"#636EFA\"}, \"name\": \"Controllable Outcome\", \"text\": [0.10388127853881278, 0.1113013698630137, 0.039383561643835614], \"textposition\": \"outside\", \"texttemplate\": \"%{text:.2%}\", \"type\": \"bar\", \"x\": [\"Negative\", \"Positive\", \"Neither\"], \"y\": [0.10388127853881278, 0.1113013698630137, 0.039383561643835614]}, {\"marker\": {\"color\": \"grey\"}, \"name\": \"Neither\", \"text\": [0.1204337899543379, 0.06278538812785388, 0.011986301369863013], \"textposition\": \"outside\", \"texttemplate\": \"%{text:.2%}\", \"type\": \"bar\", \"x\": [\"Negative\", \"Positive\", \"Neither\"], \"y\": [0.1204337899543379, 0.06278538812785388, 0.011986301369863013]}],                        {\"font\": {\"family\": \"Times New Roman\", \"size\": 12}, \"height\": 350, \"legend\": {\"bordercolor\": \"grey\", \"borderwidth\": 1, \"x\": 0.99, \"xanchor\": \"right\", \"y\": 1, \"yanchor\": \"top\"}, \"margin\": {\"b\": 40, \"l\": 50, \"r\": 0, \"t\": 15}, \"template\": {}, \"width\": 500, \"xaxis\": {\"title\": {\"text\": \"Outcome Valence\"}}, \"yaxis\": {\"range\": [0, 0.4], \"tickformat\": \",.0%\", \"title\": {\"text\": \"Percent of Outcomes\"}}},                        {\"toImageButtonOptions\": {\"format\": \"svg\", \"height\": null, \"width\": null, \"scale\": 1}, \"responsive\": true}                    ).then(function(){\n",
       "                            \n",
       "var gd = document.getElementById('d8309810-355a-4944-a0b8-a8fa58612b19');\n",
       "var x = new MutationObserver(function (mutations, observer) {{\n",
       "        var display = window.getComputedStyle(gd).display;\n",
       "        if (!display || display === 'none') {{\n",
       "            console.log([gd, 'removed!']);\n",
       "            Plotly.purge(gd);\n",
       "            observer.disconnect();\n",
       "        }}\n",
       "}});\n",
       "\n",
       "// Listen for the removal of the full notebook cells\n",
       "var notebookContainer = gd.closest('#notebook-container');\n",
       "if (notebookContainer) {{\n",
       "    x.observe(notebookContainer, {childList: true});\n",
       "}}\n",
       "\n",
       "// Listen for the clearing of the current output cell\n",
       "var outputEl = gd.closest('.output');\n",
       "if (outputEl) {{\n",
       "    x.observe(outputEl, {childList: true});\n",
       "}}\n",
       "\n",
       "                        })                };                });            </script>        </div>"
      ]
     },
     "metadata": {},
     "output_type": "display_data"
    }
   ],
   "source": [
    "fig = go.Figure()\n",
    "\n",
    "fig.add_trace(go.Bar(name=\"Uncontrollable Outcome\",\n",
    "                     x=['Negative', 'Positive','Neither'],\n",
    "                     y=control_by_valence_ratings['uncontrollable'], \n",
    "                     text=control_by_valence_ratings['uncontrollable'],\n",
    "                     marker_color='#FFA15A',\n",
    "                    )\n",
    "             )\n",
    "\n",
    "fig.add_trace(go.Bar(name=\"Controllable Outcome\",\n",
    "                     x=['Negative','Positive','Neither'],\n",
    "                     y=control_by_valence_ratings['controllable'], \n",
    "                     text=control_by_valence_ratings['controllable'], \n",
    "                     marker_color='#636EFA',\n",
    "                    )\n",
    "             )\n",
    "\n",
    "fig.add_trace(go.Bar(name=\"Neither\",\n",
    "                     x=['Negative','Positive','Neither'],\n",
    "                     y=control_by_valence_ratings['neither_control'], \n",
    "                     text=control_by_valence_ratings['neither_control'], \n",
    "                     marker_color='grey',\n",
    "                    ),\n",
    "             )\n",
    "\n",
    "fig.update_traces(texttemplate='%{text:.2%}',\n",
    "                          textposition='outside')\n",
    "\n",
    "fig.update_xaxes(title=\"Outcome Valence\",)\n",
    "fig.update_yaxes(title=\"Percent of Outcomes\",\n",
    "                 tickformat= ',.0%',\n",
    "                 range=(0,.4)\n",
    "                )\n",
    "\n",
    "fig.update_layout(template=None,\n",
    "                 font_family='Times New Roman',\n",
    "                 font_size=12,\n",
    "                 width=500, height=350,\n",
    "                 margin_l=50,\n",
    "                 margin_r=0,\n",
    "                 margin_t=15,\n",
    "                 margin_b=40,\n",
    "                 legend=dict(\n",
    "                     yanchor=\"top\",\n",
    "                     y=1,\n",
    "                     xanchor=\"right\",\n",
    "                     x=0.99,\n",
    "                     bordercolor=\"grey\",\n",
    "                     borderwidth=1\n",
    "                             ),\n",
    "                 )\n",
    "fig.show(config=config)"
   ]
  },
  {
   "cell_type": "code",
   "execution_count": 8,
   "id": "be68ad52",
   "metadata": {},
   "outputs": [
    {
     "name": "stderr",
     "output_type": "stream",
     "text": [
      "Could not generate 3_output//control_report/_kallysto/figs/4_Experiment1_Analysis.ipynb//interxoverallbar.pdf. Missing savefig.\n"
     ]
    }
   ],
   "source": [
    "#save the figure\n",
    "another_interx_fig = Export.figure(\n",
    "    'interxoverallbar',  # Export name\n",
    "    image=fig,             # The plot to be exported\n",
    "    data=pd.crosstab(master_data['control_code'],\n",
    "                    master_data['val_code'],),     # The data used to produce the plot.\n",
    "    text_width=1, #fig width relative to textwidth=1\n",
    "    caption='Percent of each outcome controllability by outcome valence.'\n",
    ") \n",
    "\n",
    "another_interx_fig > latex_report;"
   ]
  },
  {
   "cell_type": "code",
   "execution_count": 9,
   "id": "28e05da5",
   "metadata": {
    "scrolled": true
   },
   "outputs": [
    {
     "data": {
      "image/png": "[encoded data removed]",
      "text/plain": [
       "<Figure size 432x288 with 1 Axes>"
      ]
     },
     "metadata": {
      "needs_background": "light"
     },
     "output_type": "display_data"
    },
    {
     "data": {
      "image/png": "[encoded data removed]",
      "text/plain": [
       "<Figure size 432x288 with 1 Axes>"
      ]
     },
     "metadata": {
      "needs_background": "light"
     },
     "output_type": "display_data"
    },
    {
     "data": {
      "image/png": "[encoded data removed]",
      "text/plain": [
       "<Figure size 432x288 with 1 Axes>"
      ]
     },
     "metadata": {
      "needs_background": "light"
     },
     "output_type": "display_data"
    },
    {
     "data": {
      "image/png": "[encoded data removed]",
      "text/plain": [
       "<Figure size 432x288 with 1 Axes>"
      ]
     },
     "metadata": {
      "needs_background": "light"
     },
     "output_type": "display_data"
    }
   ],
   "source": [
    "for val, means in zipped_cond_pairs:\n",
    "    plot = master_data[\n",
    "        (master_data['valence_condition']==val) & (master_data['means_condition']==means)\n",
    "    ].groupby(\n",
    "        ['control_code']\n",
    "    )['val_code'].value_counts(\n",
    "        normalize=False\n",
    "                              ).unstack(\n",
    "    ).plot.bar(\n",
    "        stacked=True, title=str(val + \" \" + means))"
   ]
  },
  {
   "cell_type": "code",
   "execution_count": 10,
   "id": "806a0726",
   "metadata": {},
   "outputs": [
    {
     "data": {
      "text/plain": [
       "control_code     val_code\n",
       "controllable     pos         11.130137\n",
       "                 neg         10.388128\n",
       "                 neither      3.938356\n",
       "neither_control  neg         12.043379\n",
       "                 pos          6.278539\n",
       "                 neither      1.198630\n",
       "uncontrollable   neg         34.303653\n",
       "                 pos         17.694064\n",
       "                 neither      3.025114\n",
       "Name: val_code, dtype: float64"
      ]
     },
     "execution_count": 10,
     "metadata": {},
     "output_type": "execute_result"
    }
   ],
   "source": [
    "prop_outcome_control_valence= master_data.groupby(['control_code'])['val_code'].value_counts(normalize=False)/len(master_data)*100\n",
    "prop_outcome_control_valence"
   ]
  },
  {
   "cell_type": "code",
   "execution_count": 11,
   "id": "4c035cc0",
   "metadata": {},
   "outputs": [
    {
     "data": {
      "application/vnd.plotly.v1+json": {
       "config": {
        "plotlyServerURL": "https://plot.ly",
        "toImageButtonOptions": {
         "format": "svg",
         "height": null,
         "scale": 1,
         "width": null
        }
       },
       "data": [
        {
         "marker": {
          "color": "#EF553B"
         },
         "name": "Negative",
         "orientation": "h",
         "showlegend": true,
         "type": "bar",
         "x": [
          37,
          45,
          106
         ],
         "xaxis": "x",
         "y": [
          "Controllable",
          "Neither",
          "Uncontrollable"
         ],
         "yaxis": "y"
        },
        {
         "marker": {
          "color": "grey"
         },
         "name": "Neither",
         "orientation": "h",
         "showlegend": true,
         "type": "bar",
         "x": [
          78,
          36,
          104
         ],
         "xaxis": "x",
         "y": [
          "Controllable",
          "Neither",
          "Uncontrollable"
         ],
         "yaxis": "y"
        },
        {
         "marker": {
          "color": "#00CC96"
         },
         "name": "Positive",
         "orientation": "h",
         "showlegend": true,
         "type": "bar",
         "x": [
          78,
          36,
          104
         ],
         "xaxis": "x",
         "y": [
          "Controllable",
          "Neither",
          "Uncontrollable"
         ],
         "yaxis": "y"
        },
        {
         "marker": {
          "color": "#EF553B"
         },
         "name": "Negative",
         "orientation": "h",
         "showlegend": false,
         "type": "bar",
         "x": [
          24,
          41,
          139
         ],
         "xaxis": "x2",
         "y": [
          "Controllable",
          "Neither",
          "Uncontrollable"
         ],
         "yaxis": "y2"
        },
        {
         "marker": {
          "color": "grey"
         },
         "name": "Neither",
         "orientation": "h",
         "showlegend": false,
         "type": "bar",
         "x": [
          52,
          31,
          111
         ],
         "xaxis": "x2",
         "y": [
          "Controllable",
          "Neither",
          "Uncontrollable"
         ],
         "yaxis": "y2"
        },
        {
         "marker": {
          "color": "#00CC96"
         },
         "name": "Positive",
         "orientation": "h",
         "showlegend": false,
         "type": "bar",
         "x": [
          52,
          31,
          111
         ],
         "xaxis": "x2",
         "y": [
          "Controllable",
          "Neither",
          "Uncontrollable"
         ],
         "yaxis": "y2"
        },
        {
         "marker": {
          "color": "#EF553B"
         },
         "name": "Negative",
         "orientation": "h",
         "showlegend": false,
         "type": "bar",
         "x": [
          59,
          62,
          154
         ],
         "xaxis": "x3",
         "y": [
          "Controllable",
          "Neither",
          "Uncontrollable"
         ],
         "yaxis": "y3"
        },
        {
         "marker": {
          "color": "grey"
         },
         "name": "Neither",
         "orientation": "h",
         "showlegend": false,
         "type": "bar",
         "x": [
          33,
          28,
          50
         ],
         "xaxis": "x3",
         "y": [
          "Controllable",
          "Neither",
          "Uncontrollable"
         ],
         "yaxis": "y3"
        },
        {
         "marker": {
          "color": "#00CC96"
         },
         "name": "Positive",
         "orientation": "h",
         "showlegend": false,
         "type": "bar",
         "x": [
          33,
          28,
          50
         ],
         "xaxis": "x3",
         "y": [
          "Controllable",
          "Neither",
          "Uncontrollable"
         ],
         "yaxis": "y3"
        },
        {
         "marker": {
          "color": "#EF553B"
         },
         "name": "Negative",
         "orientation": "h",
         "showlegend": false,
         "type": "bar",
         "x": [
          62,
          63,
          202
         ],
         "xaxis": "x4",
         "y": [
          "Controllable",
          "Neither",
          "Uncontrollable"
         ],
         "yaxis": "y4"
        },
        {
         "marker": {
          "color": "grey"
         },
         "name": "Neither",
         "orientation": "h",
         "showlegend": false,
         "type": "bar",
         "x": [
          32,
          15,
          45
         ],
         "xaxis": "x4",
         "y": [
          "Controllable",
          "Neither",
          "Uncontrollable"
         ],
         "yaxis": "y4"
        },
        {
         "marker": {
          "color": "#00CC96"
         },
         "name": "Positive",
         "orientation": "h",
         "showlegend": false,
         "type": "bar",
         "x": [
          32,
          15,
          45
         ],
         "xaxis": "x4",
         "y": [
          "Controllable",
          "Neither",
          "Uncontrollable"
         ],
         "yaxis": "y4"
        }
       ],
       "layout": {
        "annotations": [
         {
          "font": {
           "size": 16
          },
          "showarrow": false,
          "text": "Negative Absent",
          "x": 0.225,
          "xanchor": "center",
          "xref": "paper",
          "y": 1,
          "yanchor": "bottom",
          "yref": "paper"
         },
         {
          "font": {
           "size": 16
          },
          "showarrow": false,
          "text": "Positive Absent",
          "x": 0.775,
          "xanchor": "center",
          "xref": "paper",
          "y": 1,
          "yanchor": "bottom",
          "yref": "paper"
         },
         {
          "font": {
           "size": 16
          },
          "showarrow": false,
          "text": "Negative Present",
          "x": 0.225,
          "xanchor": "center",
          "xref": "paper",
          "y": 0.425,
          "yanchor": "bottom",
          "yref": "paper"
         },
         {
          "font": {
           "size": 16
          },
          "showarrow": false,
          "text": "Positive Present",
          "x": 0.775,
          "xanchor": "center",
          "xref": "paper",
          "y": 0.425,
          "yanchor": "bottom",
          "yref": "paper"
         }
        ],
        "font": {
         "family": "Times New Roman",
         "size": 12
        },
        "height": 350,
        "legend": {
         "orientation": "h",
         "title": {
          "text": "Outcome Valence"
         },
         "x": 0.01,
         "xanchor": "left",
         "y": 1.07,
         "yanchor": "bottom"
        },
        "margin": {
         "b": 40,
         "l": 90,
         "r": 10,
         "t": 20
        },
        "template": {
         "data": {
          "scatter": [
           {
            "type": "scatter"
           }
          ]
         }
        },
        "width": 500,
        "xaxis": {
         "anchor": "y",
         "domain": [
          0,
          0.45
         ],
         "range": [
          0,
          200
         ]
        },
        "xaxis2": {
         "anchor": "y2",
         "domain": [
          0.55,
          1
         ],
         "range": [
          0,
          200
         ]
        },
        "xaxis3": {
         "anchor": "y3",
         "domain": [
          0,
          0.45
         ],
         "range": [
          0,
          200
         ],
         "title": {
          "text": "Frequency of Outcomes"
         }
        },
        "xaxis4": {
         "anchor": "y4",
         "domain": [
          0.55,
          1
         ],
         "range": [
          0,
          200
         ],
         "title": {
          "text": "Frequency of Outcomes"
         }
        },
        "yaxis": {
         "anchor": "x",
         "domain": [
          0.575,
          1
         ]
        },
        "yaxis2": {
         "anchor": "x2",
         "domain": [
          0.575,
          1
         ],
         "matches": "y",
         "showticklabels": false
        },
        "yaxis3": {
         "anchor": "x3",
         "domain": [
          0,
          0.425
         ]
        },
        "yaxis4": {
         "anchor": "x4",
         "domain": [
          0,
          0.425
         ],
         "matches": "y3",
         "showticklabels": false
        }
       }
      },
      "text/html": [
       "<div>                            <div id=\"c28874e6-dbd4-4178-86f9-fb3d3683102f\" class=\"plotly-graph-div\" style=\"height:350px; width:500px;\"></div>            <script type=\"text/javascript\">                require([\"plotly\"], function(Plotly) {                    window.PLOTLYENV=window.PLOTLYENV || {};                                    if (document.getElementById(\"c28874e6-dbd4-4178-86f9-fb3d3683102f\")) {                    Plotly.newPlot(                        \"c28874e6-dbd4-4178-86f9-fb3d3683102f\",                        [{\"marker\": {\"color\": \"#EF553B\"}, \"name\": \"Negative\", \"orientation\": \"h\", \"showlegend\": true, \"type\": \"bar\", \"x\": [37, 45, 106], \"xaxis\": \"x\", \"y\": [\"Controllable\", \"Neither\", \"Uncontrollable\"], \"yaxis\": \"y\"}, {\"marker\": {\"color\": \"grey\"}, \"name\": \"Neither\", \"orientation\": \"h\", \"showlegend\": true, \"type\": \"bar\", \"x\": [78, 36, 104], \"xaxis\": \"x\", \"y\": [\"Controllable\", \"Neither\", \"Uncontrollable\"], \"yaxis\": \"y\"}, {\"marker\": {\"color\": \"#00CC96\"}, \"name\": \"Positive\", \"orientation\": \"h\", \"showlegend\": true, \"type\": \"bar\", \"x\": [78, 36, 104], \"xaxis\": \"x\", \"y\": [\"Controllable\", \"Neither\", \"Uncontrollable\"], \"yaxis\": \"y\"}, {\"marker\": {\"color\": \"#EF553B\"}, \"name\": \"Negative\", \"orientation\": \"h\", \"showlegend\": false, \"type\": \"bar\", \"x\": [24, 41, 139], \"xaxis\": \"x2\", \"y\": [\"Controllable\", \"Neither\", \"Uncontrollable\"], \"yaxis\": \"y2\"}, {\"marker\": {\"color\": \"grey\"}, \"name\": \"Neither\", \"orientation\": \"h\", \"showlegend\": false, \"type\": \"bar\", \"x\": [52, 31, 111], \"xaxis\": \"x2\", \"y\": [\"Controllable\", \"Neither\", \"Uncontrollable\"], \"yaxis\": \"y2\"}, {\"marker\": {\"color\": \"#00CC96\"}, \"name\": \"Positive\", \"orientation\": \"h\", \"showlegend\": false, \"type\": \"bar\", \"x\": [52, 31, 111], \"xaxis\": \"x2\", \"y\": [\"Controllable\", \"Neither\", \"Uncontrollable\"], \"yaxis\": \"y2\"}, {\"marker\": {\"color\": \"#EF553B\"}, \"name\": \"Negative\", \"orientation\": \"h\", \"showlegend\": false, \"type\": \"bar\", \"x\": [59, 62, 154], \"xaxis\": \"x3\", \"y\": [\"Controllable\", \"Neither\", \"Uncontrollable\"], \"yaxis\": \"y3\"}, {\"marker\": {\"color\": \"grey\"}, \"name\": \"Neither\", \"orientation\": \"h\", \"showlegend\": false, \"type\": \"bar\", \"x\": [33, 28, 50], \"xaxis\": \"x3\", \"y\": [\"Controllable\", \"Neither\", \"Uncontrollable\"], \"yaxis\": \"y3\"}, {\"marker\": {\"color\": \"#00CC96\"}, \"name\": \"Positive\", \"orientation\": \"h\", \"showlegend\": false, \"type\": \"bar\", \"x\": [33, 28, 50], \"xaxis\": \"x3\", \"y\": [\"Controllable\", \"Neither\", \"Uncontrollable\"], \"yaxis\": \"y3\"}, {\"marker\": {\"color\": \"#EF553B\"}, \"name\": \"Negative\", \"orientation\": \"h\", \"showlegend\": false, \"type\": \"bar\", \"x\": [62, 63, 202], \"xaxis\": \"x4\", \"y\": [\"Controllable\", \"Neither\", \"Uncontrollable\"], \"yaxis\": \"y4\"}, {\"marker\": {\"color\": \"grey\"}, \"name\": \"Neither\", \"orientation\": \"h\", \"showlegend\": false, \"type\": \"bar\", \"x\": [32, 15, 45], \"xaxis\": \"x4\", \"y\": [\"Controllable\", \"Neither\", \"Uncontrollable\"], \"yaxis\": \"y4\"}, {\"marker\": {\"color\": \"#00CC96\"}, \"name\": \"Positive\", \"orientation\": \"h\", \"showlegend\": false, \"type\": \"bar\", \"x\": [32, 15, 45], \"xaxis\": \"x4\", \"y\": [\"Controllable\", \"Neither\", \"Uncontrollable\"], \"yaxis\": \"y4\"}],                        {\"annotations\": [{\"font\": {\"size\": 16}, \"showarrow\": false, \"text\": \"Negative Absent\", \"x\": 0.225, \"xanchor\": \"center\", \"xref\": \"paper\", \"y\": 1.0, \"yanchor\": \"bottom\", \"yref\": \"paper\"}, {\"font\": {\"size\": 16}, \"showarrow\": false, \"text\": \"Positive Absent\", \"x\": 0.775, \"xanchor\": \"center\", \"xref\": \"paper\", \"y\": 1.0, \"yanchor\": \"bottom\", \"yref\": \"paper\"}, {\"font\": {\"size\": 16}, \"showarrow\": false, \"text\": \"Negative Present\", \"x\": 0.225, \"xanchor\": \"center\", \"xref\": \"paper\", \"y\": 0.425, \"yanchor\": \"bottom\", \"yref\": \"paper\"}, {\"font\": {\"size\": 16}, \"showarrow\": false, \"text\": \"Positive Present\", \"x\": 0.775, \"xanchor\": \"center\", \"xref\": \"paper\", \"y\": 0.425, \"yanchor\": \"bottom\", \"yref\": \"paper\"}], \"font\": {\"family\": \"Times New Roman\", \"size\": 12}, \"height\": 350, \"legend\": {\"orientation\": \"h\", \"title\": {\"text\": \"Outcome Valence\"}, \"x\": 0.01, \"xanchor\": \"left\", \"y\": 1.07, \"yanchor\": \"bottom\"}, \"margin\": {\"b\": 40, \"l\": 90, \"r\": 10, \"t\": 20}, \"template\": {\"data\": {\"scatter\": [{\"type\": \"scatter\"}]}}, \"width\": 500, \"xaxis\": {\"anchor\": \"y\", \"domain\": [0.0, 0.45], \"range\": [0, 200]}, \"xaxis2\": {\"anchor\": \"y2\", \"domain\": [0.55, 1.0], \"range\": [0, 200]}, \"xaxis3\": {\"anchor\": \"y3\", \"domain\": [0.0, 0.45], \"range\": [0, 200], \"title\": {\"text\": \"Frequency of Outcomes\"}}, \"xaxis4\": {\"anchor\": \"y4\", \"domain\": [0.55, 1.0], \"range\": [0, 200], \"title\": {\"text\": \"Frequency of Outcomes\"}}, \"yaxis\": {\"anchor\": \"x\", \"domain\": [0.575, 1.0]}, \"yaxis2\": {\"anchor\": \"x2\", \"domain\": [0.575, 1.0], \"matches\": \"y\", \"showticklabels\": false}, \"yaxis3\": {\"anchor\": \"x3\", \"domain\": [0.0, 0.425]}, \"yaxis4\": {\"anchor\": \"x4\", \"domain\": [0.0, 0.425], \"matches\": \"y3\", \"showticklabels\": false}},                        {\"toImageButtonOptions\": {\"format\": \"svg\", \"height\": null, \"width\": null, \"scale\": 1}, \"responsive\": true}                    ).then(function(){\n",
       "                            \n",
       "var gd = document.getElementById('c28874e6-dbd4-4178-86f9-fb3d3683102f');\n",
       "var x = new MutationObserver(function (mutations, observer) {{\n",
       "        var display = window.getComputedStyle(gd).display;\n",
       "        if (!display || display === 'none') {{\n",
       "            console.log([gd, 'removed!']);\n",
       "            Plotly.purge(gd);\n",
       "            observer.disconnect();\n",
       "        }}\n",
       "}});\n",
       "\n",
       "// Listen for the removal of the full notebook cells\n",
       "var notebookContainer = gd.closest('#notebook-container');\n",
       "if (notebookContainer) {{\n",
       "    x.observe(notebookContainer, {childList: true});\n",
       "}}\n",
       "\n",
       "// Listen for the clearing of the current output cell\n",
       "var outputEl = gd.closest('.output');\n",
       "if (outputEl) {{\n",
       "    x.observe(outputEl, {childList: true});\n",
       "}}\n",
       "\n",
       "                        })                };                });            </script>        </div>"
      ]
     },
     "metadata": {},
     "output_type": "display_data"
    }
   ],
   "source": [
    "fig = make_subplots(rows=2, cols=2, \n",
    "#                     shared_xaxes=True, \n",
    "                    shared_yaxes=True,\n",
    "                    horizontal_spacing=0.1,\n",
    "                    vertical_spacing=0.15,\n",
    "                    subplot_titles=[str(' '.join(i)).title() for i in zipped_cond_pairs]\n",
    "                   )\n",
    "\n",
    "idx = 0\n",
    "n_cols = 2\n",
    "togglelegend=True\n",
    "\n",
    "    \n",
    "\n",
    "\n",
    "for val, means in zipped_cond_pairs:\n",
    "    fig_data = master_data[\n",
    "        (master_data['valence_condition']==val) & (master_data['means_condition']==means)\n",
    "    ].groupby(['control_code'])['val_code'].value_counts(normalize=False).unstack()\n",
    "    \n",
    "\n",
    "    data=[\n",
    "            go.Bar(name=\"Negative\",\n",
    "                   y=['Controllable','Neither','Uncontrollable'], \n",
    "                   x=fig_data['neg'], \n",
    "                   marker_color='#EF553B',\n",
    "                   orientation='h',\n",
    "                   showlegend=togglelegend),\n",
    "            go.Bar(name=\"Neither\",\n",
    "                   y=['Controllable','Neither','Uncontrollable'], \n",
    "                   x=fig_data['pos'], \n",
    "                   marker_color='grey',\n",
    "                   orientation='h',\n",
    "                   showlegend=togglelegend),\n",
    "            go.Bar(name=\"Positive\",\n",
    "                   y=['Controllable','Neither','Uncontrollable'], \n",
    "                   x=fig_data['pos'], \n",
    "                   marker_color='#00CC96',\n",
    "                   orientation='h',\n",
    "                   showlegend=togglelegend),\n",
    "        ]\n",
    "    \n",
    "    \n",
    "    \n",
    "#     print(ratings_by_condition_pair_fig.layout)\n",
    "## MAKE THE MAIN PLOT ##    \n",
    "    fig.add_trace(data[0], row=idx//n_cols+1, col=idx%n_cols+1,\n",
    "                 )\n",
    "    fig.add_trace(data[1], row=idx//n_cols+1, col=idx%n_cols+1,\n",
    "                 )\n",
    "    fig.add_trace(data[2], row=idx//n_cols+1, col=idx%n_cols+1,\n",
    "                 )\n",
    "    idx += 1\n",
    "    togglelegend=False\n",
    "\n",
    "fig.update_xaxes(title_text=\"Frequency of Outcomes\", row=2)\n",
    "# fig.update_xaxes(title_text=\"Uncontrollable\", row=2, col=1)\n",
    "# fig.update_xaxes(title_text=\"Controllable\", row=2, col=2)\n",
    "# fig.update_yaxes(title_text=\"Negative\", row=1, col=1)\n",
    "# fig.update_yaxes(title_text=\"Positive\", row=2, col=1)\n",
    "\n",
    "fig.update_xaxes(range=[0,200])\n",
    "fig.update_layout(#barmode='stack', \n",
    "                              template = 'none', \n",
    "                              font_family=\"Times New Roman\", font_size=12,\n",
    "                              legend_title=\"Outcome Valence\",\n",
    "                                    legend=dict(\n",
    "                                        orientation='h',\n",
    "                                    yanchor=\"bottom\",\n",
    "                                    y=1.07,\n",
    "                                    xanchor=\"left\",\n",
    "                                    x=0.01\n",
    "                                ),\n",
    "                              width = 500, height = 350,\n",
    "#                               showlegend=False,\n",
    "                              #remove some margin so the graph fits nicer in latex\n",
    "                              margin_l=90, #left margin\n",
    "                              margin_r=10, #right margin\n",
    "                              margin_b=40, #bottom margin\n",
    "                              margin_t=20, #top margin\n",
    "                             )\n",
    "    \n",
    "    \n",
    "    \n",
    "fig.show(config=config)"
   ]
  },
  {
   "cell_type": "code",
   "execution_count": 12,
   "id": "526ca4dc",
   "metadata": {},
   "outputs": [
    {
     "name": "stderr",
     "output_type": "stream",
     "text": [
      "Could not generate 3_output//control_report/_kallysto/figs/4_Experiment1_Analysis.ipynb//interxHbar.pdf. Missing savefig.\n"
     ]
    }
   ],
   "source": [
    "#save the figure\n",
    "another_interx_fig = Export.figure(\n",
    "    'interxHbar',  # Export name\n",
    "    image=fig,             # The plot to be exported\n",
    "    data=pd.crosstab(master_data['control_code'],\n",
    "                    master_data['val_code'],),     # The data used to produce the plot.\n",
    "    text_width=1, #fig width relative to textwidth=1\n",
    "    caption='Categories of unexpected events, reported by outcome-valence (positive, negative, neither) and outcome-controllability (uncontrollable, controllable, neither), collapsing across the four conditions in the study.'\n",
    ") \n",
    "\n",
    "another_interx_fig > latex_report;"
   ]
  },
  {
   "cell_type": "code",
   "execution_count": 13,
   "id": "bf29e344",
   "metadata": {
    "scrolled": false
   },
   "outputs": [
    {
     "name": "stdout",
     "output_type": "stream",
     "text": [
      "Chi square of all dvs:\n",
      "╒═════════════════╤═══════╤═══════════╤═══════╕\n",
      "│ control_code    │   neg │   neither │   pos │\n",
      "╞═════════════════╪═══════╪═══════════╪═══════╡\n",
      "│ controllable    │   182 │        69 │   195 │\n",
      "├─────────────────┼───────┼───────────┼───────┤\n",
      "│ neither_control │   211 │        21 │   110 │\n",
      "├─────────────────┼───────┼───────────┼───────┤\n",
      "│ uncontrollable  │   601 │        53 │   310 │\n",
      "╘═════════════════╧═══════╧═══════════╧═══════╛\n",
      "Unadjusted Chi-Square\n",
      "X^2 =  78.72040774475563\n",
      "degrees of freedom:  4\n",
      "p =  0.0000000000000003 \n",
      "\n",
      "William's Corrected Chi-Square\n",
      "X^2 =  78.42841853719075\n",
      "degrees of freedom:  4\n",
      "p =  0.0000000000000004 \n",
      "\n",
      "Cramer's v effect size =  0.150 \n",
      "\n"
     ]
    }
   ],
   "source": [
    "chi_dvs = master_data.groupby(['control_code'])['val_code'].value_counts().unstack()\n",
    "\n",
    "print(\"Chi square of all dvs:\")\n",
    "print(tabulate(chi_dvs, headers=\"keys\", tablefmt='fancy_grid'))\n",
    "obs = np.array([chi_dvs.loc[('controllable')], chi_dvs.loc[('neither_control')], chi_dvs.loc[('uncontrollable')]])\n",
    "pvalue, williams_chi, williams_pvalue, williams_deffre, effect_size = print_chi(obs)\n",
    "       \n",
    "#save the william's chi info\n",
    "if williams_pvalue < 0.001:\n",
    "    p = \"p < .001\"\n",
    "else:\n",
    "    p = f\"p = {williams_pvalue:.3f}\"\n",
    "\n",
    "    export_value_chi_apa(str(val.title() + means.title() + \"ValenceOutcomeByControlOutcomeChi\"), \n",
    "                     williams_chi, \n",
    "                     williams_deffre, \n",
    "                     N = sum(sum(obs)), \n",
    "                     p = p, \n",
    "                     v = \"{:.3f}\".format(effect_size))"
   ]
  },
  {
   "cell_type": "markdown",
   "id": "86c40411",
   "metadata": {},
   "source": [
    "# The following Chi-Squares are presented in the \"Frequency of Unexpected Outcomes: A Negative-Uncontrollability Bias\" Section of the paper."
   ]
  },
  {
   "cell_type": "code",
   "execution_count": 14,
   "id": "e3ede9ff",
   "metadata": {
    "scrolled": false
   },
   "outputs": [
    {
     "name": "stdout",
     "output_type": "stream",
     "text": [
      "negative absent\n",
      "╒═════════════════╤═══════╤═══════════╤═══════╕\n",
      "│ control_code    │   neg │   neither │   pos │\n",
      "╞═════════════════╪═══════╪═══════════╪═══════╡\n",
      "│ controllable    │    37 │        20 │    78 │\n",
      "├─────────────────┼───────┼───────────┼───────┤\n",
      "│ neither_control │    45 │         6 │    36 │\n",
      "├─────────────────┼───────┼───────────┼───────┤\n",
      "│ uncontrollable  │   106 │         8 │   104 │\n",
      "╘═════════════════╧═══════╧═══════════╧═══════╛\n",
      "Unadjusted Chi-Square\n",
      "X^2 =  27.502447193490067\n",
      "degrees of freedom:  4\n",
      "p =  0.0000157306807966 \n",
      "\n",
      "William's Corrected Chi-Square\n",
      "X^2 =  27.111787569112753\n",
      "degrees of freedom:  4\n",
      "p =  0.0000188707434309 \n",
      "\n",
      "Cramer's v effect size =  0.176 \n",
      "\n",
      "negative present\n",
      "╒═════════════════╤═══════╤═══════════╤═══════╕\n",
      "│ control_code    │   neg │   neither │   pos │\n",
      "╞═════════════════╪═══════╪═══════════╪═══════╡\n",
      "│ controllable    │    59 │        27 │    33 │\n",
      "├─────────────────┼───────┼───────────┼───────┤\n",
      "│ neither_control │    62 │         4 │    28 │\n",
      "├─────────────────┼───────┼───────────┼───────┤\n",
      "│ uncontrollable  │   154 │        15 │    50 │\n",
      "╘═════════════════╧═══════╧═══════════╧═══════╛\n",
      "Unadjusted Chi-Square\n",
      "X^2 =  29.592271036347476\n",
      "degrees of freedom:  4\n",
      "p =  0.0000059247610817 \n",
      "\n",
      "William's Corrected Chi-Square\n",
      "X^2 =  29.232953916375823\n",
      "degrees of freedom:  4\n",
      "p =  0.0000070101575224 \n",
      "\n",
      "Cramer's v effect size =  0.184 \n",
      "\n",
      "positive absent\n",
      "╒═════════════════╤═══════╤═══════════╤═══════╕\n",
      "│ control_code    │   neg │   neither │   pos │\n",
      "╞═════════════════╪═══════╪═══════════╪═══════╡\n",
      "│ controllable    │    24 │        19 │    52 │\n",
      "├─────────────────┼───────┼───────────┼───────┤\n",
      "│ neither_control │    41 │         8 │    31 │\n",
      "├─────────────────┼───────┼───────────┼───────┤\n",
      "│ uncontrollable  │   139 │        15 │   111 │\n",
      "╘═════════════════╧═══════╧═══════════╧═══════╛\n",
      "Unadjusted Chi-Square\n",
      "X^2 =  29.99101534931073\n",
      "degrees of freedom:  4\n",
      "p =  0.0000049150935933 \n",
      "\n",
      "William's Corrected Chi-Square\n",
      "X^2 =  29.57091788535188\n",
      "degrees of freedom:  4\n",
      "p =  0.0000059843086077 \n",
      "\n",
      "Cramer's v effect size =  0.183 \n",
      "\n",
      "positive present\n",
      "╒═════════════════╤═══════╤═══════════╤═══════╕\n",
      "│ control_code    │   neg │   neither │   pos │\n",
      "╞═════════════════╪═══════╪═══════════╪═══════╡\n",
      "│ controllable    │    62 │         3 │    32 │\n",
      "├─────────────────┼───────┼───────────┼───────┤\n",
      "│ neither_control │    63 │         3 │    15 │\n",
      "├─────────────────┼───────┼───────────┼───────┤\n",
      "│ uncontrollable  │   202 │        15 │    45 │\n",
      "╘═════════════════╧═══════╧═══════════╧═══════╛\n",
      "Unadjusted Chi-Square\n",
      "X^2 =  11.818940549583914\n",
      "degrees of freedom:  4\n",
      "p =  0.0187497042388557 \n",
      "\n",
      "William's Corrected Chi-Square\n",
      "X^2 =  11.516103502071612\n",
      "degrees of freedom:  4\n",
      "p =  0.0213369043897709 \n",
      "\n",
      "Cramer's v effect size =  0.114 \n",
      "\n"
     ]
    },
    {
     "data": {
      "application/vnd.plotly.v1+json": {
       "config": {
        "plotlyServerURL": "https://plot.ly"
       },
       "data": [
        {
         "colorscale": [
          [
           0,
           "rgb(255,255,255)"
          ],
          [
           0.125,
           "rgb(240,240,240)"
          ],
          [
           0.25,
           "rgb(217,217,217)"
          ],
          [
           0.375,
           "rgb(189,189,189)"
          ],
          [
           0.5,
           "rgb(150,150,150)"
          ],
          [
           0.625,
           "rgb(115,115,115)"
          ],
          [
           0.75,
           "rgb(82,82,82)"
          ],
          [
           0.875,
           "rgb(37,37,37)"
          ],
          [
           1,
           "rgb(0,0,0)"
          ]
         ],
         "reversescale": false,
         "showscale": false,
         "type": "heatmap",
         "x": [
          "Negative",
          "Neither",
          "Positive"
         ],
         "xaxis": "x",
         "y": [
          "Controllable",
          "Neither",
          "Uncontrollable"
         ],
         "yaxis": "y",
         "z": [
          [
           0.08,
           0.05,
           0.18
          ],
          [
           0.1,
           0.01,
           0.08
          ],
          [
           0.24,
           0.02,
           0.24
          ]
         ]
        },
        {
         "colorscale": [
          [
           0,
           "rgb(255,255,255)"
          ],
          [
           0.125,
           "rgb(240,240,240)"
          ],
          [
           0.25,
           "rgb(217,217,217)"
          ],
          [
           0.375,
           "rgb(189,189,189)"
          ],
          [
           0.5,
           "rgb(150,150,150)"
          ],
          [
           0.625,
           "rgb(115,115,115)"
          ],
          [
           0.75,
           "rgb(82,82,82)"
          ],
          [
           0.875,
           "rgb(37,37,37)"
          ],
          [
           1,
           "rgb(0,0,0)"
          ]
         ],
         "reversescale": false,
         "showscale": false,
         "type": "heatmap",
         "x": [
          "Negative",
          "Neither",
          "Positive"
         ],
         "xaxis": "x2",
         "y": [
          "Controllable",
          "Neither",
          "Uncontrollable"
         ],
         "yaxis": "y2",
         "z": [
          [
           0.14,
           0.06,
           0.08
          ],
          [
           0.14,
           0.01,
           0.06
          ],
          [
           0.36,
           0.03,
           0.12
          ]
         ]
        },
        {
         "colorscale": [
          [
           0,
           "rgb(255,255,255)"
          ],
          [
           0.125,
           "rgb(240,240,240)"
          ],
          [
           0.25,
           "rgb(217,217,217)"
          ],
          [
           0.375,
           "rgb(189,189,189)"
          ],
          [
           0.5,
           "rgb(150,150,150)"
          ],
          [
           0.625,
           "rgb(115,115,115)"
          ],
          [
           0.75,
           "rgb(82,82,82)"
          ],
          [
           0.875,
           "rgb(37,37,37)"
          ],
          [
           1,
           "rgb(0,0,0)"
          ]
         ],
         "reversescale": false,
         "showscale": false,
         "type": "heatmap",
         "x": [
          "Negative",
          "Neither",
          "Positive"
         ],
         "xaxis": "x3",
         "y": [
          "Controllable",
          "Neither",
          "Uncontrollable"
         ],
         "yaxis": "y3",
         "z": [
          [
           0.05,
           0.04,
           0.12
          ],
          [
           0.09,
           0.02,
           0.07
          ],
          [
           0.32,
           0.03,
           0.25
          ]
         ]
        },
        {
         "colorscale": [
          [
           0,
           "rgb(255,255,255)"
          ],
          [
           0.125,
           "rgb(240,240,240)"
          ],
          [
           0.25,
           "rgb(217,217,217)"
          ],
          [
           0.375,
           "rgb(189,189,189)"
          ],
          [
           0.5,
           "rgb(150,150,150)"
          ],
          [
           0.625,
           "rgb(115,115,115)"
          ],
          [
           0.75,
           "rgb(82,82,82)"
          ],
          [
           0.875,
           "rgb(37,37,37)"
          ],
          [
           1,
           "rgb(0,0,0)"
          ]
         ],
         "reversescale": false,
         "showscale": false,
         "type": "heatmap",
         "x": [
          "Negative",
          "Neither",
          "Positive"
         ],
         "xaxis": "x4",
         "y": [
          "Controllable",
          "Neither",
          "Uncontrollable"
         ],
         "yaxis": "y4",
         "z": [
          [
           0.14,
           0.01,
           0.07
          ],
          [
           0.14,
           0.01,
           0.03
          ],
          [
           0.46,
           0.03,
           0.1
          ]
         ]
        }
       ],
       "layout": {
        "annotations": [
         {
          "font": {
           "size": 16
          },
          "showarrow": false,
          "text": "Negative Absent",
          "x": 0.225,
          "xanchor": "center",
          "xref": "paper",
          "y": 1,
          "yanchor": "bottom",
          "yref": "paper"
         },
         {
          "font": {
           "size": 16
          },
          "showarrow": false,
          "text": "Negative Present",
          "x": 0.775,
          "xanchor": "center",
          "xref": "paper",
          "y": 1,
          "yanchor": "bottom",
          "yref": "paper"
         },
         {
          "font": {
           "size": 16
          },
          "showarrow": false,
          "text": "Positive Absent",
          "x": 0.225,
          "xanchor": "center",
          "xref": "paper",
          "y": 0.375,
          "yanchor": "bottom",
          "yref": "paper"
         },
         {
          "font": {
           "size": 16
          },
          "showarrow": false,
          "text": "Positive Present",
          "x": 0.775,
          "xanchor": "center",
          "xref": "paper",
          "y": 0.375,
          "yanchor": "bottom",
          "yref": "paper"
         },
         {
          "font": {
           "size": 16
          },
          "showarrow": false,
          "text": "Outcome Valence",
          "x": 0.5,
          "xanchor": "center",
          "xref": "paper",
          "y": 0,
          "yanchor": "top",
          "yref": "paper",
          "yshift": -30
         },
         {
          "font": {
           "size": 16
          },
          "showarrow": false,
          "text": "Outcome Controllability",
          "textangle": -90,
          "x": 0,
          "xanchor": "right",
          "xref": "paper",
          "xshift": -40,
          "y": 0.5,
          "yanchor": "middle",
          "yref": "paper"
         },
         {
          "font": {
           "color": "#000000"
          },
          "showarrow": false,
          "text": "0.08",
          "x": "Negative",
          "xref": "x",
          "y": "Controllable",
          "yref": "y"
         },
         {
          "font": {
           "color": "#000000"
          },
          "showarrow": false,
          "text": "0.05",
          "x": "Neither",
          "xref": "x",
          "y": "Controllable",
          "yref": "y"
         },
         {
          "font": {
           "color": "#FFFFFF"
          },
          "showarrow": false,
          "text": "0.18",
          "x": "Positive",
          "xref": "x",
          "y": "Controllable",
          "yref": "y"
         },
         {
          "font": {
           "color": "#000000"
          },
          "showarrow": false,
          "text": "0.1",
          "x": "Negative",
          "xref": "x",
          "y": "Neither",
          "yref": "y"
         },
         {
          "font": {
           "color": "#000000"
          },
          "showarrow": false,
          "text": "0.01",
          "x": "Neither",
          "xref": "x",
          "y": "Neither",
          "yref": "y"
         },
         {
          "font": {
           "color": "#000000"
          },
          "showarrow": false,
          "text": "0.08",
          "x": "Positive",
          "xref": "x",
          "y": "Neither",
          "yref": "y"
         },
         {
          "font": {
           "color": "#FFFFFF"
          },
          "showarrow": false,
          "text": "0.24",
          "x": "Negative",
          "xref": "x",
          "y": "Uncontrollable",
          "yref": "y"
         },
         {
          "font": {
           "color": "#000000"
          },
          "showarrow": false,
          "text": "0.02",
          "x": "Neither",
          "xref": "x",
          "y": "Uncontrollable",
          "yref": "y"
         },
         {
          "font": {
           "color": "#FFFFFF"
          },
          "showarrow": false,
          "text": "0.24",
          "x": "Positive",
          "xref": "x",
          "y": "Uncontrollable",
          "yref": "y"
         },
         {
          "font": {
           "color": "#000000"
          },
          "showarrow": false,
          "text": "0.14",
          "x": "Negative",
          "xref": "x2",
          "y": "Controllable",
          "yref": "y2"
         },
         {
          "font": {
           "color": "#000000"
          },
          "showarrow": false,
          "text": "0.06",
          "x": "Neither",
          "xref": "x2",
          "y": "Controllable",
          "yref": "y2"
         },
         {
          "font": {
           "color": "#000000"
          },
          "showarrow": false,
          "text": "0.08",
          "x": "Positive",
          "xref": "x2",
          "y": "Controllable",
          "yref": "y2"
         },
         {
          "font": {
           "color": "#000000"
          },
          "showarrow": false,
          "text": "0.14",
          "x": "Negative",
          "xref": "x2",
          "y": "Neither",
          "yref": "y2"
         },
         {
          "font": {
           "color": "#000000"
          },
          "showarrow": false,
          "text": "0.01",
          "x": "Neither",
          "xref": "x2",
          "y": "Neither",
          "yref": "y2"
         },
         {
          "font": {
           "color": "#000000"
          },
          "showarrow": false,
          "text": "0.06",
          "x": "Positive",
          "xref": "x2",
          "y": "Neither",
          "yref": "y2"
         },
         {
          "font": {
           "color": "#FFFFFF"
          },
          "showarrow": false,
          "text": "0.36",
          "x": "Negative",
          "xref": "x2",
          "y": "Uncontrollable",
          "yref": "y2"
         },
         {
          "font": {
           "color": "#000000"
          },
          "showarrow": false,
          "text": "0.03",
          "x": "Neither",
          "xref": "x2",
          "y": "Uncontrollable",
          "yref": "y2"
         },
         {
          "font": {
           "color": "#000000"
          },
          "showarrow": false,
          "text": "0.12",
          "x": "Positive",
          "xref": "x2",
          "y": "Uncontrollable",
          "yref": "y2"
         },
         {
          "font": {
           "color": "#000000"
          },
          "showarrow": false,
          "text": "0.05",
          "x": "Negative",
          "xref": "x3",
          "y": "Controllable",
          "yref": "y3"
         },
         {
          "font": {
           "color": "#000000"
          },
          "showarrow": false,
          "text": "0.04",
          "x": "Neither",
          "xref": "x3",
          "y": "Controllable",
          "yref": "y3"
         },
         {
          "font": {
           "color": "#000000"
          },
          "showarrow": false,
          "text": "0.12",
          "x": "Positive",
          "xref": "x3",
          "y": "Controllable",
          "yref": "y3"
         },
         {
          "font": {
           "color": "#000000"
          },
          "showarrow": false,
          "text": "0.09",
          "x": "Negative",
          "xref": "x3",
          "y": "Neither",
          "yref": "y3"
         },
         {
          "font": {
           "color": "#000000"
          },
          "showarrow": false,
          "text": "0.02",
          "x": "Neither",
          "xref": "x3",
          "y": "Neither",
          "yref": "y3"
         },
         {
          "font": {
           "color": "#000000"
          },
          "showarrow": false,
          "text": "0.07",
          "x": "Positive",
          "xref": "x3",
          "y": "Neither",
          "yref": "y3"
         },
         {
          "font": {
           "color": "#FFFFFF"
          },
          "showarrow": false,
          "text": "0.32",
          "x": "Negative",
          "xref": "x3",
          "y": "Uncontrollable",
          "yref": "y3"
         },
         {
          "font": {
           "color": "#000000"
          },
          "showarrow": false,
          "text": "0.03",
          "x": "Neither",
          "xref": "x3",
          "y": "Uncontrollable",
          "yref": "y3"
         },
         {
          "font": {
           "color": "#FFFFFF"
          },
          "showarrow": false,
          "text": "0.25",
          "x": "Positive",
          "xref": "x3",
          "y": "Uncontrollable",
          "yref": "y3"
         },
         {
          "font": {
           "color": "#000000"
          },
          "showarrow": false,
          "text": "0.14",
          "x": "Negative",
          "xref": "x4",
          "y": "Controllable",
          "yref": "y4"
         },
         {
          "font": {
           "color": "#000000"
          },
          "showarrow": false,
          "text": "0.01",
          "x": "Neither",
          "xref": "x4",
          "y": "Controllable",
          "yref": "y4"
         },
         {
          "font": {
           "color": "#000000"
          },
          "showarrow": false,
          "text": "0.07",
          "x": "Positive",
          "xref": "x4",
          "y": "Controllable",
          "yref": "y4"
         },
         {
          "font": {
           "color": "#000000"
          },
          "showarrow": false,
          "text": "0.14",
          "x": "Negative",
          "xref": "x4",
          "y": "Neither",
          "yref": "y4"
         },
         {
          "font": {
           "color": "#000000"
          },
          "showarrow": false,
          "text": "0.01",
          "x": "Neither",
          "xref": "x4",
          "y": "Neither",
          "yref": "y4"
         },
         {
          "font": {
           "color": "#000000"
          },
          "showarrow": false,
          "text": "0.03",
          "x": "Positive",
          "xref": "x4",
          "y": "Neither",
          "yref": "y4"
         },
         {
          "font": {
           "color": "#FFFFFF"
          },
          "showarrow": false,
          "text": "0.46",
          "x": "Negative",
          "xref": "x4",
          "y": "Uncontrollable",
          "yref": "y4"
         },
         {
          "font": {
           "color": "#000000"
          },
          "showarrow": false,
          "text": "0.03",
          "x": "Neither",
          "xref": "x4",
          "y": "Uncontrollable",
          "yref": "y4"
         },
         {
          "font": {
           "color": "#000000"
          },
          "showarrow": false,
          "text": "0.1",
          "x": "Positive",
          "xref": "x4",
          "y": "Uncontrollable",
          "yref": "y4"
         }
        ],
        "template": {
         "data": {
          "bar": [
           {
            "error_x": {
             "color": "#2a3f5f"
            },
            "error_y": {
             "color": "#2a3f5f"
            },
            "marker": {
             "line": {
              "color": "#E5ECF6",
              "width": 0.5
             }
            },
            "type": "bar"
           }
          ],
          "barpolar": [
           {
            "marker": {
             "line": {
              "color": "#E5ECF6",
              "width": 0.5
             }
            },
            "type": "barpolar"
           }
          ],
          "carpet": [
           {
            "aaxis": {
             "endlinecolor": "#2a3f5f",
             "gridcolor": "white",
             "linecolor": "white",
             "minorgridcolor": "white",
             "startlinecolor": "#2a3f5f"
            },
            "baxis": {
             "endlinecolor": "#2a3f5f",
             "gridcolor": "white",
             "linecolor": "white",
             "minorgridcolor": "white",
             "startlinecolor": "#2a3f5f"
            },
            "type": "carpet"
           }
          ],
          "choropleth": [
           {
            "colorbar": {
             "outlinewidth": 0,
             "ticks": ""
            },
            "type": "choropleth"
           }
          ],
          "contour": [
           {
            "colorbar": {
             "outlinewidth": 0,
             "ticks": ""
            },
            "colorscale": [
             [
              0,
              "#0d0887"
             ],
             [
              0.1111111111111111,
              "#46039f"
             ],
             [
              0.2222222222222222,
              "#7201a8"
             ],
             [
              0.3333333333333333,
              "#9c179e"
             ],
             [
              0.4444444444444444,
              "#bd3786"
             ],
             [
              0.5555555555555556,
              "#d8576b"
             ],
             [
              0.6666666666666666,
              "#ed7953"
             ],
             [
              0.7777777777777778,
              "#fb9f3a"
             ],
             [
              0.8888888888888888,
              "#fdca26"
             ],
             [
              1,
              "#f0f921"
             ]
            ],
            "type": "contour"
           }
          ],
          "contourcarpet": [
           {
            "colorbar": {
             "outlinewidth": 0,
             "ticks": ""
            },
            "type": "contourcarpet"
           }
          ],
          "heatmap": [
           {
            "colorbar": {
             "outlinewidth": 0,
             "ticks": ""
            },
            "colorscale": [
             [
              0,
              "#0d0887"
             ],
             [
              0.1111111111111111,
              "#46039f"
             ],
             [
              0.2222222222222222,
              "#7201a8"
             ],
             [
              0.3333333333333333,
              "#9c179e"
             ],
             [
              0.4444444444444444,
              "#bd3786"
             ],
             [
              0.5555555555555556,
              "#d8576b"
             ],
             [
              0.6666666666666666,
              "#ed7953"
             ],
             [
              0.7777777777777778,
              "#fb9f3a"
             ],
             [
              0.8888888888888888,
              "#fdca26"
             ],
             [
              1,
              "#f0f921"
             ]
            ],
            "type": "heatmap"
           }
          ],
          "heatmapgl": [
           {
            "colorbar": {
             "outlinewidth": 0,
             "ticks": ""
            },
            "colorscale": [
             [
              0,
              "#0d0887"
             ],
             [
              0.1111111111111111,
              "#46039f"
             ],
             [
              0.2222222222222222,
              "#7201a8"
             ],
             [
              0.3333333333333333,
              "#9c179e"
             ],
             [
              0.4444444444444444,
              "#bd3786"
             ],
             [
              0.5555555555555556,
              "#d8576b"
             ],
             [
              0.6666666666666666,
              "#ed7953"
             ],
             [
              0.7777777777777778,
              "#fb9f3a"
             ],
             [
              0.8888888888888888,
              "#fdca26"
             ],
             [
              1,
              "#f0f921"
             ]
            ],
            "type": "heatmapgl"
           }
          ],
          "histogram": [
           {
            "marker": {
             "colorbar": {
              "outlinewidth": 0,
              "ticks": ""
             }
            },
            "type": "histogram"
           }
          ],
          "histogram2d": [
           {
            "colorbar": {
             "outlinewidth": 0,
             "ticks": ""
            },
            "colorscale": [
             [
              0,
              "#0d0887"
             ],
             [
              0.1111111111111111,
              "#46039f"
             ],
             [
              0.2222222222222222,
              "#7201a8"
             ],
             [
              0.3333333333333333,
              "#9c179e"
             ],
             [
              0.4444444444444444,
              "#bd3786"
             ],
             [
              0.5555555555555556,
              "#d8576b"
             ],
             [
              0.6666666666666666,
              "#ed7953"
             ],
             [
              0.7777777777777778,
              "#fb9f3a"
             ],
             [
              0.8888888888888888,
              "#fdca26"
             ],
             [
              1,
              "#f0f921"
             ]
            ],
            "type": "histogram2d"
           }
          ],
          "histogram2dcontour": [
           {
            "colorbar": {
             "outlinewidth": 0,
             "ticks": ""
            },
            "colorscale": [
             [
              0,
              "#0d0887"
             ],
             [
              0.1111111111111111,
              "#46039f"
             ],
             [
              0.2222222222222222,
              "#7201a8"
             ],
             [
              0.3333333333333333,
              "#9c179e"
             ],
             [
              0.4444444444444444,
              "#bd3786"
             ],
             [
              0.5555555555555556,
              "#d8576b"
             ],
             [
              0.6666666666666666,
              "#ed7953"
             ],
             [
              0.7777777777777778,
              "#fb9f3a"
             ],
             [
              0.8888888888888888,
              "#fdca26"
             ],
             [
              1,
              "#f0f921"
             ]
            ],
            "type": "histogram2dcontour"
           }
          ],
          "mesh3d": [
           {
            "colorbar": {
             "outlinewidth": 0,
             "ticks": ""
            },
            "type": "mesh3d"
           }
          ],
          "parcoords": [
           {
            "line": {
             "colorbar": {
              "outlinewidth": 0,
              "ticks": ""
             }
            },
            "type": "parcoords"
           }
          ],
          "pie": [
           {
            "automargin": true,
            "type": "pie"
           }
          ],
          "scatter": [
           {
            "marker": {
             "colorbar": {
              "outlinewidth": 0,
              "ticks": ""
             }
            },
            "type": "scatter"
           }
          ],
          "scatter3d": [
           {
            "line": {
             "colorbar": {
              "outlinewidth": 0,
              "ticks": ""
             }
            },
            "marker": {
             "colorbar": {
              "outlinewidth": 0,
              "ticks": ""
             }
            },
            "type": "scatter3d"
           }
          ],
          "scattercarpet": [
           {
            "marker": {
             "colorbar": {
              "outlinewidth": 0,
              "ticks": ""
             }
            },
            "type": "scattercarpet"
           }
          ],
          "scattergeo": [
           {
            "marker": {
             "colorbar": {
              "outlinewidth": 0,
              "ticks": ""
             }
            },
            "type": "scattergeo"
           }
          ],
          "scattergl": [
           {
            "marker": {
             "colorbar": {
              "outlinewidth": 0,
              "ticks": ""
             }
            },
            "type": "scattergl"
           }
          ],
          "scattermapbox": [
           {
            "marker": {
             "colorbar": {
              "outlinewidth": 0,
              "ticks": ""
             }
            },
            "type": "scattermapbox"
           }
          ],
          "scatterpolar": [
           {
            "marker": {
             "colorbar": {
              "outlinewidth": 0,
              "ticks": ""
             }
            },
            "type": "scatterpolar"
           }
          ],
          "scatterpolargl": [
           {
            "marker": {
             "colorbar": {
              "outlinewidth": 0,
              "ticks": ""
             }
            },
            "type": "scatterpolargl"
           }
          ],
          "scatterternary": [
           {
            "marker": {
             "colorbar": {
              "outlinewidth": 0,
              "ticks": ""
             }
            },
            "type": "scatterternary"
           }
          ],
          "surface": [
           {
            "colorbar": {
             "outlinewidth": 0,
             "ticks": ""
            },
            "colorscale": [
             [
              0,
              "#0d0887"
             ],
             [
              0.1111111111111111,
              "#46039f"
             ],
             [
              0.2222222222222222,
              "#7201a8"
             ],
             [
              0.3333333333333333,
              "#9c179e"
             ],
             [
              0.4444444444444444,
              "#bd3786"
             ],
             [
              0.5555555555555556,
              "#d8576b"
             ],
             [
              0.6666666666666666,
              "#ed7953"
             ],
             [
              0.7777777777777778,
              "#fb9f3a"
             ],
             [
              0.8888888888888888,
              "#fdca26"
             ],
             [
              1,
              "#f0f921"
             ]
            ],
            "type": "surface"
           }
          ],
          "table": [
           {
            "cells": {
             "fill": {
              "color": "#EBF0F8"
             },
             "line": {
              "color": "white"
             }
            },
            "header": {
             "fill": {
              "color": "#C8D4E3"
             },
             "line": {
              "color": "white"
             }
            },
            "type": "table"
           }
          ]
         },
         "layout": {
          "annotationdefaults": {
           "arrowcolor": "#2a3f5f",
           "arrowhead": 0,
           "arrowwidth": 1
          },
          "autotypenumbers": "strict",
          "coloraxis": {
           "colorbar": {
            "outlinewidth": 0,
            "ticks": ""
           }
          },
          "colorscale": {
           "diverging": [
            [
             0,
             "#8e0152"
            ],
            [
             0.1,
             "#c51b7d"
            ],
            [
             0.2,
             "#de77ae"
            ],
            [
             0.3,
             "#f1b6da"
            ],
            [
             0.4,
             "#fde0ef"
            ],
            [
             0.5,
             "#f7f7f7"
            ],
            [
             0.6,
             "#e6f5d0"
            ],
            [
             0.7,
             "#b8e186"
            ],
            [
             0.8,
             "#7fbc41"
            ],
            [
             0.9,
             "#4d9221"
            ],
            [
             1,
             "#276419"
            ]
           ],
           "sequential": [
            [
             0,
             "#0d0887"
            ],
            [
             0.1111111111111111,
             "#46039f"
            ],
            [
             0.2222222222222222,
             "#7201a8"
            ],
            [
             0.3333333333333333,
             "#9c179e"
            ],
            [
             0.4444444444444444,
             "#bd3786"
            ],
            [
             0.5555555555555556,
             "#d8576b"
            ],
            [
             0.6666666666666666,
             "#ed7953"
            ],
            [
             0.7777777777777778,
             "#fb9f3a"
            ],
            [
             0.8888888888888888,
             "#fdca26"
            ],
            [
             1,
             "#f0f921"
            ]
           ],
           "sequentialminus": [
            [
             0,
             "#0d0887"
            ],
            [
             0.1111111111111111,
             "#46039f"
            ],
            [
             0.2222222222222222,
             "#7201a8"
            ],
            [
             0.3333333333333333,
             "#9c179e"
            ],
            [
             0.4444444444444444,
             "#bd3786"
            ],
            [
             0.5555555555555556,
             "#d8576b"
            ],
            [
             0.6666666666666666,
             "#ed7953"
            ],
            [
             0.7777777777777778,
             "#fb9f3a"
            ],
            [
             0.8888888888888888,
             "#fdca26"
            ],
            [
             1,
             "#f0f921"
            ]
           ]
          },
          "colorway": [
           "#636efa",
           "#EF553B",
           "#00cc96",
           "#ab63fa",
           "#FFA15A",
           "#19d3f3",
           "#FF6692",
           "#B6E880",
           "#FF97FF",
           "#FECB52"
          ],
          "font": {
           "color": "#2a3f5f"
          },
          "geo": {
           "bgcolor": "white",
           "lakecolor": "white",
           "landcolor": "#E5ECF6",
           "showlakes": true,
           "showland": true,
           "subunitcolor": "white"
          },
          "hoverlabel": {
           "align": "left"
          },
          "hovermode": "closest",
          "mapbox": {
           "style": "light"
          },
          "paper_bgcolor": "white",
          "plot_bgcolor": "#E5ECF6",
          "polar": {
           "angularaxis": {
            "gridcolor": "white",
            "linecolor": "white",
            "ticks": ""
           },
           "bgcolor": "#E5ECF6",
           "radialaxis": {
            "gridcolor": "white",
            "linecolor": "white",
            "ticks": ""
           }
          },
          "scene": {
           "xaxis": {
            "backgroundcolor": "#E5ECF6",
            "gridcolor": "white",
            "gridwidth": 2,
            "linecolor": "white",
            "showbackground": true,
            "ticks": "",
            "zerolinecolor": "white"
           },
           "yaxis": {
            "backgroundcolor": "#E5ECF6",
            "gridcolor": "white",
            "gridwidth": 2,
            "linecolor": "white",
            "showbackground": true,
            "ticks": "",
            "zerolinecolor": "white"
           },
           "zaxis": {
            "backgroundcolor": "#E5ECF6",
            "gridcolor": "white",
            "gridwidth": 2,
            "linecolor": "white",
            "showbackground": true,
            "ticks": "",
            "zerolinecolor": "white"
           }
          },
          "shapedefaults": {
           "line": {
            "color": "#2a3f5f"
           }
          },
          "ternary": {
           "aaxis": {
            "gridcolor": "white",
            "linecolor": "white",
            "ticks": ""
           },
           "baxis": {
            "gridcolor": "white",
            "linecolor": "white",
            "ticks": ""
           },
           "bgcolor": "#E5ECF6",
           "caxis": {
            "gridcolor": "white",
            "linecolor": "white",
            "ticks": ""
           }
          },
          "title": {
           "x": 0.05
          },
          "xaxis": {
           "automargin": true,
           "gridcolor": "white",
           "linecolor": "white",
           "ticks": "",
           "title": {
            "standoff": 15
           },
           "zerolinecolor": "white",
           "zerolinewidth": 2
          },
          "yaxis": {
           "automargin": true,
           "gridcolor": "white",
           "linecolor": "white",
           "ticks": "",
           "title": {
            "standoff": 15
           },
           "zerolinecolor": "white",
           "zerolinewidth": 2
          }
         }
        },
        "xaxis": {
         "anchor": "y",
         "domain": [
          0,
          0.45
         ],
         "matches": "x3",
         "showticklabels": false
        },
        "xaxis2": {
         "anchor": "y2",
         "domain": [
          0.55,
          1
         ],
         "matches": "x4",
         "showticklabels": false
        },
        "xaxis3": {
         "anchor": "y3",
         "domain": [
          0,
          0.45
         ]
        },
        "xaxis4": {
         "anchor": "y4",
         "domain": [
          0.55,
          1
         ]
        },
        "yaxis": {
         "anchor": "x",
         "domain": [
          0.625,
          1
         ]
        },
        "yaxis2": {
         "anchor": "x2",
         "domain": [
          0.625,
          1
         ],
         "matches": "y",
         "showticklabels": false
        },
        "yaxis3": {
         "anchor": "x3",
         "domain": [
          0,
          0.375
         ]
        },
        "yaxis4": {
         "anchor": "x4",
         "domain": [
          0,
          0.375
         ],
         "matches": "y3",
         "showticklabels": false
        }
       }
      },
      "text/html": [
       "<div>                            <div id=\"2d6bac66-c655-4f8f-a3db-cc3a6cd492f5\" class=\"plotly-graph-div\" style=\"height:525px; width:100%;\"></div>            <script type=\"text/javascript\">                require([\"plotly\"], function(Plotly) {                    window.PLOTLYENV=window.PLOTLYENV || {};                                    if (document.getElementById(\"2d6bac66-c655-4f8f-a3db-cc3a6cd492f5\")) {                    Plotly.newPlot(                        \"2d6bac66-c655-4f8f-a3db-cc3a6cd492f5\",                        [{\"colorscale\": [[0.0, \"rgb(255,255,255)\"], [0.125, \"rgb(240,240,240)\"], [0.25, \"rgb(217,217,217)\"], [0.375, \"rgb(189,189,189)\"], [0.5, \"rgb(150,150,150)\"], [0.625, \"rgb(115,115,115)\"], [0.75, \"rgb(82,82,82)\"], [0.875, \"rgb(37,37,37)\"], [1.0, \"rgb(0,0,0)\"]], \"reversescale\": false, \"showscale\": false, \"type\": \"heatmap\", \"x\": [\"Negative\", \"Neither\", \"Positive\"], \"xaxis\": \"x\", \"y\": [\"Controllable\", \"Neither\", \"Uncontrollable\"], \"yaxis\": \"y\", \"z\": [[0.08, 0.05, 0.18], [0.1, 0.01, 0.08], [0.24, 0.02, 0.24]]}, {\"colorscale\": [[0.0, \"rgb(255,255,255)\"], [0.125, \"rgb(240,240,240)\"], [0.25, \"rgb(217,217,217)\"], [0.375, \"rgb(189,189,189)\"], [0.5, \"rgb(150,150,150)\"], [0.625, \"rgb(115,115,115)\"], [0.75, \"rgb(82,82,82)\"], [0.875, \"rgb(37,37,37)\"], [1.0, \"rgb(0,0,0)\"]], \"reversescale\": false, \"showscale\": false, \"type\": \"heatmap\", \"x\": [\"Negative\", \"Neither\", \"Positive\"], \"xaxis\": \"x2\", \"y\": [\"Controllable\", \"Neither\", \"Uncontrollable\"], \"yaxis\": \"y2\", \"z\": [[0.14, 0.06, 0.08], [0.14, 0.01, 0.06], [0.36, 0.03, 0.12]]}, {\"colorscale\": [[0.0, \"rgb(255,255,255)\"], [0.125, \"rgb(240,240,240)\"], [0.25, \"rgb(217,217,217)\"], [0.375, \"rgb(189,189,189)\"], [0.5, \"rgb(150,150,150)\"], [0.625, \"rgb(115,115,115)\"], [0.75, \"rgb(82,82,82)\"], [0.875, \"rgb(37,37,37)\"], [1.0, \"rgb(0,0,0)\"]], \"reversescale\": false, \"showscale\": false, \"type\": \"heatmap\", \"x\": [\"Negative\", \"Neither\", \"Positive\"], \"xaxis\": \"x3\", \"y\": [\"Controllable\", \"Neither\", \"Uncontrollable\"], \"yaxis\": \"y3\", \"z\": [[0.05, 0.04, 0.12], [0.09, 0.02, 0.07], [0.32, 0.03, 0.25]]}, {\"colorscale\": [[0.0, \"rgb(255,255,255)\"], [0.125, \"rgb(240,240,240)\"], [0.25, \"rgb(217,217,217)\"], [0.375, \"rgb(189,189,189)\"], [0.5, \"rgb(150,150,150)\"], [0.625, \"rgb(115,115,115)\"], [0.75, \"rgb(82,82,82)\"], [0.875, \"rgb(37,37,37)\"], [1.0, \"rgb(0,0,0)\"]], \"reversescale\": false, \"showscale\": false, \"type\": \"heatmap\", \"x\": [\"Negative\", \"Neither\", \"Positive\"], \"xaxis\": \"x4\", \"y\": [\"Controllable\", \"Neither\", \"Uncontrollable\"], \"yaxis\": \"y4\", \"z\": [[0.14, 0.01, 0.07], [0.14, 0.01, 0.03], [0.46, 0.03, 0.1]]}],                        {\"annotations\": [{\"font\": {\"size\": 16}, \"showarrow\": false, \"text\": \"Negative Absent\", \"x\": 0.225, \"xanchor\": \"center\", \"xref\": \"paper\", \"y\": 1.0, \"yanchor\": \"bottom\", \"yref\": \"paper\"}, {\"font\": {\"size\": 16}, \"showarrow\": false, \"text\": \"Negative Present\", \"x\": 0.775, \"xanchor\": \"center\", \"xref\": \"paper\", \"y\": 1.0, \"yanchor\": \"bottom\", \"yref\": \"paper\"}, {\"font\": {\"size\": 16}, \"showarrow\": false, \"text\": \"Positive Absent\", \"x\": 0.225, \"xanchor\": \"center\", \"xref\": \"paper\", \"y\": 0.375, \"yanchor\": \"bottom\", \"yref\": \"paper\"}, {\"font\": {\"size\": 16}, \"showarrow\": false, \"text\": \"Positive Present\", \"x\": 0.775, \"xanchor\": \"center\", \"xref\": \"paper\", \"y\": 0.375, \"yanchor\": \"bottom\", \"yref\": \"paper\"}, {\"font\": {\"size\": 16}, \"showarrow\": false, \"text\": \"Outcome Valence\", \"x\": 0.5, \"xanchor\": \"center\", \"xref\": \"paper\", \"y\": 0, \"yanchor\": \"top\", \"yref\": \"paper\", \"yshift\": -30}, {\"font\": {\"size\": 16}, \"showarrow\": false, \"text\": \"Outcome Controllability\", \"textangle\": -90, \"x\": 0, \"xanchor\": \"right\", \"xref\": \"paper\", \"xshift\": -40, \"y\": 0.5, \"yanchor\": \"middle\", \"yref\": \"paper\"}, {\"font\": {\"color\": \"#000000\"}, \"showarrow\": false, \"text\": \"0.08\", \"x\": \"Negative\", \"xref\": \"x\", \"y\": \"Controllable\", \"yref\": \"y\"}, {\"font\": {\"color\": \"#000000\"}, \"showarrow\": false, \"text\": \"0.05\", \"x\": \"Neither\", \"xref\": \"x\", \"y\": \"Controllable\", \"yref\": \"y\"}, {\"font\": {\"color\": \"#FFFFFF\"}, \"showarrow\": false, \"text\": \"0.18\", \"x\": \"Positive\", \"xref\": \"x\", \"y\": \"Controllable\", \"yref\": \"y\"}, {\"font\": {\"color\": \"#000000\"}, \"showarrow\": false, \"text\": \"0.1\", \"x\": \"Negative\", \"xref\": \"x\", \"y\": \"Neither\", \"yref\": \"y\"}, {\"font\": {\"color\": \"#000000\"}, \"showarrow\": false, \"text\": \"0.01\", \"x\": \"Neither\", \"xref\": \"x\", \"y\": \"Neither\", \"yref\": \"y\"}, {\"font\": {\"color\": \"#000000\"}, \"showarrow\": false, \"text\": \"0.08\", \"x\": \"Positive\", \"xref\": \"x\", \"y\": \"Neither\", \"yref\": \"y\"}, {\"font\": {\"color\": \"#FFFFFF\"}, \"showarrow\": false, \"text\": \"0.24\", \"x\": \"Negative\", \"xref\": \"x\", \"y\": \"Uncontrollable\", \"yref\": \"y\"}, {\"font\": {\"color\": \"#000000\"}, \"showarrow\": false, \"text\": \"0.02\", \"x\": \"Neither\", \"xref\": \"x\", \"y\": \"Uncontrollable\", \"yref\": \"y\"}, {\"font\": {\"color\": \"#FFFFFF\"}, \"showarrow\": false, \"text\": \"0.24\", \"x\": \"Positive\", \"xref\": \"x\", \"y\": \"Uncontrollable\", \"yref\": \"y\"}, {\"font\": {\"color\": \"#000000\"}, \"showarrow\": false, \"text\": \"0.14\", \"x\": \"Negative\", \"xref\": \"x2\", \"y\": \"Controllable\", \"yref\": \"y2\"}, {\"font\": {\"color\": \"#000000\"}, \"showarrow\": false, \"text\": \"0.06\", \"x\": \"Neither\", \"xref\": \"x2\", \"y\": \"Controllable\", \"yref\": \"y2\"}, {\"font\": {\"color\": \"#000000\"}, \"showarrow\": false, \"text\": \"0.08\", \"x\": \"Positive\", \"xref\": \"x2\", \"y\": \"Controllable\", \"yref\": \"y2\"}, {\"font\": {\"color\": \"#000000\"}, \"showarrow\": false, \"text\": \"0.14\", \"x\": \"Negative\", \"xref\": \"x2\", \"y\": \"Neither\", \"yref\": \"y2\"}, {\"font\": {\"color\": \"#000000\"}, \"showarrow\": false, \"text\": \"0.01\", \"x\": \"Neither\", \"xref\": \"x2\", \"y\": \"Neither\", \"yref\": \"y2\"}, {\"font\": {\"color\": \"#000000\"}, \"showarrow\": false, \"text\": \"0.06\", \"x\": \"Positive\", \"xref\": \"x2\", \"y\": \"Neither\", \"yref\": \"y2\"}, {\"font\": {\"color\": \"#FFFFFF\"}, \"showarrow\": false, \"text\": \"0.36\", \"x\": \"Negative\", \"xref\": \"x2\", \"y\": \"Uncontrollable\", \"yref\": \"y2\"}, {\"font\": {\"color\": \"#000000\"}, \"showarrow\": false, \"text\": \"0.03\", \"x\": \"Neither\", \"xref\": \"x2\", \"y\": \"Uncontrollable\", \"yref\": \"y2\"}, {\"font\": {\"color\": \"#000000\"}, \"showarrow\": false, \"text\": \"0.12\", \"x\": \"Positive\", \"xref\": \"x2\", \"y\": \"Uncontrollable\", \"yref\": \"y2\"}, {\"font\": {\"color\": \"#000000\"}, \"showarrow\": false, \"text\": \"0.05\", \"x\": \"Negative\", \"xref\": \"x3\", \"y\": \"Controllable\", \"yref\": \"y3\"}, {\"font\": {\"color\": \"#000000\"}, \"showarrow\": false, \"text\": \"0.04\", \"x\": \"Neither\", \"xref\": \"x3\", \"y\": \"Controllable\", \"yref\": \"y3\"}, {\"font\": {\"color\": \"#000000\"}, \"showarrow\": false, \"text\": \"0.12\", \"x\": \"Positive\", \"xref\": \"x3\", \"y\": \"Controllable\", \"yref\": \"y3\"}, {\"font\": {\"color\": \"#000000\"}, \"showarrow\": false, \"text\": \"0.09\", \"x\": \"Negative\", \"xref\": \"x3\", \"y\": \"Neither\", \"yref\": \"y3\"}, {\"font\": {\"color\": \"#000000\"}, \"showarrow\": false, \"text\": \"0.02\", \"x\": \"Neither\", \"xref\": \"x3\", \"y\": \"Neither\", \"yref\": \"y3\"}, {\"font\": {\"color\": \"#000000\"}, \"showarrow\": false, \"text\": \"0.07\", \"x\": \"Positive\", \"xref\": \"x3\", \"y\": \"Neither\", \"yref\": \"y3\"}, {\"font\": {\"color\": \"#FFFFFF\"}, \"showarrow\": false, \"text\": \"0.32\", \"x\": \"Negative\", \"xref\": \"x3\", \"y\": \"Uncontrollable\", \"yref\": \"y3\"}, {\"font\": {\"color\": \"#000000\"}, \"showarrow\": false, \"text\": \"0.03\", \"x\": \"Neither\", \"xref\": \"x3\", \"y\": \"Uncontrollable\", \"yref\": \"y3\"}, {\"font\": {\"color\": \"#FFFFFF\"}, \"showarrow\": false, \"text\": \"0.25\", \"x\": \"Positive\", \"xref\": \"x3\", \"y\": \"Uncontrollable\", \"yref\": \"y3\"}, {\"font\": {\"color\": \"#000000\"}, \"showarrow\": false, \"text\": \"0.14\", \"x\": \"Negative\", \"xref\": \"x4\", \"y\": \"Controllable\", \"yref\": \"y4\"}, {\"font\": {\"color\": \"#000000\"}, \"showarrow\": false, \"text\": \"0.01\", \"x\": \"Neither\", \"xref\": \"x4\", \"y\": \"Controllable\", \"yref\": \"y4\"}, {\"font\": {\"color\": \"#000000\"}, \"showarrow\": false, \"text\": \"0.07\", \"x\": \"Positive\", \"xref\": \"x4\", \"y\": \"Controllable\", \"yref\": \"y4\"}, {\"font\": {\"color\": \"#000000\"}, \"showarrow\": false, \"text\": \"0.14\", \"x\": \"Negative\", \"xref\": \"x4\", \"y\": \"Neither\", \"yref\": \"y4\"}, {\"font\": {\"color\": \"#000000\"}, \"showarrow\": false, \"text\": \"0.01\", \"x\": \"Neither\", \"xref\": \"x4\", \"y\": \"Neither\", \"yref\": \"y4\"}, {\"font\": {\"color\": \"#000000\"}, \"showarrow\": false, \"text\": \"0.03\", \"x\": \"Positive\", \"xref\": \"x4\", \"y\": \"Neither\", \"yref\": \"y4\"}, {\"font\": {\"color\": \"#FFFFFF\"}, \"showarrow\": false, \"text\": \"0.46\", \"x\": \"Negative\", \"xref\": \"x4\", \"y\": \"Uncontrollable\", \"yref\": \"y4\"}, {\"font\": {\"color\": \"#000000\"}, \"showarrow\": false, \"text\": \"0.03\", \"x\": \"Neither\", \"xref\": \"x4\", \"y\": \"Uncontrollable\", \"yref\": \"y4\"}, {\"font\": {\"color\": \"#000000\"}, \"showarrow\": false, \"text\": \"0.1\", \"x\": \"Positive\", \"xref\": \"x4\", \"y\": \"Uncontrollable\", \"yref\": \"y4\"}], \"template\": {\"data\": {\"bar\": [{\"error_x\": {\"color\": \"#2a3f5f\"}, \"error_y\": {\"color\": \"#2a3f5f\"}, \"marker\": {\"line\": {\"color\": \"#E5ECF6\", \"width\": 0.5}}, \"type\": \"bar\"}], \"barpolar\": [{\"marker\": {\"line\": {\"color\": \"#E5ECF6\", \"width\": 0.5}}, \"type\": \"barpolar\"}], \"carpet\": [{\"aaxis\": {\"endlinecolor\": \"#2a3f5f\", \"gridcolor\": \"white\", \"linecolor\": \"white\", \"minorgridcolor\": \"white\", \"startlinecolor\": \"#2a3f5f\"}, \"baxis\": {\"endlinecolor\": \"#2a3f5f\", \"gridcolor\": \"white\", \"linecolor\": \"white\", \"minorgridcolor\": \"white\", \"startlinecolor\": \"#2a3f5f\"}, \"type\": \"carpet\"}], \"choropleth\": [{\"colorbar\": {\"outlinewidth\": 0, \"ticks\": \"\"}, \"type\": \"choropleth\"}], \"contour\": [{\"colorbar\": {\"outlinewidth\": 0, \"ticks\": \"\"}, \"colorscale\": [[0.0, \"#0d0887\"], [0.1111111111111111, \"#46039f\"], [0.2222222222222222, \"#7201a8\"], [0.3333333333333333, \"#9c179e\"], [0.4444444444444444, \"#bd3786\"], [0.5555555555555556, \"#d8576b\"], [0.6666666666666666, \"#ed7953\"], [0.7777777777777778, \"#fb9f3a\"], [0.8888888888888888, \"#fdca26\"], [1.0, \"#f0f921\"]], \"type\": \"contour\"}], \"contourcarpet\": [{\"colorbar\": {\"outlinewidth\": 0, \"ticks\": \"\"}, \"type\": \"contourcarpet\"}], \"heatmap\": [{\"colorbar\": {\"outlinewidth\": 0, \"ticks\": \"\"}, \"colorscale\": [[0.0, \"#0d0887\"], [0.1111111111111111, \"#46039f\"], [0.2222222222222222, \"#7201a8\"], [0.3333333333333333, \"#9c179e\"], [0.4444444444444444, \"#bd3786\"], [0.5555555555555556, \"#d8576b\"], [0.6666666666666666, \"#ed7953\"], [0.7777777777777778, \"#fb9f3a\"], [0.8888888888888888, \"#fdca26\"], [1.0, \"#f0f921\"]], \"type\": \"heatmap\"}], \"heatmapgl\": [{\"colorbar\": {\"outlinewidth\": 0, \"ticks\": \"\"}, \"colorscale\": [[0.0, \"#0d0887\"], [0.1111111111111111, \"#46039f\"], [0.2222222222222222, \"#7201a8\"], [0.3333333333333333, \"#9c179e\"], [0.4444444444444444, \"#bd3786\"], [0.5555555555555556, \"#d8576b\"], [0.6666666666666666, \"#ed7953\"], [0.7777777777777778, \"#fb9f3a\"], [0.8888888888888888, \"#fdca26\"], [1.0, \"#f0f921\"]], \"type\": \"heatmapgl\"}], \"histogram\": [{\"marker\": {\"colorbar\": {\"outlinewidth\": 0, \"ticks\": \"\"}}, \"type\": \"histogram\"}], \"histogram2d\": [{\"colorbar\": {\"outlinewidth\": 0, \"ticks\": \"\"}, \"colorscale\": [[0.0, \"#0d0887\"], [0.1111111111111111, \"#46039f\"], [0.2222222222222222, \"#7201a8\"], [0.3333333333333333, \"#9c179e\"], [0.4444444444444444, \"#bd3786\"], [0.5555555555555556, \"#d8576b\"], [0.6666666666666666, \"#ed7953\"], [0.7777777777777778, \"#fb9f3a\"], [0.8888888888888888, \"#fdca26\"], [1.0, \"#f0f921\"]], \"type\": \"histogram2d\"}], \"histogram2dcontour\": [{\"colorbar\": {\"outlinewidth\": 0, \"ticks\": \"\"}, \"colorscale\": [[0.0, \"#0d0887\"], [0.1111111111111111, \"#46039f\"], [0.2222222222222222, \"#7201a8\"], [0.3333333333333333, \"#9c179e\"], [0.4444444444444444, \"#bd3786\"], [0.5555555555555556, \"#d8576b\"], [0.6666666666666666, \"#ed7953\"], [0.7777777777777778, \"#fb9f3a\"], [0.8888888888888888, \"#fdca26\"], [1.0, \"#f0f921\"]], \"type\": \"histogram2dcontour\"}], \"mesh3d\": [{\"colorbar\": {\"outlinewidth\": 0, \"ticks\": \"\"}, \"type\": \"mesh3d\"}], \"parcoords\": [{\"line\": {\"colorbar\": {\"outlinewidth\": 0, \"ticks\": \"\"}}, \"type\": \"parcoords\"}], \"pie\": [{\"automargin\": true, \"type\": \"pie\"}], \"scatter\": [{\"marker\": {\"colorbar\": {\"outlinewidth\": 0, \"ticks\": \"\"}}, \"type\": \"scatter\"}], \"scatter3d\": [{\"line\": {\"colorbar\": {\"outlinewidth\": 0, \"ticks\": \"\"}}, \"marker\": {\"colorbar\": {\"outlinewidth\": 0, \"ticks\": \"\"}}, \"type\": \"scatter3d\"}], \"scattercarpet\": [{\"marker\": {\"colorbar\": {\"outlinewidth\": 0, \"ticks\": \"\"}}, \"type\": \"scattercarpet\"}], \"scattergeo\": [{\"marker\": {\"colorbar\": {\"outlinewidth\": 0, \"ticks\": \"\"}}, \"type\": \"scattergeo\"}], \"scattergl\": [{\"marker\": {\"colorbar\": {\"outlinewidth\": 0, \"ticks\": \"\"}}, \"type\": \"scattergl\"}], \"scattermapbox\": [{\"marker\": {\"colorbar\": {\"outlinewidth\": 0, \"ticks\": \"\"}}, \"type\": \"scattermapbox\"}], \"scatterpolar\": [{\"marker\": {\"colorbar\": {\"outlinewidth\": 0, \"ticks\": \"\"}}, \"type\": \"scatterpolar\"}], \"scatterpolargl\": [{\"marker\": {\"colorbar\": {\"outlinewidth\": 0, \"ticks\": \"\"}}, \"type\": \"scatterpolargl\"}], \"scatterternary\": [{\"marker\": {\"colorbar\": {\"outlinewidth\": 0, \"ticks\": \"\"}}, \"type\": \"scatterternary\"}], \"surface\": [{\"colorbar\": {\"outlinewidth\": 0, \"ticks\": \"\"}, \"colorscale\": [[0.0, \"#0d0887\"], [0.1111111111111111, \"#46039f\"], [0.2222222222222222, \"#7201a8\"], [0.3333333333333333, \"#9c179e\"], [0.4444444444444444, \"#bd3786\"], [0.5555555555555556, \"#d8576b\"], [0.6666666666666666, \"#ed7953\"], [0.7777777777777778, \"#fb9f3a\"], [0.8888888888888888, \"#fdca26\"], [1.0, \"#f0f921\"]], \"type\": \"surface\"}], \"table\": [{\"cells\": {\"fill\": {\"color\": \"#EBF0F8\"}, \"line\": {\"color\": \"white\"}}, \"header\": {\"fill\": {\"color\": \"#C8D4E3\"}, \"line\": {\"color\": \"white\"}}, \"type\": \"table\"}]}, \"layout\": {\"annotationdefaults\": {\"arrowcolor\": \"#2a3f5f\", \"arrowhead\": 0, \"arrowwidth\": 1}, \"autotypenumbers\": \"strict\", \"coloraxis\": {\"colorbar\": {\"outlinewidth\": 0, \"ticks\": \"\"}}, \"colorscale\": {\"diverging\": [[0, \"#8e0152\"], [0.1, \"#c51b7d\"], [0.2, \"#de77ae\"], [0.3, \"#f1b6da\"], [0.4, \"#fde0ef\"], [0.5, \"#f7f7f7\"], [0.6, \"#e6f5d0\"], [0.7, \"#b8e186\"], [0.8, \"#7fbc41\"], [0.9, \"#4d9221\"], [1, \"#276419\"]], \"sequential\": [[0.0, \"#0d0887\"], [0.1111111111111111, \"#46039f\"], [0.2222222222222222, \"#7201a8\"], [0.3333333333333333, \"#9c179e\"], [0.4444444444444444, \"#bd3786\"], [0.5555555555555556, \"#d8576b\"], [0.6666666666666666, \"#ed7953\"], [0.7777777777777778, \"#fb9f3a\"], [0.8888888888888888, \"#fdca26\"], [1.0, \"#f0f921\"]], \"sequentialminus\": [[0.0, \"#0d0887\"], [0.1111111111111111, \"#46039f\"], [0.2222222222222222, \"#7201a8\"], [0.3333333333333333, \"#9c179e\"], [0.4444444444444444, \"#bd3786\"], [0.5555555555555556, \"#d8576b\"], [0.6666666666666666, \"#ed7953\"], [0.7777777777777778, \"#fb9f3a\"], [0.8888888888888888, \"#fdca26\"], [1.0, \"#f0f921\"]]}, \"colorway\": [\"#636efa\", \"#EF553B\", \"#00cc96\", \"#ab63fa\", \"#FFA15A\", \"#19d3f3\", \"#FF6692\", \"#B6E880\", \"#FF97FF\", \"#FECB52\"], \"font\": {\"color\": \"#2a3f5f\"}, \"geo\": {\"bgcolor\": \"white\", \"lakecolor\": \"white\", \"landcolor\": \"#E5ECF6\", \"showlakes\": true, \"showland\": true, \"subunitcolor\": \"white\"}, \"hoverlabel\": {\"align\": \"left\"}, \"hovermode\": \"closest\", \"mapbox\": {\"style\": \"light\"}, \"paper_bgcolor\": \"white\", \"plot_bgcolor\": \"#E5ECF6\", \"polar\": {\"angularaxis\": {\"gridcolor\": \"white\", \"linecolor\": \"white\", \"ticks\": \"\"}, \"bgcolor\": \"#E5ECF6\", \"radialaxis\": {\"gridcolor\": \"white\", \"linecolor\": \"white\", \"ticks\": \"\"}}, \"scene\": {\"xaxis\": {\"backgroundcolor\": \"#E5ECF6\", \"gridcolor\": \"white\", \"gridwidth\": 2, \"linecolor\": \"white\", \"showbackground\": true, \"ticks\": \"\", \"zerolinecolor\": \"white\"}, \"yaxis\": {\"backgroundcolor\": \"#E5ECF6\", \"gridcolor\": \"white\", \"gridwidth\": 2, \"linecolor\": \"white\", \"showbackground\": true, \"ticks\": \"\", \"zerolinecolor\": \"white\"}, \"zaxis\": {\"backgroundcolor\": \"#E5ECF6\", \"gridcolor\": \"white\", \"gridwidth\": 2, \"linecolor\": \"white\", \"showbackground\": true, \"ticks\": \"\", \"zerolinecolor\": \"white\"}}, \"shapedefaults\": {\"line\": {\"color\": \"#2a3f5f\"}}, \"ternary\": {\"aaxis\": {\"gridcolor\": \"white\", \"linecolor\": \"white\", \"ticks\": \"\"}, \"baxis\": {\"gridcolor\": \"white\", \"linecolor\": \"white\", \"ticks\": \"\"}, \"bgcolor\": \"#E5ECF6\", \"caxis\": {\"gridcolor\": \"white\", \"linecolor\": \"white\", \"ticks\": \"\"}}, \"title\": {\"x\": 0.05}, \"xaxis\": {\"automargin\": true, \"gridcolor\": \"white\", \"linecolor\": \"white\", \"ticks\": \"\", \"title\": {\"standoff\": 15}, \"zerolinecolor\": \"white\", \"zerolinewidth\": 2}, \"yaxis\": {\"automargin\": true, \"gridcolor\": \"white\", \"linecolor\": \"white\", \"ticks\": \"\", \"title\": {\"standoff\": 15}, \"zerolinecolor\": \"white\", \"zerolinewidth\": 2}}}, \"xaxis\": {\"anchor\": \"y\", \"domain\": [0.0, 0.45], \"matches\": \"x3\", \"showticklabels\": false}, \"xaxis2\": {\"anchor\": \"y2\", \"domain\": [0.55, 1.0], \"matches\": \"x4\", \"showticklabels\": false}, \"xaxis3\": {\"anchor\": \"y3\", \"domain\": [0.0, 0.45]}, \"xaxis4\": {\"anchor\": \"y4\", \"domain\": [0.55, 1.0]}, \"yaxis\": {\"anchor\": \"x\", \"domain\": [0.625, 1.0]}, \"yaxis2\": {\"anchor\": \"x2\", \"domain\": [0.625, 1.0], \"matches\": \"y\", \"showticklabels\": false}, \"yaxis3\": {\"anchor\": \"x3\", \"domain\": [0.0, 0.375]}, \"yaxis4\": {\"anchor\": \"x4\", \"domain\": [0.0, 0.375], \"matches\": \"y3\", \"showticklabels\": false}},                        {\"responsive\": true}                    ).then(function(){\n",
       "                            \n",
       "var gd = document.getElementById('2d6bac66-c655-4f8f-a3db-cc3a6cd492f5');\n",
       "var x = new MutationObserver(function (mutations, observer) {{\n",
       "        var display = window.getComputedStyle(gd).display;\n",
       "        if (!display || display === 'none') {{\n",
       "            console.log([gd, 'removed!']);\n",
       "            Plotly.purge(gd);\n",
       "            observer.disconnect();\n",
       "        }}\n",
       "}});\n",
       "\n",
       "// Listen for the removal of the full notebook cells\n",
       "var notebookContainer = gd.closest('#notebook-container');\n",
       "if (notebookContainer) {{\n",
       "    x.observe(notebookContainer, {childList: true});\n",
       "}}\n",
       "\n",
       "// Listen for the clearing of the current output cell\n",
       "var outputEl = gd.closest('.output');\n",
       "if (outputEl) {{\n",
       "    x.observe(outputEl, {childList: true});\n",
       "}}\n",
       "\n",
       "                        })                };                });            </script>        </div>"
      ]
     },
     "metadata": {},
     "output_type": "display_data"
    },
    {
     "name": "stderr",
     "output_type": "stream",
     "text": [
      "Could not generate 3_output//control_report/_kallysto/figs/4_Experiment1_Analysis.ipynb//RatingsByConditionHeatmap.pdf. Missing savefig.\n"
     ]
    }
   ],
   "source": [
    "## MAKE THE SUBPLOTS ##\n",
    "import plotly.figure_factory as ff\n",
    "\n",
    "x = ['Negative', 'Neither', 'Positive']\n",
    "y = ['Controllable', 'Neither', 'Uncontrollable']\n",
    "\n",
    "annot_list = []\n",
    "zipped_cond_pairs = list(zip(\n",
    "    ['negative','negative','positive','positive'],\n",
    "    ['absent','present','absent','present']\n",
    "))\n",
    "\n",
    "subplot_titles_list =[str(' '.join(i)).title() for i in zipped_cond_pairs]\n",
    "\n",
    "fig = make_subplots(rows=2, cols=2, \n",
    "                    shared_xaxes=True, shared_yaxes=True,\n",
    "                    x_title='Outcome Valence',\n",
    "                    y_title='Outcome Controllability',\n",
    "                    subplot_titles=[str(' '.join(i)).title() for i in zipped_cond_pairs]\n",
    "                   )\n",
    "\n",
    "idx = 0\n",
    "n_cols = 2\n",
    "\n",
    "for val, means in zipped_cond_pairs:\n",
    "    z = np.round(pd.crosstab(master_data[(master_data['valence_condition']==val) & \n",
    "                    (master_data['means_condition']==means)\n",
    "                   ]['control_code'],\n",
    "                    master_data[(master_data['valence_condition']==val) & \n",
    "                    (master_data['means_condition']==means)\n",
    "                   ]['val_code'], \n",
    "                    normalize='all').values, 2)\n",
    "    \n",
    "    ratings_by_condition_pair_fig = ff.create_annotated_heatmap(\n",
    "        z, x=x, y=y, \n",
    "        colorscale='Greys', \n",
    "        xaxis=f'x{idx+1}', yaxis=f'y{idx+1}',\n",
    "        \n",
    "    )\n",
    "    \n",
    "    for annot in list(ratings_by_condition_pair_fig.layout.annotations):\n",
    "        annot.update({'xref': f'x{idx+1}', 'yref': f'y{idx+1}'})\n",
    "    annot_list.extend(list(ratings_by_condition_pair_fig.layout.annotations))\n",
    "    \n",
    "    \n",
    "    \n",
    "    ratings_by_condition_pair_fig.layout.update(\n",
    "        {\n",
    "         f'xaxis{idx+1}':{'anchor':f'x{idx+1}'},\n",
    "         f'yaxis{idx+1}':{'anchor':f'y{idx+1}'},\n",
    "        \n",
    "        }\n",
    "    )\n",
    "    \n",
    "#     print(ratings_by_condition_pair_fig.layout)\n",
    "## MAKE THE MAIN PLOT ##    \n",
    "    fig.add_trace(ratings_by_condition_pair_fig.data[0], row=idx//n_cols+1, col=idx%n_cols+1,\n",
    "                 )\n",
    "    \n",
    "    idx += 1\n",
    "    \n",
    "\n",
    "    \n",
    "## GET the CHI-SQUARE STATS ##\n",
    "    print(val, means)\n",
    "    chi_dvs = pd.crosstab(master_data[(master_data['valence_condition']==val) & \n",
    "                    (master_data['means_condition']==means)\n",
    "                   ]['control_code'],\n",
    "                    master_data[(master_data['valence_condition']==val) & \n",
    "                    (master_data['means_condition']==means)\n",
    "                   ]['val_code'])\n",
    "    \n",
    "    print(tabulate(chi_dvs, headers=\"keys\", tablefmt='fancy_grid'))\n",
    "    obs = np.array([chi_dvs.loc[('controllable')], chi_dvs.loc[('neither_control')], chi_dvs.loc[('uncontrollable')]])\n",
    "    pvalue, williams_chi, williams_pvalue, williams_deffre, effect_size = print_chi(obs)\n",
    "       \n",
    "\n",
    "## SAVE THE STATS TO KALLYSTO ##    \n",
    "#save the william's chi info\n",
    "    if williams_pvalue < 0.001:\n",
    "        p = \"p < .001\"\n",
    "    else:\n",
    "        p = f\"p = {williams_pvalue:.3f}\"\n",
    "\n",
    "    export_value_chi_apa(str(val.title() + means.title() + \"ValenceOutcomeByControlOutcomeChi\"), \n",
    "                         williams_chi, \n",
    "                         williams_deffre, \n",
    "                         N = sum(sum(obs)), \n",
    "                         p = p, \n",
    "                         v = \"{:.3f}\".format(effect_size))\n",
    "\n",
    "\n",
    "## ADD THE CORRECT ANNOTATIONS AND SHOW THE MAIN PLOT ##    \n",
    "for anno in annot_list:\n",
    "    fig.add_annotation(anno)\n",
    "\n",
    "fig.show()\n",
    "\n",
    "## SAVE THE FIGURE TO KALLYSTO ##    \n",
    "savefig = Export.figure('RatingsByConditionHeatmap',  # Export name\n",
    "    image=fig,             # The plot to be exported\n",
    "    data=pd.crosstab(master_data['control_code'],\n",
    "                    master_data['val_code'], \n",
    "                    normalize='all'),     # The data used to produce the plot.\n",
    "    text_width=1, #fig width relative to textwidth=1\n",
    "    caption='Crosstabs of outcome controllability and valence ratings by condition.'\n",
    ") \n",
    "\n",
    "savefig > latex_report;"
   ]
  },
  {
   "cell_type": "code",
   "execution_count": null,
   "id": "477630db",
   "metadata": {},
   "outputs": [],
   "source": []
  }
 ],
 "metadata": {
  "kernelspec": {
   "display_name": "Python 3",
   "language": "python",
   "name": "python3"
  },
  "language_info": {
   "codemirror_mode": {
    "name": "ipython",
    "version": 3
   },
   "file_extension": ".py",
   "mimetype": "text/x-python",
   "name": "python",
   "nbconvert_exporter": "python",
   "pygments_lexer": "ipython3",
   "version": "3.6.8"
  },
  "toc": {
   "base_numbering": 1,
   "nav_menu": {},
   "number_sections": true,
   "sideBar": true,
   "skip_h1_title": false,
   "title_cell": "Table of Contents",
   "title_sidebar": "Contents",
   "toc_cell": false,
   "toc_position": {
    "height": "calc(100% - 180px)",
    "left": "10px",
    "top": "150px",
    "width": "256px"
   },
   "toc_section_display": true,
   "toc_window_display": true
  }
 },
 "nbformat": 4,
 "nbformat_minor": 5
}
