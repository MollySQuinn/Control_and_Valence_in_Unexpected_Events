{
 "cells": [
  {
   "cell_type": "code",
   "execution_count": 1,
   "metadata": {},
   "outputs": [],
   "source": [
    "print('Choose whether to display code or not.')\n",
    "from IPython.display import HTML\n",
    "\n",
    "HTML('''<script>\n",
    "code_show=true; \n",
    "function code_toggle() {\n",
    " if (code_show){\n",
    " $('div.input').show();\n",
    " } else {\n",
    " $('div.input').hide();\n",
    " }\n",
    " code_show = !code_show\n",
    "} \n",
    "$( document ).ready(code_toggle);\n",
    "</script>\n",
    "<form action=\"javascript:code_toggle()\"><input type=\"submit\" value=\"Show Code?\"></form>''')"
   ]
  },
  {
   "cell_type": "code",
   "execution_count": 2,
   "metadata": {},
   "outputs": [],
   "source": [
    "#import packages\n",
    "#load packages\n",
    "import os\n",
    "from tabulate import tabulate  # Used to display text-based tables.\n",
    "import pandas as pd\n",
    "import numpy as np\n",
    "import math\n",
    "from matplotlib.pylab import plt\n",
    "from scipy.stats import chi2\n",
    "from scipy.stats import chi2_contingency\n",
    "import scipy.stats as stats\n",
    "from sklearn.linear_model import LogisticRegression\n",
    "from statsmodels.discrete.discrete_model import MNLogit\n",
    "from sklearn import metrics\n",
    "import statsmodels.api as sm\n",
    "from tabulate import tabulate\n",
    "import plotly.graph_objects as go\n",
    "from plotly.subplots import make_subplots\n",
    "\n",
    "# The important Kallysto imports.\n",
    "from kallysto.publication import Publication\n",
    "from kallysto.export import Export\n",
    "from kallysto.formatter import Latex, Markdown\n",
    "import kallysto.markdown\n",
    "\n",
    "#williams correction from same folder\n",
    "from williams_correction import williams_correction"
   ]
  },
  {
   "cell_type": "code",
   "execution_count": 3,
   "metadata": {},
   "outputs": [
    {
     "data": {
      "text/plain": [
       "'/Users/mollyq/Documents/GitHub/Control_and_Valence_in_Unexpected_Events'"
      ]
     },
     "execution_count": 3,
     "metadata": {},
     "output_type": "execute_result"
    }
   ],
   "source": [
    "#set working directory to top level project folder\n",
    "os.chdir(\"..\")\n",
    "os.getcwd()"
   ]
  },
  {
   "cell_type": "markdown",
   "metadata": {},
   "source": [
    "# Pilot Test Design"
   ]
  },
  {
   "cell_type": "markdown",
   "metadata": {},
   "source": [
    "In which we run 20 participants on 4 material sets of 8 materials each in such a way:"
   ]
  },
  {
   "cell_type": "code",
   "execution_count": 4,
   "metadata": {},
   "outputs": [
    {
     "name": "stdout",
     "output_type": "stream",
     "text": [
      "                                         Pilot Test Methods                                         \n",
      "\n",
      "Latin Square Design: 8 Materials x 2 Control (Present/Absent) x 2 Valence (Positive/Negative)\n",
      "The 8 materials are divided into four subsets of 2 materials each deliberately chosen to divide\n",
      "materials with similar themes such as shopping or travelling equally into each subset.\n",
      "╒════╤══════════════╤══════════════════╤═════════════════╤═════════════╕\n",
      "│    │ Subset 1     │ Subset 2         │ Subset 3        │ Subset 4    │\n",
      "╞════╪══════════════╪══════════════════╪═════════════════╪═════════════╡\n",
      "│  0 │ bill_holiday │ rebecca_swimming │ lucy_loan       │ sean_call   │\n",
      "├────┼──────────────┼──────────────────┼─────────────────┼─────────────┤\n",
      "│  1 │ john_party   │ sally_wine       │ belinda_meeting │ michael_tea │\n",
      "╘════╧══════════════╧══════════════════╧═════════════════╧═════════════╛\n",
      "\n",
      "The material subsets were then assigned to four different condition combinations by Control (Means \n",
      "Present, Absent) and by Valence (Positive/Negative).\n",
      "Four material sets will be created. Each material set will be presented to a separate group of 5 participants.\n",
      "No participant will see a material in more than one condition. Materials will be presented in a random order.\n"
     ]
    }
   ],
   "source": [
    "pilot_material_subsets = pd.DataFrame.from_dict(\n",
    "    {'Subset 1': {0: 'bill_holiday', 1: 'john_party'},\n",
    "     \n",
    "     'Subset 2': {0: 'rebecca_swimming', 1: 'sally_wine'},\n",
    "     \n",
    "     'Subset 3': {0: 'lucy_loan', 1: 'belinda_meeting'},\n",
    "     \n",
    "     'Subset 4': {0: 'sean_call', 1: 'michael_tea'}\n",
    "    }\n",
    ")\n",
    "\n",
    "#Print for report.\n",
    "string = \"Pilot Test Methods\"\n",
    "print(string.center(100))\n",
    "print()\n",
    "print(\"\"\"Latin Square Design: 8 Materials x 2 Control (Present/Absent) x 2 Valence (Positive/Negative)\"\"\")\n",
    "print(\"\"\"The 8 materials are divided into four subsets of 2 materials each deliberately chosen to divide\n",
    "materials with similar themes such as shopping or travelling equally into each subset.\"\"\")\n",
    "print(tabulate(pilot_material_subsets, headers=\"keys\", tablefmt='fancy_grid'))\n",
    "print()\n",
    "print(\"\"\"The material subsets were then assigned to four different condition combinations by Control (Means \n",
    "Present, Absent) and by Valence (Positive/Negative).\"\"\")\n",
    "# print(tabulate(condition_assignments, headers=\"keys\", tablefmt='fancy_grid'))\n",
    "# print()\n",
    "print(\"\"\"Four material sets will be created. Each material set will be presented to a separate group of 5 participants.\n",
    "No participant will see a material in more than one condition. Materials will be presented in a random order.\"\"\")\n"
   ]
  },
  {
   "cell_type": "markdown",
   "metadata": {},
   "source": [
    "# Pilot Test Survey Data to Ratings Files"
   ]
  },
  {
   "cell_type": "markdown",
   "metadata": {},
   "source": [
    "## load in data and reformat"
   ]
  },
  {
   "cell_type": "code",
   "execution_count": 5,
   "metadata": {},
   "outputs": [
    {
     "name": "stdout",
     "output_type": "stream",
     "text": [
      "['20200630085751-SurveyExport.csv', '.DS_Store', 'explanation.txt', '20200629094753-SurveyExport.csv', '20200629070746-SurveyExport.csv', '20200630064835-SurveyExport.csv']\n"
     ]
    }
   ],
   "source": [
    "# read in the files with the material sets defined by the latin squares above\n",
    "pilot_test_path = '0_data/2_pilot_test_data/1_annotated_data/'\n",
    "\n",
    "#Documents/Studies/Expt4_Controllability/Data/pre_test_data\n",
    "list_of_data_files = os.listdir(pilot_test_path)\n",
    "\n",
    "#check\n",
    "print(list_of_data_files)\n"
   ]
  },
  {
   "cell_type": "code",
   "execution_count": 6,
   "metadata": {},
   "outputs": [
    {
     "name": "stdout",
     "output_type": "stream",
     "text": [
      "This is not a .csv file and will be discarded:  .DS_Store\n",
      "This is not a .csv file and will be discarded:  explanation.txt\n"
     ]
    }
   ],
   "source": [
    "#select only .csv files\n",
    "csv_list = [] #to keep file names\n",
    "dict_of_files = {} #to keep dataframes\n",
    "\n",
    "for filename in list_of_data_files:\n",
    "    \n",
    "    #filter out the non-csvs at this step\n",
    "    if filename.endswith(\".csv\"):\n",
    "        #save csv filenames to add in data later\n",
    "        csv_list.append(filename)\n",
    "        #read in csvs as pandas DataFrames\n",
    "        dict_of_files[filename] = pd.read_csv(pilot_test_path + filename)\n",
    "    else:\n",
    "        print(\"This is not a .csv file and will be discarded: \", filename)"
   ]
  },
  {
   "cell_type": "code",
   "execution_count": 7,
   "metadata": {},
   "outputs": [],
   "source": [
    "#dict_of_files['20200630085751-SurveyExport.csv']"
   ]
  },
  {
   "cell_type": "code",
   "execution_count": 8,
   "metadata": {},
   "outputs": [],
   "source": [
    "#dict_of_files['20200630085751-SurveyExport.csv'].columns"
   ]
  },
  {
   "cell_type": "code",
   "execution_count": 9,
   "metadata": {},
   "outputs": [],
   "source": [
    "for dataframe in dict_of_files:\n",
    "    dict_of_files[dataframe] = dict_of_files[dataframe].melt(\n",
    "                 id_vars = ['cond', 'Response ID', 'Time Started', 'Date Submitted', 'Status',\n",
    "                           'Contact ID', 'Legacy Comments', 'Comments', 'Language', 'Referer', 'user_id','reject'\n",
    "                           ]\n",
    "                )"
   ]
  },
  {
   "cell_type": "code",
   "execution_count": 10,
   "metadata": {},
   "outputs": [],
   "source": [
    "#dict_of_files['20200630085751-SurveyExport.csv']"
   ]
  },
  {
   "cell_type": "code",
   "execution_count": 11,
   "metadata": {},
   "outputs": [],
   "source": [
    "for dataframe in dict_of_files:\n",
    "    new = dict_of_files[dataframe]['variable'].str.split(\".\", expand = True) \n",
    "    # making separate first name column from new data frame \n",
    "    dict_of_files[dataframe][\"material\"]= new[0] \n",
    "\n",
    "    # making separate last name column from new data frame \n",
    "    dict_of_files[dataframe][\"variable_condition\"]= new[1] \n"
   ]
  },
  {
   "cell_type": "code",
   "execution_count": 12,
   "metadata": {},
   "outputs": [],
   "source": [
    "#dict_of_files['20200630085751-SurveyExport.csv']"
   ]
  },
  {
   "cell_type": "code",
   "execution_count": 13,
   "metadata": {},
   "outputs": [],
   "source": [
    "# read in the files with the material sets defined by the latin squares above\n",
    "material_sets_path = '0_data/0_material_sets/pilot_test_material_sets/'\n",
    "\n",
    "#Documents/Studies/Expt4_Controllability/Data/pre_test_data\n",
    "list_of_materials_files = os.listdir(material_sets_path)"
   ]
  },
  {
   "cell_type": "code",
   "execution_count": 14,
   "metadata": {},
   "outputs": [
    {
     "name": "stdout",
     "output_type": "stream",
     "text": [
      "This is not a .csv file and will be discarded:  material_set_4.xlsx\n",
      "This is not a .csv file and will be discarded:  .DS_Store\n",
      "This is not a .csv file and will be discarded:  material_set_3.xlsx\n",
      "This is not a .csv file and will be discarded:  material_set_2.xlsx\n",
      "This is not a .csv file and will be discarded:  material_set_1.xlsx\n"
     ]
    }
   ],
   "source": [
    "csv_list_materials = [] #to keep file names\n",
    "dict_of_materials_files = {} #to keep dataframes\n",
    "\n",
    "for filename in list_of_materials_files:\n",
    "    \n",
    "    #filter out the non-csvs at this step\n",
    "    if filename.endswith(\".csv\"):\n",
    "        #save csv filenames to add in data later\n",
    "        csv_list_materials.append(filename)\n",
    "        #read in csvs as pandas DataFrames\n",
    "        dict_of_materials_files[filename] = pd.read_csv(material_sets_path + filename)\n",
    "    else:\n",
    "        print(\"This is not a .csv file and will be discarded: \", filename)"
   ]
  },
  {
   "cell_type": "code",
   "execution_count": 15,
   "metadata": {},
   "outputs": [],
   "source": [
    "materials_info = pd.concat(dict_of_materials_files.values(), axis = 0, ignore_index=True, sort = False)\n",
    "#materials_info"
   ]
  },
  {
   "cell_type": "code",
   "execution_count": 16,
   "metadata": {},
   "outputs": [],
   "source": [
    "for dataframe in dict_of_files:\n",
    "    for material_file in dict_of_materials_files:\n",
    "        material_LG = material_file.split('_')\n",
    "        if dict_of_files[dataframe]['cond'][0] in material_LG[1]:\n",
    "            dict_of_files[dataframe] = pd.merge(dict_of_materials_files[material_file], \n",
    "                                                dict_of_files[dataframe], \n",
    "                                                on = 'material')"
   ]
  },
  {
   "cell_type": "code",
   "execution_count": 17,
   "metadata": {},
   "outputs": [],
   "source": [
    "pilot_test_data_to_label = pd.concat(dict_of_files.values(), axis = 0, ignore_index=True, sort = False)"
   ]
  },
  {
   "cell_type": "markdown",
   "metadata": {},
   "source": [
    "## Save to multiple files by material:"
   ]
  },
  {
   "cell_type": "code",
   "execution_count": 18,
   "metadata": {},
   "outputs": [],
   "source": [
    "# for material in pilot_test_data_to_label['material'].unique():\n",
    "#     pilot_test_data_to_label[(pilot_test_data_to_label['material'] == material) & \n",
    "#                              (pilot_test_data_to_label['reject'] == 'keep')  & \n",
    "#                              (pilot_test_data_to_label['variable_condition'] != 'q1')\n",
    "#                             ].to_csv('Data/pilot_test_data/to_label/' + str(material) + '_to_label.csv')"
   ]
  },
  {
   "cell_type": "markdown",
   "metadata": {},
   "source": [
    "# Pilot Test Data Analysis"
   ]
  },
  {
   "cell_type": "markdown",
   "metadata": {},
   "source": [
    "## Read in Pilot Test Data"
   ]
  },
  {
   "cell_type": "code",
   "execution_count": 19,
   "metadata": {
    "scrolled": true
   },
   "outputs": [
    {
     "name": "stdout",
     "output_type": "stream",
     "text": [
      "['michael_breakfast_mq.xlsx', 'lucy_loan_ mq.csv', 'sally_wine_mq.xlsx', 'rebecca_swimming_mq.xlsx', 'john_party_mq.xlsx', 'sean_call_mq.csv', 'MQ_ratings.txt', 'sally_wine_mq.csv', 'lucy_loan_ mq.xlsx', 'sean_call_mq.xlsx', 'bill_holiday_mq.xlsx', 'michael_breakfast_mq.csv', 'belinda_meeting_mq.csv', 'bill_holiday_mq.csv', 'belinda_meeting_mq.xlsx', 'rebecca_swimming_mq.csv', 'john_party_mq.csv']\n"
     ]
    }
   ],
   "source": [
    "# read in the files with the material sets defined by the latin squares above\n",
    "pilot_test_path = '2_pipeline/1_pilot_test/1_MQ_labels/'\n",
    "\n",
    "#Documents/Studies/Expt4_Controllability/Data/pre_test_data\n",
    "list_of_data_files = os.listdir(pilot_test_path)\n",
    "\n",
    "#check\n",
    "print(list_of_data_files)\n"
   ]
  },
  {
   "cell_type": "code",
   "execution_count": 20,
   "metadata": {
    "scrolled": true
   },
   "outputs": [
    {
     "name": "stdout",
     "output_type": "stream",
     "text": [
      "This is not a .csv file and will be discarded:  michael_breakfast_mq.xlsx\n",
      "This is not a .csv file and will be discarded:  sally_wine_mq.xlsx\n",
      "This is not a .csv file and will be discarded:  rebecca_swimming_mq.xlsx\n",
      "This is not a .csv file and will be discarded:  john_party_mq.xlsx\n",
      "This is not a .csv file and will be discarded:  MQ_ratings.txt\n",
      "This is not a .csv file and will be discarded:  lucy_loan_ mq.xlsx\n",
      "This is not a .csv file and will be discarded:  sean_call_mq.xlsx\n",
      "This is not a .csv file and will be discarded:  bill_holiday_mq.xlsx\n",
      "This is not a .csv file and will be discarded:  belinda_meeting_mq.xlsx\n"
     ]
    },
    {
     "data": {
      "text/plain": [
       "Index(['random', 'subset', 'material', 'condition_code', 'valence_condition',\n",
       "       'means_condition', 'goal_step', 'action_step', 'resources_step',\n",
       "       'numeric_valence', 'numeric_control', 'numeric_valence_strength',\n",
       "       'numeric_control_strength', 'cond', 'Response ID', 'Time Started',\n",
       "       'Date Submitted', 'Status', 'Contact ID', 'Legacy Comments', 'Comments',\n",
       "       'Language', 'Referer', 'SessionID', 'user_id', 'reject', 'variable',\n",
       "       'answer_text', 'sw_neg_ans1', 'sw_neg_ans2', 'sw_neg_ans3',\n",
       "       'sw_neg_ans4', 'sw_neg_ans5', 'sw_neg_ans6', 'sw_neg_ans7',\n",
       "       'sw_neg_ans8', 'sw_other', 'sw_pos_ans1', 'sw_pos_ans2', 'sw_pos_ans3',\n",
       "       'sw_pos_ans4', 'sw_pos_ans5', 'neg', 'pos', 'neither', 'goal',\n",
       "       'non_goal', 'controllable', 'uncontrollable', 'neither_control'],\n",
       "      dtype='object')"
      ]
     },
     "execution_count": 20,
     "metadata": {},
     "output_type": "execute_result"
    }
   ],
   "source": [
    "#select only .csv files\n",
    "csv_list = [] #to keep file names\n",
    "dict_of_files = {} #to keep dataframes\n",
    "\n",
    "for filename in list_of_data_files:\n",
    "    \n",
    "    #filter out the non-csvs at this step\n",
    "    if filename.endswith(\".csv\"):\n",
    "        #save csv filenames to add in data later\n",
    "        csv_list.append(filename)\n",
    "        #read in csvs as pandas DataFrames\n",
    "        dict_of_files[filename] = pd.read_csv(pilot_test_path + filename)\n",
    "    else:\n",
    "        print(\"This is not a .csv file and will be discarded: \", filename)\n",
    "\n",
    "#check\n",
    "#print('\\n', csv_list, '\\n')\n",
    "dict_of_files['sally_wine_mq.csv'].columns"
   ]
  },
  {
   "cell_type": "code",
   "execution_count": 21,
   "metadata": {
    "scrolled": false
   },
   "outputs": [],
   "source": [
    "# where variable = ['non_goal_object','goal_object','both_objects','neither_object'], make new column \"best_obj\"\n",
    "# then, where variable = ['pos','neg','neither'], make new column, \"best_senti\"\n",
    "# when all moved over, change \"variable\" to \"best_ans\"\n",
    "new_dict_of_files = dict()\n",
    "\n",
    "for dataframe in dict_of_files:\n",
    "    temp_df_ans = pd.DataFrame()\n",
    "    temp_df_senti = pd.DataFrame()\n",
    "    temp_df_obj = pd.DataFrame()\n",
    "    \n",
    "    temp_df_ans = dict_of_files[dataframe].melt(\n",
    "                 id_vars = ['random', 'subset', 'material', 'condition_code', 'valence_condition',\n",
    "                            'means_condition', 'goal_step', 'action_step', 'resources_step',\n",
    "                            'numeric_valence', 'numeric_control', 'numeric_valence_strength',\n",
    "                            'numeric_control_strength', 'cond', 'Response ID', 'Time Started',\n",
    "                            'Date Submitted', 'Status', 'Contact ID', 'Legacy Comments', 'Comments',\n",
    "                            'Language', 'Referer', 'SessionID',\n",
    "                            'user_id', 'reject', 'variable', 'answer_text'\n",
    "                           ],\n",
    "                 var_name = 'best_ans',\n",
    "                 value_vars = dict_of_files[dataframe].columns.difference(['random', 'subset', 'material', 'condition_code', 'valence_condition',\n",
    "                                                    'means_condition', 'goal_step', 'action_step', 'resources_step',\n",
    "                                                    'numeric_valence', 'numeric_control', 'numeric_valence_strength',\n",
    "                                                    'numeric_control_strength', 'cond', 'Response ID', 'Time Started',\n",
    "                                                    'Date Submitted', 'Status', 'Contact ID', 'Legacy Comments', 'Comments',\n",
    "                                                    'Language', 'Referer', 'SessionID', \n",
    "                                                    'user_id', 'reject', 'variable', 'answer_text',\n",
    "                                                    'neg', 'pos', 'neither',\n",
    "                                                    'goal', 'non_goal', \n",
    "                                                    'controllable', 'uncontrollable','neither_control'\n",
    "                                                                          ])\n",
    "    )\n",
    "    \n",
    "    temp_df_senti = dict_of_files[dataframe].melt(\n",
    "                 id_vars = ['random', 'subset', 'material', 'condition_code', 'valence_condition',\n",
    "                            'means_condition', 'goal_step', 'action_step', 'resources_step',\n",
    "                            'numeric_valence', 'numeric_control', 'numeric_valence_strength',\n",
    "                            'numeric_control_strength', 'cond', 'Response ID', 'Time Started',\n",
    "                            'Date Submitted', 'Status', 'Contact ID', 'Legacy Comments', 'Comments',\n",
    "                            'Language', 'Referer', 'SessionID',\n",
    "                            'user_id', 'reject', 'variable', 'answer_text'\n",
    "                           ],\n",
    "                 var_name = 'best_senti',\n",
    "                 value_vars=['neg','pos','neither']\n",
    "    )\n",
    "\n",
    "\n",
    "    temp_df_obj = dict_of_files[dataframe].melt(\n",
    "                 id_vars = ['random', 'subset', 'material', 'condition_code', 'valence_condition',\n",
    "                            'means_condition', 'goal_step', 'action_step', 'resources_step',\n",
    "                            'numeric_valence', 'numeric_control', 'numeric_valence_strength',\n",
    "                            'numeric_control_strength', 'cond', 'Response ID', 'Time Started',\n",
    "                            'Date Submitted', 'Status', 'Contact ID', 'Legacy Comments', 'Comments',\n",
    "                            'Language', 'Referer', 'SessionID',\n",
    "                            'user_id', 'reject', 'variable', 'answer_text'\n",
    "                           ],\n",
    "                 var_name = 'best_obj',\n",
    "                 value_vars=[ 'goal', 'non_goal']\n",
    "    )\n",
    "    \n",
    "    temp_df_control = dict_of_files[dataframe].melt(\n",
    "                 id_vars = ['random', 'subset', 'material', 'condition_code', 'valence_condition',\n",
    "                            'means_condition', 'goal_step', 'action_step', 'resources_step',\n",
    "                            'numeric_valence', 'numeric_control', 'numeric_valence_strength',\n",
    "                            'numeric_control_strength', 'cond', 'Response ID', 'Time Started',\n",
    "                            'Date Submitted', 'Status', 'Contact ID', 'Legacy Comments', 'Comments',\n",
    "                            'Language', 'Referer', 'SessionID',\n",
    "                            'user_id', 'reject', 'variable', 'answer_text'\n",
    "                           ],\n",
    "                 var_name = 'best_control',\n",
    "                 value_vars=['controllable', 'uncontrollable','neither_control']\n",
    "    )\n",
    "    \n",
    "    \n",
    "    new_dict_of_files[dataframe] = temp_df_ans[temp_df_ans['value']==1].merge(\n",
    "        temp_df_senti[temp_df_senti['value']==1].merge(\n",
    "            temp_df_obj[temp_df_obj['value']==1].merge(\n",
    "                temp_df_control[temp_df_control['value']==1]\n",
    "            )\n",
    "        )\n",
    "    )\n",
    "\n",
    "    \n",
    "#new_dict_of_files['sally_wine_mq.csv'].head()"
   ]
  },
  {
   "cell_type": "code",
   "execution_count": 22,
   "metadata": {
    "scrolled": true
   },
   "outputs": [
    {
     "data": {
      "text/html": [
       "<div>\n",
       "<style scoped>\n",
       "    .dataframe tbody tr th:only-of-type {\n",
       "        vertical-align: middle;\n",
       "    }\n",
       "\n",
       "    .dataframe tbody tr th {\n",
       "        vertical-align: top;\n",
       "    }\n",
       "\n",
       "    .dataframe thead th {\n",
       "        text-align: right;\n",
       "    }\n",
       "</style>\n",
       "<table border=\"1\" class=\"dataframe\">\n",
       "  <thead>\n",
       "    <tr style=\"text-align: right;\">\n",
       "      <th></th>\n",
       "      <th>random</th>\n",
       "      <th>subset</th>\n",
       "      <th>material</th>\n",
       "      <th>condition_code</th>\n",
       "      <th>valence_condition</th>\n",
       "      <th>means_condition</th>\n",
       "      <th>goal_step</th>\n",
       "      <th>action_step</th>\n",
       "      <th>resources_step</th>\n",
       "      <th>numeric_valence</th>\n",
       "      <th>...</th>\n",
       "      <th>SessionID</th>\n",
       "      <th>user_id</th>\n",
       "      <th>reject</th>\n",
       "      <th>variable</th>\n",
       "      <th>answer_text</th>\n",
       "      <th>best_ans</th>\n",
       "      <th>value</th>\n",
       "      <th>best_senti</th>\n",
       "      <th>best_obj</th>\n",
       "      <th>best_control</th>\n",
       "    </tr>\n",
       "  </thead>\n",
       "  <tbody>\n",
       "    <tr>\n",
       "      <th>0</th>\n",
       "      <td>0.466593</td>\n",
       "      <td>3</td>\n",
       "      <td>lucy_loan</td>\n",
       "      <td>B</td>\n",
       "      <td>negative</td>\n",
       "      <td>absent</td>\n",
       "      <td>Lucy hates her old car and wants to buy a new ...</td>\n",
       "      <td>Lucy calls the bank to get a loan for a new car.</td>\n",
       "      <td>The car dealer says her old car is a wreck and...</td>\n",
       "      <td>3.125000</td>\n",
       "      <td>...</td>\n",
       "      <td>1593509195_5efb054bad2ce6.48278228</td>\n",
       "      <td>5e5ce3bf1377484b52ea2c07</td>\n",
       "      <td>keep</td>\n",
       "      <td>lucy_loan</td>\n",
       "      <td>Lucy did not get approved for the bank loan to...</td>\n",
       "      <td>ll_neg_ans1</td>\n",
       "      <td>1.0</td>\n",
       "      <td>neg</td>\n",
       "      <td>goal</td>\n",
       "      <td>uncontrollable</td>\n",
       "    </tr>\n",
       "    <tr>\n",
       "      <th>1</th>\n",
       "      <td>0.263349</td>\n",
       "      <td>3</td>\n",
       "      <td>lucy_loan</td>\n",
       "      <td>C</td>\n",
       "      <td>positive</td>\n",
       "      <td>present</td>\n",
       "      <td>Lucy hates her old car and wants to buy a new ...</td>\n",
       "      <td>Lucy calls the bank to get a loan for a new car.</td>\n",
       "      <td>The car dealer says her old car is a classic a...</td>\n",
       "      <td>6.125000</td>\n",
       "      <td>...</td>\n",
       "      <td>1593514075_5efb185b572dd5.32957800</td>\n",
       "      <td>5a69175331b87a0001c76149</td>\n",
       "      <td>keep</td>\n",
       "      <td>lucy_loan</td>\n",
       "      <td>the car gets stolen before she is able to sell...</td>\n",
       "      <td>ll_other</td>\n",
       "      <td>1.0</td>\n",
       "      <td>neg</td>\n",
       "      <td>goal</td>\n",
       "      <td>uncontrollable</td>\n",
       "    </tr>\n",
       "    <tr>\n",
       "      <th>2</th>\n",
       "      <td>0.772094</td>\n",
       "      <td>3</td>\n",
       "      <td>lucy_loan</td>\n",
       "      <td>B</td>\n",
       "      <td>negative</td>\n",
       "      <td>absent</td>\n",
       "      <td>Lucy hates her old car and wants to buy a new ...</td>\n",
       "      <td>Lucy calls the bank to get a loan for a new car.</td>\n",
       "      <td>The car dealer says her old car is a wreck and...</td>\n",
       "      <td>3.125000</td>\n",
       "      <td>...</td>\n",
       "      <td>1593509432_5efb0638d3c924.78352224</td>\n",
       "      <td>59d4943b719adb0001235b5f</td>\n",
       "      <td>keep</td>\n",
       "      <td>lucy_loan</td>\n",
       "      <td>she gets a bargin on a new car</td>\n",
       "      <td>ll_other</td>\n",
       "      <td>1.0</td>\n",
       "      <td>pos</td>\n",
       "      <td>goal</td>\n",
       "      <td>uncontrollable</td>\n",
       "    </tr>\n",
       "    <tr>\n",
       "      <th>3</th>\n",
       "      <td>0.206239</td>\n",
       "      <td>3</td>\n",
       "      <td>lucy_loan</td>\n",
       "      <td>C</td>\n",
       "      <td>positive</td>\n",
       "      <td>present</td>\n",
       "      <td>Lucy hates her old car and wants to buy a new ...</td>\n",
       "      <td>Lucy calls the bank to get a loan for a new car.</td>\n",
       "      <td>The car dealer says her old car is a classic a...</td>\n",
       "      <td>6.125000</td>\n",
       "      <td>...</td>\n",
       "      <td>1593517792_5efb26e0d480c6.12954054</td>\n",
       "      <td>5ed6a937eb466b1029493c39</td>\n",
       "      <td>keep</td>\n",
       "      <td>lucy_loan</td>\n",
       "      <td>As she is about to go through with selling her...</td>\n",
       "      <td>ll_other</td>\n",
       "      <td>1.0</td>\n",
       "      <td>pos</td>\n",
       "      <td>goal</td>\n",
       "      <td>controllable</td>\n",
       "    </tr>\n",
       "    <tr>\n",
       "      <th>4</th>\n",
       "      <td>0.831202</td>\n",
       "      <td>3</td>\n",
       "      <td>lucy_loan</td>\n",
       "      <td>C</td>\n",
       "      <td>positive</td>\n",
       "      <td>present</td>\n",
       "      <td>Lucy hates her old car and wants to buy a new ...</td>\n",
       "      <td>Lucy calls the bank to get a loan for a new car.</td>\n",
       "      <td>The car dealer says her old car is a classic a...</td>\n",
       "      <td>6.125000</td>\n",
       "      <td>...</td>\n",
       "      <td>1593513925_5efb17c556d299.77092801</td>\n",
       "      <td>5d53b4a9312e7e000130d873</td>\n",
       "      <td>keep</td>\n",
       "      <td>lucy_loan</td>\n",
       "      <td>Her old car is worth more money than she thought</td>\n",
       "      <td>ll_other</td>\n",
       "      <td>1.0</td>\n",
       "      <td>pos</td>\n",
       "      <td>goal</td>\n",
       "      <td>uncontrollable</td>\n",
       "    </tr>\n",
       "    <tr>\n",
       "      <th>...</th>\n",
       "      <td>...</td>\n",
       "      <td>...</td>\n",
       "      <td>...</td>\n",
       "      <td>...</td>\n",
       "      <td>...</td>\n",
       "      <td>...</td>\n",
       "      <td>...</td>\n",
       "      <td>...</td>\n",
       "      <td>...</td>\n",
       "      <td>...</td>\n",
       "      <td>...</td>\n",
       "      <td>...</td>\n",
       "      <td>...</td>\n",
       "      <td>...</td>\n",
       "      <td>...</td>\n",
       "      <td>...</td>\n",
       "      <td>...</td>\n",
       "      <td>...</td>\n",
       "      <td>...</td>\n",
       "      <td>...</td>\n",
       "      <td>...</td>\n",
       "    </tr>\n",
       "    <tr>\n",
       "      <th>154</th>\n",
       "      <td>0.097643</td>\n",
       "      <td>1</td>\n",
       "      <td>john_party</td>\n",
       "      <td>B</td>\n",
       "      <td>negative</td>\n",
       "      <td>absent</td>\n",
       "      <td>John comes home early from work because himsel...</td>\n",
       "      <td>After arriving home, he takes off his coat and...</td>\n",
       "      <td>John cannot find the peeler, but starts to pre...</td>\n",
       "      <td>3.125000</td>\n",
       "      <td>...</td>\n",
       "      <td>1593430004_5ef9cff44b6486.28514032</td>\n",
       "      <td>5decfba65b56133beed6ec21</td>\n",
       "      <td>keep</td>\n",
       "      <td>john_party</td>\n",
       "      <td>John could not find the potatoe peeler.</td>\n",
       "      <td>jp_other</td>\n",
       "      <td>1.0</td>\n",
       "      <td>neg</td>\n",
       "      <td>goal</td>\n",
       "      <td>uncontrollable</td>\n",
       "    </tr>\n",
       "    <tr>\n",
       "      <th>155</th>\n",
       "      <td>0.942333</td>\n",
       "      <td>1</td>\n",
       "      <td>john_party</td>\n",
       "      <td>A</td>\n",
       "      <td>negative</td>\n",
       "      <td>present</td>\n",
       "      <td>John comes home early from work because himsel...</td>\n",
       "      <td>After arriving home, he takes off his coat and...</td>\n",
       "      <td>John finds the peeler and starts to prepare th...</td>\n",
       "      <td>3.466667</td>\n",
       "      <td>...</td>\n",
       "      <td>1593427509_5ef9c6357bbc53.13824872</td>\n",
       "      <td>5d59a10aa17f570017307126</td>\n",
       "      <td>keep</td>\n",
       "      <td>john_party</td>\n",
       "      <td>The friends who were coming to the party cance...</td>\n",
       "      <td>jp_pos_ans3</td>\n",
       "      <td>1.0</td>\n",
       "      <td>neither</td>\n",
       "      <td>goal</td>\n",
       "      <td>neither_control</td>\n",
       "    </tr>\n",
       "    <tr>\n",
       "      <th>156</th>\n",
       "      <td>0.350107</td>\n",
       "      <td>1</td>\n",
       "      <td>john_party</td>\n",
       "      <td>A</td>\n",
       "      <td>negative</td>\n",
       "      <td>present</td>\n",
       "      <td>John comes home early from work because himsel...</td>\n",
       "      <td>After arriving home, he takes off his coat and...</td>\n",
       "      <td>John finds the peeler and starts to prepare th...</td>\n",
       "      <td>3.466667</td>\n",
       "      <td>...</td>\n",
       "      <td>1593427412_5ef9c5d4aa5963.30852795</td>\n",
       "      <td>5e2b82843d8aa11d69c1bb2c</td>\n",
       "      <td>keep</td>\n",
       "      <td>john_party</td>\n",
       "      <td>The guests think the potatoes are the best the...</td>\n",
       "      <td>jp_pos_ans6</td>\n",
       "      <td>1.0</td>\n",
       "      <td>pos</td>\n",
       "      <td>goal</td>\n",
       "      <td>uncontrollable</td>\n",
       "    </tr>\n",
       "    <tr>\n",
       "      <th>157</th>\n",
       "      <td>0.932679</td>\n",
       "      <td>1</td>\n",
       "      <td>john_party</td>\n",
       "      <td>B</td>\n",
       "      <td>negative</td>\n",
       "      <td>absent</td>\n",
       "      <td>John comes home early from work because himsel...</td>\n",
       "      <td>After arriving home, he takes off his coat and...</td>\n",
       "      <td>John cannot find the peeler, but starts to pre...</td>\n",
       "      <td>3.125000</td>\n",
       "      <td>...</td>\n",
       "      <td>1593430579_5ef9d233707839.74973788</td>\n",
       "      <td>5e1c4deffd004243d235909a</td>\n",
       "      <td>keep</td>\n",
       "      <td>john_party</td>\n",
       "      <td>His potatos are the favourite part of the meal...</td>\n",
       "      <td>jp_pos_ans6</td>\n",
       "      <td>1.0</td>\n",
       "      <td>pos</td>\n",
       "      <td>goal</td>\n",
       "      <td>uncontrollable</td>\n",
       "    </tr>\n",
       "    <tr>\n",
       "      <th>158</th>\n",
       "      <td>0.867920</td>\n",
       "      <td>1</td>\n",
       "      <td>john_party</td>\n",
       "      <td>B</td>\n",
       "      <td>negative</td>\n",
       "      <td>absent</td>\n",
       "      <td>John comes home early from work because himsel...</td>\n",
       "      <td>After arriving home, he takes off his coat and...</td>\n",
       "      <td>John cannot find the peeler, but starts to pre...</td>\n",
       "      <td>3.125000</td>\n",
       "      <td>...</td>\n",
       "      <td>1593429959_5ef9cfc77d5c58.66291656</td>\n",
       "      <td>5eabec3dd0a50501759cc55c</td>\n",
       "      <td>keep</td>\n",
       "      <td>john_party</td>\n",
       "      <td>Everyone comments on how wonderful the skin-on...</td>\n",
       "      <td>jp_pos_ans6</td>\n",
       "      <td>1.0</td>\n",
       "      <td>pos</td>\n",
       "      <td>goal</td>\n",
       "      <td>uncontrollable</td>\n",
       "    </tr>\n",
       "  </tbody>\n",
       "</table>\n",
       "<p>159 rows × 33 columns</p>\n",
       "</div>"
      ],
      "text/plain": [
       "       random  subset    material condition_code valence_condition  \\\n",
       "0    0.466593       3   lucy_loan              B          negative   \n",
       "1    0.263349       3   lucy_loan              C          positive   \n",
       "2    0.772094       3   lucy_loan              B          negative   \n",
       "3    0.206239       3   lucy_loan              C          positive   \n",
       "4    0.831202       3   lucy_loan              C          positive   \n",
       "..        ...     ...         ...            ...               ...   \n",
       "154  0.097643       1  john_party              B          negative   \n",
       "155  0.942333       1  john_party              A          negative   \n",
       "156  0.350107       1  john_party              A          negative   \n",
       "157  0.932679       1  john_party              B          negative   \n",
       "158  0.867920       1  john_party              B          negative   \n",
       "\n",
       "    means_condition                                          goal_step  \\\n",
       "0            absent  Lucy hates her old car and wants to buy a new ...   \n",
       "1           present  Lucy hates her old car and wants to buy a new ...   \n",
       "2            absent  Lucy hates her old car and wants to buy a new ...   \n",
       "3           present  Lucy hates her old car and wants to buy a new ...   \n",
       "4           present  Lucy hates her old car and wants to buy a new ...   \n",
       "..              ...                                                ...   \n",
       "154          absent  John comes home early from work because himsel...   \n",
       "155         present  John comes home early from work because himsel...   \n",
       "156         present  John comes home early from work because himsel...   \n",
       "157          absent  John comes home early from work because himsel...   \n",
       "158          absent  John comes home early from work because himsel...   \n",
       "\n",
       "                                           action_step  \\\n",
       "0     Lucy calls the bank to get a loan for a new car.   \n",
       "1     Lucy calls the bank to get a loan for a new car.   \n",
       "2     Lucy calls the bank to get a loan for a new car.   \n",
       "3     Lucy calls the bank to get a loan for a new car.   \n",
       "4     Lucy calls the bank to get a loan for a new car.   \n",
       "..                                                 ...   \n",
       "154  After arriving home, he takes off his coat and...   \n",
       "155  After arriving home, he takes off his coat and...   \n",
       "156  After arriving home, he takes off his coat and...   \n",
       "157  After arriving home, he takes off his coat and...   \n",
       "158  After arriving home, he takes off his coat and...   \n",
       "\n",
       "                                        resources_step  numeric_valence  ...  \\\n",
       "0    The car dealer says her old car is a wreck and...         3.125000  ...   \n",
       "1    The car dealer says her old car is a classic a...         6.125000  ...   \n",
       "2    The car dealer says her old car is a wreck and...         3.125000  ...   \n",
       "3    The car dealer says her old car is a classic a...         6.125000  ...   \n",
       "4    The car dealer says her old car is a classic a...         6.125000  ...   \n",
       "..                                                 ...              ...  ...   \n",
       "154  John cannot find the peeler, but starts to pre...         3.125000  ...   \n",
       "155  John finds the peeler and starts to prepare th...         3.466667  ...   \n",
       "156  John finds the peeler and starts to prepare th...         3.466667  ...   \n",
       "157  John cannot find the peeler, but starts to pre...         3.125000  ...   \n",
       "158  John cannot find the peeler, but starts to pre...         3.125000  ...   \n",
       "\n",
       "                              SessionID                   user_id  reject  \\\n",
       "0    1593509195_5efb054bad2ce6.48278228  5e5ce3bf1377484b52ea2c07    keep   \n",
       "1    1593514075_5efb185b572dd5.32957800  5a69175331b87a0001c76149    keep   \n",
       "2    1593509432_5efb0638d3c924.78352224  59d4943b719adb0001235b5f    keep   \n",
       "3    1593517792_5efb26e0d480c6.12954054  5ed6a937eb466b1029493c39    keep   \n",
       "4    1593513925_5efb17c556d299.77092801  5d53b4a9312e7e000130d873    keep   \n",
       "..                                  ...                       ...     ...   \n",
       "154  1593430004_5ef9cff44b6486.28514032  5decfba65b56133beed6ec21    keep   \n",
       "155  1593427509_5ef9c6357bbc53.13824872  5d59a10aa17f570017307126    keep   \n",
       "156  1593427412_5ef9c5d4aa5963.30852795  5e2b82843d8aa11d69c1bb2c    keep   \n",
       "157  1593430579_5ef9d233707839.74973788  5e1c4deffd004243d235909a    keep   \n",
       "158  1593429959_5ef9cfc77d5c58.66291656  5eabec3dd0a50501759cc55c    keep   \n",
       "\n",
       "       variable                                        answer_text  \\\n",
       "0     lucy_loan  Lucy did not get approved for the bank loan to...   \n",
       "1     lucy_loan  the car gets stolen before she is able to sell...   \n",
       "2     lucy_loan                     she gets a bargin on a new car   \n",
       "3     lucy_loan  As she is about to go through with selling her...   \n",
       "4     lucy_loan   Her old car is worth more money than she thought   \n",
       "..          ...                                                ...   \n",
       "154  john_party            John could not find the potatoe peeler.   \n",
       "155  john_party  The friends who were coming to the party cance...   \n",
       "156  john_party  The guests think the potatoes are the best the...   \n",
       "157  john_party  His potatos are the favourite part of the meal...   \n",
       "158  john_party  Everyone comments on how wonderful the skin-on...   \n",
       "\n",
       "        best_ans value best_senti  best_obj     best_control  \n",
       "0    ll_neg_ans1   1.0        neg      goal   uncontrollable  \n",
       "1       ll_other   1.0        neg      goal   uncontrollable  \n",
       "2       ll_other   1.0        pos      goal   uncontrollable  \n",
       "3       ll_other   1.0        pos      goal     controllable  \n",
       "4       ll_other   1.0        pos      goal   uncontrollable  \n",
       "..           ...   ...        ...       ...              ...  \n",
       "154     jp_other   1.0        neg      goal   uncontrollable  \n",
       "155  jp_pos_ans3   1.0    neither      goal  neither_control  \n",
       "156  jp_pos_ans6   1.0        pos      goal   uncontrollable  \n",
       "157  jp_pos_ans6   1.0        pos      goal   uncontrollable  \n",
       "158  jp_pos_ans6   1.0        pos      goal   uncontrollable  \n",
       "\n",
       "[159 rows x 33 columns]"
      ]
     },
     "execution_count": 22,
     "metadata": {},
     "output_type": "execute_result"
    }
   ],
   "source": [
    "pilot_master_data = pd.concat(new_dict_of_files.values(), axis = 0, ignore_index=True)\n",
    "pilot_master_data"
   ]
  },
  {
   "cell_type": "code",
   "execution_count": null,
   "metadata": {},
   "outputs": [],
   "source": []
  },
  {
   "cell_type": "markdown",
   "metadata": {},
   "source": [
    "## Count and visualize the Spread of Answers"
   ]
  },
  {
   "cell_type": "markdown",
   "metadata": {},
   "source": [
    "### Overall Frequencies/Proportions"
   ]
  },
  {
   "cell_type": "code",
   "execution_count": 23,
   "metadata": {},
   "outputs": [],
   "source": [
    "control_order = ['controllable','uncontrollable','neither_control']\n",
    "\n",
    "# #Make a graph\n",
    "# pilot_master_data.groupby(['means_condition'])['best_control'].value_counts().unstack(0).loc[control_order].plot.bar()\n",
    "# plt.xlabel(\"Material Means Condition\")\n",
    "# plt.ylabel(\"Frequency of Outcomes\")\n",
    "\n",
    "# #print the data\n",
    "# pd.crosstab(pilot_master_data['means_condition'], pilot_master_data['best_control']).reindex(control_order, axis=\"columns\")"
   ]
  },
  {
   "cell_type": "code",
   "execution_count": 24,
   "metadata": {
    "scrolled": false
   },
   "outputs": [
    {
     "data": {
      "text/html": [
       "<div>\n",
       "<style scoped>\n",
       "    .dataframe tbody tr th:only-of-type {\n",
       "        vertical-align: middle;\n",
       "    }\n",
       "\n",
       "    .dataframe tbody tr th {\n",
       "        vertical-align: top;\n",
       "    }\n",
       "\n",
       "    .dataframe thead th {\n",
       "        text-align: right;\n",
       "    }\n",
       "</style>\n",
       "<table border=\"1\" class=\"dataframe\">\n",
       "  <thead>\n",
       "    <tr style=\"text-align: right;\">\n",
       "      <th>best_control</th>\n",
       "      <th>controllable</th>\n",
       "      <th>neither_control</th>\n",
       "      <th>uncontrollable</th>\n",
       "      <th>total</th>\n",
       "      <th>controllable_proportion</th>\n",
       "      <th>uncontrollable_proportion</th>\n",
       "      <th>neither_control_proportion</th>\n",
       "    </tr>\n",
       "    <tr>\n",
       "      <th>means_condition</th>\n",
       "      <th></th>\n",
       "      <th></th>\n",
       "      <th></th>\n",
       "      <th></th>\n",
       "      <th></th>\n",
       "      <th></th>\n",
       "      <th></th>\n",
       "    </tr>\n",
       "  </thead>\n",
       "  <tbody>\n",
       "    <tr>\n",
       "      <th>absent</th>\n",
       "      <td>19</td>\n",
       "      <td>9</td>\n",
       "      <td>51</td>\n",
       "      <td>79</td>\n",
       "      <td>0.240506</td>\n",
       "      <td>0.64557</td>\n",
       "      <td>0.113924</td>\n",
       "    </tr>\n",
       "    <tr>\n",
       "      <th>present</th>\n",
       "      <td>21</td>\n",
       "      <td>8</td>\n",
       "      <td>51</td>\n",
       "      <td>80</td>\n",
       "      <td>0.262500</td>\n",
       "      <td>0.63750</td>\n",
       "      <td>0.100000</td>\n",
       "    </tr>\n",
       "  </tbody>\n",
       "</table>\n",
       "</div>"
      ],
      "text/plain": [
       "best_control     controllable  neither_control  uncontrollable  total  \\\n",
       "means_condition                                                         \n",
       "absent                     19                9              51     79   \n",
       "present                    21                8              51     80   \n",
       "\n",
       "best_control     controllable_proportion  uncontrollable_proportion  \\\n",
       "means_condition                                                       \n",
       "absent                          0.240506                    0.64557   \n",
       "present                         0.262500                    0.63750   \n",
       "\n",
       "best_control     neither_control_proportion  \n",
       "means_condition                              \n",
       "absent                             0.113924  \n",
       "present                            0.100000  "
      ]
     },
     "execution_count": 24,
     "metadata": {},
     "output_type": "execute_result"
    }
   ],
   "source": [
    "pilot_prop_control = pilot_master_data.groupby(['means_condition'])['best_control'].value_counts().unstack(1)\n",
    "\n",
    "pilot_prop_control[\"total\"] = pilot_prop_control.sum(axis = 1)\n",
    "pilot_prop_control[\"controllable_proportion\"] = pilot_prop_control[\"controllable\"]/pilot_prop_control[\"total\"]\n",
    "pilot_prop_control[\"uncontrollable_proportion\"] = pilot_prop_control[\"uncontrollable\"]/pilot_prop_control[\"total\"]\n",
    "pilot_prop_control[\"neither_control_proportion\"] = pilot_prop_control[\"neither_control\"]/pilot_prop_control[\"total\"]\n",
    "pilot_prop_control"
   ]
  },
  {
   "cell_type": "code",
   "execution_count": 25,
   "metadata": {},
   "outputs": [
    {
     "data": {
      "text/plain": [
       "Text(0, 0.5, 'Proportion of Outcomes')"
      ]
     },
     "execution_count": 25,
     "metadata": {},
     "output_type": "execute_result"
    },
    {
     "data": {
      "image/png": "[encoded data removed]",
      "text/plain": [
       "<Figure size 432x288 with 1 Axes>"
      ]
     },
     "metadata": {
      "needs_background": "light"
     },
     "output_type": "display_data"
    }
   ],
   "source": [
    "#Make a graph\n",
    "pilot_prop_control[['controllable_proportion','uncontrollable_proportion','neither_control_proportion'\n",
    "                   ]].plot.bar().legend([\"Controllable\", \"Uncontrollable\", \"Neither\"],loc='upper center'\n",
    ")\n",
    "plt.xlabel(\"Material Means Condition\")\n",
    "plt.ylabel(\"Proportion of Outcomes\")"
   ]
  },
  {
   "cell_type": "markdown",
   "metadata": {},
   "source": [
    "Whether the means are present or absent, participants provide outcomes that are largely (~64%) uncontrollable. Only about 25% of outcome responses were labelled controllable, and only 10% were considered neither controllable nor uncontrollable or some mix of the two."
   ]
  },
  {
   "cell_type": "code",
   "execution_count": 26,
   "metadata": {
    "scrolled": false
   },
   "outputs": [],
   "source": [
    "valence_order = ['pos','neg','neither']\n",
    "\n",
    "# #Make a graph\n",
    "# pilot_master_data.groupby(['valence_condition'])['best_senti'].value_counts().unstack(0).loc[valence_order].plot.bar()\n",
    "# plt.xlabel(\"Material Valence\")\n",
    "# plt.ylabel(\"Frequency of Outcomes\")\n",
    "\n",
    "# #print the data\n",
    "# pd.crosstab(pilot_master_data['valence_condition'], pilot_master_data['best_senti']).reindex(valence_order, axis=\"columns\")\n"
   ]
  },
  {
   "cell_type": "code",
   "execution_count": 27,
   "metadata": {},
   "outputs": [
    {
     "data": {
      "text/html": [
       "<div>\n",
       "<style scoped>\n",
       "    .dataframe tbody tr th:only-of-type {\n",
       "        vertical-align: middle;\n",
       "    }\n",
       "\n",
       "    .dataframe tbody tr th {\n",
       "        vertical-align: top;\n",
       "    }\n",
       "\n",
       "    .dataframe thead th {\n",
       "        text-align: right;\n",
       "    }\n",
       "</style>\n",
       "<table border=\"1\" class=\"dataframe\">\n",
       "  <thead>\n",
       "    <tr style=\"text-align: right;\">\n",
       "      <th>best_senti</th>\n",
       "      <th>neg</th>\n",
       "      <th>neither</th>\n",
       "      <th>pos</th>\n",
       "      <th>total</th>\n",
       "      <th>pos_proportion</th>\n",
       "      <th>neg_proportion</th>\n",
       "      <th>neither_proportion</th>\n",
       "    </tr>\n",
       "    <tr>\n",
       "      <th>valence_condition</th>\n",
       "      <th></th>\n",
       "      <th></th>\n",
       "      <th></th>\n",
       "      <th></th>\n",
       "      <th></th>\n",
       "      <th></th>\n",
       "      <th></th>\n",
       "    </tr>\n",
       "  </thead>\n",
       "  <tbody>\n",
       "    <tr>\n",
       "      <th>negative</th>\n",
       "      <td>45</td>\n",
       "      <td>13</td>\n",
       "      <td>21</td>\n",
       "      <td>79</td>\n",
       "      <td>0.265823</td>\n",
       "      <td>0.56962</td>\n",
       "      <td>0.164557</td>\n",
       "    </tr>\n",
       "    <tr>\n",
       "      <th>positive</th>\n",
       "      <td>40</td>\n",
       "      <td>11</td>\n",
       "      <td>29</td>\n",
       "      <td>80</td>\n",
       "      <td>0.362500</td>\n",
       "      <td>0.50000</td>\n",
       "      <td>0.137500</td>\n",
       "    </tr>\n",
       "  </tbody>\n",
       "</table>\n",
       "</div>"
      ],
      "text/plain": [
       "best_senti         neg  neither  pos  total  pos_proportion  neg_proportion  \\\n",
       "valence_condition                                                             \n",
       "negative            45       13   21     79        0.265823         0.56962   \n",
       "positive            40       11   29     80        0.362500         0.50000   \n",
       "\n",
       "best_senti         neither_proportion  \n",
       "valence_condition                      \n",
       "negative                     0.164557  \n",
       "positive                     0.137500  "
      ]
     },
     "execution_count": 27,
     "metadata": {},
     "output_type": "execute_result"
    }
   ],
   "source": [
    "pilot_prop_valence = pilot_master_data.groupby(['valence_condition'])['best_senti'].value_counts().unstack(1)\n",
    "\n",
    "pilot_prop_valence[\"total\"] = pilot_prop_valence.sum(axis = 1)\n",
    "pilot_prop_valence[\"pos_proportion\"] = pilot_prop_valence[\"pos\"]/pilot_prop_valence[\"total\"]\n",
    "pilot_prop_valence[\"neg_proportion\"] = pilot_prop_valence[\"neg\"]/pilot_prop_valence[\"total\"]\n",
    "pilot_prop_valence[\"neither_proportion\"] = pilot_prop_valence[\"neither\"]/pilot_prop_valence[\"total\"]\n",
    "pilot_prop_valence"
   ]
  },
  {
   "cell_type": "code",
   "execution_count": 28,
   "metadata": {
    "scrolled": true
   },
   "outputs": [
    {
     "data": {
      "text/plain": [
       "Text(0, 0.5, 'Proportion of Outcomes')"
      ]
     },
     "execution_count": 28,
     "metadata": {},
     "output_type": "execute_result"
    },
    {
     "data": {
      "image/png": "[encoded data removed]",
      "text/plain": [
       "<Figure size 432x288 with 1 Axes>"
      ]
     },
     "metadata": {
      "needs_background": "light"
     },
     "output_type": "display_data"
    }
   ],
   "source": [
    "#Make a graph\n",
    "pilot_prop_valence[['neg_proportion','pos_proportion','neither_proportion'\n",
    "                   ]].plot.bar().legend([\"Negative\", \"Positive\", \"Neither\"],loc='upper right'\n",
    ")\n",
    "plt.xlabel(\"Material Valence\")\n",
    "plt.ylabel(\"Proportion of Outcomes\")"
   ]
  },
  {
   "cell_type": "markdown",
   "metadata": {},
   "source": [
    "Contrary to our prior work, the valence of responses was largely negative, regardless of material valence. When negative materials were presented, outcomes were 57% negative and 27% positive; when positive materials were presented, outcomes were 50% negative and 36% positive. \n",
    "\n",
    "In the valence study, we saw a flipping effect where outcome responses to positive materials were majority (72%) negative and 24% positive; and outcome responses to negative materials had a smaller proportion (56%) of negative outcomes and more positives (40%), respectively. Here, we see almost an opposite effect."
   ]
  },
  {
   "cell_type": "markdown",
   "metadata": {},
   "source": [
    "### Now, split by both conditions"
   ]
  },
  {
   "cell_type": "code",
   "execution_count": 29,
   "metadata": {},
   "outputs": [],
   "source": [
    "# pilot_master_data.groupby(['means_condition','valence_condition'])['best_senti'].value_counts().unstack(\n",
    "#     [0,1]).loc[valence_order].plot.bar(\n",
    "#     figsize = (12,7),\n",
    "# title=\"Outcome Valence by Material Valence Condition and Means Condition\").legend([\"Negative - Means Absent\",\n",
    "#                                                                                    \"Positive - Means Absent\",\n",
    "#                                                                                    \"Negative - Means Present\",\n",
    "#                                                                                    \"Positive - Means Present\"],\n",
    "#                                                                                  title = \"Valence - Means Condition\")\n",
    "# plt.xlabel(\"Outcome Valence\") \n",
    "# plt.ylabel(\"Frequency of Outcomes\")\n",
    "\n",
    "\n",
    "# #print the data\n",
    "# pilot_master_data.groupby(['valence_condition', 'means_condition'])['best_senti'].value_counts().unstack([2])"
   ]
  },
  {
   "cell_type": "code",
   "execution_count": 30,
   "metadata": {
    "scrolled": false
   },
   "outputs": [
    {
     "data": {
      "text/html": [
       "<div>\n",
       "<style scoped>\n",
       "    .dataframe tbody tr th:only-of-type {\n",
       "        vertical-align: middle;\n",
       "    }\n",
       "\n",
       "    .dataframe tbody tr th {\n",
       "        vertical-align: top;\n",
       "    }\n",
       "\n",
       "    .dataframe thead th {\n",
       "        text-align: right;\n",
       "    }\n",
       "</style>\n",
       "<table border=\"1\" class=\"dataframe\">\n",
       "  <thead>\n",
       "    <tr style=\"text-align: right;\">\n",
       "      <th></th>\n",
       "      <th>best_senti</th>\n",
       "      <th>neg</th>\n",
       "      <th>neither</th>\n",
       "      <th>pos</th>\n",
       "    </tr>\n",
       "    <tr>\n",
       "      <th>valence_condition</th>\n",
       "      <th>means_condition</th>\n",
       "      <th></th>\n",
       "      <th></th>\n",
       "      <th></th>\n",
       "    </tr>\n",
       "  </thead>\n",
       "  <tbody>\n",
       "    <tr>\n",
       "      <th rowspan=\"2\" valign=\"top\">negative</th>\n",
       "      <th>absent</th>\n",
       "      <td>19</td>\n",
       "      <td>6</td>\n",
       "      <td>14</td>\n",
       "    </tr>\n",
       "    <tr>\n",
       "      <th>present</th>\n",
       "      <td>26</td>\n",
       "      <td>7</td>\n",
       "      <td>7</td>\n",
       "    </tr>\n",
       "    <tr>\n",
       "      <th rowspan=\"2\" valign=\"top\">positive</th>\n",
       "      <th>absent</th>\n",
       "      <td>17</td>\n",
       "      <td>7</td>\n",
       "      <td>16</td>\n",
       "    </tr>\n",
       "    <tr>\n",
       "      <th>present</th>\n",
       "      <td>23</td>\n",
       "      <td>4</td>\n",
       "      <td>13</td>\n",
       "    </tr>\n",
       "  </tbody>\n",
       "</table>\n",
       "</div>"
      ],
      "text/plain": [
       "best_senti                         neg  neither  pos\n",
       "valence_condition means_condition                   \n",
       "negative          absent            19        6   14\n",
       "                  present           26        7    7\n",
       "positive          absent            17        7   16\n",
       "                  present           23        4   13"
      ]
     },
     "execution_count": 30,
     "metadata": {},
     "output_type": "execute_result"
    },
    {
     "data": {
      "image/png": "[encoded data removed]",
      "text/plain": [
       "<Figure size 864x504 with 1 Axes>"
      ]
     },
     "metadata": {
      "needs_background": "light"
     },
     "output_type": "display_data"
    }
   ],
   "source": [
    "plot_valence_by_cond = pilot_master_data.groupby(['condition_code'])['best_senti'].value_counts().unstack(\n",
    "    [1]).reset_index()\n",
    "index = [\"Negative - Means Present\",\n",
    "         \"Negative - Means Absent\",\n",
    "         \"Positive - Means Present\",\n",
    "         \"Positive - Means Absent\"]\n",
    "plot_valence_by_cond['condition_code'] = index\n",
    "plot_valence_by_cond = plot_valence_by_cond.set_index('condition_code')\n",
    "\n",
    "condition_order = [\"Negative - Means Absent\",\n",
    "                   \"Positive - Means Absent\",\n",
    "                   \"Negative - Means Present\",\n",
    "                   \"Positive - Means Present\",]\n",
    "\n",
    "plot_valence_by_cond[[\"neg\", \"pos\", \"neither\"]].loc[condition_order].plot.bar(figsize = (12,7),\n",
    "                              title=\"Outcome Valence by Material Valence Condition and Means Condition\")\n",
    "plt.xlabel(\"Condition Code\") \n",
    "plt.ylabel(\"Frequency of Outcomes\")\n",
    "\n",
    "plt.xticks(rotation=0)\n",
    "\n",
    "# #print the data\n",
    "pilot_master_data.groupby(['valence_condition', 'means_condition'])['best_senti'].value_counts().unstack([2])"
   ]
  },
  {
   "cell_type": "code",
   "execution_count": 31,
   "metadata": {},
   "outputs": [
    {
     "data": {
      "text/html": [
       "<div>\n",
       "<style scoped>\n",
       "    .dataframe tbody tr th:only-of-type {\n",
       "        vertical-align: middle;\n",
       "    }\n",
       "\n",
       "    .dataframe tbody tr th {\n",
       "        vertical-align: top;\n",
       "    }\n",
       "\n",
       "    .dataframe thead th {\n",
       "        text-align: right;\n",
       "    }\n",
       "</style>\n",
       "<table border=\"1\" class=\"dataframe\">\n",
       "  <thead>\n",
       "    <tr style=\"text-align: right;\">\n",
       "      <th>best_senti</th>\n",
       "      <th>valence_condition</th>\n",
       "      <th>means_condition</th>\n",
       "      <th>neg</th>\n",
       "      <th>neither</th>\n",
       "      <th>pos</th>\n",
       "    </tr>\n",
       "  </thead>\n",
       "  <tbody>\n",
       "    <tr>\n",
       "      <th>0</th>\n",
       "      <td>negative</td>\n",
       "      <td>absent</td>\n",
       "      <td>19</td>\n",
       "      <td>6</td>\n",
       "      <td>14</td>\n",
       "    </tr>\n",
       "    <tr>\n",
       "      <th>1</th>\n",
       "      <td>negative</td>\n",
       "      <td>present</td>\n",
       "      <td>26</td>\n",
       "      <td>7</td>\n",
       "      <td>7</td>\n",
       "    </tr>\n",
       "    <tr>\n",
       "      <th>2</th>\n",
       "      <td>positive</td>\n",
       "      <td>absent</td>\n",
       "      <td>17</td>\n",
       "      <td>7</td>\n",
       "      <td>16</td>\n",
       "    </tr>\n",
       "    <tr>\n",
       "      <th>3</th>\n",
       "      <td>positive</td>\n",
       "      <td>present</td>\n",
       "      <td>23</td>\n",
       "      <td>4</td>\n",
       "      <td>13</td>\n",
       "    </tr>\n",
       "  </tbody>\n",
       "</table>\n",
       "</div>"
      ],
      "text/plain": [
       "best_senti valence_condition means_condition  neg  neither  pos\n",
       "0                   negative          absent   19        6   14\n",
       "1                   negative         present   26        7    7\n",
       "2                   positive          absent   17        7   16\n",
       "3                   positive         present   23        4   13"
      ]
     },
     "execution_count": 31,
     "metadata": {},
     "output_type": "execute_result"
    }
   ],
   "source": [
    "plot_valence_by_cond = pilot_master_data.groupby(\n",
    "                                                    ['valence_condition', 'means_condition']\n",
    "                                                )['best_senti'].value_counts().unstack().reset_index()\n",
    "\n",
    "\n",
    "# index = [\"Negative - Means Present\",\n",
    "#          \"Negative - Means Absent\",\n",
    "#          \"Positive - Means Present\",\n",
    "#          \"Positive - Means Absent\"]\n",
    "\n",
    "# plot_valence_by_cond['condition_code'] = index\n",
    "\n",
    "# plot_valence_by_cond = plot_valence_by_cond.set_index('condition_code')\n",
    "\n",
    "plot_valence_by_cond"
   ]
  },
  {
   "cell_type": "code",
   "execution_count": 32,
   "metadata": {
    "scrolled": true
   },
   "outputs": [
    {
     "data": {
      "text/plain": [
       "(array([-0.5,  0. ,  0.5,  1. ,  1.5,  2. ,  2.5,  3. ,  3.5]),\n",
       " <a list of 9 Text xticklabel objects>)"
      ]
     },
     "execution_count": 32,
     "metadata": {},
     "output_type": "execute_result"
    },
    {
     "data": {
      "image/png": "[encoded data removed]",
      "text/plain": [
       "<Figure size 864x504 with 1 Axes>"
      ]
     },
     "metadata": {
      "needs_background": "light"
     },
     "output_type": "display_data"
    }
   ],
   "source": [
    "condition_order = [\"Negative - Means Absent\",\n",
    "                   \"Positive - Means Absent\",\n",
    "                   \"Negative - Means Present\",\n",
    "                   \"Positive - Means Present\"]\n",
    "\n",
    "plot_valence_by_cond[[\"neg\"]].plot.line(figsize = (12,7),\n",
    "                              title=\"Outcome Valence by Material Valence Condition and Means Condition\")\n",
    "plt.xlabel(\"Condition Code\") \n",
    "plt.ylabel(\"Frequency of Outcomes\")\n",
    "\n",
    "plt.xticks(rotation=0)\n",
    "\n",
    "# #print the data\n",
    "# pilot_master_data.groupby(['valence_condition', 'means_condition'])['best_senti'].value_counts().unstack([2])"
   ]
  },
  {
   "cell_type": "code",
   "execution_count": 33,
   "metadata": {
    "scrolled": false
   },
   "outputs": [
    {
     "data": {
      "text/plain": [
       "<matplotlib.axes._subplots.AxesSubplot at 0x7fb59e737ba8>"
      ]
     },
     "execution_count": 33,
     "metadata": {},
     "output_type": "execute_result"
    },
    {
     "data": {
      "image/png": "[encoded data removed]",
      "text/plain": [
       "<Figure size 1080x504 with 1 Axes>"
      ]
     },
     "metadata": {
      "needs_background": "light"
     },
     "output_type": "display_data"
    }
   ],
   "source": [
    "# plot data\n",
    "fig, ax = plt.subplots(figsize=(15,7))\n",
    "# use unstack()\n",
    "pilot_master_data[pilot_master_data['best_senti']=='neg'].groupby(['means_condition', 'valence_condition']).count()['best_senti'].unstack().plot(ax=ax)"
   ]
  },
  {
   "cell_type": "code",
   "execution_count": 34,
   "metadata": {
    "scrolled": true
   },
   "outputs": [
    {
     "data": {
      "text/plain": [
       "<matplotlib.axes._subplots.AxesSubplot at 0x7fb59e79cb70>"
      ]
     },
     "execution_count": 34,
     "metadata": {},
     "output_type": "execute_result"
    },
    {
     "data": {
      "image/png": "[encoded data removed]",
      "text/plain": [
       "<Figure size 1080x504 with 1 Axes>"
      ]
     },
     "metadata": {
      "needs_background": "light"
     },
     "output_type": "display_data"
    }
   ],
   "source": [
    "# plot data\n",
    "fig, ax = plt.subplots(figsize=(15,7))\n",
    "# use unstack()\n",
    "pilot_master_data[pilot_master_data['best_senti']=='pos'].groupby(['means_condition', 'valence_condition']).count()['best_senti'].unstack().plot(ax=ax)"
   ]
  },
  {
   "cell_type": "markdown",
   "metadata": {},
   "source": [
    "Negative and Means Absent Materials received more (49%) negative outcome responses, but also a relatively high number (36%) of positive responses as well, most closely mirroring the Valence Study.\n",
    "Likewise, Positive and Means Present Materials received mostly (58%) negative outcome responses, and fewer (33%) positive outcome responses, again, closely mirroring the Valence Study.\n",
    "\n",
    "Negative Means Present Materials received a much larger number of negative outcome responses compared to positive (65% negative; 18% positive).\n",
    "Positive Means Absent Materials were more evenly distributed (43% negative; 40% positive).\n",
    "\n",
    "\n",
    "This may mean that it is Controllability rather than Valence that explains the variance seen in the Valence Study.\n",
    "When Means are Absent, positive and negative outcome responses are more even whether the material is Positive (43% and 40%, respectively) or if the material is negative (49% and 36%, respectively).\n",
    "\n",
    "It is when the Means are Present that outcome responses are weighted most heavily toward the negative, whether the material is Positive (58% negative outcomes) or the material is Negative (65% negative). This effect is strongest for the Negative Means Present materials (65% negative, 18% positive)."
   ]
  },
  {
   "cell_type": "code",
   "execution_count": 35,
   "metadata": {},
   "outputs": [
    {
     "data": {
      "text/html": [
       "<div>\n",
       "<style scoped>\n",
       "    .dataframe tbody tr th:only-of-type {\n",
       "        vertical-align: middle;\n",
       "    }\n",
       "\n",
       "    .dataframe tbody tr th {\n",
       "        vertical-align: top;\n",
       "    }\n",
       "\n",
       "    .dataframe thead th {\n",
       "        text-align: right;\n",
       "    }\n",
       "</style>\n",
       "<table border=\"1\" class=\"dataframe\">\n",
       "  <thead>\n",
       "    <tr style=\"text-align: right;\">\n",
       "      <th>best_senti</th>\n",
       "      <th>neg</th>\n",
       "      <th>neither</th>\n",
       "      <th>pos</th>\n",
       "      <th>total</th>\n",
       "      <th>pos_proportion</th>\n",
       "      <th>neg_proportion</th>\n",
       "      <th>neither_proportion</th>\n",
       "    </tr>\n",
       "    <tr>\n",
       "      <th>means_condition</th>\n",
       "      <th></th>\n",
       "      <th></th>\n",
       "      <th></th>\n",
       "      <th></th>\n",
       "      <th></th>\n",
       "      <th></th>\n",
       "      <th></th>\n",
       "    </tr>\n",
       "  </thead>\n",
       "  <tbody>\n",
       "    <tr>\n",
       "      <th>absent</th>\n",
       "      <td>36</td>\n",
       "      <td>13</td>\n",
       "      <td>30</td>\n",
       "      <td>79</td>\n",
       "      <td>0.379747</td>\n",
       "      <td>0.455696</td>\n",
       "      <td>0.164557</td>\n",
       "    </tr>\n",
       "    <tr>\n",
       "      <th>present</th>\n",
       "      <td>49</td>\n",
       "      <td>11</td>\n",
       "      <td>20</td>\n",
       "      <td>80</td>\n",
       "      <td>0.250000</td>\n",
       "      <td>0.612500</td>\n",
       "      <td>0.137500</td>\n",
       "    </tr>\n",
       "  </tbody>\n",
       "</table>\n",
       "</div>"
      ],
      "text/plain": [
       "best_senti       neg  neither  pos  total  pos_proportion  neg_proportion  \\\n",
       "means_condition                                                             \n",
       "absent            36       13   30     79        0.379747        0.455696   \n",
       "present           49       11   20     80        0.250000        0.612500   \n",
       "\n",
       "best_senti       neither_proportion  \n",
       "means_condition                      \n",
       "absent                     0.164557  \n",
       "present                    0.137500  "
      ]
     },
     "execution_count": 35,
     "metadata": {},
     "output_type": "execute_result"
    }
   ],
   "source": [
    "pilot_prop_valencexcontrol = pilot_master_data.groupby(['means_condition'])['best_senti'].value_counts().unstack(1)\n",
    "\n",
    "pilot_prop_valencexcontrol[\"total\"] = pilot_prop_valencexcontrol.sum(axis = 1)\n",
    "pilot_prop_valencexcontrol[\"pos_proportion\"] = pilot_prop_valencexcontrol[\"pos\"]/pilot_prop_valencexcontrol[\"total\"]\n",
    "pilot_prop_valencexcontrol[\"neg_proportion\"] = pilot_prop_valencexcontrol[\"neg\"]/pilot_prop_valencexcontrol[\"total\"]\n",
    "pilot_prop_valencexcontrol[\"neither_proportion\"] = pilot_prop_valencexcontrol[\"neither\"]/pilot_prop_valencexcontrol[\"total\"]\n",
    "pilot_prop_valencexcontrol"
   ]
  },
  {
   "cell_type": "code",
   "execution_count": 36,
   "metadata": {
    "scrolled": true
   },
   "outputs": [
    {
     "data": {
      "text/plain": [
       "Text(0, 0.5, 'Proportion of Outcomes')"
      ]
     },
     "execution_count": 36,
     "metadata": {},
     "output_type": "execute_result"
    },
    {
     "data": {
      "image/png": "[encoded data removed]",
      "text/plain": [
       "<Figure size 432x288 with 1 Axes>"
      ]
     },
     "metadata": {
      "needs_background": "light"
     },
     "output_type": "display_data"
    }
   ],
   "source": [
    "#Make a graph\n",
    "pilot_prop_valencexcontrol[['neg_proportion','pos_proportion','neither_proportion'\n",
    "                   ]].plot.bar().legend([\"Negative\", \"Positive\", \"Neither\"],loc='upper right'\n",
    ")\n",
    "plt.xlabel(\"Material Means Condition\")\n",
    "plt.ylabel(\"Proportion of Outcomes\")"
   ]
  },
  {
   "cell_type": "markdown",
   "metadata": {},
   "source": [
    "**Indeed, when we split materials by Means Condition, we see that Outcome Valence is largely dependent on Material Controllability.**"
   ]
  },
  {
   "cell_type": "code",
   "execution_count": 37,
   "metadata": {
    "scrolled": true
   },
   "outputs": [
    {
     "data": {
      "text/html": [
       "<div>\n",
       "<style scoped>\n",
       "    .dataframe tbody tr th:only-of-type {\n",
       "        vertical-align: middle;\n",
       "    }\n",
       "\n",
       "    .dataframe tbody tr th {\n",
       "        vertical-align: top;\n",
       "    }\n",
       "\n",
       "    .dataframe thead th {\n",
       "        text-align: right;\n",
       "    }\n",
       "</style>\n",
       "<table border=\"1\" class=\"dataframe\">\n",
       "  <thead>\n",
       "    <tr style=\"text-align: right;\">\n",
       "      <th>best_senti</th>\n",
       "      <th>neg</th>\n",
       "      <th>neither</th>\n",
       "      <th>pos</th>\n",
       "    </tr>\n",
       "    <tr>\n",
       "      <th>condition_code</th>\n",
       "      <th></th>\n",
       "      <th></th>\n",
       "      <th></th>\n",
       "    </tr>\n",
       "  </thead>\n",
       "  <tbody>\n",
       "    <tr>\n",
       "      <th>A</th>\n",
       "      <td>26</td>\n",
       "      <td>7</td>\n",
       "      <td>7</td>\n",
       "    </tr>\n",
       "    <tr>\n",
       "      <th>B</th>\n",
       "      <td>19</td>\n",
       "      <td>6</td>\n",
       "      <td>14</td>\n",
       "    </tr>\n",
       "    <tr>\n",
       "      <th>C</th>\n",
       "      <td>23</td>\n",
       "      <td>4</td>\n",
       "      <td>13</td>\n",
       "    </tr>\n",
       "    <tr>\n",
       "      <th>D</th>\n",
       "      <td>17</td>\n",
       "      <td>7</td>\n",
       "      <td>16</td>\n",
       "    </tr>\n",
       "  </tbody>\n",
       "</table>\n",
       "</div>"
      ],
      "text/plain": [
       "best_senti      neg  neither  pos\n",
       "condition_code                   \n",
       "A                26        7    7\n",
       "B                19        6   14\n",
       "C                23        4   13\n",
       "D                17        7   16"
      ]
     },
     "execution_count": 37,
     "metadata": {},
     "output_type": "execute_result"
    }
   ],
   "source": [
    "newf = pilot_master_data.groupby(['condition_code'])['best_senti'].value_counts().unstack([1])\n",
    "newf"
   ]
  },
  {
   "cell_type": "code",
   "execution_count": 38,
   "metadata": {},
   "outputs": [
    {
     "name": "stdout",
     "output_type": "stream",
     "text": [
      "Chi square of all conditions:\n",
      "╒══════════════════╤═══════╤═══════════╤═══════╕\n",
      "│ condition_code   │   neg │   neither │   pos │\n",
      "╞══════════════════╪═══════╪═══════════╪═══════╡\n",
      "│ A                │    26 │         7 │     7 │\n",
      "├──────────────────┼───────┼───────────┼───────┤\n",
      "│ B                │    19 │         6 │    14 │\n",
      "├──────────────────┼───────┼───────────┼───────┤\n",
      "│ C                │    23 │         4 │    13 │\n",
      "├──────────────────┼───────┼───────────┼───────┤\n",
      "│ D                │    17 │         7 │    16 │\n",
      "╘══════════════════╧═══════╧═══════════╧═══════╛\n",
      "Unadjusted Chi-Square\n",
      "X^2 =  6.842575791855204\n",
      "degrees of freedom:  6\n",
      "p =  0.3356515044126955 \n",
      "\n",
      "William's Corrected Chi-Square\n",
      "X^2 =  6.656335214802248\n",
      "degrees of freedom:  6\n",
      "p =  0.3538010033562087 \n",
      "\n"
     ]
    }
   ],
   "source": [
    "all_2_values = newf.values.tolist()\n",
    "cond_2_list = newf.index.tolist()\n",
    "name_2_list = []\n",
    "\n",
    "print(\"Chi square of all conditions:\")\n",
    "print(tabulate(newf, headers=\"keys\", tablefmt='fancy_grid'))\n",
    "chiobs, pvalue, deffre, expt = chi2_contingency(newf)\n",
    "#William's Correction\n",
    "# as calculated in R's package: Tests, function: DescTools\n",
    "## https://rdrr.io/cran/DescTools/src/R/Tests.r\n",
    "\n",
    "n = sum(newf.sum())\n",
    "nrows = newf.shape[0]#count of rows\n",
    "ncols = newf.shape[1]#count of columns\n",
    "williams_deffre = (nrows - 1)*(ncols -1)\n",
    "\n",
    "# row_total = col_total = 0\n",
    "# for i in range(nrows):\n",
    "#     row_total = row_total + 1 / ( sum( new2f.iloc[i,:] )\n",
    "#                                 ) \n",
    "# for j in range(ncols):\n",
    "#     col_total = col_total + 1 / ( sum( new2f.iloc[:,j] )\n",
    "#                                 ) \n",
    "#without loops:\n",
    "row_total = sum(1/x for x in newf.sum(axis=0))\n",
    "col_total = sum(1/x for x in newf.sum(axis=1))    \n",
    "\n",
    "q = 1+ ( (n*row_total - 1) * (n*col_total - 1 ) ) / (6 * n * williams_deffre)\n",
    "\n",
    "williams_correction = chiobs / q\n",
    "williams_pvalue = chi2.sf(williams_correction, williams_deffre)\n",
    "\n",
    "print(\"Unadjusted Chi-Square\")\n",
    "print(\"X^2 = \", chiobs)\n",
    "print(\"degrees of freedom: \", deffre)\n",
    "print(\"p = \", \"{:.16f}\".format(pvalue), '\\n')\n",
    "\n",
    "print(\"William's Corrected Chi-Square\")\n",
    "print(\"X^2 = \", williams_correction)\n",
    "print(\"degrees of freedom: \", williams_deffre)\n",
    "print(\"p = \", \"{:.16f}\".format(williams_pvalue), '\\n')"
   ]
  },
  {
   "cell_type": "code",
   "execution_count": null,
   "metadata": {},
   "outputs": [],
   "source": []
  },
  {
   "cell_type": "code",
   "execution_count": null,
   "metadata": {},
   "outputs": [],
   "source": []
  },
  {
   "cell_type": "code",
   "execution_count": 39,
   "metadata": {
    "scrolled": true
   },
   "outputs": [
    {
     "name": "stdout",
     "output_type": "stream",
     "text": [
      "['A', 'B', 'C', 'D']\n",
      "A by B\n",
      "[26, 7, 7]\n",
      "[19, 6, 14]\n",
      "X =  3.4870458031996483\n",
      "df =  2\n",
      "p = 0.1749031474163910 \n",
      "\n",
      "A by C\n",
      "[26, 7, 7]\n",
      "[23, 4, 13]\n",
      "X =  2.8018552875695732\n",
      "df =  2\n",
      "p = 0.2463683158690369 \n",
      "\n",
      "A by D\n",
      "[26, 7, 7]\n",
      "[17, 7, 16]\n",
      "X =  5.405460060667341\n",
      "df =  2\n",
      "p = 0.0670222898671780 \n",
      "\n",
      "B by A\n",
      "[19, 6, 14]\n",
      "[26, 7, 7]\n",
      "X =  3.4870458031996483\n",
      "df =  2\n",
      "p = 0.1749031474163910 \n",
      "\n",
      "B by C\n",
      "[19, 6, 14]\n",
      "[23, 4, 13]\n",
      "X =  0.8054602496269168\n",
      "df =  2\n",
      "p = 0.6684924845156822 \n",
      "\n",
      "B by D\n",
      "[19, 6, 14]\n",
      "[17, 7, 16]\n",
      "X =  0.30875876616261266\n",
      "df =  2\n",
      "p = 0.8569468481970407 \n",
      "\n",
      "C by A\n",
      "[23, 4, 13]\n",
      "[26, 7, 7]\n",
      "X =  2.8018552875695732\n",
      "df =  2\n",
      "p = 0.2463683158690369 \n",
      "\n",
      "C by B\n",
      "[23, 4, 13]\n",
      "[19, 6, 14]\n",
      "X =  0.8054602496269168\n",
      "df =  2\n",
      "p = 0.6684924845156822 \n",
      "\n",
      "C by D\n",
      "[23, 4, 13]\n",
      "[17, 7, 16]\n",
      "X =  2.028526645768025\n",
      "df =  2\n",
      "p = 0.3626695017701405 \n",
      "\n",
      "D by A\n",
      "[17, 7, 16]\n",
      "[26, 7, 7]\n",
      "X =  5.405460060667341\n",
      "df =  2\n",
      "p = 0.0670222898671780 \n",
      "\n",
      "D by B\n",
      "[17, 7, 16]\n",
      "[19, 6, 14]\n",
      "X =  0.3087587661626127\n",
      "df =  2\n",
      "p = 0.8569468481970407 \n",
      "\n",
      "D by C\n",
      "[17, 7, 16]\n",
      "[23, 4, 13]\n",
      "X =  2.028526645768025\n",
      "df =  2\n",
      "p = 0.3626695017701405 \n",
      "\n"
     ]
    }
   ],
   "source": [
    "all_values = newf.values.tolist()\n",
    "cond_list = newf.index.tolist()\n",
    "name_list = []\n",
    "print(cond_list)\n",
    "for cond1 in cond_list:\n",
    "    for cond2 in cond_list:\n",
    "        if cond1 != cond2:\n",
    "            name_list.append(cond1 + ' by ' + cond2)  \n",
    "for vals1 in all_values:\n",
    "    for vals2 in all_values:\n",
    "        if vals1 != vals2:\n",
    "            print(name_list[0])\n",
    "            del(name_list[0] )\n",
    "            print(vals1)\n",
    "            print(vals2)\n",
    "            obs = np.array([vals1,vals2])\n",
    "            chiobs, pvalue, deffre, expt = chi2_contingency(obs)\n",
    "            print(\"X = \", chiobs)\n",
    "            print(\"df = \", deffre)\n",
    "            print(\"p =\", \"{:.16f}\".format(float(pvalue)), '\\n')"
   ]
  },
  {
   "cell_type": "markdown",
   "metadata": {},
   "source": [
    "Negative Means Present by Positive Means Absent is the only trend toward significance.\n",
    "\n",
    "A (Negative - Means Present) by D (Positive - Means Absent)  \n",
    "[26, 7, 7]  \n",
    "[17, 7, 16]  \n",
    "X =  5.405  \n",
    "df =  2    \n",
    "p = 0.067"
   ]
  },
  {
   "cell_type": "code",
   "execution_count": 40,
   "metadata": {
    "scrolled": false
   },
   "outputs": [
    {
     "data": {
      "text/html": [
       "<div>\n",
       "<style scoped>\n",
       "    .dataframe tbody tr th:only-of-type {\n",
       "        vertical-align: middle;\n",
       "    }\n",
       "\n",
       "    .dataframe tbody tr th {\n",
       "        vertical-align: top;\n",
       "    }\n",
       "\n",
       "    .dataframe thead th {\n",
       "        text-align: right;\n",
       "    }\n",
       "</style>\n",
       "<table border=\"1\" class=\"dataframe\">\n",
       "  <thead>\n",
       "    <tr style=\"text-align: right;\">\n",
       "      <th>best_senti</th>\n",
       "      <th>neg</th>\n",
       "      <th>neither</th>\n",
       "      <th>pos</th>\n",
       "    </tr>\n",
       "    <tr>\n",
       "      <th>means_condition</th>\n",
       "      <th></th>\n",
       "      <th></th>\n",
       "      <th></th>\n",
       "    </tr>\n",
       "  </thead>\n",
       "  <tbody>\n",
       "    <tr>\n",
       "      <th>absent</th>\n",
       "      <td>36</td>\n",
       "      <td>13</td>\n",
       "      <td>30</td>\n",
       "    </tr>\n",
       "    <tr>\n",
       "      <th>present</th>\n",
       "      <td>49</td>\n",
       "      <td>11</td>\n",
       "      <td>20</td>\n",
       "    </tr>\n",
       "  </tbody>\n",
       "</table>\n",
       "</div>"
      ],
      "text/plain": [
       "best_senti       neg  neither  pos\n",
       "means_condition                   \n",
       "absent            36       13   30\n",
       "present           49       11   20"
      ]
     },
     "execution_count": 40,
     "metadata": {},
     "output_type": "execute_result"
    }
   ],
   "source": [
    "newf2 = pilot_master_data.groupby(['means_condition'])['best_senti'].value_counts().unstack([1])\n",
    "newf2"
   ]
  },
  {
   "cell_type": "code",
   "execution_count": 41,
   "metadata": {
    "scrolled": true
   },
   "outputs": [
    {
     "name": "stdout",
     "output_type": "stream",
     "text": [
      "['absent', 'present']\n",
      "absent by present\n",
      "[36, 13, 30]\n",
      "[49, 11, 20]\n",
      "X =  4.148776759121371\n",
      "df =  2\n",
      "p = 0.1256332438593745 \n",
      "\n",
      "present by absent\n",
      "[49, 11, 20]\n",
      "[36, 13, 30]\n",
      "X =  4.148776759121371\n",
      "df =  2\n",
      "p = 0.1256332438593745 \n",
      "\n"
     ]
    }
   ],
   "source": [
    "all_values = newf2.values.tolist()\n",
    "cond_list = newf2.index.tolist()\n",
    "name_list = []\n",
    "print(cond_list)\n",
    "for cond1 in cond_list:\n",
    "    for cond2 in cond_list:\n",
    "        if cond1 != cond2:\n",
    "            name_list.append(cond1 + ' by ' + cond2)  \n",
    "for vals1 in all_values:\n",
    "    for vals2 in all_values:\n",
    "        if vals1 != vals2:\n",
    "            print(name_list[0])\n",
    "            del(name_list[0] )\n",
    "            print(vals1)\n",
    "            print(vals2)\n",
    "            obs = np.array([vals1,vals2])\n",
    "            chiobs, pvalue, deffre, expt = chi2_contingency(obs)\n",
    "            print(\"X = \", chiobs)\n",
    "            print(\"df = \", deffre)\n",
    "            print(\"p =\", \"{:.16f}\".format(float(pvalue)), '\\n')"
   ]
  },
  {
   "cell_type": "code",
   "execution_count": 42,
   "metadata": {
    "scrolled": false
   },
   "outputs": [
    {
     "data": {
      "text/html": [
       "<div>\n",
       "<style scoped>\n",
       "    .dataframe tbody tr th:only-of-type {\n",
       "        vertical-align: middle;\n",
       "    }\n",
       "\n",
       "    .dataframe tbody tr th {\n",
       "        vertical-align: top;\n",
       "    }\n",
       "\n",
       "    .dataframe thead th {\n",
       "        text-align: right;\n",
       "    }\n",
       "</style>\n",
       "<table border=\"1\" class=\"dataframe\">\n",
       "  <thead>\n",
       "    <tr style=\"text-align: right;\">\n",
       "      <th>best_senti</th>\n",
       "      <th>neg</th>\n",
       "      <th>neither</th>\n",
       "      <th>pos</th>\n",
       "    </tr>\n",
       "    <tr>\n",
       "      <th>valence_condition</th>\n",
       "      <th></th>\n",
       "      <th></th>\n",
       "      <th></th>\n",
       "    </tr>\n",
       "  </thead>\n",
       "  <tbody>\n",
       "    <tr>\n",
       "      <th>negative</th>\n",
       "      <td>45</td>\n",
       "      <td>13</td>\n",
       "      <td>21</td>\n",
       "    </tr>\n",
       "    <tr>\n",
       "      <th>positive</th>\n",
       "      <td>40</td>\n",
       "      <td>11</td>\n",
       "      <td>29</td>\n",
       "    </tr>\n",
       "  </tbody>\n",
       "</table>\n",
       "</div>"
      ],
      "text/plain": [
       "best_senti         neg  neither  pos\n",
       "valence_condition                   \n",
       "negative            45       13   21\n",
       "positive            40       11   29"
      ]
     },
     "execution_count": 42,
     "metadata": {},
     "output_type": "execute_result"
    }
   ],
   "source": [
    "newf3 = pilot_master_data.groupby(['valence_condition'])['best_senti'].value_counts().unstack([1])\n",
    "newf3"
   ]
  },
  {
   "cell_type": "code",
   "execution_count": 43,
   "metadata": {
    "scrolled": false
   },
   "outputs": [
    {
     "name": "stdout",
     "output_type": "stream",
     "text": [
      "['negative', 'positive']\n",
      "negative by positive\n",
      "[45, 13, 21]\n",
      "[40, 11, 29]\n",
      "X =  1.7345636169024568\n",
      "df =  2\n",
      "p = 0.4200918889368790 \n",
      "\n",
      "positive by negative\n",
      "[40, 11, 29]\n",
      "[45, 13, 21]\n",
      "X =  1.7345636169024572\n",
      "df =  2\n",
      "p = 0.4200918889368790 \n",
      "\n"
     ]
    }
   ],
   "source": [
    "all_values = newf3.values.tolist()\n",
    "cond_list = newf3.index.tolist()\n",
    "name_list = []\n",
    "print(cond_list)\n",
    "for cond1 in cond_list:\n",
    "    for cond2 in cond_list:\n",
    "        if cond1 != cond2:\n",
    "            name_list.append(cond1 + ' by ' + cond2)  \n",
    "for vals1 in all_values:\n",
    "    for vals2 in all_values:\n",
    "        if vals1 != vals2:\n",
    "            print(name_list[0])\n",
    "            del(name_list[0] )\n",
    "            print(vals1)\n",
    "            print(vals2)\n",
    "            obs = np.array([vals1,vals2])\n",
    "            chiobs, pvalue, deffre, expt = chi2_contingency(obs)\n",
    "            print(\"X = \", chiobs)\n",
    "            print(\"df = \", deffre)\n",
    "            print(\"p =\", \"{:.16f}\".format(float(pvalue)), '\\n')"
   ]
  },
  {
   "cell_type": "code",
   "execution_count": 44,
   "metadata": {},
   "outputs": [
    {
     "data": {
      "text/plain": [
       "(array([0, 1, 2, 3]), <a list of 4 Text xticklabel objects>)"
      ]
     },
     "execution_count": 44,
     "metadata": {},
     "output_type": "execute_result"
    },
    {
     "data": {
      "image/png": "[encoded data removed]",
      "text/plain": [
       "<Figure size 864x504 with 1 Axes>"
      ]
     },
     "metadata": {
      "needs_background": "light"
     },
     "output_type": "display_data"
    }
   ],
   "source": [
    "plot_valence_by_cond = pilot_master_data.groupby(['condition_code'])['best_control'].value_counts().unstack(\n",
    "    [1]).reset_index()\n",
    "index = [\"Negative - Means Present\",\n",
    "         \"Negative - Means Absent\",\n",
    "         \"Positive - Means Present\",\n",
    "         \"Positive - Means Absent\"]\n",
    "plot_valence_by_cond['condition_code'] = index\n",
    "plot_valence_by_cond = plot_valence_by_cond.set_index('condition_code')\n",
    "\n",
    "condition_order = [\"Negative - Means Absent\",\n",
    "                   \"Positive - Means Absent\",\n",
    "                   \"Negative - Means Present\",\n",
    "                   \"Positive - Means Present\",]\n",
    "\n",
    "plot_valence_by_cond[[\"uncontrollable\", \"controllable\", \"neither_control\"]].loc[condition_order].plot.bar(figsize = (12,7),\n",
    "                              title=\"Outcome Controllability by Material Valence Condition and Means Condition\")\n",
    "plt.xlabel(\"Condition Code\") \n",
    "plt.ylabel(\"Frequency of Outcomes\")\n",
    "\n",
    "plt.xticks(rotation=0)\n",
    "\n",
    "# #print the data\n",
    "# pilot_master_data.groupby(['valence_condition', 'means_condition'])['best_senti'].value_counts().unstack([2])"
   ]
  },
  {
   "cell_type": "markdown",
   "metadata": {},
   "source": [
    "When looking at Outcome Controllability, there does not appear to be much difference in response frequencies based on the material conditions.\n",
    "\n",
    "All materials received more Uncontrollable than Controllable outcome responses.\n",
    "\n",
    "Negative and Means Absent Materials received mostly (67%) uncontrollable outcome responses, and fewer (28%) controllable responses as well. Likewise, Positive and Means Present Materials received mostly (73%) uncontrollable outcome responses, and fewer (23%) controllable outcome responses.\n",
    "\n",
    "Negative Means Present Materials received fewer, but still a majority of uncontrollable outcome responses (55% uncontrollable; 30% controllable). Positive Means Absent Materials also received a high proportion of uncontrollable (63% uncontrollable; 20% controllable).\n"
   ]
  },
  {
   "cell_type": "code",
   "execution_count": 45,
   "metadata": {
    "scrolled": false
   },
   "outputs": [
    {
     "data": {
      "text/html": [
       "<div>\n",
       "<style scoped>\n",
       "    .dataframe tbody tr th:only-of-type {\n",
       "        vertical-align: middle;\n",
       "    }\n",
       "\n",
       "    .dataframe tbody tr th {\n",
       "        vertical-align: top;\n",
       "    }\n",
       "\n",
       "    .dataframe thead th {\n",
       "        text-align: right;\n",
       "    }\n",
       "</style>\n",
       "<table border=\"1\" class=\"dataframe\">\n",
       "  <thead>\n",
       "    <tr style=\"text-align: right;\">\n",
       "      <th>best_control</th>\n",
       "      <th>controllable</th>\n",
       "      <th>neither_control</th>\n",
       "      <th>uncontrollable</th>\n",
       "      <th>total</th>\n",
       "      <th>controllable_proportion</th>\n",
       "      <th>uncontrollable_proportion</th>\n",
       "      <th>neither_control_proportion</th>\n",
       "    </tr>\n",
       "    <tr>\n",
       "      <th>valence_condition</th>\n",
       "      <th></th>\n",
       "      <th></th>\n",
       "      <th></th>\n",
       "      <th></th>\n",
       "      <th></th>\n",
       "      <th></th>\n",
       "      <th></th>\n",
       "    </tr>\n",
       "  </thead>\n",
       "  <tbody>\n",
       "    <tr>\n",
       "      <th>negative</th>\n",
       "      <td>23</td>\n",
       "      <td>8</td>\n",
       "      <td>48</td>\n",
       "      <td>79</td>\n",
       "      <td>0.291139</td>\n",
       "      <td>0.607595</td>\n",
       "      <td>0.101266</td>\n",
       "    </tr>\n",
       "    <tr>\n",
       "      <th>positive</th>\n",
       "      <td>17</td>\n",
       "      <td>9</td>\n",
       "      <td>54</td>\n",
       "      <td>80</td>\n",
       "      <td>0.212500</td>\n",
       "      <td>0.675000</td>\n",
       "      <td>0.112500</td>\n",
       "    </tr>\n",
       "  </tbody>\n",
       "</table>\n",
       "</div>"
      ],
      "text/plain": [
       "best_control       controllable  neither_control  uncontrollable  total  \\\n",
       "valence_condition                                                         \n",
       "negative                     23                8              48     79   \n",
       "positive                     17                9              54     80   \n",
       "\n",
       "best_control       controllable_proportion  uncontrollable_proportion  \\\n",
       "valence_condition                                                       \n",
       "negative                          0.291139                   0.607595   \n",
       "positive                          0.212500                   0.675000   \n",
       "\n",
       "best_control       neither_control_proportion  \n",
       "valence_condition                              \n",
       "negative                             0.101266  \n",
       "positive                             0.112500  "
      ]
     },
     "execution_count": 45,
     "metadata": {},
     "output_type": "execute_result"
    }
   ],
   "source": [
    "pilot_prop_controlxvalence = pilot_master_data.groupby(['valence_condition'])['best_control'].value_counts().unstack(1)\n",
    "\n",
    "pilot_prop_controlxvalence[\"total\"] = pilot_prop_controlxvalence.sum(axis = 1)\n",
    "pilot_prop_controlxvalence[\"controllable_proportion\"] = pilot_prop_controlxvalence[\"controllable\"]/pilot_prop_controlxvalence[\"total\"]\n",
    "pilot_prop_controlxvalence[\"uncontrollable_proportion\"] = pilot_prop_controlxvalence[\"uncontrollable\"]/pilot_prop_controlxvalence[\"total\"]\n",
    "pilot_prop_controlxvalence[\"neither_control_proportion\"] = pilot_prop_controlxvalence[\"neither_control\"]/pilot_prop_controlxvalence[\"total\"]\n",
    "pilot_prop_controlxvalence"
   ]
  },
  {
   "cell_type": "code",
   "execution_count": 46,
   "metadata": {},
   "outputs": [
    {
     "data": {
      "text/plain": [
       "Text(0, 0.5, 'Proportion of Outcomes')"
      ]
     },
     "execution_count": 46,
     "metadata": {},
     "output_type": "execute_result"
    },
    {
     "data": {
      "image/png": "[encoded data removed]",
      "text/plain": [
       "<Figure size 432x288 with 1 Axes>"
      ]
     },
     "metadata": {
      "needs_background": "light"
     },
     "output_type": "display_data"
    }
   ],
   "source": [
    "#Make a graph\n",
    "pilot_prop_controlxvalence[['uncontrollable_proportion','controllable_proportion','neither_control_proportion'\n",
    "                   ]].plot.bar().legend([\"Uncontrollable\", \"Controllable\", \"Neither\"],loc='upper center'\n",
    ")\n",
    "plt.xlabel(\"Material Valence\")\n",
    "plt.ylabel(\"Proportion of Outcomes\")"
   ]
  },
  {
   "cell_type": "markdown",
   "metadata": {},
   "source": [
    "**A split of outcome controllability by Valence condition shows the same.**"
   ]
  },
  {
   "cell_type": "markdown",
   "metadata": {},
   "source": [
    "### Correlational"
   ]
  },
  {
   "cell_type": "code",
   "execution_count": 47,
   "metadata": {
    "scrolled": true
   },
   "outputs": [
    {
     "data": {
      "text/html": [
       "<div>\n",
       "<style scoped>\n",
       "    .dataframe tbody tr th:only-of-type {\n",
       "        vertical-align: middle;\n",
       "    }\n",
       "\n",
       "    .dataframe tbody tr th {\n",
       "        vertical-align: top;\n",
       "    }\n",
       "\n",
       "    .dataframe thead th {\n",
       "        text-align: right;\n",
       "    }\n",
       "</style>\n",
       "<table border=\"1\" class=\"dataframe\">\n",
       "  <thead>\n",
       "    <tr style=\"text-align: right;\">\n",
       "      <th></th>\n",
       "      <th>random</th>\n",
       "      <th>subset</th>\n",
       "      <th>material</th>\n",
       "      <th>condition_code</th>\n",
       "      <th>valence_condition</th>\n",
       "      <th>means_condition</th>\n",
       "      <th>goal_step</th>\n",
       "      <th>action_step</th>\n",
       "      <th>resources_step</th>\n",
       "      <th>numeric_valence</th>\n",
       "      <th>...</th>\n",
       "      <th>SessionID</th>\n",
       "      <th>user_id</th>\n",
       "      <th>reject</th>\n",
       "      <th>variable</th>\n",
       "      <th>answer_text</th>\n",
       "      <th>best_ans</th>\n",
       "      <th>value</th>\n",
       "      <th>best_senti</th>\n",
       "      <th>best_obj</th>\n",
       "      <th>best_control</th>\n",
       "    </tr>\n",
       "  </thead>\n",
       "  <tbody>\n",
       "    <tr>\n",
       "      <th>0</th>\n",
       "      <td>0.466593</td>\n",
       "      <td>3</td>\n",
       "      <td>lucy_loan</td>\n",
       "      <td>B</td>\n",
       "      <td>negative</td>\n",
       "      <td>absent</td>\n",
       "      <td>Lucy hates her old car and wants to buy a new ...</td>\n",
       "      <td>Lucy calls the bank to get a loan for a new car.</td>\n",
       "      <td>The car dealer says her old car is a wreck and...</td>\n",
       "      <td>3.125</td>\n",
       "      <td>...</td>\n",
       "      <td>1593509195_5efb054bad2ce6.48278228</td>\n",
       "      <td>5e5ce3bf1377484b52ea2c07</td>\n",
       "      <td>keep</td>\n",
       "      <td>lucy_loan</td>\n",
       "      <td>Lucy did not get approved for the bank loan to...</td>\n",
       "      <td>ll_neg_ans1</td>\n",
       "      <td>1.0</td>\n",
       "      <td>neg</td>\n",
       "      <td>goal</td>\n",
       "      <td>uncontrollable</td>\n",
       "    </tr>\n",
       "    <tr>\n",
       "      <th>1</th>\n",
       "      <td>0.263349</td>\n",
       "      <td>3</td>\n",
       "      <td>lucy_loan</td>\n",
       "      <td>C</td>\n",
       "      <td>positive</td>\n",
       "      <td>present</td>\n",
       "      <td>Lucy hates her old car and wants to buy a new ...</td>\n",
       "      <td>Lucy calls the bank to get a loan for a new car.</td>\n",
       "      <td>The car dealer says her old car is a classic a...</td>\n",
       "      <td>6.125</td>\n",
       "      <td>...</td>\n",
       "      <td>1593514075_5efb185b572dd5.32957800</td>\n",
       "      <td>5a69175331b87a0001c76149</td>\n",
       "      <td>keep</td>\n",
       "      <td>lucy_loan</td>\n",
       "      <td>the car gets stolen before she is able to sell...</td>\n",
       "      <td>ll_other</td>\n",
       "      <td>1.0</td>\n",
       "      <td>neg</td>\n",
       "      <td>goal</td>\n",
       "      <td>uncontrollable</td>\n",
       "    </tr>\n",
       "  </tbody>\n",
       "</table>\n",
       "<p>2 rows × 33 columns</p>\n",
       "</div>"
      ],
      "text/plain": [
       "     random  subset   material condition_code valence_condition  \\\n",
       "0  0.466593       3  lucy_loan              B          negative   \n",
       "1  0.263349       3  lucy_loan              C          positive   \n",
       "\n",
       "  means_condition                                          goal_step  \\\n",
       "0          absent  Lucy hates her old car and wants to buy a new ...   \n",
       "1         present  Lucy hates her old car and wants to buy a new ...   \n",
       "\n",
       "                                        action_step  \\\n",
       "0  Lucy calls the bank to get a loan for a new car.   \n",
       "1  Lucy calls the bank to get a loan for a new car.   \n",
       "\n",
       "                                      resources_step  numeric_valence  ...  \\\n",
       "0  The car dealer says her old car is a wreck and...            3.125  ...   \n",
       "1  The car dealer says her old car is a classic a...            6.125  ...   \n",
       "\n",
       "                            SessionID                   user_id  reject  \\\n",
       "0  1593509195_5efb054bad2ce6.48278228  5e5ce3bf1377484b52ea2c07    keep   \n",
       "1  1593514075_5efb185b572dd5.32957800  5a69175331b87a0001c76149    keep   \n",
       "\n",
       "    variable                                        answer_text     best_ans  \\\n",
       "0  lucy_loan  Lucy did not get approved for the bank loan to...  ll_neg_ans1   \n",
       "1  lucy_loan  the car gets stolen before she is able to sell...     ll_other   \n",
       "\n",
       "  value best_senti  best_obj    best_control  \n",
       "0   1.0        neg      goal  uncontrollable  \n",
       "1   1.0        neg      goal  uncontrollable  \n",
       "\n",
       "[2 rows x 33 columns]"
      ]
     },
     "execution_count": 47,
     "metadata": {},
     "output_type": "execute_result"
    }
   ],
   "source": [
    "pilot_master_data.head(2)"
   ]
  },
  {
   "cell_type": "markdown",
   "metadata": {},
   "source": [
    "#### Where larger numbers are more positive and more controllable and smaller numbers are more negative and uncontrollable"
   ]
  },
  {
   "cell_type": "code",
   "execution_count": 48,
   "metadata": {},
   "outputs": [],
   "source": [
    "# but first, I need to make numeric variables for the valence and controllability ratings.\n",
    "numeric_ratings = [0,1,0.5]\n",
    "#NaN so that neithers in between...\n",
    "\n",
    "# pair the numbers with the ordered (text) ratings\n",
    "numeric_valence_ratings = dict(zip(valence_order, numeric_ratings))\n",
    "numeric_control_ratings = dict(zip(control_order, numeric_ratings))\n",
    "\n",
    "#check\n",
    "#print(numeric_valence_ratings)\n",
    "#list(numeric_control_ratings)\n",
    "\n",
    "pilot_master_data['outcome_numeric_valence'] = pilot_master_data['best_senti'].map(\n",
    "    lambda x: numeric_valence_ratings[x] if x != -9999 else None\n",
    ")\n",
    "\n",
    "pilot_master_data['outcome_numeric_control'] = pilot_master_data['best_control'].map(\n",
    "    lambda x: numeric_control_ratings[x] if x != -9999 else None\n",
    ")"
   ]
  },
  {
   "cell_type": "code",
   "execution_count": 49,
   "metadata": {},
   "outputs": [
    {
     "data": {
      "text/plain": [
       "['pos', 'neg', 'neither']"
      ]
     },
     "execution_count": 49,
     "metadata": {},
     "output_type": "execute_result"
    }
   ],
   "source": [
    "valence_order"
   ]
  },
  {
   "cell_type": "code",
   "execution_count": 50,
   "metadata": {
    "scrolled": true
   },
   "outputs": [
    {
     "data": {
      "text/plain": [
       "Text(0, 0.5, 'Proportion of Outcomes')"
      ]
     },
     "execution_count": 50,
     "metadata": {},
     "output_type": "execute_result"
    },
    {
     "data": {
      "image/png": "[encoded data removed]",
      "text/plain": [
       "<Figure size 432x288 with 1 Axes>"
      ]
     },
     "metadata": {
      "needs_background": "light"
     },
     "output_type": "display_data"
    }
   ],
   "source": [
    "#Make a graph\n",
    "pilot_prop_valencexcontrol[['neg_proportion','pos_proportion','neither_proportion'\n",
    "                   ]].plot.bar().legend([\"Negative\", \"Positive\", \"Neither\"],loc='upper right'\n",
    ")\n",
    "plt.xlabel(\"Material Means Condition\")\n",
    "plt.ylabel(\"Proportion of Outcomes\")"
   ]
  },
  {
   "cell_type": "markdown",
   "metadata": {},
   "source": [
    "### Interaction Graph"
   ]
  },
  {
   "cell_type": "code",
   "execution_count": 51,
   "metadata": {},
   "outputs": [],
   "source": [
    "interaction_data = pilot_master_data.groupby('condition_code')"
   ]
  },
  {
   "cell_type": "code",
   "execution_count": 52,
   "metadata": {
    "scrolled": true
   },
   "outputs": [
    {
     "data": {
      "image/png": "[encoded data removed]",
      "text/plain": [
       "<Figure size 432x288 with 1 Axes>"
      ]
     },
     "metadata": {
      "needs_background": "light"
     },
     "output_type": "display_data"
    }
   ],
   "source": [
    "conditions = {'A':'Negative-Present', 'C':'Positive-Present', 'B':'Negative-Absent', 'D':'Positive-Absent'}    \n",
    "\n",
    "fig, ax = plt.subplots()\n",
    "ax.plot(interaction_data.get_group('A')[\"outcome_numeric_valence\"].mean(), \n",
    "        interaction_data.get_group('A')[\"outcome_numeric_control\"].mean(),  'tab:orange',\n",
    "               marker=\"o\", linestyle=\"\"\n",
    "       )\n",
    "ax.plot(interaction_data.get_group('B')[\"outcome_numeric_valence\"].mean(), \n",
    "        interaction_data.get_group('B')[\"outcome_numeric_control\"].mean(),  'tab:green',\n",
    "               marker=\"o\", linestyle=\"\"\n",
    "       )\n",
    "ax.plot(interaction_data.get_group('C')[\"outcome_numeric_valence\"].mean(), \n",
    "        interaction_data.get_group('C')[\"outcome_numeric_control\"].mean(),  'tab:red',\n",
    "               marker=\"o\", linestyle=\"\"\n",
    "       )\n",
    "ax.plot(interaction_data.get_group('D')[\"outcome_numeric_valence\"].mean(), \n",
    "        interaction_data.get_group('D')[\"outcome_numeric_control\"].mean(),  'tab:blue',\n",
    "               marker=\"o\", linestyle=\"\"\n",
    "       )\n",
    "\n",
    "ax.set(xlabel='Avg Outcome Valence Rating', ylabel='Avg Outcome Control Rating')\n",
    "ax.legend(['Negative-Present','Positive-Present','Negative-Absent','Positive-Absent'])\n",
    "\n",
    "plt.show()\n"
   ]
  }
 ],
 "metadata": {
  "kernelspec": {
   "display_name": "Python 3",
   "language": "python",
   "name": "python3"
  },
  "language_info": {
   "codemirror_mode": {
    "name": "ipython",
    "version": 3
   },
   "file_extension": ".py",
   "mimetype": "text/x-python",
   "name": "python",
   "nbconvert_exporter": "python",
   "pygments_lexer": "ipython3",
   "version": "3.6.8"
  },
  "toc": {
   "base_numbering": 1,
   "nav_menu": {},
   "number_sections": true,
   "sideBar": true,
   "skip_h1_title": false,
   "title_cell": "Table of Contents",
   "title_sidebar": "Contents",
   "toc_cell": false,
   "toc_position": {},
   "toc_section_display": true,
   "toc_window_display": false
  }
 },
 "nbformat": 4,
 "nbformat_minor": 2
}
