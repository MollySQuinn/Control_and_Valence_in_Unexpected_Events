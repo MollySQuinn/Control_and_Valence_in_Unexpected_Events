{
 "cells": [
  {
   "cell_type": "code",
   "execution_count": 1,
   "id": "86e15379",
   "metadata": {},
   "outputs": [
    {
     "name": "stdout",
     "output_type": "stream",
     "text": [
      "Choose whether to display code or not.\n"
     ]
    },
    {
     "data": {
      "text/html": [
       "<script>\n",
       "code_show=true; \n",
       "function code_toggle() {\n",
       " if (code_show){\n",
       " $('div.input').show();\n",
       " } else {\n",
       " $('div.input').hide();\n",
       " }\n",
       " code_show = !code_show\n",
       "} \n",
       "$( document ).ready(code_toggle);\n",
       "</script>\n",
       "<form action=\"javascript:code_toggle()\"><input type=\"submit\" value=\"Show Code?\"></form>"
      ],
      "text/plain": [
       "<IPython.core.display.HTML object>"
      ]
     },
     "execution_count": 1,
     "metadata": {},
     "output_type": "execute_result"
    }
   ],
   "source": [
    "print('Choose whether to display code or not.')\n",
    "from IPython.display import HTML\n",
    "\n",
    "HTML('''<script>\n",
    "code_show=true; \n",
    "function code_toggle() {\n",
    " if (code_show){\n",
    " $('div.input').show();\n",
    " } else {\n",
    " $('div.input').hide();\n",
    " }\n",
    " code_show = !code_show\n",
    "} \n",
    "$( document ).ready(code_toggle);\n",
    "</script>\n",
    "<form action=\"javascript:code_toggle()\"><input type=\"submit\" value=\"Show Code?\"></form>''')"
   ]
  },
  {
   "cell_type": "code",
   "execution_count": 2,
   "id": "5a77a169",
   "metadata": {},
   "outputs": [
    {
     "name": "stdout",
     "output_type": "stream",
     "text": [
      "3.6.8\n"
     ]
    }
   ],
   "source": [
    "from platform import python_version\n",
    "\n",
    "print(python_version())"
   ]
  },
  {
   "cell_type": "code",
   "execution_count": 3,
   "id": "5512e0eb",
   "metadata": {},
   "outputs": [],
   "source": [
    "#load packages\n",
    "import os\n",
    "from tabulate import tabulate  # Used to display text-based tables.\n",
    "import pandas as pd\n",
    "import numpy as np\n",
    "import math\n",
    "from matplotlib.pylab import plt\n",
    "from scipy.stats import chi2\n",
    "from scipy.stats import chi2_contingency\n",
    "import scipy.stats as stats\n",
    "from sklearn.linear_model import LogisticRegression\n",
    "from statsmodels.discrete.discrete_model import MNLogit\n",
    "from sklearn import metrics\n",
    "import statsmodels.api as sm\n",
    "from tabulate import tabulate\n",
    "import plotly.graph_objects as go\n",
    "from plotly.subplots import make_subplots\n",
    "\n",
    "# The important Kallysto imports.\n",
    "from kallysto.publication import Publication\n",
    "from kallysto.export import Export\n",
    "from kallysto.formatter import Latex, Markdown\n",
    "import kallysto.markdown\n",
    "\n",
    "#williams correction from same folder\n",
    "from williams_correction import williams_correction"
   ]
  },
  {
   "cell_type": "code",
   "execution_count": 4,
   "id": "4f13c929",
   "metadata": {
    "scrolled": true
   },
   "outputs": [
    {
     "data": {
      "text/plain": [
       "'/Users/mollyq/Documents/GitHub/Control_and_Valence_in_Unexpected_Events'"
      ]
     },
     "execution_count": 4,
     "metadata": {},
     "output_type": "execute_result"
    }
   ],
   "source": [
    "#set working directory to top level project folder\n",
    "os.chdir('..')\n",
    "os.getcwd()"
   ]
  },
  {
   "cell_type": "code",
   "execution_count": null,
   "id": "3bbad3a3",
   "metadata": {},
   "outputs": [],
   "source": []
  },
  {
   "cell_type": "code",
   "execution_count": 5,
   "id": "db93fcf9",
   "metadata": {},
   "outputs": [],
   "source": [
    "# Create a link between this notebook and the target publication (a_report)\n",
    "latex_report = Publication(\n",
    "    notebook='4_Experiment1_Analysis.ipynb',  # Current notebook name\n",
    "    title='control_report',     # Publication name\n",
    "    pub_path='3_output/',         # Location of publication project relative to this notebook.\n",
    "    formatter=Latex,          # Default publictaion format; Markdown can also be used.\n",
    "    \n",
    "    overwrite=True,           # Overwrite any existing exports if they exist.\n",
    "    fresh_start=False          # True: Delete log and include files if they exist.\n",
    ")"
   ]
  },
  {
   "cell_type": "markdown",
   "id": "72c7e892",
   "metadata": {},
   "source": [
    "# Methods"
   ]
  },
  {
   "cell_type": "markdown",
   "id": "2be2773d",
   "metadata": {},
   "source": [
    "## Design\n",
    "The study design is a between-subjects design with two binary categorical independent variables, Valence (Positive or Negative) and Means Availability (Present or Absent). The two dependent variables are proportions of outcomes that fall into a specific category: Valence (proportion negative) and Controllability (proportion uncontrollable).\n",
    "\n",
    "## Participants\n",
    "An a priori power analysis was conducted to determine the necessary sample size for a binomial logistic regression with two dichotomous predictor variables. A small effect size of OR = 2.04 was found for the valence predictor in previous research (Chen, Cohen, & Chen, 2010; Quinn & Keane, 2020), and a very small effect size (OR = 1.17) was found for the interaction effect in the pilot test of this study; as such, we estimate a small effect size (OR = 2.04) to maximize the likelihood of correctly rejecting the null hypothesis for the main effects. Following the guidelines set in (Verma & Verma, 2020), G*Power was used to reveal that a sample size of N = 218 would be sufficient to observe an effect of this size at an alpha of 0.05 and power of 0.80 for a one-tailed test with a binomial distribution in which the probability of a negative outcome is 0.56 when the predictor variable of valence is negative and when the predictor variables of valence and means availability are not correlated. For ease, 220 particpants were recruited through the Prolific.co crowdsourcing platform. One participant did not complete the study and was not included, leaving 219 participants.  \n",
    "\n",
    "Incomplete or incorrect responses were assessed upon receipt of the participants survey answers and any exclusions were replaced by another participant before analyses were conducted.\n"
   ]
  },
  {
   "cell_type": "code",
   "execution_count": 6,
   "id": "f497350e",
   "metadata": {},
   "outputs": [
    {
     "data": {
      "text/plain": [
       "Index(['Unnamed: 0', 'session_id', 'participant_id', 'status',\n",
       "       'started_datetime', 'completed_date_time', 'time_taken', 'age',\n",
       "       'reviewed_at_datetime', 'entered_code', 'Nationality', 'Sex',\n",
       "       'Response ID', 'Time Started', 'Date Submitted', 'Status', 'Contact ID',\n",
       "       'Legacy Comments', 'Comments', 'Language', 'Referer', 'SessionID',\n",
       "       'User Agent', 'Tags', 'valence_condition', 'means_condition', 'user_id',\n",
       "       'Sentiment - user_id', 'sarah_parents.response',\n",
       "       'Sentiment - sarah_parents.response', 'blue_team.response',\n",
       "       'Sentiment - blue_team.response', 'bill_holiday.response',\n",
       "       'Sentiment - bill_holiday.response', 'john_party.response',\n",
       "       'Sentiment - john_party.response', 'rebecca_swimming.response',\n",
       "       'Sentiment - rebecca_swimming.response', 'sally_wine.response',\n",
       "       'Sentiment - sally_wine.response', 'belinda_meeting.response',\n",
       "       'Sentiment - belinda_meeting.response', 'lucy_loan.response',\n",
       "       'Sentiment - lucy_loan.response', 'michael_breakfast.response',\n",
       "       'Sentiment - michael_breakfast.response', 'sean_call.response',\n",
       "       'Sentiment - sean_call.response',\n",
       "       'Have you ever taken part in a similar study before?',\n",
       "       'Prolific URL Redirect'],\n",
       "      dtype='object')"
      ]
     },
     "execution_count": 6,
     "metadata": {},
     "output_type": "execute_result"
    }
   ],
   "source": [
    "raw_data = pd.read_csv('2_pipeline/2_main_study/master_raw_data.csv')\n",
    "raw_data.columns"
   ]
  },
  {
   "cell_type": "code",
   "execution_count": 7,
   "id": "80f21bae",
   "metadata": {},
   "outputs": [
    {
     "data": {
      "text/plain": [
       "219"
      ]
     },
     "execution_count": 7,
     "metadata": {},
     "output_type": "execute_result"
    }
   ],
   "source": [
    "N = raw_data['user_id'].nunique()\n",
    "N"
   ]
  },
  {
   "cell_type": "code",
   "execution_count": 8,
   "id": "224a0053",
   "metadata": {},
   "outputs": [
    {
     "data": {
      "text/plain": [
       "Value('N', 219)"
      ]
     },
     "execution_count": 8,
     "metadata": {},
     "output_type": "execute_result"
    }
   ],
   "source": [
    "total_n = Export.value('N', N) \n",
    "total_n > latex_report"
   ]
  },
  {
   "cell_type": "code",
   "execution_count": 9,
   "id": "e57d039e",
   "metadata": {
    "scrolled": true
   },
   "outputs": [
    {
     "name": "stdout",
     "output_type": "stream",
     "text": [
      "                  Example\n",
      "----------------  ----------------------------------------------------------------------------------------------\n",
      "1. Goal Sentence  Sally wants to buy a bottle of wine for her Friday evening dinner.\n",
      "2. Goal Step      Sally decides to go to the corner-shop near her house.\n",
      "3. Condition      The shop is (shut/open) and Sally has (an argument/a good chat) with a neighbour walking home.\n"
     ]
    }
   ],
   "source": [
    "#Example Material for the Paper\n",
    "sally_material = pd.DataFrame.from_dict(\n",
    "    \n",
    "    {'Example': {\"1. Goal Sentence\": \"Sally wants to buy a bottle of wine for her Friday evening dinner.\", \n",
    "                 \"2. Goal Step\": \"Sally decides to go to the corner-shop near her house.\",\n",
    "                 \"3. Condition\": \"The shop is (shut/open) and Sally has (an argument/a good chat) with a neighbour walking home.\"\n",
    "                },\n",
    "    }\n",
    ")\n",
    "\n",
    "\n",
    "print(tabulate(sally_material, headers=\"keys\"))"
   ]
  },
  {
   "cell_type": "code",
   "execution_count": 10,
   "id": "989e7a3c",
   "metadata": {},
   "outputs": [
    {
     "data": {
      "text/plain": [
       "Table('ExampleMaterial',                                                             Example\n",
       "1. Goal Sentence  Sally wants to buy a bottle of wine for her Fr...\n",
       "2. Goal Step      Sally decides to go to the corner-shop near he...\n",
       "3. Condition      The shop is (shut/open) and Sally has (an argu..., 'Example material.')"
      ]
     },
     "execution_count": 10,
     "metadata": {},
     "output_type": "execute_result"
    }
   ],
   "source": [
    "# Create a table export object and store in a variable called table.\n",
    "example_material_table = Export.table('ExampleMaterial', \n",
    "             data=sally_material,\n",
    "             caption='Example material.'\n",
    ") \n",
    "\n",
    "# Transfer the export to the latex report.\n",
    "example_material_table > latex_report"
   ]
  },
  {
   "cell_type": "markdown",
   "id": "f870547e",
   "metadata": {},
   "source": [
    "### Demographics. \n",
    "The mean age of participants was 34.75 (SD = 12.56). Participants were 63.76% female and 36.24% male. Participants were all native English speakers from the UK (89.04%), US (5.48%), or Ireland (5.48%)."
   ]
  },
  {
   "cell_type": "code",
   "execution_count": 11,
   "id": "3be107bf",
   "metadata": {},
   "outputs": [
    {
     "data": {
      "text/plain": [
       "count    219.000000\n",
       "mean      34.753425\n",
       "std       12.562264\n",
       "min       18.000000\n",
       "25%       25.000000\n",
       "50%       32.000000\n",
       "75%       42.500000\n",
       "max       83.000000\n",
       "Name: age, dtype: float64"
      ]
     },
     "execution_count": 11,
     "metadata": {},
     "output_type": "execute_result"
    }
   ],
   "source": [
    "# Age of Participants\n",
    "age = raw_data['age'].describe()\n",
    "age"
   ]
  },
  {
   "cell_type": "code",
   "execution_count": 12,
   "id": "57a3a4ce",
   "metadata": {},
   "outputs": [],
   "source": [
    "for a in [\"mean\",\"std\"]:\n",
    "    value = Export.value(str(a.replace(\" \", \"\") + \"age\"), str(round(age[a], 2))) \n",
    "    value > latex_report"
   ]
  },
  {
   "cell_type": "code",
   "execution_count": 13,
   "id": "244807c9",
   "metadata": {},
   "outputs": [
    {
     "data": {
      "text/plain": [
       "Female    63.761468\n",
       "Male      36.238532\n",
       "Name: Sex, dtype: float64"
      ]
     },
     "execution_count": 13,
     "metadata": {},
     "output_type": "execute_result"
    }
   ],
   "source": [
    "# Sex of Participants\n",
    "sex = raw_data['Sex'].value_counts(normalize=True)*100\n",
    "sex"
   ]
  },
  {
   "cell_type": "code",
   "execution_count": 14,
   "id": "4fdc344c",
   "metadata": {},
   "outputs": [],
   "source": [
    "for s in sex.index:\n",
    "    value = Export.value(s.replace(\" \", \"\"), str(round(sex[s], 2))) \n",
    "    value > latex_report"
   ]
  },
  {
   "cell_type": "code",
   "execution_count": 15,
   "id": "b32d5b6e",
   "metadata": {},
   "outputs": [
    {
     "data": {
      "text/plain": [
       "United Kingdom    89.041096\n",
       "United States      5.479452\n",
       "Ireland            5.479452\n",
       "Name: Nationality, dtype: float64"
      ]
     },
     "execution_count": 15,
     "metadata": {},
     "output_type": "execute_result"
    }
   ],
   "source": [
    "# Sex of Participants\n",
    "nationality = raw_data['Nationality'].value_counts(normalize=True)*100\n",
    "nationality"
   ]
  },
  {
   "cell_type": "code",
   "execution_count": 16,
   "id": "dda6a385",
   "metadata": {},
   "outputs": [],
   "source": [
    "for n in nationality.index:\n",
    "    value = Export.value(n.replace(\" \",\"\"), str(round(nationality[n],2)))\n",
    "    value > latex_report"
   ]
  },
  {
   "cell_type": "markdown",
   "id": "52074e41",
   "metadata": {},
   "source": [
    "## Materials\n",
    "Materials were created based on materials used in previous work (Foster & Keane, 20xx; Quinn, Campbell & Keane, 2021), manipulating the valence of a scenario (positive or negative) and the controllability of the scenario by changing the availability of the means to achieve the goal (means present or means absent). To isolate these factors, we do not vary the intention (goal) nor the first action taken towards the goal. Instead, we manipulate the means so that the means are either present or absent (changing the overall controllability of reaching the goal) and that the events are either positive or negative in both present and absent conditions (varying the valence). This allows us to test the interaction between controllability and valence which prior literature has not addressed.\n",
    "\n",
    "Eight materials (vetted by a pre-test) were chosen, meeting the criteria of each of the four condition combinations. "
   ]
  },
  {
   "cell_type": "markdown",
   "id": "4c2e0223",
   "metadata": {},
   "source": [
    "## Procedure\n",
    "Participants were recruited via the Prolific.co platform and completed only one combination of the two IVs. After completing informed consent and agreeing to participate in the study, participants were randomly assigned to one of the four condition pairs (Positive – Means Present, Positive – Means Absent, Negative – Means Present, or Negative – Means Absent). Participants were then presented with two practice materials, followed by eight target materials.\n"
   ]
  },
  {
   "cell_type": "markdown",
   "id": "a8129a9e",
   "metadata": {},
   "source": [
    "### Chi-Square Functions"
   ]
  },
  {
   "cell_type": "code",
   "execution_count": 17,
   "id": "ba12f882",
   "metadata": {},
   "outputs": [],
   "source": [
    "def cramers_V(chi, n, min_dim):\n",
    "    v = math.sqrt((chi)/(n*(min_dim-1)))\n",
    "    return v"
   ]
  },
  {
   "cell_type": "code",
   "execution_count": 18,
   "id": "5030e056",
   "metadata": {},
   "outputs": [],
   "source": [
    "def print_chi(obs):\n",
    "    chi, pvalue, deffre, expt = chi2_contingency(obs)\n",
    "\n",
    "    williams_chi, williams_pvalue, williams_deffre = williams_correction(obs, chi)\n",
    "    effect_size = cramers_V(williams_chi, sum(sum(obs)), min(obs.shape))\n",
    "\n",
    "    print(\"Unadjusted Chi-Square\")\n",
    "    print(\"X^2 = \", chi)\n",
    "    print(\"degrees of freedom: \", deffre)\n",
    "    print(\"p = \", \"{:.16f}\".format(pvalue), '\\n')\n",
    "\n",
    "    print(\"William's Corrected Chi-Square\")\n",
    "    print(\"X^2 = \", williams_chi)\n",
    "    print(\"degrees of freedom: \", williams_deffre)\n",
    "    print(\"p = \", \"{:.16f}\".format(williams_pvalue), '\\n')\n",
    "    \n",
    "    print(\"Cramer's v effect size = \", \"{:.3f}\".format(effect_size), '\\n')\n",
    "    \n",
    "    return pvalue, williams_chi, williams_pvalue, williams_deffre, effect_size"
   ]
  },
  {
   "cell_type": "code",
   "execution_count": 19,
   "id": "75a381cb",
   "metadata": {},
   "outputs": [],
   "source": [
    "def export_value_chi_apa(value_name, chi, defre, N, p, v):\n",
    "    value = Export.value(value_name,\n",
    "                        f\"\\chi^2({defre}, N={N})={chi:.2f}, {p}, v={v}\")\n",
    "    value > latex_report"
   ]
  },
  {
   "cell_type": "code",
   "execution_count": 20,
   "id": "6d7ba1bf",
   "metadata": {},
   "outputs": [],
   "source": [
    "def chi_square(data):\n",
    "    print(\"Chi square of all conditions:\")\n",
    "    print(tabulate(data, headers=\"keys\", tablefmt='fancy_grid'))\n",
    "    obs = np.array([data.loc[('negative', 'absent')],data.loc[('negative', 'present')],\n",
    "                              data.loc[('positive', 'absent')],data.loc[('positive', 'present')]])\n",
    "    pvalue, williams_chi, williams_pvalue, williams_deffre, effect_size = print_chi(obs)\n",
    "       \n",
    "    #save the william's chi info\n",
    "    if williams_pvalue < 0.001:\n",
    "        p = \"p < .001\"\n",
    "    else:\n",
    "        p = f\"p = {williams_pvalue:.3f}\"\n",
    "        \n",
    "    export_value_chi_apa(str(data.columns[0] + \"chi\").replace(\"_\",\"\"), williams_chi, williams_deffre, sum(sum(obs)), p, \"{:.3f}\".format(effect_size))\n",
    "#     value = Export.value(str(data.columns[0] + \"chi\").replace(\"_\",\"\"),\n",
    "#                         f\"\\chi^2 = {williams_chi:.2f}({williams_deffre}), {p}\")\n",
    "#     value > latex_report\n",
    "    "
   ]
  },
  {
   "cell_type": "code",
   "execution_count": 21,
   "id": "f08dc0b9",
   "metadata": {},
   "outputs": [],
   "source": [
    "def val_cond_chi_square(data):\n",
    "    print(\"Chi square of all conditions:\")\n",
    "    print(tabulate(data, headers=\"keys\", tablefmt='fancy_grid'))\n",
    "    obs = np.array([data.loc[('negative')], data.loc[('positive')]])\n",
    "    pvalue, williams_chi, williams_pvalue, williams_deffre, effect_size = print_chi(obs)\n",
    "    \n",
    "        #save the william's chi info\n",
    "    if williams_pvalue < 0.001:\n",
    "        p = \"p < .001\"\n",
    "    else:\n",
    "        p = f\"p = {williams_pvalue:.3f}\"\n",
    "    \n",
    "    export_value_chi_apa(str(data.columns[0] + \"byvalencecondchi\").replace(\"_\",\"\"), williams_chi, williams_deffre, sum(sum(obs)), p, \"{:.3f}\".format(effect_size))\n",
    "\n",
    "    \n",
    "#     value = Export.value(str(data.columns[0] + \"byvalencecondchi\").replace(\"_\",\"\"),\n",
    "#                         f\"\\chi^2 = {williams_chi:.2f}({williams_deffre}), {p}\")\n",
    "#     value > latex_report\n",
    "        "
   ]
  },
  {
   "cell_type": "code",
   "execution_count": 22,
   "id": "bcc509dc",
   "metadata": {},
   "outputs": [],
   "source": [
    "def means_cond_chi_square(data):\n",
    "    print(\"Chi square of all conditions:\")\n",
    "    print(tabulate(data, headers=\"keys\", tablefmt='fancy_grid'))\n",
    "    obs = np.array([data.loc[('absent')],data.loc[('present')]])\n",
    "    pvalue, williams_chi, williams_pvalue, williams_deffre, effect_size = print_chi(obs)\n",
    "    \n",
    "        #save the william's chi info\n",
    "    if williams_pvalue < 0.001:\n",
    "        p = \"p < .001\"\n",
    "    else:\n",
    "        p = f\"p = {williams_pvalue:.3f}\"\n",
    "\n",
    "    export_value_chi_apa(str(data.columns[0] + \"bymeanscondchi\").replace(\"_\",\"\"), williams_chi, williams_deffre, sum(sum(obs)), p, \"{:.3f}\".format(effect_size))\n",
    "\n",
    "  \n",
    "#     value = Export.value(str(data.columns[0] + \"bymeanscondchi\").replace(\"_\",\"\"),\n",
    "#                             f\"\\chi^2 = {williams_chi:.2f}({williams_deffre}), {p}\")\n",
    "#     value > latex_report\n",
    "        "
   ]
  },
  {
   "cell_type": "code",
   "execution_count": 23,
   "id": "8324ac13",
   "metadata": {},
   "outputs": [],
   "source": [
    "def cond_chi_square(data, alpha = .001):\n",
    "    all_2_values = data.values.tolist()\n",
    "    cond_2_list = [('negative', 'absent'),('negative', 'present'),('positive', 'absent'),('positive', 'present')]\n",
    "    name_2_list = []\n",
    "\n",
    "    count_pvalue = 0\n",
    "    count_williams_pvalue = 0\n",
    "\n",
    "    for cond1 in cond_2_list:\n",
    "        for cond2 in cond_2_list:\n",
    "            if (cond1 != cond2) and ((cond2 + cond1) not in name_2_list) :\n",
    "                print(cond1 + cond2)\n",
    "                name_2_list.append(cond1 + cond2)\n",
    "                obs = np.array([data.loc[cond1],data.loc[cond2]])\n",
    "                table_to_print = data.loc[[cond1,cond2]]\n",
    "                print(tabulate(table_to_print, headers=\"keys\", tablefmt='fancy_grid'))\n",
    "                \n",
    "                pvalue, williams_chi, williams_pvalue, williams_deffre, effect_size = print_chi(obs)\n",
    "                \n",
    "                #print(f\"X^2 = {williams_chi:.2f}({williams_deffre}), p = {williams_pvalue:.3f}\")\n",
    "                \n",
    "                \n",
    "                #count significant pvalues\n",
    "                if pvalue < alpha:\n",
    "                    count_pvalue += 1\n",
    "                print()\n",
    "                \n",
    "                if williams_pvalue < alpha:\n",
    "                    count_williams_pvalue += 1\n",
    "                    p = \"p < .001\"\n",
    "                else:\n",
    "                    p = f\"p = {williams_pvalue:.3f}\"\n",
    "                    \n",
    "                #save williams chi(df) and pvalue\n",
    "                export_value_chi_apa(str(''.join(cond1) + ''.join(cond2) + data.columns[0] + \"chi\").replace(\"_\",\"\"), williams_chi, williams_deffre, sum(sum(obs)), p, \"{:.3f}\".format(effect_size))\n",
    "                \n",
    "#                 value = Export.value(str(''.join(cond1) + ''.join(cond2) + data.columns[0] + \"chi\").replace(\"_\",\"\"), \n",
    "#                                      str(f\"\\chi^2 = {williams_chi:.2f}({williams_deffre}), {p}\"))\n",
    "#                 value > latex_report\n",
    "                print()\n",
    "\n",
    "    print(\"The number of Instruction Conditions showing a Chi-Square with p < {} is \".format(alpha), count_pvalue)\n",
    "\n",
    "    print(\"The number of Instruction Conditions showing a William's Corrected Chi-Square with p < {} is \".format(alpha), count_williams_pvalue)"
   ]
  },
  {
   "cell_type": "code",
   "execution_count": 24,
   "id": "02a785f6",
   "metadata": {},
   "outputs": [],
   "source": [
    "def mat_chi_square(data, alpha = 0.001):\n",
    "    count_pvalue = 0    \n",
    "    count_williams_pvalue = 0\n",
    "    bad_mats = []\n",
    "\n",
    "    for mat in materials:\n",
    "        df1 = data.loc[mat]\n",
    "        print(mat)\n",
    "        print(tabulate(df1, headers=\"keys\", tablefmt='fancy_grid'))\n",
    "        obs = np.array(df1)\n",
    "        \n",
    "        pvalue, williams_chi, williams_pvalue, williams_deffre, effect_size = print_chi(obs)\n",
    "\n",
    "        if pvalue < alpha:\n",
    "            count_pvalue += 1\n",
    "        print()\n",
    "\n",
    "        if williams_pvalue < alpha:\n",
    "            count_williams_pvalue += 1\n",
    "            p = \"p < .001\"\n",
    "        else:\n",
    "            p = f\"p = {williams_pvalue:.3f}\"\n",
    "            bad_mats.append(mat)\n",
    "            \n",
    "        #check if it is overall chi for the mat in which case index.name = None\n",
    "        if type(df1.index.name) != str:\n",
    "            name = \"\"\n",
    "        else:\n",
    "            #, or if it's valence or means condition\n",
    "            name = df1.index.name\n",
    "            \n",
    "        #save williams chi(df) and pvalue\n",
    "        export_value_chi_apa(str(mat + df1.columns[0] + name + \"chi\").replace(\"_\",\"\"), williams_chi, williams_deffre, sum(sum(obs)), p, \"{:.3f}\".format(effect_size))\n",
    "\n",
    "#         value = Export.value(str(mat + df1.columns[0] + name + \"chi\").replace(\"_\",\"\"), \n",
    "#                              str(f\"\\chi^2 = {williams_chi:.2f}({williams_deffre}), {p}\"))\n",
    "#         value > latex_report    \n",
    "        print()\n",
    "\n",
    "    print(\"The number of Materials showing a Chi-Square with p < {} is \".format(alpha), count_pvalue)\n",
    "\n",
    "    print(\"The number of Materials showing a William's Corrected Chi-Square with p < {} is \".format(alpha), count_williams_pvalue)\n",
    "\n",
    "    print(\"Non-significant mats are \", bad_mats)"
   ]
  },
  {
   "cell_type": "markdown",
   "id": "8cf2963a",
   "metadata": {},
   "source": [
    "# Results\n",
    "Responses were labelled by two independent raters on answer category, valence, goal-related words, and outcome controllability."
   ]
  },
  {
   "cell_type": "code",
   "execution_count": 25,
   "id": "27b62e0f",
   "metadata": {},
   "outputs": [],
   "source": [
    "master_codes = pd.read_csv('2_pipeline/2_main_study/master_data_codes.csv')"
   ]
  },
  {
   "cell_type": "code",
   "execution_count": 26,
   "id": "ca04bf47",
   "metadata": {},
   "outputs": [
    {
     "data": {
      "text/plain": [
       "(1752, 30)"
      ]
     },
     "execution_count": 26,
     "metadata": {},
     "output_type": "execute_result"
    }
   ],
   "source": [
    "master_data = raw_data[['session_id', 'participant_id', 'status',\n",
    "       'started_datetime', 'completed_date_time', 'time_taken', 'age',\n",
    "       'reviewed_at_datetime', 'entered_code', \n",
    "       'Nationality', 'Sex', 'Response ID',\n",
    "       'Time Started', 'Date Submitted', 'Status', 'Contact ID',\n",
    "       'Legacy Comments', 'Comments', 'Language', 'Referer', 'SessionID',\n",
    "       'valence_condition', 'means_condition', 'user_id',]].merge(\n",
    "    master_codes[['user_id', 'material', 'response', 'ans_code', 'val_code', 'goal_code', 'control_code']], \n",
    "                                             on=['user_id'], how = 'right')\n",
    "master_data.shape"
   ]
  },
  {
   "cell_type": "code",
   "execution_count": 27,
   "id": "e916a417",
   "metadata": {},
   "outputs": [
    {
     "data": {
      "text/plain": [
       "(1752, 31)"
      ]
     },
     "execution_count": 27,
     "metadata": {},
     "output_type": "execute_result"
    }
   ],
   "source": [
    "#add labels for answer categories\n",
    "ans_code_labels = pd.read_csv(\"2_pipeline/2_main_study/labels_and_descriptions.csv\")\n",
    "# display(ans_code_labels)\n",
    "master_data = master_data.merge(ans_code_labels, on='ans_code', how = 'left')\n",
    "master_data.shape"
   ]
  },
  {
   "cell_type": "code",
   "execution_count": 28,
   "id": "f63c44c3",
   "metadata": {},
   "outputs": [],
   "source": [
    "#fix where there are doubles because of the kappa combinations\n",
    "master_data['response'] = master_data['response'].apply(\n",
    "    lambda x: x.split('-->')[1] if '-->' in x else x)"
   ]
  },
  {
   "cell_type": "code",
   "execution_count": 29,
   "id": "31748547",
   "metadata": {},
   "outputs": [],
   "source": [
    "for response in master_data['response']:\n",
    "    if \"-->\" in response:\n",
    "        \n",
    "        print(response, response.split('-->')[1])"
   ]
  },
  {
   "cell_type": "code",
   "execution_count": 30,
   "id": "1da88ea6",
   "metadata": {},
   "outputs": [
    {
     "name": "stdout",
     "output_type": "stream",
     "text": [
      "The waves are stronger than Rebecca expected, she is not the strongest swimmer, so decides to head back inland. Just as she turns around to do so, she notices the lifeguard shouting at her... SHARK\n"
     ]
    }
   ],
   "source": [
    "for response in master_data['response']:\n",
    "    if 'strongest swimmer' in response:\n",
    "        print(response)"
   ]
  },
  {
   "cell_type": "code",
   "execution_count": 31,
   "id": "5eea1071",
   "metadata": {},
   "outputs": [],
   "source": [
    "answer_categories = master_data.groupby(['material', 'ans_code', 'category_description']).agg({'user_id': 'count'})"
   ]
  },
  {
   "cell_type": "code",
   "execution_count": 32,
   "id": "9e0ff659",
   "metadata": {},
   "outputs": [],
   "source": [
    "ans_cats_prop = answer_categories.groupby(level=0).apply(lambda x: x / float(x.sum())).reset_index().sort_values(by=['material','user_id'],ascending=False)"
   ]
  },
  {
   "cell_type": "code",
   "execution_count": 33,
   "id": "49c36691",
   "metadata": {
    "scrolled": true
   },
   "outputs": [
    {
     "data": {
      "text/plain": [
       "array(['john_party', 'bill_holiday', 'rebecca_swimming', 'sally_wine',\n",
       "       'belinda_meeting', 'michael_breakfast', 'lucy_loan', 'sean_call'],\n",
       "      dtype=object)"
      ]
     },
     "execution_count": 33,
     "metadata": {},
     "output_type": "execute_result"
    }
   ],
   "source": [
    "materials = master_data['material'].unique()\n",
    "materials"
   ]
  },
  {
   "cell_type": "code",
   "execution_count": 34,
   "id": "e44bc552",
   "metadata": {},
   "outputs": [],
   "source": [
    "zipped_cond_pairs = list(zip(\n",
    "    ['negative','positive','negative','positive'],\n",
    "    ['absent','absent','present','present']\n",
    "))"
   ]
  },
  {
   "cell_type": "code",
   "execution_count": 35,
   "id": "e05a20de",
   "metadata": {},
   "outputs": [
    {
     "data": {
      "text/plain": [
       "[('negative', 'absent'),\n",
       " ('positive', 'absent'),\n",
       " ('negative', 'present'),\n",
       " ('positive', 'present')]"
      ]
     },
     "execution_count": 35,
     "metadata": {},
     "output_type": "execute_result"
    }
   ],
   "source": [
    "zipped_cond_pairs"
   ]
  },
  {
   "cell_type": "code",
   "execution_count": 36,
   "id": "dd3c1775",
   "metadata": {},
   "outputs": [],
   "source": [
    "condition_titles={'absent':'Uncontrollable', 'present':'Controllable'}"
   ]
  },
  {
   "cell_type": "code",
   "execution_count": 37,
   "id": "69ef1df4",
   "metadata": {},
   "outputs": [
    {
     "data": {
      "text/plain": [
       "['Negative Absent', 'Positive Absent', 'Negative Present', 'Positive Present']"
      ]
     },
     "execution_count": 37,
     "metadata": {},
     "output_type": "execute_result"
    }
   ],
   "source": [
    "[str(' '.join(i)).title() for i in zipped_cond_pairs]"
   ]
  },
  {
   "cell_type": "code",
   "execution_count": 38,
   "id": "a0345dc7",
   "metadata": {},
   "outputs": [
    {
     "data": {
      "text/plain": [
       "{('negative', 'absent'): 'rgb(228,26,28)',\n",
       " ('positive', 'absent'): 'rgb(179,222,105)',\n",
       " ('negative', 'present'): 'rgb(251,180,174)',\n",
       " ('positive', 'present'): 'rgb(77,175,74)'}"
      ]
     },
     "execution_count": 38,
     "metadata": {},
     "output_type": "execute_result"
    }
   ],
   "source": [
    "colors = ['rgb(228,26,28)','rgb(179,222,105)','rgb(251,180,174)','rgb(77,175,74)']\n",
    "\n",
    "log_odds_subplot_colors = {}\n",
    "for idx, tup in enumerate(zipped_cond_pairs):\n",
    "    log_odds_subplot_colors[tup] = colors[idx]\n",
    "    \n",
    "log_odds_subplot_colors"
   ]
  },
  {
   "cell_type": "code",
   "execution_count": null,
   "id": "fbc43185",
   "metadata": {},
   "outputs": [],
   "source": []
  },
  {
   "cell_type": "markdown",
   "id": "2a3c820c",
   "metadata": {},
   "source": [
    "# overall"
   ]
  },
  {
   "cell_type": "code",
   "execution_count": 39,
   "id": "daeb54c3",
   "metadata": {},
   "outputs": [
    {
     "data": {
      "text/plain": [
       "neg        0.567352\n",
       "pos        0.351027\n",
       "neither    0.081621\n",
       "Name: val_code, dtype: float64"
      ]
     },
     "execution_count": 39,
     "metadata": {},
     "output_type": "execute_result"
    }
   ],
   "source": [
    "master_data['val_code'].value_counts(normalize=True)"
   ]
  },
  {
   "cell_type": "code",
   "execution_count": 40,
   "id": "71169135",
   "metadata": {},
   "outputs": [
    {
     "data": {
      "text/plain": [
       "uncontrollable     0.550228\n",
       "controllable       0.254566\n",
       "neither_control    0.195205\n",
       "Name: control_code, dtype: float64"
      ]
     },
     "execution_count": 40,
     "metadata": {},
     "output_type": "execute_result"
    }
   ],
   "source": [
    "master_data['control_code'].value_counts(normalize=True)"
   ]
  },
  {
   "cell_type": "code",
   "execution_count": null,
   "id": "ff42d0af",
   "metadata": {},
   "outputs": [],
   "source": []
  },
  {
   "cell_type": "code",
   "execution_count": null,
   "id": "11f56ae0",
   "metadata": {},
   "outputs": [],
   "source": []
  },
  {
   "cell_type": "code",
   "execution_count": null,
   "id": "78b9ed98",
   "metadata": {},
   "outputs": [],
   "source": []
  },
  {
   "cell_type": "code",
   "execution_count": null,
   "id": "cfc2f0f6",
   "metadata": {},
   "outputs": [],
   "source": []
  }
 ],
 "metadata": {
  "kernelspec": {
   "display_name": "Python 3",
   "language": "python",
   "name": "python3"
  },
  "language_info": {
   "codemirror_mode": {
    "name": "ipython",
    "version": 3
   },
   "file_extension": ".py",
   "mimetype": "text/x-python",
   "name": "python",
   "nbconvert_exporter": "python",
   "pygments_lexer": "ipython3",
   "version": "3.6.8"
  },
  "toc": {
   "base_numbering": 1,
   "nav_menu": {},
   "number_sections": true,
   "sideBar": true,
   "skip_h1_title": false,
   "title_cell": "Table of Contents",
   "title_sidebar": "Contents",
   "toc_cell": false,
   "toc_position": {},
   "toc_section_display": true,
   "toc_window_display": true
  }
 },
 "nbformat": 4,
 "nbformat_minor": 5
}
