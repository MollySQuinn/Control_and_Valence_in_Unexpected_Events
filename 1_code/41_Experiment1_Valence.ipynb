{
 "cells": [
  {
   "cell_type": "code",
   "execution_count": 1,
   "id": "3b3cf8fa",
   "metadata": {},
   "outputs": [
    {
     "name": "stdout",
     "output_type": "stream",
     "text": [
      "Choose whether to display code or not.\n",
      "3.6.8\n",
      "                  Example\n",
      "----------------  ----------------------------------------------------------------------------------------------\n",
      "1. Goal Sentence  Sally wants to buy a bottle of wine for her Friday evening dinner.\n",
      "2. Goal Step      Sally decides to go to the corner-shop near her house.\n",
      "3. Condition      The shop is (shut/open) and Sally has (an argument/a good chat) with a neighbour walking home.\n",
      "The waves are stronger than Rebecca expected, she is not the strongest swimmer, so decides to head back inland. Just as she turns around to do so, she notices the lifeguard shouting at her... SHARK\n"
     ]
    }
   ],
   "source": [
    "# %run 40_Intro_Expt1.ipynb #uncomment if need to work in this file separately"
   ]
  },
  {
   "cell_type": "code",
   "execution_count": 37,
   "id": "6c21001c",
   "metadata": {},
   "outputs": [],
   "source": [
    "# set up high-res figure downloads\n",
    "config = {\n",
    "  'toImageButtonOptions': {\n",
    "    'format': 'svg', # one of png, svg, jpeg, webp\n",
    "    'height': None, 'width': None, # download at individually specified sizes\n",
    "    'scale': 1 # Multiply title/legend/axis/canvas sizes by this factor\n",
    "  }\n",
    "}"
   ]
  },
  {
   "cell_type": "markdown",
   "id": "d100468b",
   "metadata": {},
   "source": [
    "## Valence"
   ]
  },
  {
   "cell_type": "code",
   "execution_count": 2,
   "id": "784c1f77",
   "metadata": {
    "scrolled": false
   },
   "outputs": [
    {
     "data": {
      "text/html": [
       "<div>\n",
       "<style scoped>\n",
       "    .dataframe tbody tr th:only-of-type {\n",
       "        vertical-align: middle;\n",
       "    }\n",
       "\n",
       "    .dataframe tbody tr th {\n",
       "        vertical-align: top;\n",
       "    }\n",
       "\n",
       "    .dataframe thead th {\n",
       "        text-align: right;\n",
       "    }\n",
       "</style>\n",
       "<table border=\"1\" class=\"dataframe\">\n",
       "  <thead>\n",
       "    <tr style=\"text-align: right;\">\n",
       "      <th></th>\n",
       "      <th>val_code</th>\n",
       "      <th>neg</th>\n",
       "      <th>neither</th>\n",
       "      <th>pos</th>\n",
       "    </tr>\n",
       "    <tr>\n",
       "      <th>means_condition</th>\n",
       "      <th>valence_condition</th>\n",
       "      <th></th>\n",
       "      <th></th>\n",
       "      <th></th>\n",
       "    </tr>\n",
       "  </thead>\n",
       "  <tbody>\n",
       "    <tr>\n",
       "      <th rowspan=\"2\" valign=\"top\">absent</th>\n",
       "      <th>negative</th>\n",
       "      <td>0.427273</td>\n",
       "      <td>0.077273</td>\n",
       "      <td>0.495455</td>\n",
       "    </tr>\n",
       "    <tr>\n",
       "      <th>positive</th>\n",
       "      <td>0.463636</td>\n",
       "      <td>0.095455</td>\n",
       "      <td>0.440909</td>\n",
       "    </tr>\n",
       "    <tr>\n",
       "      <th rowspan=\"2\" valign=\"top\">present</th>\n",
       "      <th>negative</th>\n",
       "      <td>0.636574</td>\n",
       "      <td>0.106481</td>\n",
       "      <td>0.256944</td>\n",
       "    </tr>\n",
       "    <tr>\n",
       "      <th>positive</th>\n",
       "      <td>0.743182</td>\n",
       "      <td>0.047727</td>\n",
       "      <td>0.209091</td>\n",
       "    </tr>\n",
       "  </tbody>\n",
       "</table>\n",
       "</div>"
      ],
      "text/plain": [
       "val_code                                neg   neither       pos\n",
       "means_condition valence_condition                              \n",
       "absent          negative           0.427273  0.077273  0.495455\n",
       "                positive           0.463636  0.095455  0.440909\n",
       "present         negative           0.636574  0.106481  0.256944\n",
       "                positive           0.743182  0.047727  0.209091"
      ]
     },
     "execution_count": 2,
     "metadata": {},
     "output_type": "execute_result"
    }
   ],
   "source": [
    "valence_props = master_data.groupby(['means_condition','valence_condition'])['val_code'].value_counts(normalize=True).unstack()\n",
    "valence_props"
   ]
  },
  {
   "cell_type": "code",
   "execution_count": 3,
   "id": "9cd35603",
   "metadata": {},
   "outputs": [
    {
     "data": {
      "text/html": [
       "<div>\n",
       "<style scoped>\n",
       "    .dataframe tbody tr th:only-of-type {\n",
       "        vertical-align: middle;\n",
       "    }\n",
       "\n",
       "    .dataframe tbody tr th {\n",
       "        vertical-align: top;\n",
       "    }\n",
       "\n",
       "    .dataframe thead th {\n",
       "        text-align: right;\n",
       "    }\n",
       "</style>\n",
       "<table border=\"1\" class=\"dataframe\">\n",
       "  <thead>\n",
       "    <tr style=\"text-align: right;\">\n",
       "      <th>val_code</th>\n",
       "      <th>neg</th>\n",
       "      <th>neither</th>\n",
       "      <th>pos</th>\n",
       "    </tr>\n",
       "    <tr>\n",
       "      <th>means_condition</th>\n",
       "      <th></th>\n",
       "      <th></th>\n",
       "      <th></th>\n",
       "    </tr>\n",
       "  </thead>\n",
       "  <tbody>\n",
       "    <tr>\n",
       "      <th>absent</th>\n",
       "      <td>0.445455</td>\n",
       "      <td>0.086364</td>\n",
       "      <td>0.468182</td>\n",
       "    </tr>\n",
       "    <tr>\n",
       "      <th>present</th>\n",
       "      <td>0.690367</td>\n",
       "      <td>0.076835</td>\n",
       "      <td>0.232798</td>\n",
       "    </tr>\n",
       "  </tbody>\n",
       "</table>\n",
       "</div>"
      ],
      "text/plain": [
       "val_code              neg   neither       pos\n",
       "means_condition                              \n",
       "absent           0.445455  0.086364  0.468182\n",
       "present          0.690367  0.076835  0.232798"
      ]
     },
     "execution_count": 3,
     "metadata": {},
     "output_type": "execute_result"
    }
   ],
   "source": [
    "master_data.groupby(['means_condition'])['val_code'].value_counts(normalize=True).unstack()\n"
   ]
  },
  {
   "cell_type": "code",
   "execution_count": 4,
   "id": "4c137a15",
   "metadata": {
    "scrolled": true
   },
   "outputs": [
    {
     "data": {
      "text/plain": [
       "<matplotlib.axes._subplots.AxesSubplot at 0x7ff425ebc5f8>"
      ]
     },
     "execution_count": 4,
     "metadata": {},
     "output_type": "execute_result"
    },
    {
     "data": {
      "image/png": "[encoded data removed]",
      "text/plain": [
       "<Figure size 720x504 with 1 Axes>"
      ]
     },
     "metadata": {
      "needs_background": "light"
     },
     "output_type": "display_data"
    }
   ],
   "source": [
    "valence_props.plot.bar(stacked=True,figsize=(10,7))"
   ]
  },
  {
   "cell_type": "markdown",
   "id": "73df5d15",
   "metadata": {},
   "source": [
    "### Chi-Square Valence"
   ]
  },
  {
   "cell_type": "code",
   "execution_count": 5,
   "id": "d7d2f954",
   "metadata": {
    "scrolled": false
   },
   "outputs": [],
   "source": [
    "valence_chi_df = master_data.groupby(['valence_condition','means_condition'])['val_code'].value_counts().unstack()\n"
   ]
  },
  {
   "cell_type": "markdown",
   "id": "bfbfd308",
   "metadata": {},
   "source": [
    "#### How many Neithers?"
   ]
  },
  {
   "cell_type": "code",
   "execution_count": 6,
   "id": "e71c35fe",
   "metadata": {
    "scrolled": true
   },
   "outputs": [
    {
     "data": {
      "text/plain": [
       "val_code\n",
       "neg        0.567352\n",
       "neither    0.081621\n",
       "pos        0.351027\n",
       "dtype: float64"
      ]
     },
     "execution_count": 6,
     "metadata": {},
     "output_type": "execute_result"
    }
   ],
   "source": [
    "valence_chi_df.sum()/valence_chi_df.sum().sum()"
   ]
  },
  {
   "cell_type": "markdown",
   "id": "a8d8a75c",
   "metadata": {},
   "source": [
    "8% of responses are neither, so we might drop."
   ]
  },
  {
   "cell_type": "markdown",
   "id": "0586be18",
   "metadata": {},
   "source": [
    "#### Overall Chi-Square"
   ]
  },
  {
   "cell_type": "code",
   "execution_count": 7,
   "id": "8770c147",
   "metadata": {
    "scrolled": false
   },
   "outputs": [
    {
     "name": "stdout",
     "output_type": "stream",
     "text": [
      "Chi square of all conditions:\n",
      "╒═════════════════════════╤═══════╤═══════════╤═══════╕\n",
      "│                         │   neg │   neither │   pos │\n",
      "╞═════════════════════════╪═══════╪═══════════╪═══════╡\n",
      "│ ('negative', 'absent')  │   188 │        34 │   218 │\n",
      "├─────────────────────────┼───────┼───────────┼───────┤\n",
      "│ ('negative', 'present') │   275 │        46 │   111 │\n",
      "├─────────────────────────┼───────┼───────────┼───────┤\n",
      "│ ('positive', 'absent')  │   204 │        42 │   194 │\n",
      "├─────────────────────────┼───────┼───────────┼───────┤\n",
      "│ ('positive', 'present') │   327 │        21 │    92 │\n",
      "╘═════════════════════════╧═══════╧═══════════╧═══════╛\n",
      "Unadjusted Chi-Square\n",
      "X^2 =  134.20087591941285\n",
      "degrees of freedom:  6\n",
      "p =  0.0000000000000000 \n",
      "\n",
      "William's Corrected Chi-Square\n",
      "X^2 =  133.69645629566884\n",
      "degrees of freedom:  6\n",
      "p =  0.0000000000000000 \n",
      "\n",
      "Cramer's v effect size =  0.195 \n",
      "\n"
     ]
    }
   ],
   "source": [
    "chi_square(valence_chi_df)"
   ]
  },
  {
   "cell_type": "markdown",
   "id": "8c93c729",
   "metadata": {},
   "source": [
    "#### Chi-Square by valence"
   ]
  },
  {
   "cell_type": "code",
   "execution_count": 8,
   "id": "50c12fbf",
   "metadata": {
    "scrolled": true
   },
   "outputs": [
    {
     "name": "stdout",
     "output_type": "stream",
     "text": [
      "Chi-Square Valence\n",
      "Chi square of all conditions:\n",
      "╒═════════════════════╤═══════╤═══════════╤═══════╕\n",
      "│ valence_condition   │   neg │   neither │   pos │\n",
      "╞═════════════════════╪═══════╪═══════════╪═══════╡\n",
      "│ negative            │   463 │        80 │   329 │\n",
      "├─────────────────────┼───────┼───────────┼───────┤\n",
      "│ positive            │   531 │        63 │   286 │\n",
      "╘═════════════════════╧═══════╧═══════════╧═══════╛\n",
      "Unadjusted Chi-Square\n",
      "X^2 =  9.643065935035935\n",
      "degrees of freedom:  2\n",
      "p =  0.0080544304900317 \n",
      "\n",
      "William's Corrected Chi-Square\n",
      "X^2 =  9.62128686553129\n",
      "degrees of freedom:  2\n",
      "p =  0.0081426187840492 \n",
      "\n",
      "Cramer's v effect size =  0.074 \n",
      "\n"
     ]
    }
   ],
   "source": [
    "print(\"Chi-Square Valence\")\n",
    "valence_chi_df_valence = master_data.groupby(['valence_condition'])['val_code'].value_counts().unstack()\n",
    "val_cond_chi_square(valence_chi_df_valence)"
   ]
  },
  {
   "cell_type": "markdown",
   "id": "89755b41",
   "metadata": {},
   "source": [
    "#### Chi-Square by control"
   ]
  },
  {
   "cell_type": "code",
   "execution_count": 9,
   "id": "ef1e7a1a",
   "metadata": {
    "scrolled": true
   },
   "outputs": [
    {
     "name": "stdout",
     "output_type": "stream",
     "text": [
      "Chi-Square Control\n",
      "Chi square of all conditions:\n",
      "╒═══════════════════╤═══════╤═══════════╤═══════╕\n",
      "│ means_condition   │   neg │   neither │   pos │\n",
      "╞═══════════════════╪═══════╪═══════════╪═══════╡\n",
      "│ absent            │   392 │        76 │   412 │\n",
      "├───────────────────┼───────┼───────────┼───────┤\n",
      "│ present           │   602 │        67 │   203 │\n",
      "╘═══════════════════╧═══════╧═══════════╧═══════╛\n",
      "Unadjusted Chi-Square\n",
      "X^2 =  115.92453438765581\n",
      "degrees of freedom:  2\n",
      "p =  0.0000000000000000 \n",
      "\n",
      "William's Corrected Chi-Square\n",
      "X^2 =  115.6627163612386\n",
      "degrees of freedom:  2\n",
      "p =  0.0000000000000000 \n",
      "\n",
      "Cramer's v effect size =  0.257 \n",
      "\n"
     ]
    }
   ],
   "source": [
    "print(\"Chi-Square Control\")\n",
    "valence_chi_df_control = master_data.groupby(['means_condition'])['val_code'].value_counts().unstack()\n",
    "means_cond_chi_square(valence_chi_df_control)"
   ]
  },
  {
   "cell_type": "markdown",
   "id": "cfe279f6",
   "metadata": {},
   "source": [
    "There is an overall significant difference in the frequency of negative, positive, and neither valenced responses to each of the instruction conditions."
   ]
  },
  {
   "cell_type": "markdown",
   "id": "8972ced0",
   "metadata": {},
   "source": [
    "#### Pairwise between Experimental conditions."
   ]
  },
  {
   "cell_type": "code",
   "execution_count": 10,
   "id": "2f547010",
   "metadata": {
    "scrolled": false
   },
   "outputs": [
    {
     "name": "stdout",
     "output_type": "stream",
     "text": [
      "Chi-Square Pairwise Between Experimental Conditions\n",
      "('negative', 'absent', 'negative', 'present')\n",
      "╒═════════════════════════╤═══════╤═══════════╤═══════╕\n",
      "│                         │   neg │   neither │   pos │\n",
      "╞═════════════════════════╪═══════╪═══════════╪═══════╡\n",
      "│ ('negative', 'absent')  │   188 │        34 │   218 │\n",
      "├─────────────────────────┼───────┼───────────┼───────┤\n",
      "│ ('negative', 'present') │   275 │        46 │   111 │\n",
      "╘═════════════════════════╧═══════╧═══════════╧═══════╛\n",
      "Unadjusted Chi-Square\n",
      "X^2 =  52.87818043393222\n",
      "degrees of freedom:  2\n",
      "p =  0.0000000000032934 \n",
      "\n",
      "William's Corrected Chi-Square\n",
      "X^2 =  52.66024063498767\n",
      "degrees of freedom:  2\n",
      "p =  0.0000000000036726 \n",
      "\n",
      "Cramer's v effect size =  0.246 \n",
      "\n",
      "\n",
      "\n",
      "('negative', 'absent', 'positive', 'absent')\n",
      "╒════════════════════════╤═══════╤═══════════╤═══════╕\n",
      "│                        │   neg │   neither │   pos │\n",
      "╞════════════════════════╪═══════╪═══════════╪═══════╡\n",
      "│ ('negative', 'absent') │   188 │        34 │   218 │\n",
      "├────────────────────────┼───────┼───────────┼───────┤\n",
      "│ ('positive', 'absent') │   204 │        42 │   194 │\n",
      "╘════════════════════════╧═══════╧═══════════╧═══════╛\n",
      "Unadjusted Chi-Square\n",
      "X^2 =  2.893224740074875\n",
      "degrees of freedom:  2\n",
      "p =  0.2353662729198652 \n",
      "\n",
      "William's Corrected Chi-Square\n",
      "X^2 =  2.8809807619993584\n",
      "degrees of freedom:  2\n",
      "p =  0.2368116022937381 \n",
      "\n",
      "Cramer's v effect size =  0.057 \n",
      "\n",
      "\n",
      "\n",
      "('negative', 'absent', 'positive', 'present')\n",
      "╒═════════════════════════╤═══════╤═══════════╤═══════╕\n",
      "│                         │   neg │   neither │   pos │\n",
      "╞═════════════════════════╪═══════╪═══════════╪═══════╡\n",
      "│ ('negative', 'absent')  │   188 │        34 │   218 │\n",
      "├─────────────────────────┼───────┼───────────┼───────┤\n",
      "│ ('positive', 'present') │   327 │        21 │    92 │\n",
      "╘═════════════════════════╧═══════╧═══════════╧═══════╛\n",
      "Unadjusted Chi-Square\n",
      "X^2 =  91.80213535290265\n",
      "degrees of freedom:  2\n",
      "p =  0.0000000000000000 \n",
      "\n",
      "William's Corrected Chi-Square\n",
      "X^2 =  91.29515036354908\n",
      "degrees of freedom:  2\n",
      "p =  0.0000000000000000 \n",
      "\n",
      "Cramer's v effect size =  0.322 \n",
      "\n",
      "\n",
      "\n",
      "('negative', 'present', 'positive', 'absent')\n",
      "╒═════════════════════════╤═══════╤═══════════╤═══════╕\n",
      "│                         │   neg │   neither │   pos │\n",
      "╞═════════════════════════╪═══════╪═══════════╪═══════╡\n",
      "│ ('negative', 'present') │   275 │        46 │   111 │\n",
      "├─────────────────────────┼───────┼───────────┼───────┤\n",
      "│ ('positive', 'absent')  │   204 │        42 │   194 │\n",
      "╘═════════════════════════╧═══════╧═══════════╧═══════╛\n",
      "Unadjusted Chi-Square\n",
      "X^2 =  33.22211352186621\n",
      "degrees of freedom:  2\n",
      "p =  0.0000000610815023 \n",
      "\n",
      "William's Corrected Chi-Square\n",
      "X^2 =  33.093174509335036\n",
      "degrees of freedom:  2\n",
      "p =  0.0000000651491061 \n",
      "\n",
      "Cramer's v effect size =  0.195 \n",
      "\n",
      "\n",
      "\n",
      "('negative', 'present', 'positive', 'present')\n",
      "╒═════════════════════════╤═══════╤═══════════╤═══════╕\n",
      "│                         │   neg │   neither │   pos │\n",
      "╞═════════════════════════╪═══════╪═══════════╪═══════╡\n",
      "│ ('negative', 'present') │   275 │        46 │   111 │\n",
      "├─────────────────────────┼───────┼───────────┼───────┤\n",
      "│ ('positive', 'present') │   327 │        21 │    92 │\n",
      "╘═════════════════════════╧═══════╧═══════════╧═══════╛\n",
      "Unadjusted Chi-Square\n",
      "X^2 =  15.526290005621293\n",
      "degrees of freedom:  2\n",
      "p =  0.0004251174803816 \n",
      "\n",
      "William's Corrected Chi-Square\n",
      "X^2 =  15.447630255996321\n",
      "degrees of freedom:  2\n",
      "p =  0.0004421704450219 \n",
      "\n",
      "Cramer's v effect size =  0.133 \n",
      "\n",
      "\n",
      "\n",
      "('positive', 'absent', 'positive', 'present')\n",
      "╒═════════════════════════╤═══════╤═══════════╤═══════╕\n",
      "│                         │   neg │   neither │   pos │\n",
      "╞═════════════════════════╪═══════╪═══════════╪═══════╡\n",
      "│ ('positive', 'absent')  │   204 │        42 │   194 │\n",
      "├─────────────────────────┼───────┼───────────┼───────┤\n",
      "│ ('positive', 'present') │   327 │        21 │    92 │\n",
      "╘═════════════════════════╧═══════╧═══════════╧═══════╛\n",
      "Unadjusted Chi-Square\n",
      "X^2 =  71.8691478013512\n",
      "degrees of freedom:  2\n",
      "p =  0.0000000000000002 \n",
      "\n",
      "William's Corrected Chi-Square\n",
      "X^2 =  71.50951936858829\n",
      "degrees of freedom:  2\n",
      "p =  0.0000000000000003 \n",
      "\n",
      "Cramer's v effect size =  0.285 \n",
      "\n",
      "\n",
      "\n",
      "The number of Instruction Conditions showing a Chi-Square with p < 0.001 is  5\n",
      "The number of Instruction Conditions showing a William's Corrected Chi-Square with p < 0.001 is  5\n"
     ]
    }
   ],
   "source": [
    "print(\"Chi-Square Pairwise Between Experimental Conditions\")\n",
    "cond_chi_square(valence_chi_df)"
   ]
  },
  {
   "cell_type": "markdown",
   "id": "28455bd4",
   "metadata": {},
   "source": [
    "#### By-materials Valence Chi-Square"
   ]
  },
  {
   "cell_type": "code",
   "execution_count": 11,
   "id": "7e2e1535",
   "metadata": {},
   "outputs": [
    {
     "name": "stdout",
     "output_type": "stream",
     "text": [
      "Chi-Square Overall, by Material\n",
      "john_party\n",
      "╒═════════════════════════╤═══════╤═══════╕\n",
      "│                         │   neg │   pos │\n",
      "╞═════════════════════════╪═══════╪═══════╡\n",
      "│ ('negative', 'absent')  │    38 │    13 │\n",
      "├─────────────────────────┼───────┼───────┤\n",
      "│ ('negative', 'present') │    39 │    10 │\n",
      "├─────────────────────────┼───────┼───────┤\n",
      "│ ('positive', 'absent')  │    37 │    12 │\n",
      "├─────────────────────────┼───────┼───────┤\n",
      "│ ('positive', 'present') │    48 │     4 │\n",
      "╘═════════════════════════╧═══════╧═══════╛\n",
      "Unadjusted Chi-Square\n",
      "X^2 =  6.611014600887473\n",
      "degrees of freedom:  3\n",
      "p =  0.0853856892060304 \n",
      "\n",
      "William's Corrected Chi-Square\n",
      "X^2 =  6.466289434191756\n",
      "degrees of freedom:  3\n",
      "p =  0.0910014880589177 \n",
      "\n",
      "Cramer's v effect size =  0.179 \n",
      "\n",
      "\n",
      "\n",
      "bill_holiday\n",
      "╒═════════════════════════╤═══════╤═══════╕\n",
      "│                         │   neg │   pos │\n",
      "╞═════════════════════════╪═══════╪═══════╡\n",
      "│ ('negative', 'absent')  │    18 │    35 │\n",
      "├─────────────────────────┼───────┼───────┤\n",
      "│ ('negative', 'present') │    29 │    19 │\n",
      "├─────────────────────────┼───────┼───────┤\n",
      "│ ('positive', 'absent')  │    22 │    27 │\n",
      "├─────────────────────────┼───────┼───────┤\n",
      "│ ('positive', 'present') │    42 │    11 │\n",
      "╘═════════════════════════╧═══════╧═══════╛\n",
      "Unadjusted Chi-Square\n",
      "X^2 =  24.615757459161372\n",
      "degrees of freedom:  3\n",
      "p =  0.0000185771096851 \n",
      "\n",
      "William's Corrected Chi-Square\n",
      "X^2 =  24.312164084606614\n",
      "degrees of freedom:  3\n",
      "p =  0.0000214983431445 \n",
      "\n",
      "Cramer's v effect size =  0.346 \n",
      "\n",
      "\n",
      "\n",
      "rebecca_swimming\n",
      "╒═════════════════════════╤═══════╤═══════╕\n",
      "│                         │   neg │   pos │\n",
      "╞═════════════════════════╪═══════╪═══════╡\n",
      "│ ('negative', 'absent')  │    32 │    17 │\n",
      "├─────────────────────────┼───────┼───────┤\n",
      "│ ('negative', 'present') │    42 │     9 │\n",
      "├─────────────────────────┼───────┼───────┤\n",
      "│ ('positive', 'absent')  │    36 │    13 │\n",
      "├─────────────────────────┼───────┼───────┤\n",
      "│ ('positive', 'present') │    48 │     6 │\n",
      "╘═════════════════════════╧═══════╧═══════╛\n",
      "Unadjusted Chi-Square\n",
      "X^2 =  9.426899423623176\n",
      "degrees of freedom:  3\n",
      "p =  0.0241218796023320 \n",
      "\n",
      "William's Corrected Chi-Square\n",
      "X^2 =  9.244587082490732\n",
      "degrees of freedom:  3\n",
      "p =  0.0262096662344336 \n",
      "\n",
      "Cramer's v effect size =  0.213 \n",
      "\n",
      "\n",
      "\n",
      "sally_wine\n",
      "╒═════════════════════════╤═══════╤═══════╕\n",
      "│                         │   neg │   pos │\n",
      "╞═════════════════════════╪═══════╪═══════╡\n",
      "│ ('negative', 'absent')  │    24 │    25 │\n",
      "├─────────────────────────┼───────┼───────┤\n",
      "│ ('negative', 'present') │    45 │     7 │\n",
      "├─────────────────────────┼───────┼───────┤\n",
      "│ ('positive', 'absent')  │    12 │    38 │\n",
      "├─────────────────────────┼───────┼───────┤\n",
      "│ ('positive', 'present') │    38 │    13 │\n",
      "╘═════════════════════════╧═══════╧═══════╛\n",
      "Unadjusted Chi-Square\n",
      "X^2 =  48.695340857786086\n",
      "degrees of freedom:  3\n",
      "p =  0.0000000001514550 \n",
      "\n",
      "William's Corrected Chi-Square\n",
      "X^2 =  48.074017436783976\n",
      "degrees of freedom:  3\n",
      "p =  0.0000000002053632 \n",
      "\n",
      "Cramer's v effect size =  0.488 \n",
      "\n",
      "\n",
      "\n",
      "belinda_meeting\n",
      "╒═════════════════════════╤═══════╤═══════╕\n",
      "│                         │   neg │   pos │\n",
      "╞═════════════════════════╪═══════╪═══════╡\n",
      "│ ('negative', 'absent')  │    26 │    25 │\n",
      "├─────────────────────────┼───────┼───────┤\n",
      "│ ('negative', 'present') │    27 │    19 │\n",
      "├─────────────────────────┼───────┼───────┤\n",
      "│ ('positive', 'absent')  │    33 │    17 │\n",
      "├─────────────────────────┼───────┼───────┤\n",
      "│ ('positive', 'present') │    40 │    10 │\n",
      "╘═════════════════════════╧═══════╧═══════╛\n",
      "Unadjusted Chi-Square\n",
      "X^2 =  9.951239973706025\n",
      "degrees of freedom:  3\n",
      "p =  0.0189851934086802 \n",
      "\n",
      "William's Corrected Chi-Square\n",
      "X^2 =  9.81244688679926\n",
      "degrees of freedom:  3\n",
      "p =  0.0202295660731026 \n",
      "\n",
      "Cramer's v effect size =  0.223 \n",
      "\n",
      "\n",
      "\n",
      "michael_breakfast\n",
      "╒═════════════════════════╤═══════╤═══════╕\n",
      "│                         │   neg │   pos │\n",
      "╞═════════════════════════╪═══════╪═══════╡\n",
      "│ ('negative', 'absent')  │    14 │    37 │\n",
      "├─────────────────────────┼───────┼───────┤\n",
      "│ ('negative', 'present') │    30 │    17 │\n",
      "├─────────────────────────┼───────┼───────┤\n",
      "│ ('positive', 'absent')  │    15 │    32 │\n",
      "├─────────────────────────┼───────┼───────┤\n",
      "│ ('positive', 'present') │    36 │    13 │\n",
      "╘═════════════════════════╧═══════╧═══════╛\n",
      "Unadjusted Chi-Square\n",
      "X^2 =  30.843786472250628\n",
      "degrees of freedom:  3\n",
      "p =  0.0000009169226477 \n",
      "\n",
      "William's Corrected Chi-Square\n",
      "X^2 =  30.450676067407187\n",
      "degrees of freedom:  3\n",
      "p =  0.0000011093696067 \n",
      "\n",
      "Cramer's v effect size =  0.396 \n",
      "\n",
      "\n",
      "\n",
      "lucy_loan\n",
      "╒═════════════════════════╤═══════╤═══════╕\n",
      "│                         │   neg │   pos │\n",
      "╞═════════════════════════╪═══════╪═══════╡\n",
      "│ ('negative', 'absent')  │     7 │    42 │\n",
      "├─────────────────────────┼───────┼───────┤\n",
      "│ ('negative', 'present') │    19 │    21 │\n",
      "├─────────────────────────┼───────┼───────┤\n",
      "│ ('positive', 'absent')  │     9 │    40 │\n",
      "├─────────────────────────┼───────┼───────┤\n",
      "│ ('positive', 'present') │    23 │    32 │\n",
      "╘═════════════════════════╧═══════╧═══════╛\n",
      "Unadjusted Chi-Square\n",
      "X^2 =  18.392306142589398\n",
      "degrees of freedom:  3\n",
      "p =  0.0003650502790291 \n",
      "\n",
      "William's Corrected Chi-Square\n",
      "X^2 =  18.094617793169395\n",
      "degrees of freedom:  3\n",
      "p =  0.0004205209967043 \n",
      "\n",
      "Cramer's v effect size =  0.306 \n",
      "\n",
      "\n",
      "\n",
      "sean_call\n",
      "╒═════════════════════════╤═══════╤═══════╕\n",
      "│                         │   neg │   pos │\n",
      "╞═════════════════════════╪═══════╪═══════╡\n",
      "│ ('negative', 'absent')  │    29 │    24 │\n",
      "├─────────────────────────┼───────┼───────┤\n",
      "│ ('negative', 'present') │    44 │     9 │\n",
      "├─────────────────────────┼───────┼───────┤\n",
      "│ ('positive', 'absent')  │    40 │    15 │\n",
      "├─────────────────────────┼───────┼───────┤\n",
      "│ ('positive', 'present') │    52 │     3 │\n",
      "╘═════════════════════════╧═══════╧═══════╛\n",
      "Unadjusted Chi-Square\n",
      "X^2 =  25.554653874024275\n",
      "degrees of freedom:  3\n",
      "p =  0.0000118207817980 \n",
      "\n",
      "William's Corrected Chi-Square\n",
      "X^2 =  25.11418213200529\n",
      "degrees of freedom:  3\n",
      "p =  0.0000146145563392 \n",
      "\n",
      "Cramer's v effect size =  0.341 \n",
      "\n",
      "\n",
      "\n",
      "The number of Materials showing a Chi-Square with p < 0.05 is  7\n",
      "The number of Materials showing a William's Corrected Chi-Square with p < 0.05 is  7\n",
      "Non-significant mats are  ['john_party']\n"
     ]
    }
   ],
   "source": [
    "print(\"Chi-Square Overall, by Material\")\n",
    "materialsXvariable_valence = master_data.groupby(['material','valence_condition','means_condition'])['val_code'].value_counts().unstack()\n",
    "materialsXvariable_valence = materialsXvariable_valence[['neg','pos']]\n",
    "mat_chi_square(materialsXvariable_valence, .05)"
   ]
  },
  {
   "cell_type": "code",
   "execution_count": 12,
   "id": "f2b62039",
   "metadata": {},
   "outputs": [
    {
     "name": "stdout",
     "output_type": "stream",
     "text": [
      "Chi-Square Valence, by Material\n",
      "john_party\n",
      "╒═════════════════════╤═══════╤═══════╕\n",
      "│ valence_condition   │   neg │   pos │\n",
      "╞═════════════════════╪═══════╪═══════╡\n",
      "│ negative            │    77 │    23 │\n",
      "├─────────────────────┼───────┼───────┤\n",
      "│ positive            │    85 │    16 │\n",
      "╘═════════════════════╧═══════╧═══════╛\n",
      "Unadjusted Chi-Square\n",
      "X^2 =  1.2206011466531261\n",
      "degrees of freedom:  1\n",
      "p =  0.2692427090092857 \n",
      "\n",
      "William's Corrected Chi-Square\n",
      "X^2 =  1.204437816068502\n",
      "degrees of freedom:  1\n",
      "p =  0.2724365025773177 \n",
      "\n",
      "Cramer's v effect size =  0.077 \n",
      "\n",
      "\n",
      "\n",
      "bill_holiday\n",
      "╒═════════════════════╤═══════╤═══════╕\n",
      "│ valence_condition   │   neg │   pos │\n",
      "╞═════════════════════╪═══════╪═══════╡\n",
      "│ negative            │    47 │    54 │\n",
      "├─────────────────────┼───────┼───────┤\n",
      "│ positive            │    64 │    38 │\n",
      "╘═════════════════════╧═══════╧═══════╛\n",
      "Unadjusted Chi-Square\n",
      "X^2 =  4.747147568708966\n",
      "degrees of freedom:  1\n",
      "p =  0.0293469019872808 \n",
      "\n",
      "William's Corrected Chi-Square\n",
      "X^2 =  4.711919024727498\n",
      "degrees of freedom:  1\n",
      "p =  0.0299541963520440 \n",
      "\n",
      "Cramer's v effect size =  0.152 \n",
      "\n",
      "\n",
      "\n",
      "rebecca_swimming\n",
      "╒═════════════════════╤═══════╤═══════╕\n",
      "│ valence_condition   │   neg │   pos │\n",
      "╞═════════════════════╪═══════╪═══════╡\n",
      "│ negative            │    74 │    26 │\n",
      "├─────────────────────┼───────┼───────┤\n",
      "│ positive            │    84 │    19 │\n",
      "╘═════════════════════╧═══════╧═══════╛\n",
      "Unadjusted Chi-Square\n",
      "X^2 =  1.2686003133833104\n",
      "degrees of freedom:  1\n",
      "p =  0.2600294244523579 \n",
      "\n",
      "William's Corrected Chi-Square\n",
      "X^2 =  1.253785515460131\n",
      "degrees of freedom:  1\n",
      "p =  0.2628306940973519 \n",
      "\n",
      "Cramer's v effect size =  0.079 \n",
      "\n",
      "\n",
      "\n",
      "sally_wine\n",
      "╒═════════════════════╤═══════╤═══════╕\n",
      "│ valence_condition   │   neg │   pos │\n",
      "╞═════════════════════╪═══════╪═══════╡\n",
      "│ negative            │    69 │    32 │\n",
      "├─────────────────────┼───────┼───────┤\n",
      "│ positive            │    50 │    51 │\n",
      "╘═════════════════════╧═══════╧═══════╛\n",
      "Unadjusted Chi-Square\n",
      "X^2 =  6.626303533461578\n",
      "degrees of freedom:  1\n",
      "p =  0.0100483577206805 \n",
      "\n",
      "William's Corrected Chi-Square\n",
      "X^2 =  6.575341157629435\n",
      "degrees of freedom:  1\n",
      "p =  0.0103401182026957 \n",
      "\n",
      "Cramer's v effect size =  0.180 \n",
      "\n",
      "\n",
      "\n",
      "belinda_meeting\n",
      "╒═════════════════════╤═══════╤═══════╕\n",
      "│ valence_condition   │   neg │   pos │\n",
      "╞═════════════════════╪═══════╪═══════╡\n",
      "│ negative            │    53 │    44 │\n",
      "├─────────────────────┼───────┼───────┤\n",
      "│ positive            │    73 │    27 │\n",
      "╘═════════════════════╧═══════╧═══════╛\n",
      "Unadjusted Chi-Square\n",
      "X^2 =  6.4265182302290285\n",
      "degrees of freedom:  1\n",
      "p =  0.0112428762241000 \n",
      "\n",
      "William's Corrected Chi-Square\n",
      "X^2 =  6.372510839134634\n",
      "degrees of freedom:  1\n",
      "p =  0.0115901492974130 \n",
      "\n",
      "Cramer's v effect size =  0.180 \n",
      "\n",
      "\n",
      "\n",
      "michael_breakfast\n",
      "╒═════════════════════╤═══════╤═══════╕\n",
      "│ valence_condition   │   neg │   pos │\n",
      "╞═════════════════════╪═══════╪═══════╡\n",
      "│ negative            │    44 │    54 │\n",
      "├─────────────────────┼───────┼───────┤\n",
      "│ positive            │    51 │    45 │\n",
      "╘═════════════════════╧═══════╧═══════╛\n",
      "Unadjusted Chi-Square\n",
      "X^2 =  1.0049002602104087\n",
      "degrees of freedom:  1\n",
      "p =  0.3161276864187854 \n",
      "\n",
      "William's Corrected Chi-Square\n",
      "X^2 =  0.9971846043862648\n",
      "degrees of freedom:  1\n",
      "p =  0.3179927115162792 \n",
      "\n",
      "Cramer's v effect size =  0.072 \n",
      "\n",
      "\n",
      "\n",
      "lucy_loan\n",
      "╒═════════════════════╤═══════╤═══════╕\n",
      "│ valence_condition   │   neg │   pos │\n",
      "╞═════════════════════╪═══════╪═══════╡\n",
      "│ negative            │    26 │    63 │\n",
      "├─────────────────────┼───────┼───────┤\n",
      "│ positive            │    32 │    72 │\n",
      "╘═════════════════════╧═══════╧═══════╛\n",
      "Unadjusted Chi-Square\n",
      "X^2 =  0.006008408063086491\n",
      "degrees of freedom:  1\n",
      "p =  0.9382147166504615 \n",
      "\n",
      "William's Corrected Chi-Square\n",
      "X^2 =  0.005950022923620914\n",
      "degrees of freedom:  1\n",
      "p =  0.9385150428455470 \n",
      "\n",
      "Cramer's v effect size =  0.006 \n",
      "\n",
      "\n",
      "\n",
      "sean_call\n",
      "╒═════════════════════╤═══════╤═══════╕\n",
      "│ valence_condition   │   neg │   pos │\n",
      "╞═════════════════════╪═══════╪═══════╡\n",
      "│ negative            │    73 │    33 │\n",
      "├─────────────────────┼───────┼───────┤\n",
      "│ positive            │    92 │    18 │\n",
      "╘═════════════════════╧═══════╧═══════╛\n",
      "Unadjusted Chi-Square\n",
      "X^2 =  5.7346661652342235\n",
      "degrees of freedom:  1\n",
      "p =  0.0166332294637688 \n",
      "\n",
      "William's Corrected Chi-Square\n",
      "X^2 =  5.674941821039695\n",
      "degrees of freedom:  1\n",
      "p =  0.0172089105032202 \n",
      "\n",
      "Cramer's v effect size =  0.162 \n",
      "\n",
      "\n",
      "\n",
      "The number of Materials showing a Chi-Square with p < 0.05 is  4\n",
      "The number of Materials showing a William's Corrected Chi-Square with p < 0.05 is  4\n",
      "Non-significant mats are  ['john_party', 'rebecca_swimming', 'michael_breakfast', 'lucy_loan']\n"
     ]
    }
   ],
   "source": [
    "print(\"Chi-Square Valence, by Material\")\n",
    "materialsXvariable_valence_valence = master_data.groupby(['material','valence_condition'])['val_code'].value_counts().unstack()\n",
    "materialsXvariable_valence_valence = materialsXvariable_valence_valence[['neg','pos']]\n",
    "mat_chi_square(materialsXvariable_valence_valence, .05)"
   ]
  },
  {
   "cell_type": "code",
   "execution_count": 13,
   "id": "701c267a",
   "metadata": {},
   "outputs": [
    {
     "name": "stdout",
     "output_type": "stream",
     "text": [
      "Chi-Square Control, by Material\n",
      "john_party\n",
      "╒═══════════════════╤═══════╤═══════╕\n",
      "│ means_condition   │   neg │   pos │\n",
      "╞═══════════════════╪═══════╪═══════╡\n",
      "│ absent            │    75 │    25 │\n",
      "├───────────────────┼───────┼───────┤\n",
      "│ present           │    87 │    14 │\n",
      "╘═══════════════════╧═══════╧═══════╛\n",
      "Unadjusted Chi-Square\n",
      "X^2 =  3.3061228526698816\n",
      "degrees of freedom:  1\n",
      "p =  0.0690221590251109 \n",
      "\n",
      "William's Corrected Chi-Square\n",
      "X^2 =  3.2623428211930885\n",
      "degrees of freedom:  1\n",
      "p =  0.0708877800590919 \n",
      "\n",
      "Cramer's v effect size =  0.127 \n",
      "\n",
      "\n",
      "\n",
      "bill_holiday\n",
      "╒═══════════════════╤═══════╤═══════╕\n",
      "│ means_condition   │   neg │   pos │\n",
      "╞═══════════════════╪═══════╪═══════╡\n",
      "│ absent            │    40 │    62 │\n",
      "├───────────────────┼───────┼───────┤\n",
      "│ present           │    71 │    30 │\n",
      "╘═══════════════════╧═══════╧═══════╛\n",
      "Unadjusted Chi-Square\n",
      "X^2 =  18.54928430066516\n",
      "degrees of freedom:  1\n",
      "p =  0.0000165567382696 \n",
      "\n",
      "William's Corrected Chi-Square\n",
      "X^2 =  18.4116302108454\n",
      "degrees of freedom:  1\n",
      "p =  0.0000177968427365 \n",
      "\n",
      "Cramer's v effect size =  0.301 \n",
      "\n",
      "\n",
      "\n",
      "rebecca_swimming\n",
      "╒═══════════════════╤═══════╤═══════╕\n",
      "│ means_condition   │   neg │   pos │\n",
      "╞═══════════════════╪═══════╪═══════╡\n",
      "│ absent            │    68 │    30 │\n",
      "├───────────────────┼───────┼───────┤\n",
      "│ present           │    90 │    15 │\n",
      "╘═══════════════════╧═══════╧═══════╛\n",
      "Unadjusted Chi-Square\n",
      "X^2 =  6.913536099390531\n",
      "degrees of freedom:  1\n",
      "p =  0.0085545647369846 \n",
      "\n",
      "William's Corrected Chi-Square\n",
      "X^2 =  6.832695985627387\n",
      "degrees of freedom:  1\n",
      "p =  0.0089504068555901 \n",
      "\n",
      "Cramer's v effect size =  0.183 \n",
      "\n",
      "\n",
      "\n",
      "sally_wine\n",
      "╒═══════════════════╤═══════╤═══════╕\n",
      "│ means_condition   │   neg │   pos │\n",
      "╞═══════════════════╪═══════╪═══════╡\n",
      "│ absent            │    36 │    63 │\n",
      "├───────────────────┼───────┼───────┤\n",
      "│ present           │    83 │    20 │\n",
      "╘═══════════════════╧═══════╧═══════╛\n",
      "Unadjusted Chi-Square\n",
      "X^2 =  38.97059782167776\n",
      "degrees of freedom:  1\n",
      "p =  0.0000000004302368 \n",
      "\n",
      "William's Corrected Chi-Square\n",
      "X^2 =  38.67072248330416\n",
      "degrees of freedom:  1\n",
      "p =  0.0000000005016779 \n",
      "\n",
      "Cramer's v effect size =  0.438 \n",
      "\n",
      "\n",
      "\n",
      "belinda_meeting\n",
      "╒═══════════════════╤═══════╤═══════╕\n",
      "│ means_condition   │   neg │   pos │\n",
      "╞═══════════════════╪═══════╪═══════╡\n",
      "│ absent            │    59 │    42 │\n",
      "├───────────────────┼───────┼───────┤\n",
      "│ present           │    67 │    29 │\n",
      "╘═══════════════════╧═══════╧═══════╛\n",
      "Unadjusted Chi-Square\n",
      "X^2 =  2.2916305733419584\n",
      "degrees of freedom:  1\n",
      "p =  0.1300732096240894 \n",
      "\n",
      "William's Corrected Chi-Square\n",
      "X^2 =  2.272361587541054\n",
      "degrees of freedom:  1\n",
      "p =  0.1316990819622005 \n",
      "\n",
      "Cramer's v effect size =  0.107 \n",
      "\n",
      "\n",
      "\n",
      "michael_breakfast\n",
      "╒═══════════════════╤═══════╤═══════╕\n",
      "│ means_condition   │   neg │   pos │\n",
      "╞═══════════════════╪═══════╪═══════╡\n",
      "│ absent            │    29 │    69 │\n",
      "├───────────────────┼───────┼───────┤\n",
      "│ present           │    66 │    30 │\n",
      "╘═══════════════════╧═══════╧═══════╛\n",
      "Unadjusted Chi-Square\n",
      "X^2 =  28.21034352204464\n",
      "degrees of freedom:  1\n",
      "p =  0.0000001088214733 \n",
      "\n",
      "William's Corrected Chi-Square\n",
      "X^2 =  27.99374361664568\n",
      "degrees of freedom:  1\n",
      "p =  0.0000001217083086 \n",
      "\n",
      "Cramer's v effect size =  0.380 \n",
      "\n",
      "\n",
      "\n",
      "lucy_loan\n",
      "╒═══════════════════╤═══════╤═══════╕\n",
      "│ means_condition   │   neg │   pos │\n",
      "╞═══════════════════╪═══════╪═══════╡\n",
      "│ absent            │    16 │    82 │\n",
      "├───────────────────┼───────┼───────┤\n",
      "│ present           │    42 │    53 │\n",
      "╘═══════════════════╧═══════╧═══════╛\n",
      "Unadjusted Chi-Square\n",
      "X^2 =  16.540633854065934\n",
      "degrees of freedom:  1\n",
      "p =  0.0000476186053505 \n",
      "\n",
      "William's Corrected Chi-Square\n",
      "X^2 =  16.38113311455866\n",
      "degrees of freedom:  1\n",
      "p =  0.0000517982667910 \n",
      "\n",
      "Cramer's v effect size =  0.291 \n",
      "\n",
      "\n",
      "\n",
      "sean_call\n",
      "╒═══════════════════╤═══════╤═══════╕\n",
      "│ means_condition   │   neg │   pos │\n",
      "╞═══════════════════╪═══════╪═══════╡\n",
      "│ absent            │    69 │    39 │\n",
      "├───────────────────┼───────┼───────┤\n",
      "│ present           │    96 │    12 │\n",
      "╘═══════════════════╧═══════╧═══════╛\n",
      "Unadjusted Chi-Square\n",
      "X^2 =  17.35187165775401\n",
      "degrees of freedom:  1\n",
      "p =  0.0000310592238050 \n",
      "\n",
      "William's Corrected Chi-Square\n",
      "X^2 =  17.171240344073166\n",
      "degrees of freedom:  1\n",
      "p =  0.0000341568574716 \n",
      "\n",
      "Cramer's v effect size =  0.282 \n",
      "\n",
      "\n",
      "\n",
      "The number of Materials showing a Chi-Square with p < 0.01 is  6\n",
      "The number of Materials showing a William's Corrected Chi-Square with p < 0.01 is  6\n",
      "Non-significant mats are  ['john_party', 'belinda_meeting']\n"
     ]
    }
   ],
   "source": [
    "print(\"Chi-Square Control, by Material\")\n",
    "materialsXvariable_valence_control = master_data.groupby(['material','means_condition'])['val_code'].value_counts().unstack()\n",
    "materialsXvariable_valence_control = materialsXvariable_valence_control[['neg','pos']]\n",
    "mat_chi_square(materialsXvariable_valence_control, .01)"
   ]
  },
  {
   "cell_type": "markdown",
   "id": "f30bd106",
   "metadata": {},
   "source": [
    "### Valence Log-Odds"
   ]
  },
  {
   "cell_type": "code",
   "execution_count": 14,
   "id": "a04add87",
   "metadata": {},
   "outputs": [
    {
     "name": "stdout",
     "output_type": "stream",
     "text": [
      "neg_log_odds tell us how many times more likely it is to get a negative vs. positive response.\n"
     ]
    }
   ],
   "source": [
    "print(\"neg_log_odds tell us how many times more likely it is to get a negative vs. positive response.\")"
   ]
  },
  {
   "cell_type": "code",
   "execution_count": 15,
   "id": "204635fc",
   "metadata": {
    "scrolled": true
   },
   "outputs": [
    {
     "data": {
      "text/html": [
       "<div>\n",
       "<style scoped>\n",
       "    .dataframe tbody tr th:only-of-type {\n",
       "        vertical-align: middle;\n",
       "    }\n",
       "\n",
       "    .dataframe tbody tr th {\n",
       "        vertical-align: top;\n",
       "    }\n",
       "\n",
       "    .dataframe thead th {\n",
       "        text-align: right;\n",
       "    }\n",
       "</style>\n",
       "<table border=\"1\" class=\"dataframe\">\n",
       "  <thead>\n",
       "    <tr style=\"text-align: right;\">\n",
       "      <th></th>\n",
       "      <th>val_code</th>\n",
       "      <th>neg</th>\n",
       "      <th>neither</th>\n",
       "      <th>pos</th>\n",
       "      <th>neg_odds</th>\n",
       "      <th>neg_log_odds</th>\n",
       "    </tr>\n",
       "    <tr>\n",
       "      <th>means_condition</th>\n",
       "      <th>valence_condition</th>\n",
       "      <th></th>\n",
       "      <th></th>\n",
       "      <th></th>\n",
       "      <th></th>\n",
       "      <th></th>\n",
       "    </tr>\n",
       "  </thead>\n",
       "  <tbody>\n",
       "    <tr>\n",
       "      <th rowspan=\"2\" valign=\"top\">absent</th>\n",
       "      <th>negative</th>\n",
       "      <td>0.427273</td>\n",
       "      <td>0.077273</td>\n",
       "      <td>0.495455</td>\n",
       "      <td>0.746032</td>\n",
       "      <td>-0.292987</td>\n",
       "    </tr>\n",
       "    <tr>\n",
       "      <th>positive</th>\n",
       "      <td>0.463636</td>\n",
       "      <td>0.095455</td>\n",
       "      <td>0.440909</td>\n",
       "      <td>0.864407</td>\n",
       "      <td>-0.145712</td>\n",
       "    </tr>\n",
       "    <tr>\n",
       "      <th rowspan=\"2\" valign=\"top\">present</th>\n",
       "      <th>negative</th>\n",
       "      <td>0.636574</td>\n",
       "      <td>0.106481</td>\n",
       "      <td>0.256944</td>\n",
       "      <td>1.751592</td>\n",
       "      <td>0.560525</td>\n",
       "    </tr>\n",
       "    <tr>\n",
       "      <th>positive</th>\n",
       "      <td>0.743182</td>\n",
       "      <td>0.047727</td>\n",
       "      <td>0.209091</td>\n",
       "      <td>2.893805</td>\n",
       "      <td>1.062572</td>\n",
       "    </tr>\n",
       "  </tbody>\n",
       "</table>\n",
       "</div>"
      ],
      "text/plain": [
       "val_code                                neg   neither       pos  neg_odds  \\\n",
       "means_condition valence_condition                                           \n",
       "absent          negative           0.427273  0.077273  0.495455  0.746032   \n",
       "                positive           0.463636  0.095455  0.440909  0.864407   \n",
       "present         negative           0.636574  0.106481  0.256944  1.751592   \n",
       "                positive           0.743182  0.047727  0.209091  2.893805   \n",
       "\n",
       "val_code                           neg_log_odds  \n",
       "means_condition valence_condition                \n",
       "absent          negative              -0.292987  \n",
       "                positive              -0.145712  \n",
       "present         negative               0.560525  \n",
       "                positive               1.062572  "
      ]
     },
     "execution_count": 15,
     "metadata": {},
     "output_type": "execute_result"
    }
   ],
   "source": [
    "#get proportions\n",
    "valence_props['neg_odds'] = valence_props['neg']/(1-valence_props['neg']) # lumps pos and neither together... essentially the odds of getting neg over not getting neg\n",
    "valence_props['neg_log_odds'] = np.log(valence_props['neg_odds']) \n",
    "valence_props"
   ]
  },
  {
   "cell_type": "code",
   "execution_count": 16,
   "id": "b956a01f",
   "metadata": {
    "scrolled": true
   },
   "outputs": [
    {
     "data": {
      "text/plain": [
       "<matplotlib.axes._subplots.AxesSubplot at 0x7ff427255208>"
      ]
     },
     "execution_count": 16,
     "metadata": {},
     "output_type": "execute_result"
    },
    {
     "data": {
      "image/png": "[encoded data removed]",
      "text/plain": [
       "<Figure size 432x288 with 1 Axes>"
      ]
     },
     "metadata": {
      "needs_background": "light"
     },
     "output_type": "display_data"
    }
   ],
   "source": [
    "valence_props['neg_log_odds'].plot.bar()"
   ]
  },
  {
   "cell_type": "code",
   "execution_count": 17,
   "id": "000c2f10",
   "metadata": {},
   "outputs": [
    {
     "data": {
      "text/html": [
       "<div>\n",
       "<style scoped>\n",
       "    .dataframe tbody tr th:only-of-type {\n",
       "        vertical-align: middle;\n",
       "    }\n",
       "\n",
       "    .dataframe tbody tr th {\n",
       "        vertical-align: top;\n",
       "    }\n",
       "\n",
       "    .dataframe thead th {\n",
       "        text-align: right;\n",
       "    }\n",
       "</style>\n",
       "<table border=\"1\" class=\"dataframe\">\n",
       "  <thead>\n",
       "    <tr style=\"text-align: right;\">\n",
       "      <th>val_code</th>\n",
       "      <th>neg</th>\n",
       "      <th>neither</th>\n",
       "      <th>pos</th>\n",
       "      <th>neg_odds</th>\n",
       "      <th>neg_log_odds</th>\n",
       "    </tr>\n",
       "    <tr>\n",
       "      <th>means_condition</th>\n",
       "      <th></th>\n",
       "      <th></th>\n",
       "      <th></th>\n",
       "      <th></th>\n",
       "      <th></th>\n",
       "    </tr>\n",
       "  </thead>\n",
       "  <tbody>\n",
       "    <tr>\n",
       "      <th>absent</th>\n",
       "      <td>0.445455</td>\n",
       "      <td>0.086364</td>\n",
       "      <td>0.468182</td>\n",
       "      <td>0.803279</td>\n",
       "      <td>-0.219054</td>\n",
       "    </tr>\n",
       "    <tr>\n",
       "      <th>present</th>\n",
       "      <td>0.690367</td>\n",
       "      <td>0.076835</td>\n",
       "      <td>0.232798</td>\n",
       "      <td>2.229630</td>\n",
       "      <td>0.801835</td>\n",
       "    </tr>\n",
       "  </tbody>\n",
       "</table>\n",
       "</div>"
      ],
      "text/plain": [
       "val_code              neg   neither       pos  neg_odds  neg_log_odds\n",
       "means_condition                                                      \n",
       "absent           0.445455  0.086364  0.468182  0.803279     -0.219054\n",
       "present          0.690367  0.076835  0.232798  2.229630      0.801835"
      ]
     },
     "execution_count": 17,
     "metadata": {},
     "output_type": "execute_result"
    }
   ],
   "source": [
    "valence_props2 = master_data.groupby(['means_condition'])['val_code'].value_counts(normalize=True).unstack()\n",
    "\n",
    "valence_props2['neg_odds'] = valence_props2['neg']/(1-valence_props2['neg']) # lumps pos and neither together... essentially the odds of getting neg over not getting neg\n",
    "valence_props2['neg_log_odds'] = np.log(valence_props2['neg_odds']) \n",
    "valence_props2"
   ]
  },
  {
   "cell_type": "code",
   "execution_count": 18,
   "id": "006c13f7",
   "metadata": {},
   "outputs": [
    {
     "name": "stdout",
     "output_type": "stream",
     "text": [
      "absent -0.21905356606268478\n",
      "present 0.8018354863104464\n"
     ]
    }
   ],
   "source": [
    "for row in valence_props2.iterrows():\n",
    "    print(row[0], row[1][4])\n",
    "    lo = Export.value(row[0] + \"logoddsneg\", \"{:.3f}\".format(row[1][4])) \n",
    "    lo > latex_report"
   ]
  },
  {
   "cell_type": "code",
   "execution_count": 19,
   "id": "d6ef0253",
   "metadata": {},
   "outputs": [
    {
     "name": "stdout",
     "output_type": "stream",
     "text": [
      "Negative vs positive uncontrollable log odds of a negative outcome.\n"
     ]
    },
    {
     "data": {
      "text/plain": [
       "-0.14727531350008047"
      ]
     },
     "execution_count": 19,
     "metadata": {},
     "output_type": "execute_result"
    }
   ],
   "source": [
    "print(\"Negative vs positive uncontrollable log odds of a negative outcome.\")\n",
    "np.log(valence_props.loc['absent','negative']['neg_odds']/valence_props.loc['absent','positive']['neg_odds'])"
   ]
  },
  {
   "cell_type": "code",
   "execution_count": 20,
   "id": "bd4303d3",
   "metadata": {},
   "outputs": [
    {
     "name": "stdout",
     "output_type": "stream",
     "text": [
      "Negative vs positive controllable log odds of a negative outcome.\n"
     ]
    },
    {
     "data": {
      "text/plain": [
       "-0.5020470598666495"
      ]
     },
     "execution_count": 20,
     "metadata": {},
     "output_type": "execute_result"
    }
   ],
   "source": [
    "print(\"Negative vs positive controllable log odds of a negative outcome.\")\n",
    "np.log(valence_props.loc['present','negative']['neg_odds']/valence_props.loc['present','positive']['neg_odds'])"
   ]
  },
  {
   "cell_type": "code",
   "execution_count": 21,
   "id": "fa03e1ae",
   "metadata": {},
   "outputs": [
    {
     "name": "stdout",
     "output_type": "stream",
     "text": [
      "Uncontrollable vs controllable negative log odds of a negative outcome.\n"
     ]
    },
    {
     "data": {
      "text/plain": [
       "-0.8535124169997375"
      ]
     },
     "execution_count": 21,
     "metadata": {},
     "output_type": "execute_result"
    }
   ],
   "source": [
    "print(\"Uncontrollable vs controllable negative log odds of a negative outcome.\")\n",
    "np.log(valence_props.loc['absent','negative']['neg_odds']/valence_props.loc['present','negative']['neg_odds'])"
   ]
  },
  {
   "cell_type": "code",
   "execution_count": 22,
   "id": "0b331ea5",
   "metadata": {},
   "outputs": [
    {
     "name": "stdout",
     "output_type": "stream",
     "text": [
      "Uncontrollable vs controllable positive log odds of a negative outcome.\n"
     ]
    },
    {
     "data": {
      "text/plain": [
       "-1.2082841633663064"
      ]
     },
     "execution_count": 22,
     "metadata": {},
     "output_type": "execute_result"
    }
   ],
   "source": [
    "print(\"Uncontrollable vs controllable positive log odds of a negative outcome.\")\n",
    "np.log(valence_props.loc['absent','positive']['neg_odds']/valence_props.loc['present','positive']['neg_odds'])"
   ]
  },
  {
   "cell_type": "markdown",
   "id": "7e605144",
   "metadata": {},
   "source": [
    "### Valence Conclusion:"
   ]
  },
  {
   "cell_type": "code",
   "execution_count": 38,
   "id": "ba1a9077",
   "metadata": {
    "scrolled": false
   },
   "outputs": [
    {
     "data": {
      "application/vnd.plotly.v1+json": {
       "config": {
        "plotlyServerURL": "https://plot.ly",
        "toImageButtonOptions": {
         "format": "svg",
         "height": null,
         "scale": 1,
         "width": null
        }
       },
       "data": [
        {
         "marker": {
          "color": "#EF553B"
         },
         "name": "Negative Outcome",
         "text": [
          0.42727272727272725,
          0.4636363636363636,
          0.6365740740740741,
          0.7431818181818182
         ],
         "textposition": "outside",
         "texttemplate": "%{text:.2%}",
         "type": "bar",
         "x": [
          [
           "Uncontrollable",
           "Uncontrollable",
           "Controllable",
           "Controllable"
          ],
          [
           "Negative",
           "Positive",
           "Negative",
           "Positive"
          ]
         ],
         "y": [
          0.42727272727272725,
          0.4636363636363636,
          0.6365740740740741,
          0.7431818181818182
         ]
        },
        {
         "marker": {
          "color": "#00CC96"
         },
         "name": "Positive Outcome",
         "text": [
          0.4954545454545455,
          0.4409090909090909,
          0.2569444444444444,
          0.20909090909090908
         ],
         "textposition": "outside",
         "texttemplate": "%{text:.2%}",
         "type": "bar",
         "x": [
          [
           "Uncontrollable",
           "Uncontrollable",
           "Controllable",
           "Controllable"
          ],
          [
           "Negative",
           "Positive",
           "Negative",
           "Positive"
          ]
         ],
         "y": [
          0.4954545454545455,
          0.4409090909090909,
          0.2569444444444444,
          0.20909090909090908
         ]
        }
       ],
       "layout": {
        "annotations": [
         {
          "align": "center",
          "font": {
           "color": "black",
           "family": "Times New Roman",
           "size": 18
          },
          "showarrow": false,
          "text": "***",
          "x": 0.755,
          "xanchor": "center",
          "xref": "x domain",
          "y": 0.88,
          "yanchor": "middle",
          "yref": "y"
         },
         {
          "align": "center",
          "font": {
           "color": "black",
           "family": "Times New Roman",
           "size": 18
          },
          "showarrow": false,
          "text": "***",
          "x": 0.63,
          "xanchor": "center",
          "xref": "x domain",
          "y": 0.96,
          "yanchor": "middle",
          "yref": "y"
         },
         {
          "align": "center",
          "font": {
           "color": "black",
           "family": "Times New Roman",
           "size": 18
          },
          "showarrow": false,
          "text": "***",
          "x": 0.375,
          "xanchor": "center",
          "xref": "x domain",
          "y": 0.78,
          "yanchor": "middle",
          "yref": "y"
         }
        ],
        "font": {
         "family": "Times New Roman",
         "size": 12
        },
        "height": 350,
        "legend": {
         "bordercolor": "grey",
         "borderwidth": 1,
         "x": 0.05,
         "xanchor": "left",
         "y": 1.05,
         "yanchor": "top"
        },
        "margin": {
         "b": 60,
         "l": 50,
         "r": 0,
         "t": 10
        },
        "shapes": [
         {
          "line": {
           "color": "black",
           "width": 2
          },
          "type": "line",
          "x0": 0.628,
          "x1": 0.882,
          "xref": "paper",
          "y0": 0.87,
          "y1": 0.87,
          "yref": "paper"
         },
         {
          "line": {
           "color": "black",
           "width": 2
          },
          "type": "line",
          "x0": 0.63,
          "x1": 0.63,
          "xref": "paper",
          "y0": 0.82,
          "y1": 0.87,
          "yref": "paper"
         },
         {
          "line": {
           "color": "black",
           "width": 2
          },
          "type": "line",
          "x0": 0.88,
          "x1": 0.88,
          "xref": "paper",
          "y0": 0.82,
          "y1": 0.87,
          "yref": "paper"
         },
         {
          "line": {
           "color": "black",
           "width": 2
          },
          "type": "line",
          "x0": 0.378,
          "x1": 0.882,
          "xref": "paper",
          "y0": 0.95,
          "y1": 0.95,
          "yref": "paper"
         },
         {
          "line": {
           "color": "black",
           "width": 2
          },
          "type": "line",
          "x0": 0.38,
          "x1": 0.38,
          "xref": "paper",
          "y0": 0.9,
          "y1": 0.95,
          "yref": "paper"
         },
         {
          "line": {
           "color": "black",
           "width": 2
          },
          "type": "line",
          "x0": 0.88,
          "x1": 0.88,
          "xref": "paper",
          "y0": 0.9,
          "y1": 0.95,
          "yref": "paper"
         },
         {
          "line": {
           "color": "black",
           "width": 2
          },
          "type": "line",
          "x0": 0.118,
          "x1": 0.632,
          "xref": "paper",
          "y0": 0.77,
          "y1": 0.77,
          "yref": "paper"
         },
         {
          "line": {
           "color": "black",
           "width": 2
          },
          "type": "line",
          "x0": 0.63,
          "x1": 0.63,
          "xref": "paper",
          "y0": 0.77,
          "y1": 0.72,
          "yref": "paper"
         },
         {
          "line": {
           "color": "black",
           "width": 2
          },
          "type": "line",
          "x0": 0.12,
          "x1": 0.12,
          "xref": "paper",
          "y0": 0.77,
          "y1": 0.72,
          "yref": "paper"
         }
        ],
        "template": {
         "data": {
          "scatter": [
           {
            "type": "scatter"
           }
          ]
         }
        },
        "width": 600,
        "xaxis": {
         "title": {
          "text": "Controllability and Valence Condition Group"
         }
        },
        "yaxis": {
         "range": [
          0,
          1
         ],
         "tickformat": ",.0%",
         "title": {
          "text": "Proportion of Outcome Responses"
         }
        }
       }
      },
      "text/html": [
       "<div>                            <div id=\"3135f5d6-ec92-4dbc-bb96-c01455214d25\" class=\"plotly-graph-div\" style=\"height:350px; width:600px;\"></div>            <script type=\"text/javascript\">                require([\"plotly\"], function(Plotly) {                    window.PLOTLYENV=window.PLOTLYENV || {};                                    if (document.getElementById(\"3135f5d6-ec92-4dbc-bb96-c01455214d25\")) {                    Plotly.newPlot(                        \"3135f5d6-ec92-4dbc-bb96-c01455214d25\",                        [{\"marker\": {\"color\": \"#EF553B\"}, \"name\": \"Negative Outcome\", \"text\": [0.42727272727272725, 0.4636363636363636, 0.6365740740740741, 0.7431818181818182], \"textposition\": \"outside\", \"texttemplate\": \"%{text:.2%}\", \"type\": \"bar\", \"x\": [[\"Uncontrollable\", \"Uncontrollable\", \"Controllable\", \"Controllable\"], [\"Negative\", \"Positive\", \"Negative\", \"Positive\"]], \"y\": [0.42727272727272725, 0.4636363636363636, 0.6365740740740741, 0.7431818181818182]}, {\"marker\": {\"color\": \"#00CC96\"}, \"name\": \"Positive Outcome\", \"text\": [0.4954545454545455, 0.4409090909090909, 0.2569444444444444, 0.20909090909090908], \"textposition\": \"outside\", \"texttemplate\": \"%{text:.2%}\", \"type\": \"bar\", \"x\": [[\"Uncontrollable\", \"Uncontrollable\", \"Controllable\", \"Controllable\"], [\"Negative\", \"Positive\", \"Negative\", \"Positive\"]], \"y\": [0.4954545454545455, 0.4409090909090909, 0.2569444444444444, 0.20909090909090908]}],                        {\"annotations\": [{\"align\": \"center\", \"font\": {\"color\": \"black\", \"family\": \"Times New Roman\", \"size\": 18}, \"showarrow\": false, \"text\": \"***\", \"x\": 0.755, \"xanchor\": \"center\", \"xref\": \"x domain\", \"y\": 0.88, \"yanchor\": \"middle\", \"yref\": \"y\"}, {\"align\": \"center\", \"font\": {\"color\": \"black\", \"family\": \"Times New Roman\", \"size\": 18}, \"showarrow\": false, \"text\": \"***\", \"x\": 0.63, \"xanchor\": \"center\", \"xref\": \"x domain\", \"y\": 0.96, \"yanchor\": \"middle\", \"yref\": \"y\"}, {\"align\": \"center\", \"font\": {\"color\": \"black\", \"family\": \"Times New Roman\", \"size\": 18}, \"showarrow\": false, \"text\": \"***\", \"x\": 0.375, \"xanchor\": \"center\", \"xref\": \"x domain\", \"y\": 0.78, \"yanchor\": \"middle\", \"yref\": \"y\"}], \"font\": {\"family\": \"Times New Roman\", \"size\": 12}, \"height\": 350, \"legend\": {\"bordercolor\": \"grey\", \"borderwidth\": 1, \"x\": 0.05, \"xanchor\": \"left\", \"y\": 1.05, \"yanchor\": \"top\"}, \"margin\": {\"b\": 60, \"l\": 50, \"r\": 0, \"t\": 10}, \"shapes\": [{\"line\": {\"color\": \"black\", \"width\": 2}, \"type\": \"line\", \"x0\": 0.628, \"x1\": 0.882, \"xref\": \"paper\", \"y0\": 0.87, \"y1\": 0.87, \"yref\": \"paper\"}, {\"line\": {\"color\": \"black\", \"width\": 2}, \"type\": \"line\", \"x0\": 0.63, \"x1\": 0.63, \"xref\": \"paper\", \"y0\": 0.82, \"y1\": 0.87, \"yref\": \"paper\"}, {\"line\": {\"color\": \"black\", \"width\": 2}, \"type\": \"line\", \"x0\": 0.88, \"x1\": 0.88, \"xref\": \"paper\", \"y0\": 0.82, \"y1\": 0.87, \"yref\": \"paper\"}, {\"line\": {\"color\": \"black\", \"width\": 2}, \"type\": \"line\", \"x0\": 0.378, \"x1\": 0.882, \"xref\": \"paper\", \"y0\": 0.95, \"y1\": 0.95, \"yref\": \"paper\"}, {\"line\": {\"color\": \"black\", \"width\": 2}, \"type\": \"line\", \"x0\": 0.38, \"x1\": 0.38, \"xref\": \"paper\", \"y0\": 0.9, \"y1\": 0.95, \"yref\": \"paper\"}, {\"line\": {\"color\": \"black\", \"width\": 2}, \"type\": \"line\", \"x0\": 0.88, \"x1\": 0.88, \"xref\": \"paper\", \"y0\": 0.9, \"y1\": 0.95, \"yref\": \"paper\"}, {\"line\": {\"color\": \"black\", \"width\": 2}, \"type\": \"line\", \"x0\": 0.118, \"x1\": 0.632, \"xref\": \"paper\", \"y0\": 0.77, \"y1\": 0.77, \"yref\": \"paper\"}, {\"line\": {\"color\": \"black\", \"width\": 2}, \"type\": \"line\", \"x0\": 0.63, \"x1\": 0.63, \"xref\": \"paper\", \"y0\": 0.77, \"y1\": 0.72, \"yref\": \"paper\"}, {\"line\": {\"color\": \"black\", \"width\": 2}, \"type\": \"line\", \"x0\": 0.12, \"x1\": 0.12, \"xref\": \"paper\", \"y0\": 0.77, \"y1\": 0.72, \"yref\": \"paper\"}], \"template\": {\"data\": {\"scatter\": [{\"type\": \"scatter\"}]}}, \"width\": 600, \"xaxis\": {\"title\": {\"text\": \"Controllability and Valence Condition Group\"}}, \"yaxis\": {\"range\": [0, 1], \"tickformat\": \",.0%\", \"title\": {\"text\": \"Proportion of Outcome Responses\"}}},                        {\"toImageButtonOptions\": {\"format\": \"svg\", \"height\": null, \"width\": null, \"scale\": 1}, \"responsive\": true}                    ).then(function(){\n",
       "                            \n",
       "var gd = document.getElementById('3135f5d6-ec92-4dbc-bb96-c01455214d25');\n",
       "var x = new MutationObserver(function (mutations, observer) {{\n",
       "        var display = window.getComputedStyle(gd).display;\n",
       "        if (!display || display === 'none') {{\n",
       "            console.log([gd, 'removed!']);\n",
       "            Plotly.purge(gd);\n",
       "            observer.disconnect();\n",
       "        }}\n",
       "}});\n",
       "\n",
       "// Listen for the removal of the full notebook cells\n",
       "var notebookContainer = gd.closest('#notebook-container');\n",
       "if (notebookContainer) {{\n",
       "    x.observe(notebookContainer, {childList: true});\n",
       "}}\n",
       "\n",
       "// Listen for the clearing of the current output cell\n",
       "var outputEl = gd.closest('.output');\n",
       "if (outputEl) {{\n",
       "    x.observe(outputEl, {childList: true});\n",
       "}}\n",
       "\n",
       "                        })                };                });            </script>        </div>"
      ]
     },
     "metadata": {},
     "output_type": "display_data"
    }
   ],
   "source": [
    "valence_props_plotly = valence_props.reset_index()\n",
    "\n",
    "x_cats = valence_props_plotly['means_condition'],valence_props_plotly['valence_condition']\n",
    "valence_fig = go.Figure(data=[\n",
    "    go.Bar(name='Negative Outcome', \n",
    "           x=[['Uncontrollable', 'Uncontrollable', 'Controllable', 'Controllable'],\n",
    "              [\"Negative\", \"Positive\", \"Negative\", \"Positive\"]], \n",
    "           y=valence_props_plotly['neg'],\n",
    "           text=valence_props_plotly['neg'], \n",
    "           marker_color='#EF553B'),\n",
    "    go.Bar(name='Positive Outcome', \n",
    "           x=[['Uncontrollable', 'Uncontrollable', 'Controllable', 'Controllable'],\n",
    "              [\"Negative\", \"Positive\", \"Negative\", \"Positive\"]], \n",
    "           y=valence_props_plotly['pos'],\n",
    "           text=valence_props_plotly['pos'], \n",
    "           marker_color='#00CC96'),\n",
    "#     go.Bar(name='Neither', \n",
    "#            x=[['Uncontrollable', 'Uncontrollable', 'Controllable', 'Controllable'],\n",
    "#               [\"Negative\", \"Positive\", \"Negative\", \"Positive\"]], \n",
    "#            y=valence_props_plotly['neither'], marker_color='#FECB52')\n",
    "])\n",
    "\n",
    "\n",
    "###add sig brackets \n",
    "###Horrifying\n",
    "\n",
    "## between pos and neg controllable\n",
    "# Top line\n",
    "valence_fig.add_shape(type=\"line\",\n",
    "    xref=\"paper\", yref=\"paper\",\n",
    "    x0=0.628, y0=0.87,\n",
    "    x1=0.882, y1=0.87,\n",
    "    line=dict(\n",
    "        color=\"black\",\n",
    "        width=2,\n",
    "    ),\n",
    "             )\n",
    "# Left line\n",
    "valence_fig.add_shape(type=\"line\",\n",
    "    xref=\"paper\", yref=\"paper\",\n",
    "    x0=0.63, y0=0.82,\n",
    "    x1=0.63, y1=0.87,\n",
    "    line=dict(\n",
    "        color=\"black\",\n",
    "        width=2,\n",
    "    ),\n",
    "             )\n",
    "# Right line\n",
    "valence_fig.add_shape(type=\"line\",\n",
    "    xref=\"paper\", yref=\"paper\",\n",
    "    x0=0.88, y0=0.82,\n",
    "    x1=0.88, y1=0.87,\n",
    "    line=dict(\n",
    "        color=\"black\",\n",
    "        width=2,\n",
    "    ),\n",
    "             )\n",
    "valence_fig.add_annotation(text=\"***\",\n",
    "                           xref=\"x domain\", yref=\"y\",\n",
    "                           x=0.755, y=0.88,\n",
    "                           xanchor='center', yanchor='middle',\n",
    "                           align=\"center\",\n",
    "                           showarrow=False,\n",
    "                          font=dict(\n",
    "                                family=\"Times New Roman\",\n",
    "                                size=18,\n",
    "                                color=\"black\"\n",
    "                                )\n",
    "                          )\n",
    "\n",
    "\n",
    "##between controllable and uncontrollable positive\n",
    "# Top line\n",
    "valence_fig.add_shape(type=\"line\",\n",
    "    xref=\"paper\", yref=\"paper\",\n",
    "    x0=0.378, y0=0.95,\n",
    "    x1=0.882, y1=0.95,\n",
    "    line=dict(\n",
    "        color=\"black\",\n",
    "        width=2,\n",
    "    ),\n",
    "             )\n",
    "# Left line\n",
    "valence_fig.add_shape(type=\"line\",\n",
    "    xref=\"paper\", yref=\"paper\",\n",
    "    x0=0.38, y0=0.9,\n",
    "    x1=0.38, y1=0.95,\n",
    "    line=dict(\n",
    "        color=\"black\",\n",
    "        width=2,\n",
    "    ),\n",
    "             )\n",
    "# Right line\n",
    "valence_fig.add_shape(type=\"line\",\n",
    "    xref=\"paper\", yref=\"paper\",\n",
    "    x0=0.88, y0=0.9,\n",
    "    x1=0.88, y1=0.95,\n",
    "    line=dict(\n",
    "        color=\"black\",\n",
    "        width=2,\n",
    "    ),\n",
    "             )\n",
    "valence_fig.add_annotation(text=\"***\",\n",
    "                           xref=\"x domain\", yref=\"y\",\n",
    "                           x=0.63, y=0.96,\n",
    "                           xanchor='center', yanchor='middle',\n",
    "                           align=\"center\",\n",
    "                           showarrow=False,\n",
    "                          font=dict(\n",
    "                                family=\"Times New Roman\",\n",
    "                                size=18,\n",
    "                                color=\"black\"\n",
    "                                )\n",
    "                          )\n",
    "\n",
    "\n",
    "##between controllable and uncontrollable negative\n",
    "# Top line\n",
    "valence_fig.add_shape(type=\"line\",\n",
    "    xref=\"paper\", yref=\"paper\",\n",
    "    x0=0.118, y0=0.77,\n",
    "    x1=0.632, y1=0.77,\n",
    "    line=dict(\n",
    "        color=\"black\",\n",
    "        width=2,\n",
    "    ),\n",
    "             )\n",
    "# Left line\n",
    "valence_fig.add_shape(type=\"line\",\n",
    "    xref=\"paper\", yref=\"paper\",\n",
    "    x0=0.63, y0=0.77,\n",
    "    x1=0.63, y1=0.72,\n",
    "    line=dict(\n",
    "        color=\"black\",\n",
    "        width=2,\n",
    "    ),\n",
    "             )\n",
    "# Right line\n",
    "valence_fig.add_shape(type=\"line\",\n",
    "    xref=\"paper\", yref=\"paper\",\n",
    "    x0=0.12, y0=0.77,\n",
    "    x1=0.12, y1=0.72,\n",
    "    line=dict(\n",
    "        color=\"black\",\n",
    "        width=2,\n",
    "    ),\n",
    "             )\n",
    "valence_fig.add_annotation(text=\"***\",\n",
    "                           xref=\"x domain\", yref=\"y\",\n",
    "                           x=0.375, y=0.78,\n",
    "                           xanchor='center', yanchor='middle',\n",
    "                           align=\"center\",\n",
    "                           showarrow=False,\n",
    "                          font=dict(\n",
    "                                family=\"Times New Roman\",\n",
    "                                size=18,\n",
    "                                color=\"black\"\n",
    "                                )\n",
    "                          )\n",
    "\n",
    "\n",
    "valence_fig.update_layout(#barmode='stack', \n",
    "                          template = 'none', \n",
    "#                           legend_title=\"Valence Rating\",\n",
    "                          font_family=\"Times New Roman\", font_size=12,\n",
    "                          width = 600, height = 350,\n",
    "                          #remove some margin so the graph fits nicer in latex\n",
    "                          margin_l=50, #left margin\n",
    "                          margin_r=0, #right margin\n",
    "                          margin_b=60, #bottom margin\n",
    "                          margin_t=10, #top margin\n",
    "                        legend=dict(\n",
    "#                             orientation=\"h\",\n",
    "                            yanchor=\"top\",\n",
    "                            y=1.05,\n",
    "                            xanchor=\"left\",\n",
    "                            x=0.05,\n",
    "                           bordercolor='grey',\n",
    "                           borderwidth=1\n",
    "                        )\n",
    "                         )\n",
    "\n",
    "\n",
    "#axis titles\n",
    "valence_fig.update_xaxes(title_text='Controllability and Valence Condition Group')\n",
    "valence_fig.update_yaxes(title_text='Proportion of Outcome Responses', \n",
    "                         range=(0,1),\n",
    "                        tickformat= ',.0%',)\n",
    "\n",
    "valence_fig.update_traces(texttemplate='%{text:.2%}',\n",
    "                          textposition='outside'\n",
    "                         )\n",
    "\n",
    "\n",
    "valence_fig.show(config=config)"
   ]
  },
  {
   "cell_type": "code",
   "execution_count": 24,
   "id": "d2b1c410",
   "metadata": {},
   "outputs": [
    {
     "name": "stderr",
     "output_type": "stream",
     "text": [
      "Could not generate 3_output//control_report/_kallysto/figs/4_Experiment1_Analysis.ipynb//ValenceMain.pdf. Missing savefig.\n"
     ]
    }
   ],
   "source": [
    "#save the figure\n",
    "valence_chart = Export.figure(\n",
    "    'ValenceMain',  # Export name\n",
    "    image=valence_fig,             # The plot to be exported\n",
    "    data=valence_props[['neg','pos','neither']],     # The data used to produce the plot.\n",
    "    text_width=0.9, #fig width relative to textwidth=1\n",
    "    caption='Valence of unexpected  events, reported as negative and positive outcomes, in the four conditions of the study. *** p $\\leq$ 0.001'\n",
    ") \n",
    "\n",
    "valence_chart > latex_report;"
   ]
  },
  {
   "cell_type": "code",
   "execution_count": 25,
   "id": "4ccb2f1c",
   "metadata": {},
   "outputs": [
    {
     "name": "stdout",
     "output_type": "stream",
     "text": [
      "john_party\n"
     ]
    },
    {
     "data": {
      "application/vnd.plotly.v1+json": {
       "config": {
        "plotlyServerURL": "https://plot.ly"
       },
       "data": [
        {
         "marker": {
          "color": "#EF553B"
         },
         "name": "Negative",
         "text": [
          0.6909090909090909,
          0.6727272727272727,
          0.7222222222222222,
          0.8727272727272727
         ],
         "textposition": "outside",
         "texttemplate": "%{text:.2%}",
         "type": "bar",
         "x": [
          [
           "Uncontrollable",
           "Uncontrollable",
           "Controllable",
           "Controllable"
          ],
          [
           "Negative",
           "Positive",
           "Negative",
           "Positive"
          ]
         ],
         "y": [
          0.6909090909090909,
          0.6727272727272727,
          0.7222222222222222,
          0.8727272727272727
         ]
        },
        {
         "marker": {
          "color": "#00CC96"
         },
         "name": "Positive",
         "text": [
          0.23636363636363636,
          0.21818181818181817,
          0.18518518518518517,
          0.07272727272727272
         ],
         "textposition": "outside",
         "texttemplate": "%{text:.2%}",
         "type": "bar",
         "x": [
          [
           "Uncontrollable",
           "Uncontrollable",
           "Controllable",
           "Controllable"
          ],
          [
           "Negative",
           "Positive",
           "Negative",
           "Positive"
          ]
         ],
         "y": [
          0.23636363636363636,
          0.21818181818181817,
          0.18518518518518517,
          0.07272727272727272
         ]
        }
       ],
       "layout": {
        "font": {
         "family": "Times New Roman",
         "size": 12
        },
        "height": 350,
        "legend": {
         "orientation": "h",
         "title": {
          "text": "Valence Rating"
         },
         "x": 0.2,
         "xanchor": "left",
         "y": 0.99,
         "yanchor": "bottom"
        },
        "margin": {
         "b": 60,
         "l": 50,
         "r": 0,
         "t": 10
        },
        "template": {
         "data": {
          "scatter": [
           {
            "type": "scatter"
           }
          ]
         }
        },
        "width": 500,
        "xaxis": {
         "title": {
          "text": "Controllability and Valence Condition Group"
         }
        },
        "yaxis": {
         "range": [
          0,
          1
         ],
         "tickformat": ",.0%",
         "title": {
          "text": "Proportion of Outcome Responses"
         }
        }
       }
      },
      "text/html": [
       "<div>                            <div id=\"a9e50d0c-eabf-4b08-8c81-80b232cae87a\" class=\"plotly-graph-div\" style=\"height:350px; width:500px;\"></div>            <script type=\"text/javascript\">                require([\"plotly\"], function(Plotly) {                    window.PLOTLYENV=window.PLOTLYENV || {};                                    if (document.getElementById(\"a9e50d0c-eabf-4b08-8c81-80b232cae87a\")) {                    Plotly.newPlot(                        \"a9e50d0c-eabf-4b08-8c81-80b232cae87a\",                        [{\"marker\": {\"color\": \"#EF553B\"}, \"name\": \"Negative\", \"text\": [0.6909090909090909, 0.6727272727272727, 0.7222222222222222, 0.8727272727272727], \"textposition\": \"outside\", \"texttemplate\": \"%{text:.2%}\", \"type\": \"bar\", \"x\": [[\"Uncontrollable\", \"Uncontrollable\", \"Controllable\", \"Controllable\"], [\"Negative\", \"Positive\", \"Negative\", \"Positive\"]], \"y\": [0.6909090909090909, 0.6727272727272727, 0.7222222222222222, 0.8727272727272727]}, {\"marker\": {\"color\": \"#00CC96\"}, \"name\": \"Positive\", \"text\": [0.23636363636363636, 0.21818181818181817, 0.18518518518518517, 0.07272727272727272], \"textposition\": \"outside\", \"texttemplate\": \"%{text:.2%}\", \"type\": \"bar\", \"x\": [[\"Uncontrollable\", \"Uncontrollable\", \"Controllable\", \"Controllable\"], [\"Negative\", \"Positive\", \"Negative\", \"Positive\"]], \"y\": [0.23636363636363636, 0.21818181818181817, 0.18518518518518517, 0.07272727272727272]}],                        {\"font\": {\"family\": \"Times New Roman\", \"size\": 12}, \"height\": 350, \"legend\": {\"orientation\": \"h\", \"title\": {\"text\": \"Valence Rating\"}, \"x\": 0.2, \"xanchor\": \"left\", \"y\": 0.99, \"yanchor\": \"bottom\"}, \"margin\": {\"b\": 60, \"l\": 50, \"r\": 0, \"t\": 10}, \"template\": {\"data\": {\"scatter\": [{\"type\": \"scatter\"}]}}, \"width\": 500, \"xaxis\": {\"title\": {\"text\": \"Controllability and Valence Condition Group\"}}, \"yaxis\": {\"range\": [0, 1], \"tickformat\": \",.0%\", \"title\": {\"text\": \"Proportion of Outcome Responses\"}}},                        {\"responsive\": true}                    ).then(function(){\n",
       "                            \n",
       "var gd = document.getElementById('a9e50d0c-eabf-4b08-8c81-80b232cae87a');\n",
       "var x = new MutationObserver(function (mutations, observer) {{\n",
       "        var display = window.getComputedStyle(gd).display;\n",
       "        if (!display || display === 'none') {{\n",
       "            console.log([gd, 'removed!']);\n",
       "            Plotly.purge(gd);\n",
       "            observer.disconnect();\n",
       "        }}\n",
       "}});\n",
       "\n",
       "// Listen for the removal of the full notebook cells\n",
       "var notebookContainer = gd.closest('#notebook-container');\n",
       "if (notebookContainer) {{\n",
       "    x.observe(notebookContainer, {childList: true});\n",
       "}}\n",
       "\n",
       "// Listen for the clearing of the current output cell\n",
       "var outputEl = gd.closest('.output');\n",
       "if (outputEl) {{\n",
       "    x.observe(outputEl, {childList: true});\n",
       "}}\n",
       "\n",
       "                        })                };                });            </script>        </div>"
      ]
     },
     "metadata": {},
     "output_type": "display_data"
    },
    {
     "name": "stdout",
     "output_type": "stream",
     "text": [
      "bill_holiday\n"
     ]
    },
    {
     "data": {
      "application/vnd.plotly.v1+json": {
       "config": {
        "plotlyServerURL": "https://plot.ly"
       },
       "data": [
        {
         "marker": {
          "color": "#EF553B"
         },
         "name": "Negative",
         "text": [
          0.32727272727272727,
          0.4,
          0.5370370370370371,
          0.7636363636363637
         ],
         "textposition": "outside",
         "texttemplate": "%{text:.2%}",
         "type": "bar",
         "x": [
          [
           "Uncontrollable",
           "Uncontrollable",
           "Controllable",
           "Controllable"
          ],
          [
           "Negative",
           "Positive",
           "Negative",
           "Positive"
          ]
         ],
         "y": [
          0.32727272727272727,
          0.4,
          0.5370370370370371,
          0.7636363636363637
         ]
        },
        {
         "marker": {
          "color": "#00CC96"
         },
         "name": "Positive",
         "text": [
          0.6363636363636364,
          0.4909090909090909,
          0.35185185185185186,
          0.2
         ],
         "textposition": "outside",
         "texttemplate": "%{text:.2%}",
         "type": "bar",
         "x": [
          [
           "Uncontrollable",
           "Uncontrollable",
           "Controllable",
           "Controllable"
          ],
          [
           "Negative",
           "Positive",
           "Negative",
           "Positive"
          ]
         ],
         "y": [
          0.6363636363636364,
          0.4909090909090909,
          0.35185185185185186,
          0.2
         ]
        }
       ],
       "layout": {
        "font": {
         "family": "Times New Roman",
         "size": 12
        },
        "height": 350,
        "legend": {
         "orientation": "h",
         "title": {
          "text": "Valence Rating"
         },
         "x": 0.2,
         "xanchor": "left",
         "y": 0.99,
         "yanchor": "bottom"
        },
        "margin": {
         "b": 60,
         "l": 50,
         "r": 0,
         "t": 10
        },
        "template": {
         "data": {
          "scatter": [
           {
            "type": "scatter"
           }
          ]
         }
        },
        "width": 500,
        "xaxis": {
         "title": {
          "text": "Controllability and Valence Condition Group"
         }
        },
        "yaxis": {
         "range": [
          0,
          1
         ],
         "tickformat": ",.0%",
         "title": {
          "text": "Proportion of Outcome Responses"
         }
        }
       }
      },
      "text/html": [
       "<div>                            <div id=\"87d3d828-099a-48a2-a992-ade7a3a4805a\" class=\"plotly-graph-div\" style=\"height:350px; width:500px;\"></div>            <script type=\"text/javascript\">                require([\"plotly\"], function(Plotly) {                    window.PLOTLYENV=window.PLOTLYENV || {};                                    if (document.getElementById(\"87d3d828-099a-48a2-a992-ade7a3a4805a\")) {                    Plotly.newPlot(                        \"87d3d828-099a-48a2-a992-ade7a3a4805a\",                        [{\"marker\": {\"color\": \"#EF553B\"}, \"name\": \"Negative\", \"text\": [0.32727272727272727, 0.4, 0.5370370370370371, 0.7636363636363637], \"textposition\": \"outside\", \"texttemplate\": \"%{text:.2%}\", \"type\": \"bar\", \"x\": [[\"Uncontrollable\", \"Uncontrollable\", \"Controllable\", \"Controllable\"], [\"Negative\", \"Positive\", \"Negative\", \"Positive\"]], \"y\": [0.32727272727272727, 0.4, 0.5370370370370371, 0.7636363636363637]}, {\"marker\": {\"color\": \"#00CC96\"}, \"name\": \"Positive\", \"text\": [0.6363636363636364, 0.4909090909090909, 0.35185185185185186, 0.2], \"textposition\": \"outside\", \"texttemplate\": \"%{text:.2%}\", \"type\": \"bar\", \"x\": [[\"Uncontrollable\", \"Uncontrollable\", \"Controllable\", \"Controllable\"], [\"Negative\", \"Positive\", \"Negative\", \"Positive\"]], \"y\": [0.6363636363636364, 0.4909090909090909, 0.35185185185185186, 0.2]}],                        {\"font\": {\"family\": \"Times New Roman\", \"size\": 12}, \"height\": 350, \"legend\": {\"orientation\": \"h\", \"title\": {\"text\": \"Valence Rating\"}, \"x\": 0.2, \"xanchor\": \"left\", \"y\": 0.99, \"yanchor\": \"bottom\"}, \"margin\": {\"b\": 60, \"l\": 50, \"r\": 0, \"t\": 10}, \"template\": {\"data\": {\"scatter\": [{\"type\": \"scatter\"}]}}, \"width\": 500, \"xaxis\": {\"title\": {\"text\": \"Controllability and Valence Condition Group\"}}, \"yaxis\": {\"range\": [0, 1], \"tickformat\": \",.0%\", \"title\": {\"text\": \"Proportion of Outcome Responses\"}}},                        {\"responsive\": true}                    ).then(function(){\n",
       "                            \n",
       "var gd = document.getElementById('87d3d828-099a-48a2-a992-ade7a3a4805a');\n",
       "var x = new MutationObserver(function (mutations, observer) {{\n",
       "        var display = window.getComputedStyle(gd).display;\n",
       "        if (!display || display === 'none') {{\n",
       "            console.log([gd, 'removed!']);\n",
       "            Plotly.purge(gd);\n",
       "            observer.disconnect();\n",
       "        }}\n",
       "}});\n",
       "\n",
       "// Listen for the removal of the full notebook cells\n",
       "var notebookContainer = gd.closest('#notebook-container');\n",
       "if (notebookContainer) {{\n",
       "    x.observe(notebookContainer, {childList: true});\n",
       "}}\n",
       "\n",
       "// Listen for the clearing of the current output cell\n",
       "var outputEl = gd.closest('.output');\n",
       "if (outputEl) {{\n",
       "    x.observe(outputEl, {childList: true});\n",
       "}}\n",
       "\n",
       "                        })                };                });            </script>        </div>"
      ]
     },
     "metadata": {},
     "output_type": "display_data"
    },
    {
     "name": "stdout",
     "output_type": "stream",
     "text": [
      "rebecca_swimming\n"
     ]
    },
    {
     "data": {
      "application/vnd.plotly.v1+json": {
       "config": {
        "plotlyServerURL": "https://plot.ly"
       },
       "data": [
        {
         "marker": {
          "color": "#EF553B"
         },
         "name": "Negative",
         "text": [
          0.5818181818181818,
          0.6545454545454545,
          0.7777777777777778,
          0.8727272727272727
         ],
         "textposition": "outside",
         "texttemplate": "%{text:.2%}",
         "type": "bar",
         "x": [
          [
           "Uncontrollable",
           "Uncontrollable",
           "Controllable",
           "Controllable"
          ],
          [
           "Negative",
           "Positive",
           "Negative",
           "Positive"
          ]
         ],
         "y": [
          0.5818181818181818,
          0.6545454545454545,
          0.7777777777777778,
          0.8727272727272727
         ]
        },
        {
         "marker": {
          "color": "#00CC96"
         },
         "name": "Positive",
         "text": [
          0.3090909090909091,
          0.23636363636363636,
          0.16666666666666666,
          0.10909090909090909
         ],
         "textposition": "outside",
         "texttemplate": "%{text:.2%}",
         "type": "bar",
         "x": [
          [
           "Uncontrollable",
           "Uncontrollable",
           "Controllable",
           "Controllable"
          ],
          [
           "Negative",
           "Positive",
           "Negative",
           "Positive"
          ]
         ],
         "y": [
          0.3090909090909091,
          0.23636363636363636,
          0.16666666666666666,
          0.10909090909090909
         ]
        }
       ],
       "layout": {
        "font": {
         "family": "Times New Roman",
         "size": 12
        },
        "height": 350,
        "legend": {
         "orientation": "h",
         "title": {
          "text": "Valence Rating"
         },
         "x": 0.2,
         "xanchor": "left",
         "y": 0.99,
         "yanchor": "bottom"
        },
        "margin": {
         "b": 60,
         "l": 50,
         "r": 0,
         "t": 10
        },
        "template": {
         "data": {
          "scatter": [
           {
            "type": "scatter"
           }
          ]
         }
        },
        "width": 500,
        "xaxis": {
         "title": {
          "text": "Controllability and Valence Condition Group"
         }
        },
        "yaxis": {
         "range": [
          0,
          1
         ],
         "tickformat": ",.0%",
         "title": {
          "text": "Proportion of Outcome Responses"
         }
        }
       }
      },
      "text/html": [
       "<div>                            <div id=\"8be479a6-9d85-45cc-a220-335427b15fea\" class=\"plotly-graph-div\" style=\"height:350px; width:500px;\"></div>            <script type=\"text/javascript\">                require([\"plotly\"], function(Plotly) {                    window.PLOTLYENV=window.PLOTLYENV || {};                                    if (document.getElementById(\"8be479a6-9d85-45cc-a220-335427b15fea\")) {                    Plotly.newPlot(                        \"8be479a6-9d85-45cc-a220-335427b15fea\",                        [{\"marker\": {\"color\": \"#EF553B\"}, \"name\": \"Negative\", \"text\": [0.5818181818181818, 0.6545454545454545, 0.7777777777777778, 0.8727272727272727], \"textposition\": \"outside\", \"texttemplate\": \"%{text:.2%}\", \"type\": \"bar\", \"x\": [[\"Uncontrollable\", \"Uncontrollable\", \"Controllable\", \"Controllable\"], [\"Negative\", \"Positive\", \"Negative\", \"Positive\"]], \"y\": [0.5818181818181818, 0.6545454545454545, 0.7777777777777778, 0.8727272727272727]}, {\"marker\": {\"color\": \"#00CC96\"}, \"name\": \"Positive\", \"text\": [0.3090909090909091, 0.23636363636363636, 0.16666666666666666, 0.10909090909090909], \"textposition\": \"outside\", \"texttemplate\": \"%{text:.2%}\", \"type\": \"bar\", \"x\": [[\"Uncontrollable\", \"Uncontrollable\", \"Controllable\", \"Controllable\"], [\"Negative\", \"Positive\", \"Negative\", \"Positive\"]], \"y\": [0.3090909090909091, 0.23636363636363636, 0.16666666666666666, 0.10909090909090909]}],                        {\"font\": {\"family\": \"Times New Roman\", \"size\": 12}, \"height\": 350, \"legend\": {\"orientation\": \"h\", \"title\": {\"text\": \"Valence Rating\"}, \"x\": 0.2, \"xanchor\": \"left\", \"y\": 0.99, \"yanchor\": \"bottom\"}, \"margin\": {\"b\": 60, \"l\": 50, \"r\": 0, \"t\": 10}, \"template\": {\"data\": {\"scatter\": [{\"type\": \"scatter\"}]}}, \"width\": 500, \"xaxis\": {\"title\": {\"text\": \"Controllability and Valence Condition Group\"}}, \"yaxis\": {\"range\": [0, 1], \"tickformat\": \",.0%\", \"title\": {\"text\": \"Proportion of Outcome Responses\"}}},                        {\"responsive\": true}                    ).then(function(){\n",
       "                            \n",
       "var gd = document.getElementById('8be479a6-9d85-45cc-a220-335427b15fea');\n",
       "var x = new MutationObserver(function (mutations, observer) {{\n",
       "        var display = window.getComputedStyle(gd).display;\n",
       "        if (!display || display === 'none') {{\n",
       "            console.log([gd, 'removed!']);\n",
       "            Plotly.purge(gd);\n",
       "            observer.disconnect();\n",
       "        }}\n",
       "}});\n",
       "\n",
       "// Listen for the removal of the full notebook cells\n",
       "var notebookContainer = gd.closest('#notebook-container');\n",
       "if (notebookContainer) {{\n",
       "    x.observe(notebookContainer, {childList: true});\n",
       "}}\n",
       "\n",
       "// Listen for the clearing of the current output cell\n",
       "var outputEl = gd.closest('.output');\n",
       "if (outputEl) {{\n",
       "    x.observe(outputEl, {childList: true});\n",
       "}}\n",
       "\n",
       "                        })                };                });            </script>        </div>"
      ]
     },
     "metadata": {},
     "output_type": "display_data"
    },
    {
     "name": "stdout",
     "output_type": "stream",
     "text": [
      "sally_wine\n"
     ]
    },
    {
     "data": {
      "application/vnd.plotly.v1+json": {
       "config": {
        "plotlyServerURL": "https://plot.ly"
       },
       "data": [
        {
         "marker": {
          "color": "#EF553B"
         },
         "name": "Negative",
         "text": [
          0.43636363636363634,
          0.21818181818181817,
          0.8333333333333334,
          0.6909090909090909
         ],
         "textposition": "outside",
         "texttemplate": "%{text:.2%}",
         "type": "bar",
         "x": [
          [
           "Uncontrollable",
           "Uncontrollable",
           "Controllable",
           "Controllable"
          ],
          [
           "Negative",
           "Positive",
           "Negative",
           "Positive"
          ]
         ],
         "y": [
          0.43636363636363634,
          0.21818181818181817,
          0.8333333333333334,
          0.6909090909090909
         ]
        },
        {
         "marker": {
          "color": "#00CC96"
         },
         "name": "Positive",
         "text": [
          0.45454545454545453,
          0.6909090909090909,
          0.12962962962962962,
          0.23636363636363636
         ],
         "textposition": "outside",
         "texttemplate": "%{text:.2%}",
         "type": "bar",
         "x": [
          [
           "Uncontrollable",
           "Uncontrollable",
           "Controllable",
           "Controllable"
          ],
          [
           "Negative",
           "Positive",
           "Negative",
           "Positive"
          ]
         ],
         "y": [
          0.45454545454545453,
          0.6909090909090909,
          0.12962962962962962,
          0.23636363636363636
         ]
        }
       ],
       "layout": {
        "font": {
         "family": "Times New Roman",
         "size": 12
        },
        "height": 350,
        "legend": {
         "orientation": "h",
         "title": {
          "text": "Valence Rating"
         },
         "x": 0.2,
         "xanchor": "left",
         "y": 0.99,
         "yanchor": "bottom"
        },
        "margin": {
         "b": 60,
         "l": 50,
         "r": 0,
         "t": 10
        },
        "template": {
         "data": {
          "scatter": [
           {
            "type": "scatter"
           }
          ]
         }
        },
        "width": 500,
        "xaxis": {
         "title": {
          "text": "Controllability and Valence Condition Group"
         }
        },
        "yaxis": {
         "range": [
          0,
          1
         ],
         "tickformat": ",.0%",
         "title": {
          "text": "Proportion of Outcome Responses"
         }
        }
       }
      },
      "text/html": [
       "<div>                            <div id=\"43873fff-d8e5-475a-8deb-6964b0d8c9c8\" class=\"plotly-graph-div\" style=\"height:350px; width:500px;\"></div>            <script type=\"text/javascript\">                require([\"plotly\"], function(Plotly) {                    window.PLOTLYENV=window.PLOTLYENV || {};                                    if (document.getElementById(\"43873fff-d8e5-475a-8deb-6964b0d8c9c8\")) {                    Plotly.newPlot(                        \"43873fff-d8e5-475a-8deb-6964b0d8c9c8\",                        [{\"marker\": {\"color\": \"#EF553B\"}, \"name\": \"Negative\", \"text\": [0.43636363636363634, 0.21818181818181817, 0.8333333333333334, 0.6909090909090909], \"textposition\": \"outside\", \"texttemplate\": \"%{text:.2%}\", \"type\": \"bar\", \"x\": [[\"Uncontrollable\", \"Uncontrollable\", \"Controllable\", \"Controllable\"], [\"Negative\", \"Positive\", \"Negative\", \"Positive\"]], \"y\": [0.43636363636363634, 0.21818181818181817, 0.8333333333333334, 0.6909090909090909]}, {\"marker\": {\"color\": \"#00CC96\"}, \"name\": \"Positive\", \"text\": [0.45454545454545453, 0.6909090909090909, 0.12962962962962962, 0.23636363636363636], \"textposition\": \"outside\", \"texttemplate\": \"%{text:.2%}\", \"type\": \"bar\", \"x\": [[\"Uncontrollable\", \"Uncontrollable\", \"Controllable\", \"Controllable\"], [\"Negative\", \"Positive\", \"Negative\", \"Positive\"]], \"y\": [0.45454545454545453, 0.6909090909090909, 0.12962962962962962, 0.23636363636363636]}],                        {\"font\": {\"family\": \"Times New Roman\", \"size\": 12}, \"height\": 350, \"legend\": {\"orientation\": \"h\", \"title\": {\"text\": \"Valence Rating\"}, \"x\": 0.2, \"xanchor\": \"left\", \"y\": 0.99, \"yanchor\": \"bottom\"}, \"margin\": {\"b\": 60, \"l\": 50, \"r\": 0, \"t\": 10}, \"template\": {\"data\": {\"scatter\": [{\"type\": \"scatter\"}]}}, \"width\": 500, \"xaxis\": {\"title\": {\"text\": \"Controllability and Valence Condition Group\"}}, \"yaxis\": {\"range\": [0, 1], \"tickformat\": \",.0%\", \"title\": {\"text\": \"Proportion of Outcome Responses\"}}},                        {\"responsive\": true}                    ).then(function(){\n",
       "                            \n",
       "var gd = document.getElementById('43873fff-d8e5-475a-8deb-6964b0d8c9c8');\n",
       "var x = new MutationObserver(function (mutations, observer) {{\n",
       "        var display = window.getComputedStyle(gd).display;\n",
       "        if (!display || display === 'none') {{\n",
       "            console.log([gd, 'removed!']);\n",
       "            Plotly.purge(gd);\n",
       "            observer.disconnect();\n",
       "        }}\n",
       "}});\n",
       "\n",
       "// Listen for the removal of the full notebook cells\n",
       "var notebookContainer = gd.closest('#notebook-container');\n",
       "if (notebookContainer) {{\n",
       "    x.observe(notebookContainer, {childList: true});\n",
       "}}\n",
       "\n",
       "// Listen for the clearing of the current output cell\n",
       "var outputEl = gd.closest('.output');\n",
       "if (outputEl) {{\n",
       "    x.observe(outputEl, {childList: true});\n",
       "}}\n",
       "\n",
       "                        })                };                });            </script>        </div>"
      ]
     },
     "metadata": {},
     "output_type": "display_data"
    },
    {
     "name": "stdout",
     "output_type": "stream",
     "text": [
      "belinda_meeting\n"
     ]
    },
    {
     "data": {
      "application/vnd.plotly.v1+json": {
       "config": {
        "plotlyServerURL": "https://plot.ly"
       },
       "data": [
        {
         "marker": {
          "color": "#EF553B"
         },
         "name": "Negative",
         "text": [
          0.4727272727272727,
          0.6,
          0.5,
          0.7272727272727273
         ],
         "textposition": "outside",
         "texttemplate": "%{text:.2%}",
         "type": "bar",
         "x": [
          [
           "Uncontrollable",
           "Uncontrollable",
           "Controllable",
           "Controllable"
          ],
          [
           "Negative",
           "Positive",
           "Negative",
           "Positive"
          ]
         ],
         "y": [
          0.4727272727272727,
          0.6,
          0.5,
          0.7272727272727273
         ]
        },
        {
         "marker": {
          "color": "#00CC96"
         },
         "name": "Positive",
         "text": [
          0.45454545454545453,
          0.3090909090909091,
          0.35185185185185186,
          0.18181818181818182
         ],
         "textposition": "outside",
         "texttemplate": "%{text:.2%}",
         "type": "bar",
         "x": [
          [
           "Uncontrollable",
           "Uncontrollable",
           "Controllable",
           "Controllable"
          ],
          [
           "Negative",
           "Positive",
           "Negative",
           "Positive"
          ]
         ],
         "y": [
          0.45454545454545453,
          0.3090909090909091,
          0.35185185185185186,
          0.18181818181818182
         ]
        }
       ],
       "layout": {
        "font": {
         "family": "Times New Roman",
         "size": 12
        },
        "height": 350,
        "legend": {
         "orientation": "h",
         "title": {
          "text": "Valence Rating"
         },
         "x": 0.2,
         "xanchor": "left",
         "y": 0.99,
         "yanchor": "bottom"
        },
        "margin": {
         "b": 60,
         "l": 50,
         "r": 0,
         "t": 10
        },
        "template": {
         "data": {
          "scatter": [
           {
            "type": "scatter"
           }
          ]
         }
        },
        "width": 500,
        "xaxis": {
         "title": {
          "text": "Controllability and Valence Condition Group"
         }
        },
        "yaxis": {
         "range": [
          0,
          1
         ],
         "tickformat": ",.0%",
         "title": {
          "text": "Proportion of Outcome Responses"
         }
        }
       }
      },
      "text/html": [
       "<div>                            <div id=\"dccd92e0-e424-4d2b-9173-336ee1bc9771\" class=\"plotly-graph-div\" style=\"height:350px; width:500px;\"></div>            <script type=\"text/javascript\">                require([\"plotly\"], function(Plotly) {                    window.PLOTLYENV=window.PLOTLYENV || {};                                    if (document.getElementById(\"dccd92e0-e424-4d2b-9173-336ee1bc9771\")) {                    Plotly.newPlot(                        \"dccd92e0-e424-4d2b-9173-336ee1bc9771\",                        [{\"marker\": {\"color\": \"#EF553B\"}, \"name\": \"Negative\", \"text\": [0.4727272727272727, 0.6, 0.5, 0.7272727272727273], \"textposition\": \"outside\", \"texttemplate\": \"%{text:.2%}\", \"type\": \"bar\", \"x\": [[\"Uncontrollable\", \"Uncontrollable\", \"Controllable\", \"Controllable\"], [\"Negative\", \"Positive\", \"Negative\", \"Positive\"]], \"y\": [0.4727272727272727, 0.6, 0.5, 0.7272727272727273]}, {\"marker\": {\"color\": \"#00CC96\"}, \"name\": \"Positive\", \"text\": [0.45454545454545453, 0.3090909090909091, 0.35185185185185186, 0.18181818181818182], \"textposition\": \"outside\", \"texttemplate\": \"%{text:.2%}\", \"type\": \"bar\", \"x\": [[\"Uncontrollable\", \"Uncontrollable\", \"Controllable\", \"Controllable\"], [\"Negative\", \"Positive\", \"Negative\", \"Positive\"]], \"y\": [0.45454545454545453, 0.3090909090909091, 0.35185185185185186, 0.18181818181818182]}],                        {\"font\": {\"family\": \"Times New Roman\", \"size\": 12}, \"height\": 350, \"legend\": {\"orientation\": \"h\", \"title\": {\"text\": \"Valence Rating\"}, \"x\": 0.2, \"xanchor\": \"left\", \"y\": 0.99, \"yanchor\": \"bottom\"}, \"margin\": {\"b\": 60, \"l\": 50, \"r\": 0, \"t\": 10}, \"template\": {\"data\": {\"scatter\": [{\"type\": \"scatter\"}]}}, \"width\": 500, \"xaxis\": {\"title\": {\"text\": \"Controllability and Valence Condition Group\"}}, \"yaxis\": {\"range\": [0, 1], \"tickformat\": \",.0%\", \"title\": {\"text\": \"Proportion of Outcome Responses\"}}},                        {\"responsive\": true}                    ).then(function(){\n",
       "                            \n",
       "var gd = document.getElementById('dccd92e0-e424-4d2b-9173-336ee1bc9771');\n",
       "var x = new MutationObserver(function (mutations, observer) {{\n",
       "        var display = window.getComputedStyle(gd).display;\n",
       "        if (!display || display === 'none') {{\n",
       "            console.log([gd, 'removed!']);\n",
       "            Plotly.purge(gd);\n",
       "            observer.disconnect();\n",
       "        }}\n",
       "}});\n",
       "\n",
       "// Listen for the removal of the full notebook cells\n",
       "var notebookContainer = gd.closest('#notebook-container');\n",
       "if (notebookContainer) {{\n",
       "    x.observe(notebookContainer, {childList: true});\n",
       "}}\n",
       "\n",
       "// Listen for the clearing of the current output cell\n",
       "var outputEl = gd.closest('.output');\n",
       "if (outputEl) {{\n",
       "    x.observe(outputEl, {childList: true});\n",
       "}}\n",
       "\n",
       "                        })                };                });            </script>        </div>"
      ]
     },
     "metadata": {},
     "output_type": "display_data"
    },
    {
     "name": "stdout",
     "output_type": "stream",
     "text": [
      "michael_breakfast\n"
     ]
    },
    {
     "data": {
      "application/vnd.plotly.v1+json": {
       "config": {
        "plotlyServerURL": "https://plot.ly"
       },
       "data": [
        {
         "marker": {
          "color": "#EF553B"
         },
         "name": "Negative",
         "text": [
          0.2545454545454545,
          0.2727272727272727,
          0.5555555555555556,
          0.6545454545454545
         ],
         "textposition": "outside",
         "texttemplate": "%{text:.2%}",
         "type": "bar",
         "x": [
          [
           "Uncontrollable",
           "Uncontrollable",
           "Controllable",
           "Controllable"
          ],
          [
           "Negative",
           "Positive",
           "Negative",
           "Positive"
          ]
         ],
         "y": [
          0.2545454545454545,
          0.2727272727272727,
          0.5555555555555556,
          0.6545454545454545
         ]
        },
        {
         "marker": {
          "color": "#00CC96"
         },
         "name": "Positive",
         "text": [
          0.6727272727272727,
          0.5818181818181818,
          0.3148148148148148,
          0.23636363636363636
         ],
         "textposition": "outside",
         "texttemplate": "%{text:.2%}",
         "type": "bar",
         "x": [
          [
           "Uncontrollable",
           "Uncontrollable",
           "Controllable",
           "Controllable"
          ],
          [
           "Negative",
           "Positive",
           "Negative",
           "Positive"
          ]
         ],
         "y": [
          0.6727272727272727,
          0.5818181818181818,
          0.3148148148148148,
          0.23636363636363636
         ]
        }
       ],
       "layout": {
        "font": {
         "family": "Times New Roman",
         "size": 12
        },
        "height": 350,
        "legend": {
         "orientation": "h",
         "title": {
          "text": "Valence Rating"
         },
         "x": 0.2,
         "xanchor": "left",
         "y": 0.99,
         "yanchor": "bottom"
        },
        "margin": {
         "b": 60,
         "l": 50,
         "r": 0,
         "t": 10
        },
        "template": {
         "data": {
          "scatter": [
           {
            "type": "scatter"
           }
          ]
         }
        },
        "width": 500,
        "xaxis": {
         "title": {
          "text": "Controllability and Valence Condition Group"
         }
        },
        "yaxis": {
         "range": [
          0,
          1
         ],
         "tickformat": ",.0%",
         "title": {
          "text": "Proportion of Outcome Responses"
         }
        }
       }
      },
      "text/html": [
       "<div>                            <div id=\"43b8f972-bf3c-4425-806d-c5cfa2585564\" class=\"plotly-graph-div\" style=\"height:350px; width:500px;\"></div>            <script type=\"text/javascript\">                require([\"plotly\"], function(Plotly) {                    window.PLOTLYENV=window.PLOTLYENV || {};                                    if (document.getElementById(\"43b8f972-bf3c-4425-806d-c5cfa2585564\")) {                    Plotly.newPlot(                        \"43b8f972-bf3c-4425-806d-c5cfa2585564\",                        [{\"marker\": {\"color\": \"#EF553B\"}, \"name\": \"Negative\", \"text\": [0.2545454545454545, 0.2727272727272727, 0.5555555555555556, 0.6545454545454545], \"textposition\": \"outside\", \"texttemplate\": \"%{text:.2%}\", \"type\": \"bar\", \"x\": [[\"Uncontrollable\", \"Uncontrollable\", \"Controllable\", \"Controllable\"], [\"Negative\", \"Positive\", \"Negative\", \"Positive\"]], \"y\": [0.2545454545454545, 0.2727272727272727, 0.5555555555555556, 0.6545454545454545]}, {\"marker\": {\"color\": \"#00CC96\"}, \"name\": \"Positive\", \"text\": [0.6727272727272727, 0.5818181818181818, 0.3148148148148148, 0.23636363636363636], \"textposition\": \"outside\", \"texttemplate\": \"%{text:.2%}\", \"type\": \"bar\", \"x\": [[\"Uncontrollable\", \"Uncontrollable\", \"Controllable\", \"Controllable\"], [\"Negative\", \"Positive\", \"Negative\", \"Positive\"]], \"y\": [0.6727272727272727, 0.5818181818181818, 0.3148148148148148, 0.23636363636363636]}],                        {\"font\": {\"family\": \"Times New Roman\", \"size\": 12}, \"height\": 350, \"legend\": {\"orientation\": \"h\", \"title\": {\"text\": \"Valence Rating\"}, \"x\": 0.2, \"xanchor\": \"left\", \"y\": 0.99, \"yanchor\": \"bottom\"}, \"margin\": {\"b\": 60, \"l\": 50, \"r\": 0, \"t\": 10}, \"template\": {\"data\": {\"scatter\": [{\"type\": \"scatter\"}]}}, \"width\": 500, \"xaxis\": {\"title\": {\"text\": \"Controllability and Valence Condition Group\"}}, \"yaxis\": {\"range\": [0, 1], \"tickformat\": \",.0%\", \"title\": {\"text\": \"Proportion of Outcome Responses\"}}},                        {\"responsive\": true}                    ).then(function(){\n",
       "                            \n",
       "var gd = document.getElementById('43b8f972-bf3c-4425-806d-c5cfa2585564');\n",
       "var x = new MutationObserver(function (mutations, observer) {{\n",
       "        var display = window.getComputedStyle(gd).display;\n",
       "        if (!display || display === 'none') {{\n",
       "            console.log([gd, 'removed!']);\n",
       "            Plotly.purge(gd);\n",
       "            observer.disconnect();\n",
       "        }}\n",
       "}});\n",
       "\n",
       "// Listen for the removal of the full notebook cells\n",
       "var notebookContainer = gd.closest('#notebook-container');\n",
       "if (notebookContainer) {{\n",
       "    x.observe(notebookContainer, {childList: true});\n",
       "}}\n",
       "\n",
       "// Listen for the clearing of the current output cell\n",
       "var outputEl = gd.closest('.output');\n",
       "if (outputEl) {{\n",
       "    x.observe(outputEl, {childList: true});\n",
       "}}\n",
       "\n",
       "                        })                };                });            </script>        </div>"
      ]
     },
     "metadata": {},
     "output_type": "display_data"
    },
    {
     "name": "stdout",
     "output_type": "stream",
     "text": [
      "lucy_loan\n"
     ]
    },
    {
     "data": {
      "application/vnd.plotly.v1+json": {
       "config": {
        "plotlyServerURL": "https://plot.ly"
       },
       "data": [
        {
         "marker": {
          "color": "#EF553B"
         },
         "name": "Negative",
         "text": [
          0.12727272727272726,
          0.16363636363636364,
          0.35185185185185186,
          0.41818181818181815
         ],
         "textposition": "outside",
         "texttemplate": "%{text:.2%}",
         "type": "bar",
         "x": [
          [
           "Uncontrollable",
           "Uncontrollable",
           "Controllable",
           "Controllable"
          ],
          [
           "Negative",
           "Positive",
           "Negative",
           "Positive"
          ]
         ],
         "y": [
          0.12727272727272726,
          0.16363636363636364,
          0.35185185185185186,
          0.41818181818181815
         ]
        },
        {
         "marker": {
          "color": "#00CC96"
         },
         "name": "Positive",
         "text": [
          0.7636363636363637,
          0.7272727272727273,
          0.3888888888888889,
          0.5818181818181818
         ],
         "textposition": "outside",
         "texttemplate": "%{text:.2%}",
         "type": "bar",
         "x": [
          [
           "Uncontrollable",
           "Uncontrollable",
           "Controllable",
           "Controllable"
          ],
          [
           "Negative",
           "Positive",
           "Negative",
           "Positive"
          ]
         ],
         "y": [
          0.7636363636363637,
          0.7272727272727273,
          0.3888888888888889,
          0.5818181818181818
         ]
        }
       ],
       "layout": {
        "font": {
         "family": "Times New Roman",
         "size": 12
        },
        "height": 350,
        "legend": {
         "orientation": "h",
         "title": {
          "text": "Valence Rating"
         },
         "x": 0.2,
         "xanchor": "left",
         "y": 0.99,
         "yanchor": "bottom"
        },
        "margin": {
         "b": 60,
         "l": 50,
         "r": 0,
         "t": 10
        },
        "template": {
         "data": {
          "scatter": [
           {
            "type": "scatter"
           }
          ]
         }
        },
        "width": 500,
        "xaxis": {
         "title": {
          "text": "Controllability and Valence Condition Group"
         }
        },
        "yaxis": {
         "range": [
          0,
          1
         ],
         "tickformat": ",.0%",
         "title": {
          "text": "Proportion of Outcome Responses"
         }
        }
       }
      },
      "text/html": [
       "<div>                            <div id=\"0fdf4ca1-7f32-4cdd-a0bb-f5094b7e8023\" class=\"plotly-graph-div\" style=\"height:350px; width:500px;\"></div>            <script type=\"text/javascript\">                require([\"plotly\"], function(Plotly) {                    window.PLOTLYENV=window.PLOTLYENV || {};                                    if (document.getElementById(\"0fdf4ca1-7f32-4cdd-a0bb-f5094b7e8023\")) {                    Plotly.newPlot(                        \"0fdf4ca1-7f32-4cdd-a0bb-f5094b7e8023\",                        [{\"marker\": {\"color\": \"#EF553B\"}, \"name\": \"Negative\", \"text\": [0.12727272727272726, 0.16363636363636364, 0.35185185185185186, 0.41818181818181815], \"textposition\": \"outside\", \"texttemplate\": \"%{text:.2%}\", \"type\": \"bar\", \"x\": [[\"Uncontrollable\", \"Uncontrollable\", \"Controllable\", \"Controllable\"], [\"Negative\", \"Positive\", \"Negative\", \"Positive\"]], \"y\": [0.12727272727272726, 0.16363636363636364, 0.35185185185185186, 0.41818181818181815]}, {\"marker\": {\"color\": \"#00CC96\"}, \"name\": \"Positive\", \"text\": [0.7636363636363637, 0.7272727272727273, 0.3888888888888889, 0.5818181818181818], \"textposition\": \"outside\", \"texttemplate\": \"%{text:.2%}\", \"type\": \"bar\", \"x\": [[\"Uncontrollable\", \"Uncontrollable\", \"Controllable\", \"Controllable\"], [\"Negative\", \"Positive\", \"Negative\", \"Positive\"]], \"y\": [0.7636363636363637, 0.7272727272727273, 0.3888888888888889, 0.5818181818181818]}],                        {\"font\": {\"family\": \"Times New Roman\", \"size\": 12}, \"height\": 350, \"legend\": {\"orientation\": \"h\", \"title\": {\"text\": \"Valence Rating\"}, \"x\": 0.2, \"xanchor\": \"left\", \"y\": 0.99, \"yanchor\": \"bottom\"}, \"margin\": {\"b\": 60, \"l\": 50, \"r\": 0, \"t\": 10}, \"template\": {\"data\": {\"scatter\": [{\"type\": \"scatter\"}]}}, \"width\": 500, \"xaxis\": {\"title\": {\"text\": \"Controllability and Valence Condition Group\"}}, \"yaxis\": {\"range\": [0, 1], \"tickformat\": \",.0%\", \"title\": {\"text\": \"Proportion of Outcome Responses\"}}},                        {\"responsive\": true}                    ).then(function(){\n",
       "                            \n",
       "var gd = document.getElementById('0fdf4ca1-7f32-4cdd-a0bb-f5094b7e8023');\n",
       "var x = new MutationObserver(function (mutations, observer) {{\n",
       "        var display = window.getComputedStyle(gd).display;\n",
       "        if (!display || display === 'none') {{\n",
       "            console.log([gd, 'removed!']);\n",
       "            Plotly.purge(gd);\n",
       "            observer.disconnect();\n",
       "        }}\n",
       "}});\n",
       "\n",
       "// Listen for the removal of the full notebook cells\n",
       "var notebookContainer = gd.closest('#notebook-container');\n",
       "if (notebookContainer) {{\n",
       "    x.observe(notebookContainer, {childList: true});\n",
       "}}\n",
       "\n",
       "// Listen for the clearing of the current output cell\n",
       "var outputEl = gd.closest('.output');\n",
       "if (outputEl) {{\n",
       "    x.observe(outputEl, {childList: true});\n",
       "}}\n",
       "\n",
       "                        })                };                });            </script>        </div>"
      ]
     },
     "metadata": {},
     "output_type": "display_data"
    },
    {
     "name": "stdout",
     "output_type": "stream",
     "text": [
      "sean_call\n"
     ]
    },
    {
     "data": {
      "application/vnd.plotly.v1+json": {
       "config": {
        "plotlyServerURL": "https://plot.ly"
       },
       "data": [
        {
         "marker": {
          "color": "#EF553B"
         },
         "name": "Negative",
         "text": [
          0.5272727272727272,
          0.7272727272727273,
          0.8148148148148148,
          0.9454545454545454
         ],
         "textposition": "outside",
         "texttemplate": "%{text:.2%}",
         "type": "bar",
         "x": [
          [
           "Uncontrollable",
           "Uncontrollable",
           "Controllable",
           "Controllable"
          ],
          [
           "Negative",
           "Positive",
           "Negative",
           "Positive"
          ]
         ],
         "y": [
          0.5272727272727272,
          0.7272727272727273,
          0.8148148148148148,
          0.9454545454545454
         ]
        },
        {
         "marker": {
          "color": "#00CC96"
         },
         "name": "Positive",
         "text": [
          0.43636363636363634,
          0.2727272727272727,
          0.16666666666666666,
          0.05454545454545454
         ],
         "textposition": "outside",
         "texttemplate": "%{text:.2%}",
         "type": "bar",
         "x": [
          [
           "Uncontrollable",
           "Uncontrollable",
           "Controllable",
           "Controllable"
          ],
          [
           "Negative",
           "Positive",
           "Negative",
           "Positive"
          ]
         ],
         "y": [
          0.43636363636363634,
          0.2727272727272727,
          0.16666666666666666,
          0.05454545454545454
         ]
        }
       ],
       "layout": {
        "font": {
         "family": "Times New Roman",
         "size": 12
        },
        "height": 350,
        "legend": {
         "orientation": "h",
         "title": {
          "text": "Valence Rating"
         },
         "x": 0.2,
         "xanchor": "left",
         "y": 0.99,
         "yanchor": "bottom"
        },
        "margin": {
         "b": 60,
         "l": 50,
         "r": 0,
         "t": 10
        },
        "template": {
         "data": {
          "scatter": [
           {
            "type": "scatter"
           }
          ]
         }
        },
        "width": 500,
        "xaxis": {
         "title": {
          "text": "Controllability and Valence Condition Group"
         }
        },
        "yaxis": {
         "range": [
          0,
          1
         ],
         "tickformat": ",.0%",
         "title": {
          "text": "Proportion of Outcome Responses"
         }
        }
       }
      },
      "text/html": [
       "<div>                            <div id=\"cec5e018-0bdb-44d6-b736-053084d3980f\" class=\"plotly-graph-div\" style=\"height:350px; width:500px;\"></div>            <script type=\"text/javascript\">                require([\"plotly\"], function(Plotly) {                    window.PLOTLYENV=window.PLOTLYENV || {};                                    if (document.getElementById(\"cec5e018-0bdb-44d6-b736-053084d3980f\")) {                    Plotly.newPlot(                        \"cec5e018-0bdb-44d6-b736-053084d3980f\",                        [{\"marker\": {\"color\": \"#EF553B\"}, \"name\": \"Negative\", \"text\": [0.5272727272727272, 0.7272727272727273, 0.8148148148148148, 0.9454545454545454], \"textposition\": \"outside\", \"texttemplate\": \"%{text:.2%}\", \"type\": \"bar\", \"x\": [[\"Uncontrollable\", \"Uncontrollable\", \"Controllable\", \"Controllable\"], [\"Negative\", \"Positive\", \"Negative\", \"Positive\"]], \"y\": [0.5272727272727272, 0.7272727272727273, 0.8148148148148148, 0.9454545454545454]}, {\"marker\": {\"color\": \"#00CC96\"}, \"name\": \"Positive\", \"text\": [0.43636363636363634, 0.2727272727272727, 0.16666666666666666, 0.05454545454545454], \"textposition\": \"outside\", \"texttemplate\": \"%{text:.2%}\", \"type\": \"bar\", \"x\": [[\"Uncontrollable\", \"Uncontrollable\", \"Controllable\", \"Controllable\"], [\"Negative\", \"Positive\", \"Negative\", \"Positive\"]], \"y\": [0.43636363636363634, 0.2727272727272727, 0.16666666666666666, 0.05454545454545454]}],                        {\"font\": {\"family\": \"Times New Roman\", \"size\": 12}, \"height\": 350, \"legend\": {\"orientation\": \"h\", \"title\": {\"text\": \"Valence Rating\"}, \"x\": 0.2, \"xanchor\": \"left\", \"y\": 0.99, \"yanchor\": \"bottom\"}, \"margin\": {\"b\": 60, \"l\": 50, \"r\": 0, \"t\": 10}, \"template\": {\"data\": {\"scatter\": [{\"type\": \"scatter\"}]}}, \"width\": 500, \"xaxis\": {\"title\": {\"text\": \"Controllability and Valence Condition Group\"}}, \"yaxis\": {\"range\": [0, 1], \"tickformat\": \",.0%\", \"title\": {\"text\": \"Proportion of Outcome Responses\"}}},                        {\"responsive\": true}                    ).then(function(){\n",
       "                            \n",
       "var gd = document.getElementById('cec5e018-0bdb-44d6-b736-053084d3980f');\n",
       "var x = new MutationObserver(function (mutations, observer) {{\n",
       "        var display = window.getComputedStyle(gd).display;\n",
       "        if (!display || display === 'none') {{\n",
       "            console.log([gd, 'removed!']);\n",
       "            Plotly.purge(gd);\n",
       "            observer.disconnect();\n",
       "        }}\n",
       "}});\n",
       "\n",
       "// Listen for the removal of the full notebook cells\n",
       "var notebookContainer = gd.closest('#notebook-container');\n",
       "if (notebookContainer) {{\n",
       "    x.observe(notebookContainer, {childList: true});\n",
       "}}\n",
       "\n",
       "// Listen for the clearing of the current output cell\n",
       "var outputEl = gd.closest('.output');\n",
       "if (outputEl) {{\n",
       "    x.observe(outputEl, {childList: true});\n",
       "}}\n",
       "\n",
       "                        })                };                });            </script>        </div>"
      ]
     },
     "metadata": {},
     "output_type": "display_data"
    }
   ],
   "source": [
    "for mat in materials:\n",
    "    mat_valence_props_plotly = master_data[master_data['material']==mat].groupby(['means_condition','valence_condition'])['val_code'].value_counts(normalize=True).unstack().reset_index()\n",
    "\n",
    "    x_cats = mat_valence_props_plotly['means_condition'],mat_valence_props_plotly['valence_condition']\n",
    "    mat_valence_fig = go.Figure(data=[\n",
    "        go.Bar(name='Negative', \n",
    "               x=[['Uncontrollable', 'Uncontrollable', 'Controllable', 'Controllable'],\n",
    "                  [\"Negative\", \"Positive\", \"Negative\", \"Positive\"]], \n",
    "               y=mat_valence_props_plotly['neg'],\n",
    "               text=mat_valence_props_plotly['neg'], \n",
    "               marker_color='#EF553B'),\n",
    "        go.Bar(name='Positive', \n",
    "               x=[['Uncontrollable', 'Uncontrollable', 'Controllable', 'Controllable'],\n",
    "                  [\"Negative\", \"Positive\", \"Negative\", \"Positive\"]], \n",
    "               y=mat_valence_props_plotly['pos'],\n",
    "               text=mat_valence_props_plotly['pos'], \n",
    "               marker_color='#00CC96'),\n",
    "    #     go.Bar(name='Neither', \n",
    "    #            x=[['Uncontrollable', 'Uncontrollable', 'Controllable', 'Controllable'],\n",
    "    #               [\"Negative\", \"Positive\", \"Negative\", \"Positive\"]], \n",
    "    #            y=valence_props_plotly['neither'], marker_color='#FECB52')\n",
    "    ])\n",
    "\n",
    "\n",
    "    mat_valence_fig.update_layout(#barmode='stack', \n",
    "                              template = 'none', \n",
    "                              legend_title=\"Valence Rating\",\n",
    "                              font_family=\"Times New Roman\", font_size=12,\n",
    "                              width = 500, height = 350,\n",
    "                              #remove some margin so the graph fits nicer in latex\n",
    "                              margin_l=50, #left margin\n",
    "                              margin_r=0, #right margin\n",
    "                              margin_b=60, #bottom margin\n",
    "                              margin_t=10, #top margin\n",
    "                            legend=dict(\n",
    "                                orientation=\"h\",\n",
    "                                yanchor=\"bottom\",\n",
    "                                y=0.99,\n",
    "                                xanchor=\"left\",\n",
    "                                x=0.2\n",
    "                            )\n",
    "                             )\n",
    "\n",
    "\n",
    "    #axis titles\n",
    "    mat_valence_fig.update_xaxes(title_text='Controllability and Valence Condition Group')\n",
    "    mat_valence_fig.update_yaxes(title_text='Proportion of Outcome Responses', \n",
    "                             range=(0,1),\n",
    "                            tickformat= ',.0%',)\n",
    "\n",
    "    mat_valence_fig.update_traces(texttemplate='%{text:.2%}',\n",
    "                              textposition='outside'\n",
    "                             )\n",
    "\n",
    "    print(mat)\n",
    "    mat_valence_fig.show()"
   ]
  },
  {
   "cell_type": "code",
   "execution_count": 26,
   "id": "d4db14e1",
   "metadata": {
    "scrolled": true
   },
   "outputs": [
    {
     "data": {
      "text/html": [
       "<div>\n",
       "<style scoped>\n",
       "    .dataframe tbody tr th:only-of-type {\n",
       "        vertical-align: middle;\n",
       "    }\n",
       "\n",
       "    .dataframe tbody tr th {\n",
       "        vertical-align: top;\n",
       "    }\n",
       "\n",
       "    .dataframe thead th {\n",
       "        text-align: right;\n",
       "    }\n",
       "</style>\n",
       "<table border=\"1\" class=\"dataframe\">\n",
       "  <thead>\n",
       "    <tr style=\"text-align: right;\">\n",
       "      <th></th>\n",
       "      <th>val_code</th>\n",
       "      <th>neg</th>\n",
       "      <th>neither</th>\n",
       "      <th>pos</th>\n",
       "    </tr>\n",
       "    <tr>\n",
       "      <th>valence_condition</th>\n",
       "      <th>means_condition</th>\n",
       "      <th></th>\n",
       "      <th></th>\n",
       "      <th></th>\n",
       "    </tr>\n",
       "  </thead>\n",
       "  <tbody>\n",
       "    <tr>\n",
       "      <th rowspan=\"2\" valign=\"top\">negative</th>\n",
       "      <th>absent</th>\n",
       "      <td>188</td>\n",
       "      <td>34</td>\n",
       "      <td>218</td>\n",
       "    </tr>\n",
       "    <tr>\n",
       "      <th>present</th>\n",
       "      <td>275</td>\n",
       "      <td>46</td>\n",
       "      <td>111</td>\n",
       "    </tr>\n",
       "    <tr>\n",
       "      <th rowspan=\"2\" valign=\"top\">positive</th>\n",
       "      <th>absent</th>\n",
       "      <td>204</td>\n",
       "      <td>42</td>\n",
       "      <td>194</td>\n",
       "    </tr>\n",
       "    <tr>\n",
       "      <th>present</th>\n",
       "      <td>327</td>\n",
       "      <td>21</td>\n",
       "      <td>92</td>\n",
       "    </tr>\n",
       "  </tbody>\n",
       "</table>\n",
       "</div>"
      ],
      "text/plain": [
       "val_code                           neg  neither  pos\n",
       "valence_condition means_condition                   \n",
       "negative          absent           188       34  218\n",
       "                  present          275       46  111\n",
       "positive          absent           204       42  194\n",
       "                  present          327       21   92"
      ]
     },
     "execution_count": 26,
     "metadata": {},
     "output_type": "execute_result"
    }
   ],
   "source": [
    "valence_chi_df"
   ]
  },
  {
   "cell_type": "markdown",
   "id": "ce2359b9",
   "metadata": {},
   "source": [
    "#### Chi-Square\n",
    "There is an overall significant difference in the frequencies of positive and negative outcomes, this is matched by 7 materials\n",
    "\n",
    "Unlike the controllability ratings, the valence ratings do show a difference between the means conditions, such that means-absent conditions lead to more positively-valenced responses.\n",
    "\n",
    "There is a significant difference between the negative-absent and negative-present conditions, such that there are fewer negative responses and more positive responses in the means-absent condition (p < .001).\n",
    "There is a significant difference between the positive-absent and positive-present conditions, such that there are fewer negative and more positive responses in the means-absent condition (p < .001).\n",
    "\n",
    "There is _no_ significant difference between the negative-absent and positive-absent conditions.\n",
    "However, there is a significant difference between the negative-present and positive-present conditions, such that there are fewer negative and more positive responses in the negative condition (p < .001).\n",
    "\n",
    "There is a significant difference between the negative-absent and positive-present conditions, such that there are fewer negative responses and more positive responses in the negative-absent condition (p < .001).\n",
    "There is a significant difference between the negative-present and positive-absent conditions, such that there are fewer negative responses and more positive responses in the positive-absent condition (p < .001)."
   ]
  },
  {
   "cell_type": "markdown",
   "id": "a4d89ced",
   "metadata": {},
   "source": [
    "### Log-Odds of a Negative Response by Material by Condition"
   ]
  },
  {
   "cell_type": "code",
   "execution_count": 27,
   "id": "5dbb4cdf",
   "metadata": {},
   "outputs": [],
   "source": [
    "val_odds_ratio_data = master_data.copy(deep=True)\n",
    "val_odds_ratio_data = val_odds_ratio_data.groupby(['material','valence_condition','means_condition'])['val_code'].value_counts(normalize=True).unstack()\n",
    "#val_odds_ratio_data.head()"
   ]
  },
  {
   "cell_type": "code",
   "execution_count": 28,
   "id": "75ba7429",
   "metadata": {
    "scrolled": true
   },
   "outputs": [],
   "source": [
    "val_odds_ratio_data['neg_odds'] = val_odds_ratio_data['neg']/(1-val_odds_ratio_data['neg'])\n",
    "val_odds_ratio_data['neg_log_odds'] = np.log(val_odds_ratio_data['neg_odds']) \n",
    "#val_odds_ratio_data"
   ]
  },
  {
   "cell_type": "code",
   "execution_count": 29,
   "id": "4b0fe4f7",
   "metadata": {
    "scrolled": true
   },
   "outputs": [
    {
     "data": {
      "text/html": [
       "<div>\n",
       "<style scoped>\n",
       "    .dataframe tbody tr th:only-of-type {\n",
       "        vertical-align: middle;\n",
       "    }\n",
       "\n",
       "    .dataframe tbody tr th {\n",
       "        vertical-align: top;\n",
       "    }\n",
       "\n",
       "    .dataframe thead th {\n",
       "        text-align: right;\n",
       "    }\n",
       "</style>\n",
       "<table border=\"1\" class=\"dataframe\">\n",
       "  <thead>\n",
       "    <tr style=\"text-align: right;\">\n",
       "      <th></th>\n",
       "      <th>material</th>\n",
       "      <th>valence_condition</th>\n",
       "      <th>means_condition</th>\n",
       "      <th>neg_log_odds</th>\n",
       "    </tr>\n",
       "  </thead>\n",
       "  <tbody>\n",
       "    <tr>\n",
       "      <th>0</th>\n",
       "      <td>belinda_meeting</td>\n",
       "      <td>negative</td>\n",
       "      <td>absent</td>\n",
       "      <td>-0.109199</td>\n",
       "    </tr>\n",
       "    <tr>\n",
       "      <th>1</th>\n",
       "      <td>belinda_meeting</td>\n",
       "      <td>negative</td>\n",
       "      <td>present</td>\n",
       "      <td>0.000000</td>\n",
       "    </tr>\n",
       "    <tr>\n",
       "      <th>2</th>\n",
       "      <td>belinda_meeting</td>\n",
       "      <td>positive</td>\n",
       "      <td>absent</td>\n",
       "      <td>0.405465</td>\n",
       "    </tr>\n",
       "    <tr>\n",
       "      <th>3</th>\n",
       "      <td>belinda_meeting</td>\n",
       "      <td>positive</td>\n",
       "      <td>present</td>\n",
       "      <td>0.980829</td>\n",
       "    </tr>\n",
       "    <tr>\n",
       "      <th>4</th>\n",
       "      <td>bill_holiday</td>\n",
       "      <td>negative</td>\n",
       "      <td>absent</td>\n",
       "      <td>-0.720546</td>\n",
       "    </tr>\n",
       "  </tbody>\n",
       "</table>\n",
       "</div>"
      ],
      "text/plain": [
       "          material valence_condition means_condition  neg_log_odds\n",
       "0  belinda_meeting          negative          absent     -0.109199\n",
       "1  belinda_meeting          negative         present      0.000000\n",
       "2  belinda_meeting          positive          absent      0.405465\n",
       "3  belinda_meeting          positive         present      0.980829\n",
       "4     bill_holiday          negative          absent     -0.720546"
      ]
     },
     "execution_count": 29,
     "metadata": {},
     "output_type": "execute_result"
    }
   ],
   "source": [
    "val_log_odds_plot_data = pd.DataFrame(val_odds_ratio_data['neg_log_odds']).reset_index()\n",
    "val_log_odds_plot_data.head()"
   ]
  },
  {
   "cell_type": "code",
   "execution_count": 30,
   "id": "f882a7d2",
   "metadata": {},
   "outputs": [
    {
     "data": {
      "text/plain": [
       "{('negative', 'absent'): 'rgb(228,26,28)',\n",
       " ('positive', 'absent'): 'rgb(179,222,105)',\n",
       " ('negative', 'present'): 'rgb(251,180,174)',\n",
       " ('positive', 'present'): 'rgb(77,175,74)'}"
      ]
     },
     "execution_count": 30,
     "metadata": {},
     "output_type": "execute_result"
    }
   ],
   "source": [
    "colors = ['rgb(228,26,28)','rgb(179,222,105)','rgb(251,180,174)','rgb(77,175,74)']\n",
    "\n",
    "log_odds_subplot_colors = {}\n",
    "for idx, tup in enumerate(zipped_cond_pairs):\n",
    "    log_odds_subplot_colors[tup] = colors[idx]\n",
    "    \n",
    "log_odds_subplot_colors"
   ]
  },
  {
   "cell_type": "code",
   "execution_count": 31,
   "id": "3b5ce7bb",
   "metadata": {
    "scrolled": true
   },
   "outputs": [
    {
     "data": {
      "application/vnd.plotly.v1+json": {
       "config": {
        "plotlyServerURL": "https://plot.ly"
       },
       "data": [
        {
         "marker": {
          "color": "rgb(228,26,28)",
          "size": 8
         },
         "mode": "markers",
         "name": "Negative Means Absent",
         "type": "scatter",
         "x": [
          "belinda_meeting",
          "bill_holiday",
          "john_party",
          "lucy_loan",
          "michael_breakfast",
          "rebecca_swimming",
          "sally_wine",
          "sean_call"
         ],
         "y": [
          -0.10919929196499209,
          -0.7205461547480598,
          0.8043728156701697,
          -1.9252908618525777,
          -1.0745147370890493,
          0.33024168687057665,
          -0.2559333741372008,
          0.10919929196499181
         ]
        },
        {
         "marker": {
          "color": "rgb(251,180,174)",
          "size": 8
         },
         "mode": "markers",
         "name": "Negative Means Present",
         "type": "scatter",
         "x": [
          "belinda_meeting",
          "bill_holiday",
          "john_party",
          "lucy_loan",
          "michael_breakfast",
          "rebecca_swimming",
          "sally_wine",
          "sean_call"
         ],
         "y": [
          0,
          0.1484200051182734,
          0.9555114450274362,
          -0.6109090823229731,
          0.22314355131420993,
          1.252762968495368,
          1.6094379124341007,
          1.4816045409242151
         ]
        },
        {
         "marker": {
          "color": "rgb(179,222,105)",
          "size": 8
         },
         "mode": "markers",
         "name": "Positive Means Absent",
         "type": "scatter",
         "x": [
          "belinda_meeting",
          "bill_holiday",
          "john_party",
          "lucy_loan",
          "michael_breakfast",
          "rebecca_swimming",
          "sally_wine",
          "sean_call"
         ],
         "y": [
          0.4054651081081642,
          -0.4054651081081643,
          0.7205461547480596,
          -1.6314168191528757,
          -0.9808292530117264,
          0.6390799592896695,
          -1.276293465905562,
          0.9808292530117263
         ]
        },
        {
         "marker": {
          "color": "rgb(77,175,74)",
          "size": 8
         },
         "mode": "markers",
         "name": "Positive Means Present",
         "type": "scatter",
         "x": [
          "belinda_meeting",
          "bill_holiday",
          "john_party",
          "lucy_loan",
          "michael_breakfast",
          "rebecca_swimming",
          "sally_wine",
          "sean_call"
         ],
         "y": [
          0.9808292530117263,
          1.1727202608218317,
          1.9252908618525773,
          -0.33024168687057687,
          0.6390799592896695,
          1.9252908618525773,
          0.8043728156701697,
          2.8526314299133175
         ]
        }
       ],
       "layout": {
        "font": {
         "family": "Times New Roman",
         "size": 12
        },
        "height": 400,
        "legend": {
         "font": {
          "color": "black",
          "family": "Times New Roman",
          "size": 12
         },
         "orientation": "h",
         "title": {
          "text": "Material Condition    "
         },
         "y": -0.5
        },
        "margin": {
         "b": 75,
         "l": 40,
         "r": 0,
         "t": 0
        },
        "template": {
         "data": {
          "scatter": [
           {
            "type": "scatter"
           }
          ]
         }
        },
        "width": 500,
        "xaxis": {
         "categoryorder": "total ascending",
         "tickangle": -45,
         "title": {
          "text": "Material"
         }
        },
        "yaxis": {
         "title": {
          "text": "Log Odds of a Negative Response"
         }
        }
       }
      },
      "text/html": [
       "<div>                            <div id=\"18d2cf12-c54b-40a6-8b37-60be18528006\" class=\"plotly-graph-div\" style=\"height:400px; width:500px;\"></div>            <script type=\"text/javascript\">                require([\"plotly\"], function(Plotly) {                    window.PLOTLYENV=window.PLOTLYENV || {};                                    if (document.getElementById(\"18d2cf12-c54b-40a6-8b37-60be18528006\")) {                    Plotly.newPlot(                        \"18d2cf12-c54b-40a6-8b37-60be18528006\",                        [{\"marker\": {\"color\": \"rgb(228,26,28)\", \"size\": 8}, \"mode\": \"markers\", \"name\": \"Negative Means Absent\", \"type\": \"scatter\", \"x\": [\"belinda_meeting\", \"bill_holiday\", \"john_party\", \"lucy_loan\", \"michael_breakfast\", \"rebecca_swimming\", \"sally_wine\", \"sean_call\"], \"y\": [-0.10919929196499209, -0.7205461547480598, 0.8043728156701697, -1.9252908618525777, -1.0745147370890493, 0.33024168687057665, -0.2559333741372008, 0.10919929196499181]}, {\"marker\": {\"color\": \"rgb(251,180,174)\", \"size\": 8}, \"mode\": \"markers\", \"name\": \"Negative Means Present\", \"type\": \"scatter\", \"x\": [\"belinda_meeting\", \"bill_holiday\", \"john_party\", \"lucy_loan\", \"michael_breakfast\", \"rebecca_swimming\", \"sally_wine\", \"sean_call\"], \"y\": [0.0, 0.1484200051182734, 0.9555114450274362, -0.6109090823229731, 0.22314355131420993, 1.252762968495368, 1.6094379124341007, 1.4816045409242151]}, {\"marker\": {\"color\": \"rgb(179,222,105)\", \"size\": 8}, \"mode\": \"markers\", \"name\": \"Positive Means Absent\", \"type\": \"scatter\", \"x\": [\"belinda_meeting\", \"bill_holiday\", \"john_party\", \"lucy_loan\", \"michael_breakfast\", \"rebecca_swimming\", \"sally_wine\", \"sean_call\"], \"y\": [0.4054651081081642, -0.4054651081081643, 0.7205461547480596, -1.6314168191528757, -0.9808292530117264, 0.6390799592896695, -1.276293465905562, 0.9808292530117263]}, {\"marker\": {\"color\": \"rgb(77,175,74)\", \"size\": 8}, \"mode\": \"markers\", \"name\": \"Positive Means Present\", \"type\": \"scatter\", \"x\": [\"belinda_meeting\", \"bill_holiday\", \"john_party\", \"lucy_loan\", \"michael_breakfast\", \"rebecca_swimming\", \"sally_wine\", \"sean_call\"], \"y\": [0.9808292530117263, 1.1727202608218317, 1.9252908618525773, -0.33024168687057687, 0.6390799592896695, 1.9252908618525773, 0.8043728156701697, 2.8526314299133175]}],                        {\"font\": {\"family\": \"Times New Roman\", \"size\": 12}, \"height\": 400, \"legend\": {\"font\": {\"color\": \"black\", \"family\": \"Times New Roman\", \"size\": 12}, \"orientation\": \"h\", \"title\": {\"text\": \"Material Condition    \"}, \"y\": -0.5}, \"margin\": {\"b\": 75, \"l\": 40, \"r\": 0, \"t\": 0}, \"template\": {\"data\": {\"scatter\": [{\"type\": \"scatter\"}]}}, \"width\": 500, \"xaxis\": {\"categoryorder\": \"total ascending\", \"tickangle\": -45, \"title\": {\"text\": \"Material\"}}, \"yaxis\": {\"title\": {\"text\": \"Log Odds of a Negative Response\"}}},                        {\"responsive\": true}                    ).then(function(){\n",
       "                            \n",
       "var gd = document.getElementById('18d2cf12-c54b-40a6-8b37-60be18528006');\n",
       "var x = new MutationObserver(function (mutations, observer) {{\n",
       "        var display = window.getComputedStyle(gd).display;\n",
       "        if (!display || display === 'none') {{\n",
       "            console.log([gd, 'removed!']);\n",
       "            Plotly.purge(gd);\n",
       "            observer.disconnect();\n",
       "        }}\n",
       "}});\n",
       "\n",
       "// Listen for the removal of the full notebook cells\n",
       "var notebookContainer = gd.closest('#notebook-container');\n",
       "if (notebookContainer) {{\n",
       "    x.observe(notebookContainer, {childList: true});\n",
       "}}\n",
       "\n",
       "// Listen for the clearing of the current output cell\n",
       "var outputEl = gd.closest('.output');\n",
       "if (outputEl) {{\n",
       "    x.observe(outputEl, {childList: true});\n",
       "}}\n",
       "\n",
       "                        })                };                });            </script>        </div>"
      ]
     },
     "metadata": {},
     "output_type": "display_data"
    }
   ],
   "source": [
    "# Create traces\n",
    "neg_log_odds_valence_cond_fig = go.Figure()\n",
    "\n",
    "for val, means in zip(['negative','negative','positive','positive'],['absent','present','absent','present']):\n",
    "    #get data for that condition pair\n",
    "    data = val_log_odds_plot_data[(val_log_odds_plot_data['valence_condition']==val)&(val_log_odds_plot_data['means_condition']==means)]\n",
    "    #add the markers for that condition pair\n",
    "    neg_log_odds_valence_cond_fig.add_trace(go.Scatter(x=data['material'], y=data['neg_log_odds'],\n",
    "                        mode='markers', \n",
    "                        marker_size=8, \n",
    "                        marker_color=log_odds_subplot_colors[(val,means)],\n",
    "                        name=str(val + \" means \" + means).title()))\n",
    "\n",
    "\n",
    "neg_log_odds_valence_cond_fig.update_layout(\n",
    "    #title=\"Log Odds of a Negative Response to Each Material in Each Condition\",\n",
    "    xaxis_title=\"Material\",\n",
    "    yaxis_title=\"Log Odds of a Negative Response\",\n",
    "    legend_title=\"Material Condition\",\n",
    "    template='none', \n",
    "    font_family=\"Times New Roman\", font_size=12,\n",
    "    width = 500, height = 400,\n",
    "    #remove some margin so the graph fits nicer in latex\n",
    "    margin_l=40, #left margin\n",
    "    margin_r=0, #right margin\n",
    "    margin_b=75, #bottom margin\n",
    "    margin_t=0, #top margin\n",
    "    \n",
    "    legend=dict(\n",
    "        title=\"Material Condition    \",\n",
    "        orientation=\"h\",\n",
    "#         yanchor=\"bottom\",\n",
    "        y=-.50,\n",
    "#         xanchor=\"left\",\n",
    "#         x=0.025,\n",
    "        font = dict(\n",
    "            family = \"Times New Roman\", \n",
    "            size = 12, \n",
    "            color = \"black\"),\n",
    "        ),\n",
    "    \n",
    ")\n",
    "\n",
    "neg_log_odds_valence_cond_fig.update_xaxes(categoryorder='total ascending',\n",
    "                                           tickangle = -45,)\n",
    "\n",
    "neg_log_odds_valence_cond_fig.show()"
   ]
  },
  {
   "cell_type": "code",
   "execution_count": 32,
   "id": "476b26a4",
   "metadata": {},
   "outputs": [],
   "source": [
    "val_odds_ratio_data = master_data.copy(deep=True)\n",
    "val_odds_ratio_data = val_odds_ratio_data.groupby(['material','means_condition'])['val_code'].value_counts(normalize=True).unstack()\n",
    "#val_odds_ratio_data.head()"
   ]
  },
  {
   "cell_type": "code",
   "execution_count": 33,
   "id": "c2627b97",
   "metadata": {
    "scrolled": true
   },
   "outputs": [],
   "source": [
    "val_odds_ratio_data['neg_odds'] = val_odds_ratio_data['neg']/(1-val_odds_ratio_data['neg'])\n",
    "val_odds_ratio_data['neg_log_odds'] = np.log(val_odds_ratio_data['neg_odds']) \n",
    "#val_odds_ratio_data"
   ]
  },
  {
   "cell_type": "code",
   "execution_count": 34,
   "id": "9924b7ac",
   "metadata": {
    "scrolled": true
   },
   "outputs": [
    {
     "data": {
      "text/html": [
       "<div>\n",
       "<style scoped>\n",
       "    .dataframe tbody tr th:only-of-type {\n",
       "        vertical-align: middle;\n",
       "    }\n",
       "\n",
       "    .dataframe tbody tr th {\n",
       "        vertical-align: top;\n",
       "    }\n",
       "\n",
       "    .dataframe thead th {\n",
       "        text-align: right;\n",
       "    }\n",
       "</style>\n",
       "<table border=\"1\" class=\"dataframe\">\n",
       "  <thead>\n",
       "    <tr style=\"text-align: right;\">\n",
       "      <th></th>\n",
       "      <th>material</th>\n",
       "      <th>means_condition</th>\n",
       "      <th>neg_log_odds</th>\n",
       "    </tr>\n",
       "  </thead>\n",
       "  <tbody>\n",
       "    <tr>\n",
       "      <th>0</th>\n",
       "      <td>belinda_meeting</td>\n",
       "      <td>absent</td>\n",
       "      <td>0.145712</td>\n",
       "    </tr>\n",
       "    <tr>\n",
       "      <th>1</th>\n",
       "      <td>belinda_meeting</td>\n",
       "      <td>present</td>\n",
       "      <td>0.467023</td>\n",
       "    </tr>\n",
       "    <tr>\n",
       "      <th>2</th>\n",
       "      <td>bill_holiday</td>\n",
       "      <td>absent</td>\n",
       "      <td>-0.559616</td>\n",
       "    </tr>\n",
       "    <tr>\n",
       "      <th>3</th>\n",
       "      <td>bill_holiday</td>\n",
       "      <td>present</td>\n",
       "      <td>0.625094</td>\n",
       "    </tr>\n",
       "    <tr>\n",
       "      <th>4</th>\n",
       "      <td>john_party</td>\n",
       "      <td>absent</td>\n",
       "      <td>0.762140</td>\n",
       "    </tr>\n",
       "  </tbody>\n",
       "</table>\n",
       "</div>"
      ],
      "text/plain": [
       "          material means_condition  neg_log_odds\n",
       "0  belinda_meeting          absent      0.145712\n",
       "1  belinda_meeting         present      0.467023\n",
       "2     bill_holiday          absent     -0.559616\n",
       "3     bill_holiday         present      0.625094\n",
       "4       john_party          absent      0.762140"
      ]
     },
     "execution_count": 34,
     "metadata": {},
     "output_type": "execute_result"
    }
   ],
   "source": [
    "val_log_odds_plot_data = pd.DataFrame(val_odds_ratio_data['neg_log_odds']).reset_index()\n",
    "val_log_odds_plot_data.head()"
   ]
  },
  {
   "cell_type": "markdown",
   "id": "7be4ba75",
   "metadata": {},
   "source": [
    "# Log Odds of a Negative Response given Controllable or Uncontrollable material scenarios."
   ]
  },
  {
   "cell_type": "code",
   "execution_count": 39,
   "id": "7d7d39c4",
   "metadata": {},
   "outputs": [
    {
     "data": {
      "application/vnd.plotly.v1+json": {
       "config": {
        "plotlyServerURL": "https://plot.ly",
        "responsive": true,
        "toImageButtonOptions": {
         "format": "svg",
         "height": null,
         "scale": 1,
         "width": null
        }
       },
       "data": [
        {
         "marker": {
          "color": "rgb(251,180,174)",
          "size": 8
         },
         "mode": "markers",
         "name": "Uncontrollable Scenario",
         "type": "scatter",
         "x": [
          "belinda_meeting",
          "bill_holiday",
          "john_party",
          "lucy_loan",
          "michael_breakfast",
          "rebecca_swimming",
          "sally_wine",
          "sean_call"
         ],
         "y": [
          0.14571181118139379,
          -0.5596157879354225,
          0.7621400520468965,
          -1.7707060600302227,
          -1.0271533246859648,
          0.48183808689273827,
          -0.7205461547480598,
          0.5205344378929518
         ]
        },
        {
         "marker": {
          "color": "rgb(228,26,28)",
          "size": 8
         },
         "mode": "markers",
         "name": "Controllable Scenario",
         "type": "scatter",
         "x": [
          "belinda_meeting",
          "bill_holiday",
          "john_party",
          "lucy_loan",
          "michael_breakfast",
          "rebecca_swimming",
          "sally_wine",
          "sean_call"
         ],
         "y": [
          0.4670230011075977,
          0.6250937173149296,
          1.3748656652962679,
          -0.4670230011075977,
          0.4284546263328633,
          1.555370691163825,
          1.160744069775116,
          1.9993988340062998
         ]
        }
       ],
       "layout": {
        "font": {
         "family": "Times New Roman",
         "size": 12
        },
        "height": 350,
        "legend": {
         "bordercolor": "grey",
         "borderwidth": 1,
         "font": {
          "color": "black",
          "family": "Times New Roman",
          "size": 12
         },
         "x": 0.05,
         "xanchor": "left",
         "y": 1.05,
         "yanchor": "top"
        },
        "margin": {
         "b": 75,
         "l": 50,
         "r": 50,
         "t": 0
        },
        "template": {
         "data": {
          "scatter": [
           {
            "type": "scatter"
           }
          ]
         }
        },
        "width": 600,
        "xaxis": {
         "categoryorder": "total ascending",
         "title": {
          "text": "Material"
         }
        },
        "yaxis": {
         "range": [
          -2.2,
          2.2
         ],
         "title": {
          "text": "Log Odds of a Negative Response"
         }
        }
       }
      },
      "text/html": [
       "<div>                            <div id=\"a075d972-bfa6-452b-9fb8-acfe2cae6e17\" class=\"plotly-graph-div\" style=\"height:350px; width:600px;\"></div>            <script type=\"text/javascript\">                require([\"plotly\"], function(Plotly) {                    window.PLOTLYENV=window.PLOTLYENV || {};                                    if (document.getElementById(\"a075d972-bfa6-452b-9fb8-acfe2cae6e17\")) {                    Plotly.newPlot(                        \"a075d972-bfa6-452b-9fb8-acfe2cae6e17\",                        [{\"marker\": {\"color\": \"rgb(251,180,174)\", \"size\": 8}, \"mode\": \"markers\", \"name\": \"Uncontrollable Scenario\", \"type\": \"scatter\", \"x\": [\"belinda_meeting\", \"bill_holiday\", \"john_party\", \"lucy_loan\", \"michael_breakfast\", \"rebecca_swimming\", \"sally_wine\", \"sean_call\"], \"y\": [0.14571181118139379, -0.5596157879354225, 0.7621400520468965, -1.7707060600302227, -1.0271533246859648, 0.48183808689273827, -0.7205461547480598, 0.5205344378929518]}, {\"marker\": {\"color\": \"rgb(228,26,28)\", \"size\": 8}, \"mode\": \"markers\", \"name\": \"Controllable Scenario\", \"type\": \"scatter\", \"x\": [\"belinda_meeting\", \"bill_holiday\", \"john_party\", \"lucy_loan\", \"michael_breakfast\", \"rebecca_swimming\", \"sally_wine\", \"sean_call\"], \"y\": [0.4670230011075977, 0.6250937173149296, 1.3748656652962679, -0.4670230011075977, 0.4284546263328633, 1.555370691163825, 1.160744069775116, 1.9993988340062998]}],                        {\"font\": {\"family\": \"Times New Roman\", \"size\": 12}, \"height\": 350, \"legend\": {\"bordercolor\": \"grey\", \"borderwidth\": 1, \"font\": {\"color\": \"black\", \"family\": \"Times New Roman\", \"size\": 12}, \"x\": 0.05, \"xanchor\": \"left\", \"y\": 1.05, \"yanchor\": \"top\"}, \"margin\": {\"b\": 75, \"l\": 50, \"r\": 50, \"t\": 0}, \"template\": {\"data\": {\"scatter\": [{\"type\": \"scatter\"}]}}, \"width\": 600, \"xaxis\": {\"categoryorder\": \"total ascending\", \"title\": {\"text\": \"Material\"}}, \"yaxis\": {\"range\": [-2.2, 2.2], \"title\": {\"text\": \"Log Odds of a Negative Response\"}}},                        {\"toImageButtonOptions\": {\"format\": \"svg\", \"height\": null, \"width\": null, \"scale\": 1}, \"responsive\": true}                    ).then(function(){\n",
       "                            \n",
       "var gd = document.getElementById('a075d972-bfa6-452b-9fb8-acfe2cae6e17');\n",
       "var x = new MutationObserver(function (mutations, observer) {{\n",
       "        var display = window.getComputedStyle(gd).display;\n",
       "        if (!display || display === 'none') {{\n",
       "            console.log([gd, 'removed!']);\n",
       "            Plotly.purge(gd);\n",
       "            observer.disconnect();\n",
       "        }}\n",
       "}});\n",
       "\n",
       "// Listen for the removal of the full notebook cells\n",
       "var notebookContainer = gd.closest('#notebook-container');\n",
       "if (notebookContainer) {{\n",
       "    x.observe(notebookContainer, {childList: true});\n",
       "}}\n",
       "\n",
       "// Listen for the clearing of the current output cell\n",
       "var outputEl = gd.closest('.output');\n",
       "if (outputEl) {{\n",
       "    x.observe(outputEl, {childList: true});\n",
       "}}\n",
       "\n",
       "                        })                };                });            </script>        </div>"
      ]
     },
     "metadata": {},
     "output_type": "display_data"
    }
   ],
   "source": [
    "# Create traces\n",
    "neg_log_odds_valence_cond_fig = go.Figure()\n",
    "\n",
    "neg_log_odds_colors = {'absent':'rgb(251,180,174)',\n",
    "                       'present':'rgb(228,26,28)'}\n",
    "\n",
    "for means in ['absent','present']:\n",
    "    #get data for that condition pair\n",
    "    data = val_log_odds_plot_data[(val_log_odds_plot_data['means_condition']==means)]\n",
    "    #add the markers for that condition pair\n",
    "    neg_log_odds_valence_cond_fig.add_trace(go.Scatter(x=data['material'], y=data['neg_log_odds'],\n",
    "                        mode='markers', \n",
    "                        marker_size=8,\n",
    "                        marker_color=neg_log_odds_colors[means],\n",
    "                        name=str(condition_titles[means]).title() + \" Scenario\")\n",
    "                                           )\n",
    "\n",
    "\n",
    "neg_log_odds_valence_cond_fig.update_layout(\n",
    "    #title=\"Log Odds of a Negative Response to Each Material in Each Condition\",\n",
    "    xaxis_title=\"Material\",\n",
    "    yaxis_title=\"Log Odds of a Negative Response\",\n",
    "#     legend_title=\"Scenario Controllability\",\n",
    "    template='none', \n",
    "    font_family=\"Times New Roman\", font_size=12,\n",
    "    width = 600, height = 350,\n",
    "    #remove some margin so the graph fits nicer in latex\n",
    "    margin_l=50, #left margin\n",
    "    margin_r=50, #right margin\n",
    "    margin_b=75, #bottom margin\n",
    "    margin_t=0, #top margin\n",
    "    \n",
    "    legend=dict(\n",
    "#         title=\"Scenario Controllability    \",\n",
    "#         orientation=\"h\",\n",
    "        yanchor=\"top\",\n",
    "                            y=1.05,\n",
    "                            xanchor=\"left\",\n",
    "                            x=0.05,\n",
    "                           bordercolor='grey',\n",
    "                           borderwidth=1,\n",
    "        font = dict(\n",
    "            family = \"Times New Roman\", \n",
    "            size = 12, \n",
    "            color = \"black\"),\n",
    "        ),\n",
    "    \n",
    ")\n",
    "\n",
    "neg_log_odds_valence_cond_fig.update_yaxes(range=[-2.2, 2.2])\n",
    "\n",
    "# neg_log_odds_valence_cond_fig.add_annotation(\n",
    "#     showarrow=False,\n",
    "#     text=\"More likely to be positive.\",\n",
    "#     xref=\"paper\", yref=\"paper\",\n",
    "#     x=0, y=-.17\n",
    "# )\n",
    "# neg_log_odds_valence_cond_fig.add_annotation(\n",
    "#     showarrow=False,\n",
    "#     text=\"More likely to be negative.\",\n",
    "#     xref=\"paper\", yref=\"paper\",\n",
    "#     x=1, y=-.17\n",
    "# )\n",
    "\n",
    "neg_log_odds_valence_cond_fig.update_xaxes(categoryorder='total ascending',)\n",
    "\n",
    "neg_log_odds_valence_cond_fig.show(config=config)"
   ]
  },
  {
   "cell_type": "markdown",
   "id": "346891d7",
   "metadata": {},
   "source": [
    "Ok, so in all but one case, the two present conditions (red and orange) are both above the two absent conditions, meaning they are more likely to have negative responses. \n",
    "In all but one and a half cases, the negative conditions (blue and orange) are below their corresponding positive conditions, meaning they are less likely to have negative responses."
   ]
  },
  {
   "cell_type": "code",
   "execution_count": 36,
   "id": "a9e90e05",
   "metadata": {},
   "outputs": [
    {
     "name": "stderr",
     "output_type": "stream",
     "text": [
      "Could not generate 3_output//control_report/_kallysto/figs/4_Experiment1_Analysis.ipynb//NegLogOddsValenceMaterialsChart.pdf. Missing savefig.\n"
     ]
    }
   ],
   "source": [
    "#save the figure\n",
    "neglogodds_by_mat_chart = Export.figure(\n",
    "    'NegLogOddsValenceMaterialsChart',  # Export name\n",
    "    image=neg_log_odds_valence_cond_fig,             # The plot to be exported\n",
    "    data=val_log_odds_plot_data, # The data used to produce the plot.\n",
    "    text_width=1,\n",
    "    caption='Log odds of reporting a negative outcome (i.e., the negativity index) for the uncontrollable and controllable versions of each material-scenario in the study.'\n",
    ") \n",
    "\n",
    "neglogodds_by_mat_chart > latex_report;"
   ]
  }
 ],
 "metadata": {
  "kernelspec": {
   "display_name": "Python 3",
   "language": "python",
   "name": "python3"
  },
  "language_info": {
   "codemirror_mode": {
    "name": "ipython",
    "version": 3
   },
   "file_extension": ".py",
   "mimetype": "text/x-python",
   "name": "python",
   "nbconvert_exporter": "python",
   "pygments_lexer": "ipython3",
   "version": "3.6.8"
  },
  "toc": {
   "base_numbering": 1,
   "nav_menu": {},
   "number_sections": true,
   "sideBar": true,
   "skip_h1_title": false,
   "title_cell": "Table of Contents",
   "title_sidebar": "Contents",
   "toc_cell": false,
   "toc_position": {},
   "toc_section_display": true,
   "toc_window_display": true
  }
 },
 "nbformat": 4,
 "nbformat_minor": 5
}
